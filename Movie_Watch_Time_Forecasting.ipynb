{
  "nbformat": 4,
  "nbformat_minor": 0,
  "metadata": {
    "colab": {
      "name": "Movie Watch Time Forecasting.ipynb",
      "provenance": [],
      "include_colab_link": true
    },
    "kernelspec": {
      "name": "python3",
      "display_name": "Python 3"
    }
  },
  "cells": [
    {
      "cell_type": "markdown",
      "metadata": {
        "id": "view-in-github",
        "colab_type": "text"
      },
      "source": [
        "<a href=\"https://colab.research.google.com/github/vendyliang/MachineLearningProjects/blob/master/Movie_Watch_Time_Forecasting.ipynb\" target=\"_parent\"><img src=\"https://colab.research.google.com/assets/colab-badge.svg\" alt=\"Open In Colab\"/></a>"
      ]
    },
    {
      "cell_type": "markdown",
      "metadata": {
        "id": "z1k3BiCK2bpX",
        "colab_type": "text"
      },
      "source": [
        "# **Movie Watch Time Forecasting**"
      ]
    },
    {
      "cell_type": "markdown",
      "metadata": {
        "id": "n2FoxlG9uJ5M",
        "colab_type": "text"
      },
      "source": [
        "In this project, I build a prediction model to forecast whether a movie is going to perform well on our platform in terms of cumulated view time per day (cvt_per_day) with the information in the dataset.\n",
        "\n",
        "Some highlights in the project:\n",
        "- Excessive missing values are found and need manipulation before modeling\n",
        "- Categorical features such as release year and genres are complicated observation that need to be transformed into new features for modeling \n",
        "- Linear and non-linear models built and accuracy benchmarked to come up with best model\n",
        "- Business insights into top factors associated with the dependent variable cvt_per_day with feature importance analysis\n",
        "\n",
        "The dependent variable of interest is cvt_per_day."
      ]
    },
    {
      "cell_type": "markdown",
      "metadata": {
        "id": "0xsbeRr77RKQ",
        "colab_type": "text"
      },
      "source": [
        "# Content\n",
        "* Part 1: Data Exploration\n",
        "* Part 2: Feature Preprocessing\n",
        "* Part 3: Model Training\n",
        "* Part 4: Model Evaluation\n",
        "* Part 5: Feature Selection"
      ]
    },
    {
      "cell_type": "markdown",
      "metadata": {
        "id": "hgYFrgE3QBNr",
        "colab_type": "text"
      },
      "source": [
        "# Load Packages"
      ]
    },
    {
      "cell_type": "code",
      "metadata": {
        "id": "Cpl0tPkuIEBr",
        "colab_type": "code",
        "colab": {}
      },
      "source": [
        "%matplotlib inline\n",
        "import numpy as np\n",
        "import scipy\n",
        "import pandas as pd\n",
        "import matplotlib.pyplot as plt\n",
        "import statsmodels.formula.api as sm\n",
        "import seaborn as sns\n",
        "import sklearn as sl\n",
        "from sklearn import preprocessing\n",
        "pd.set_option('display.float_format', lambda x: '%.3f' % x)\n",
        "pd.set_option('display.max_columns', 60)"
      ],
      "execution_count": 0,
      "outputs": []
    },
    {
      "cell_type": "markdown",
      "metadata": {
        "id": "jgCHQkuQQV2Z",
        "colab_type": "text"
      },
      "source": [
        "# Load Data"
      ]
    },
    {
      "cell_type": "code",
      "metadata": {
        "id": "G78wuTj_pSiJ",
        "colab_type": "code",
        "colab": {}
      },
      "source": [
        "!pip install -U -q PyDrive\n",
        "\n",
        "from pydrive.auth import GoogleAuth\n",
        "from pydrive.drive import GoogleDrive\n",
        "from google.colab import auth\n",
        "from oauth2client.client import GoogleCredentials\n",
        "\n",
        "auth.authenticate_user()\n",
        "gauth = GoogleAuth()\n",
        "gauth.credentials = GoogleCredentials.get_application_default()\n",
        "drive = GoogleDrive(gauth)"
      ],
      "execution_count": 0,
      "outputs": []
    },
    {
      "cell_type": "code",
      "metadata": {
        "id": "vKLLJFvdqQ3p",
        "colab_type": "code",
        "colab": {}
      },
      "source": [
        "link = 'https://drive.google.com/open?id=1vMUTPkfZOv-m6lQbIFVH65VpNnWMj7IN'\n",
        "fluff, id = link.split('=')\n",
        "file = drive.CreateFile({'id':id}) # replace the id with id of file you want to access\n",
        "file.GetContentFile('MovieData.txt')  "
      ],
      "execution_count": 0,
      "outputs": []
    },
    {
      "cell_type": "code",
      "metadata": {
        "id": "htLrNPzBq3xq",
        "colab_type": "code",
        "colab": {}
      },
      "source": [
        "#read the dataset as dataframe with pandas\n",
        "df1 = pd.read_csv('MovieData.txt')"
      ],
      "execution_count": 0,
      "outputs": []
    },
    {
      "cell_type": "code",
      "metadata": {
        "id": "uAPT7oJYrN91",
        "colab_type": "code",
        "outputId": "6f648c63-bdf9-46a3-c1eb-c39981c0bde4",
        "colab": {
          "base_uri": "https://localhost:8080/",
          "height": 292
        }
      },
      "source": [
        "df1.head()"
      ],
      "execution_count": 5,
      "outputs": [
        {
          "output_type": "execute_result",
          "data": {
            "text/html": [
              "<div>\n",
              "<style scoped>\n",
              "    .dataframe tbody tr th:only-of-type {\n",
              "        vertical-align: middle;\n",
              "    }\n",
              "\n",
              "    .dataframe tbody tr th {\n",
              "        vertical-align: top;\n",
              "    }\n",
              "\n",
              "    .dataframe thead th {\n",
              "        text-align: right;\n",
              "    }\n",
              "</style>\n",
              "<table border=\"1\" class=\"dataframe\">\n",
              "  <thead>\n",
              "    <tr style=\"text-align: right;\">\n",
              "      <th></th>\n",
              "      <th>video_id</th>\n",
              "      <th>cvt_per_day</th>\n",
              "      <th>weighted_categorical_position</th>\n",
              "      <th>weighted_horizontal_poition</th>\n",
              "      <th>import_id</th>\n",
              "      <th>release_year</th>\n",
              "      <th>genres</th>\n",
              "      <th>imdb_votes</th>\n",
              "      <th>budget</th>\n",
              "      <th>boxoffice</th>\n",
              "      <th>imdb_rating</th>\n",
              "      <th>duration_in_mins</th>\n",
              "      <th>metacritic_score</th>\n",
              "      <th>awards</th>\n",
              "      <th>mpaa</th>\n",
              "      <th>star_category</th>\n",
              "    </tr>\n",
              "  </thead>\n",
              "  <tbody>\n",
              "    <tr>\n",
              "      <th>0</th>\n",
              "      <td>385504</td>\n",
              "      <td>307127.606</td>\n",
              "      <td>1</td>\n",
              "      <td>3</td>\n",
              "      <td>lionsgate</td>\n",
              "      <td>2013</td>\n",
              "      <td>Action,Thriller,Drama</td>\n",
              "      <td>69614</td>\n",
              "      <td>15000000</td>\n",
              "      <td>42930462</td>\n",
              "      <td>6.500</td>\n",
              "      <td>112.301</td>\n",
              "      <td>51</td>\n",
              "      <td>other award</td>\n",
              "      <td>PG-13</td>\n",
              "      <td>1.710</td>\n",
              "    </tr>\n",
              "    <tr>\n",
              "      <th>1</th>\n",
              "      <td>300175</td>\n",
              "      <td>270338.426</td>\n",
              "      <td>1</td>\n",
              "      <td>3</td>\n",
              "      <td>lionsgate</td>\n",
              "      <td>2013</td>\n",
              "      <td>Comedy,Crime,Thriller</td>\n",
              "      <td>46705</td>\n",
              "      <td>15000000</td>\n",
              "      <td>3301046</td>\n",
              "      <td>6.500</td>\n",
              "      <td>94.983</td>\n",
              "      <td>41</td>\n",
              "      <td>no award</td>\n",
              "      <td>R</td>\n",
              "      <td>3.250</td>\n",
              "    </tr>\n",
              "    <tr>\n",
              "      <th>2</th>\n",
              "      <td>361899</td>\n",
              "      <td>256165.867</td>\n",
              "      <td>1</td>\n",
              "      <td>3</td>\n",
              "      <td>other</td>\n",
              "      <td>2012</td>\n",
              "      <td>Crime,Drama</td>\n",
              "      <td>197596</td>\n",
              "      <td>26000000</td>\n",
              "      <td>37397291</td>\n",
              "      <td>7.300</td>\n",
              "      <td>115.764</td>\n",
              "      <td>58</td>\n",
              "      <td>other award</td>\n",
              "      <td>R</td>\n",
              "      <td>2.647</td>\n",
              "    </tr>\n",
              "    <tr>\n",
              "      <th>3</th>\n",
              "      <td>308314</td>\n",
              "      <td>196622.721</td>\n",
              "      <td>3</td>\n",
              "      <td>4</td>\n",
              "      <td>lionsgate</td>\n",
              "      <td>2008</td>\n",
              "      <td>Thriller,Drama,War,Documentary,Mystery,Action</td>\n",
              "      <td>356339</td>\n",
              "      <td>15000000</td>\n",
              "      <td>15700000</td>\n",
              "      <td>7.600</td>\n",
              "      <td>130.704</td>\n",
              "      <td>94</td>\n",
              "      <td>Oscar</td>\n",
              "      <td>R</td>\n",
              "      <td>1.667</td>\n",
              "    </tr>\n",
              "    <tr>\n",
              "      <th>4</th>\n",
              "      <td>307201</td>\n",
              "      <td>159841.652</td>\n",
              "      <td>1</td>\n",
              "      <td>3</td>\n",
              "      <td>lionsgate</td>\n",
              "      <td>2013</td>\n",
              "      <td>Crime,Thriller,Mystery,Documentary</td>\n",
              "      <td>46720</td>\n",
              "      <td>27220000</td>\n",
              "      <td>8551228</td>\n",
              "      <td>6.400</td>\n",
              "      <td>105.546</td>\n",
              "      <td>37</td>\n",
              "      <td>other award</td>\n",
              "      <td>R</td>\n",
              "      <td>3.067</td>\n",
              "    </tr>\n",
              "  </tbody>\n",
              "</table>\n",
              "</div>"
            ],
            "text/plain": [
              "   video_id  cvt_per_day  weighted_categorical_position  \\\n",
              "0    385504   307127.606                              1   \n",
              "1    300175   270338.426                              1   \n",
              "2    361899   256165.867                              1   \n",
              "3    308314   196622.721                              3   \n",
              "4    307201   159841.652                              1   \n",
              "\n",
              "   weighted_horizontal_poition  import_id  release_year  \\\n",
              "0                            3  lionsgate          2013   \n",
              "1                            3  lionsgate          2013   \n",
              "2                            3      other          2012   \n",
              "3                            4  lionsgate          2008   \n",
              "4                            3  lionsgate          2013   \n",
              "\n",
              "                                          genres  imdb_votes    budget  \\\n",
              "0                          Action,Thriller,Drama       69614  15000000   \n",
              "1                          Comedy,Crime,Thriller       46705  15000000   \n",
              "2                                    Crime,Drama      197596  26000000   \n",
              "3  Thriller,Drama,War,Documentary,Mystery,Action      356339  15000000   \n",
              "4             Crime,Thriller,Mystery,Documentary       46720  27220000   \n",
              "\n",
              "   boxoffice  imdb_rating  duration_in_mins  metacritic_score       awards  \\\n",
              "0   42930462        6.500           112.301                51  other award   \n",
              "1    3301046        6.500            94.983                41     no award   \n",
              "2   37397291        7.300           115.764                58  other award   \n",
              "3   15700000        7.600           130.704                94        Oscar   \n",
              "4    8551228        6.400           105.546                37  other award   \n",
              "\n",
              "    mpaa  star_category  \n",
              "0  PG-13          1.710  \n",
              "1      R          3.250  \n",
              "2      R          2.647  \n",
              "3      R          1.667  \n",
              "4      R          3.067  "
            ]
          },
          "metadata": {
            "tags": []
          },
          "execution_count": 5
        }
      ]
    },
    {
      "cell_type": "code",
      "metadata": {
        "id": "p8frbMvuGH13",
        "colab_type": "code",
        "outputId": "8216cff3-dc85-4646-b480-2fa15fcae026",
        "colab": {
          "base_uri": "https://localhost:8080/",
          "height": 292
        }
      },
      "source": [
        "#correct a typo in the 'weighted_horizontal_position' column\n",
        "df1 = df1.rename(columns={'weighted_horizontal_poition':'weighted_horizontal_position'})\n",
        "df1.head()"
      ],
      "execution_count": 6,
      "outputs": [
        {
          "output_type": "execute_result",
          "data": {
            "text/html": [
              "<div>\n",
              "<style scoped>\n",
              "    .dataframe tbody tr th:only-of-type {\n",
              "        vertical-align: middle;\n",
              "    }\n",
              "\n",
              "    .dataframe tbody tr th {\n",
              "        vertical-align: top;\n",
              "    }\n",
              "\n",
              "    .dataframe thead th {\n",
              "        text-align: right;\n",
              "    }\n",
              "</style>\n",
              "<table border=\"1\" class=\"dataframe\">\n",
              "  <thead>\n",
              "    <tr style=\"text-align: right;\">\n",
              "      <th></th>\n",
              "      <th>video_id</th>\n",
              "      <th>cvt_per_day</th>\n",
              "      <th>weighted_categorical_position</th>\n",
              "      <th>weighted_horizontal_position</th>\n",
              "      <th>import_id</th>\n",
              "      <th>release_year</th>\n",
              "      <th>genres</th>\n",
              "      <th>imdb_votes</th>\n",
              "      <th>budget</th>\n",
              "      <th>boxoffice</th>\n",
              "      <th>imdb_rating</th>\n",
              "      <th>duration_in_mins</th>\n",
              "      <th>metacritic_score</th>\n",
              "      <th>awards</th>\n",
              "      <th>mpaa</th>\n",
              "      <th>star_category</th>\n",
              "    </tr>\n",
              "  </thead>\n",
              "  <tbody>\n",
              "    <tr>\n",
              "      <th>0</th>\n",
              "      <td>385504</td>\n",
              "      <td>307127.606</td>\n",
              "      <td>1</td>\n",
              "      <td>3</td>\n",
              "      <td>lionsgate</td>\n",
              "      <td>2013</td>\n",
              "      <td>Action,Thriller,Drama</td>\n",
              "      <td>69614</td>\n",
              "      <td>15000000</td>\n",
              "      <td>42930462</td>\n",
              "      <td>6.500</td>\n",
              "      <td>112.301</td>\n",
              "      <td>51</td>\n",
              "      <td>other award</td>\n",
              "      <td>PG-13</td>\n",
              "      <td>1.710</td>\n",
              "    </tr>\n",
              "    <tr>\n",
              "      <th>1</th>\n",
              "      <td>300175</td>\n",
              "      <td>270338.426</td>\n",
              "      <td>1</td>\n",
              "      <td>3</td>\n",
              "      <td>lionsgate</td>\n",
              "      <td>2013</td>\n",
              "      <td>Comedy,Crime,Thriller</td>\n",
              "      <td>46705</td>\n",
              "      <td>15000000</td>\n",
              "      <td>3301046</td>\n",
              "      <td>6.500</td>\n",
              "      <td>94.983</td>\n",
              "      <td>41</td>\n",
              "      <td>no award</td>\n",
              "      <td>R</td>\n",
              "      <td>3.250</td>\n",
              "    </tr>\n",
              "    <tr>\n",
              "      <th>2</th>\n",
              "      <td>361899</td>\n",
              "      <td>256165.867</td>\n",
              "      <td>1</td>\n",
              "      <td>3</td>\n",
              "      <td>other</td>\n",
              "      <td>2012</td>\n",
              "      <td>Crime,Drama</td>\n",
              "      <td>197596</td>\n",
              "      <td>26000000</td>\n",
              "      <td>37397291</td>\n",
              "      <td>7.300</td>\n",
              "      <td>115.764</td>\n",
              "      <td>58</td>\n",
              "      <td>other award</td>\n",
              "      <td>R</td>\n",
              "      <td>2.647</td>\n",
              "    </tr>\n",
              "    <tr>\n",
              "      <th>3</th>\n",
              "      <td>308314</td>\n",
              "      <td>196622.721</td>\n",
              "      <td>3</td>\n",
              "      <td>4</td>\n",
              "      <td>lionsgate</td>\n",
              "      <td>2008</td>\n",
              "      <td>Thriller,Drama,War,Documentary,Mystery,Action</td>\n",
              "      <td>356339</td>\n",
              "      <td>15000000</td>\n",
              "      <td>15700000</td>\n",
              "      <td>7.600</td>\n",
              "      <td>130.704</td>\n",
              "      <td>94</td>\n",
              "      <td>Oscar</td>\n",
              "      <td>R</td>\n",
              "      <td>1.667</td>\n",
              "    </tr>\n",
              "    <tr>\n",
              "      <th>4</th>\n",
              "      <td>307201</td>\n",
              "      <td>159841.652</td>\n",
              "      <td>1</td>\n",
              "      <td>3</td>\n",
              "      <td>lionsgate</td>\n",
              "      <td>2013</td>\n",
              "      <td>Crime,Thriller,Mystery,Documentary</td>\n",
              "      <td>46720</td>\n",
              "      <td>27220000</td>\n",
              "      <td>8551228</td>\n",
              "      <td>6.400</td>\n",
              "      <td>105.546</td>\n",
              "      <td>37</td>\n",
              "      <td>other award</td>\n",
              "      <td>R</td>\n",
              "      <td>3.067</td>\n",
              "    </tr>\n",
              "  </tbody>\n",
              "</table>\n",
              "</div>"
            ],
            "text/plain": [
              "   video_id  cvt_per_day  weighted_categorical_position  \\\n",
              "0    385504   307127.606                              1   \n",
              "1    300175   270338.426                              1   \n",
              "2    361899   256165.867                              1   \n",
              "3    308314   196622.721                              3   \n",
              "4    307201   159841.652                              1   \n",
              "\n",
              "   weighted_horizontal_position  import_id  release_year  \\\n",
              "0                             3  lionsgate          2013   \n",
              "1                             3  lionsgate          2013   \n",
              "2                             3      other          2012   \n",
              "3                             4  lionsgate          2008   \n",
              "4                             3  lionsgate          2013   \n",
              "\n",
              "                                          genres  imdb_votes    budget  \\\n",
              "0                          Action,Thriller,Drama       69614  15000000   \n",
              "1                          Comedy,Crime,Thriller       46705  15000000   \n",
              "2                                    Crime,Drama      197596  26000000   \n",
              "3  Thriller,Drama,War,Documentary,Mystery,Action      356339  15000000   \n",
              "4             Crime,Thriller,Mystery,Documentary       46720  27220000   \n",
              "\n",
              "   boxoffice  imdb_rating  duration_in_mins  metacritic_score       awards  \\\n",
              "0   42930462        6.500           112.301                51  other award   \n",
              "1    3301046        6.500            94.983                41     no award   \n",
              "2   37397291        7.300           115.764                58  other award   \n",
              "3   15700000        7.600           130.704                94        Oscar   \n",
              "4    8551228        6.400           105.546                37  other award   \n",
              "\n",
              "    mpaa  star_category  \n",
              "0  PG-13          1.710  \n",
              "1      R          3.250  \n",
              "2      R          2.647  \n",
              "3      R          1.667  \n",
              "4      R          3.067  "
            ]
          },
          "metadata": {
            "tags": []
          },
          "execution_count": 6
        }
      ]
    },
    {
      "cell_type": "code",
      "metadata": {
        "id": "OEKaDTLIyMaE",
        "colab_type": "code",
        "outputId": "c217a8dd-1a0d-460c-9fd8-c8289c2e8c90",
        "colab": {
          "base_uri": "https://localhost:8080/",
          "height": 309
        }
      },
      "source": [
        "df1.tail()"
      ],
      "execution_count": 7,
      "outputs": [
        {
          "output_type": "execute_result",
          "data": {
            "text/html": [
              "<div>\n",
              "<style scoped>\n",
              "    .dataframe tbody tr th:only-of-type {\n",
              "        vertical-align: middle;\n",
              "    }\n",
              "\n",
              "    .dataframe tbody tr th {\n",
              "        vertical-align: top;\n",
              "    }\n",
              "\n",
              "    .dataframe thead th {\n",
              "        text-align: right;\n",
              "    }\n",
              "</style>\n",
              "<table border=\"1\" class=\"dataframe\">\n",
              "  <thead>\n",
              "    <tr style=\"text-align: right;\">\n",
              "      <th></th>\n",
              "      <th>video_id</th>\n",
              "      <th>cvt_per_day</th>\n",
              "      <th>weighted_categorical_position</th>\n",
              "      <th>weighted_horizontal_position</th>\n",
              "      <th>import_id</th>\n",
              "      <th>release_year</th>\n",
              "      <th>genres</th>\n",
              "      <th>imdb_votes</th>\n",
              "      <th>budget</th>\n",
              "      <th>boxoffice</th>\n",
              "      <th>imdb_rating</th>\n",
              "      <th>duration_in_mins</th>\n",
              "      <th>metacritic_score</th>\n",
              "      <th>awards</th>\n",
              "      <th>mpaa</th>\n",
              "      <th>star_category</th>\n",
              "    </tr>\n",
              "  </thead>\n",
              "  <tbody>\n",
              "    <tr>\n",
              "      <th>4221</th>\n",
              "      <td>160848</td>\n",
              "      <td>9.726</td>\n",
              "      <td>3</td>\n",
              "      <td>32</td>\n",
              "      <td>other</td>\n",
              "      <td>2010</td>\n",
              "      <td>Comedy,Drama</td>\n",
              "      <td>14</td>\n",
              "      <td>0</td>\n",
              "      <td>0</td>\n",
              "      <td>7.800</td>\n",
              "      <td>4.312</td>\n",
              "      <td>0</td>\n",
              "      <td>no award</td>\n",
              "      <td>NotRated</td>\n",
              "      <td>1.700</td>\n",
              "    </tr>\n",
              "    <tr>\n",
              "      <th>4222</th>\n",
              "      <td>365178</td>\n",
              "      <td>7.913</td>\n",
              "      <td>29</td>\n",
              "      <td>35</td>\n",
              "      <td>other</td>\n",
              "      <td>2013</td>\n",
              "      <td>Music</td>\n",
              "      <td>0</td>\n",
              "      <td>0</td>\n",
              "      <td>0</td>\n",
              "      <td>0.000</td>\n",
              "      <td>4.879</td>\n",
              "      <td>0</td>\n",
              "      <td>no award</td>\n",
              "      <td>PG-13</td>\n",
              "      <td>0.000</td>\n",
              "    </tr>\n",
              "    <tr>\n",
              "      <th>4223</th>\n",
              "      <td>11615</td>\n",
              "      <td>2.936</td>\n",
              "      <td>3</td>\n",
              "      <td>27</td>\n",
              "      <td>other</td>\n",
              "      <td>2008</td>\n",
              "      <td>Comedy</td>\n",
              "      <td>505</td>\n",
              "      <td>0</td>\n",
              "      <td>0</td>\n",
              "      <td>7.100</td>\n",
              "      <td>110.350</td>\n",
              "      <td>0</td>\n",
              "      <td>other award</td>\n",
              "      <td>NotRated</td>\n",
              "      <td>0.000</td>\n",
              "    </tr>\n",
              "    <tr>\n",
              "      <th>4224</th>\n",
              "      <td>26365</td>\n",
              "      <td>2.867</td>\n",
              "      <td>4</td>\n",
              "      <td>15</td>\n",
              "      <td>other</td>\n",
              "      <td>2003</td>\n",
              "      <td>Documentary</td>\n",
              "      <td>5</td>\n",
              "      <td>100000</td>\n",
              "      <td>0</td>\n",
              "      <td>6.000</td>\n",
              "      <td>79.633</td>\n",
              "      <td>0</td>\n",
              "      <td>no award</td>\n",
              "      <td>NotRated</td>\n",
              "      <td>0.000</td>\n",
              "    </tr>\n",
              "    <tr>\n",
              "      <th>4225</th>\n",
              "      <td>11229</td>\n",
              "      <td>2.188</td>\n",
              "      <td>7</td>\n",
              "      <td>35</td>\n",
              "      <td>other</td>\n",
              "      <td>2003</td>\n",
              "      <td>Drama,Romance</td>\n",
              "      <td>80</td>\n",
              "      <td>0</td>\n",
              "      <td>0</td>\n",
              "      <td>7.600</td>\n",
              "      <td>53.618</td>\n",
              "      <td>0</td>\n",
              "      <td>no award</td>\n",
              "      <td>NotRated</td>\n",
              "      <td>1.750</td>\n",
              "    </tr>\n",
              "  </tbody>\n",
              "</table>\n",
              "</div>"
            ],
            "text/plain": [
              "      video_id  cvt_per_day  weighted_categorical_position  \\\n",
              "4221    160848        9.726                              3   \n",
              "4222    365178        7.913                             29   \n",
              "4223     11615        2.936                              3   \n",
              "4224     26365        2.867                              4   \n",
              "4225     11229        2.188                              7   \n",
              "\n",
              "      weighted_horizontal_position import_id  release_year         genres  \\\n",
              "4221                            32     other          2010   Comedy,Drama   \n",
              "4222                            35     other          2013          Music   \n",
              "4223                            27     other          2008         Comedy   \n",
              "4224                            15     other          2003    Documentary   \n",
              "4225                            35     other          2003  Drama,Romance   \n",
              "\n",
              "      imdb_votes  budget  boxoffice  imdb_rating  duration_in_mins  \\\n",
              "4221          14       0          0        7.800             4.312   \n",
              "4222           0       0          0        0.000             4.879   \n",
              "4223         505       0          0        7.100           110.350   \n",
              "4224           5  100000          0        6.000            79.633   \n",
              "4225          80       0          0        7.600            53.618   \n",
              "\n",
              "      metacritic_score       awards      mpaa  star_category  \n",
              "4221                 0     no award  NotRated          1.700  \n",
              "4222                 0     no award     PG-13          0.000  \n",
              "4223                 0  other award  NotRated          0.000  \n",
              "4224                 0     no award  NotRated          0.000  \n",
              "4225                 0     no award  NotRated          1.750  "
            ]
          },
          "metadata": {
            "tags": []
          },
          "execution_count": 7
        }
      ]
    },
    {
      "cell_type": "code",
      "metadata": {
        "id": "C9Rdy4wPGflu",
        "colab_type": "code",
        "outputId": "bab90ec9-03e0-4fc5-f4de-e483e75056a7",
        "colab": {
          "base_uri": "https://localhost:8080/",
          "height": 51
        }
      },
      "source": [
        "#use df1.shape to get the dimension of the dataframe\n",
        "print('Num of rows:', df1.shape[0])\n",
        "print('Num of columns', df1.shape[1])"
      ],
      "execution_count": 8,
      "outputs": [
        {
          "output_type": "stream",
          "text": [
            "Num of rows: 4226\n",
            "Num of columns 16\n"
          ],
          "name": "stdout"
        }
      ]
    },
    {
      "cell_type": "markdown",
      "metadata": {
        "id": "cGfBjbbVq84c",
        "colab_type": "text"
      },
      "source": [
        "There are total 4000 + rows of data with 16 features for this data set."
      ]
    },
    {
      "cell_type": "markdown",
      "metadata": {
        "id": "I2WR4bGjSEbB",
        "colab_type": "text"
      },
      "source": [
        "# Part 1: Data Exploration"
      ]
    },
    {
      "cell_type": "markdown",
      "metadata": {
        "id": "oHEU7_IOQMH2",
        "colab_type": "text"
      },
      "source": [
        "## 1.1 Remove erroneous data"
      ]
    },
    {
      "cell_type": "markdown",
      "metadata": {
        "id": "KkvH0dBXQUn6",
        "colab_type": "text"
      },
      "source": [
        "Each video should only appear once. Duplicated video ids should be removed."
      ]
    },
    {
      "cell_type": "code",
      "metadata": {
        "id": "6LmkNyOunC5S",
        "colab_type": "code",
        "colab": {
          "base_uri": "https://localhost:8080/",
          "height": 34
        },
        "outputId": "ab650621-db1e-4904-9833-8a0808cd89c8"
      },
      "source": [
        "mask = df1['video_id'].duplicated()\n",
        "if len(df1['video_id'][mask]) == 0:\n",
        "  print('There is no duplicated entry (video_id based).')\n",
        "#booleam masking. return the array with values that satisfy the condition. because all False so return empty array"
      ],
      "execution_count": 35,
      "outputs": [
        {
          "output_type": "stream",
          "text": [
            "There is no duplicated entry (video_id based).\n"
          ],
          "name": "stdout"
        }
      ]
    },
    {
      "cell_type": "markdown",
      "metadata": {
        "id": "XjZhRXCwQaL4",
        "colab_type": "text"
      },
      "source": [
        "## 1.2 Understand numerical data"
      ]
    },
    {
      "cell_type": "markdown",
      "metadata": {
        "id": "wFKhh0avS5iE",
        "colab_type": "text"
      },
      "source": [
        "1.2.1 Overview"
      ]
    },
    {
      "cell_type": "code",
      "metadata": {
        "id": "_FpmPJentKlX",
        "colab_type": "code",
        "outputId": "18c6b090-4a74-4994-f011-f7b3b6e990f1",
        "colab": {
          "base_uri": "https://localhost:8080/",
          "height": 374
        }
      },
      "source": [
        "#check missing value\n",
        "df1.info()"
      ],
      "execution_count": 9,
      "outputs": [
        {
          "output_type": "stream",
          "text": [
            "<class 'pandas.core.frame.DataFrame'>\n",
            "RangeIndex: 4226 entries, 0 to 4225\n",
            "Data columns (total 16 columns):\n",
            "video_id                         4226 non-null int64\n",
            "cvt_per_day                      4226 non-null float64\n",
            "weighted_categorical_position    4226 non-null int64\n",
            "weighted_horizontal_position     4226 non-null int64\n",
            "import_id                        4226 non-null object\n",
            "release_year                     4226 non-null int64\n",
            "genres                           4226 non-null object\n",
            "imdb_votes                       4226 non-null int64\n",
            "budget                           4226 non-null int64\n",
            "boxoffice                        4226 non-null int64\n",
            "imdb_rating                      4226 non-null float64\n",
            "duration_in_mins                 4226 non-null float64\n",
            "metacritic_score                 4226 non-null int64\n",
            "awards                           4226 non-null object\n",
            "mpaa                             4226 non-null object\n",
            "star_category                    4226 non-null float64\n",
            "dtypes: float64(4), int64(8), object(4)\n",
            "memory usage: 528.4+ KB\n"
          ],
          "name": "stdout"
        }
      ]
    },
    {
      "cell_type": "markdown",
      "metadata": {
        "id": "FiY7PbfiMKkz",
        "colab_type": "text"
      },
      "source": [
        "There are 12 features represented by numbers and 4 categorical features.\n",
        "But video_id, release_year are not numerical features although they are represented by numbers."
      ]
    },
    {
      "cell_type": "code",
      "metadata": {
        "id": "R86kSTpoJ6bk",
        "colab_type": "code",
        "outputId": "439336df-1905-4668-e986-1fc59edb2090",
        "colab": {
          "base_uri": "https://localhost:8080/",
          "height": 612
        }
      },
      "source": [
        "print(df1.drop(columns = ['video_id', 'release_year']).describe(percentiles=[.1, .25, .5, .75, .9]))\n",
        "#Note: Change pandas set_option with display columns to show all columns"
      ],
      "execution_count": 78,
      "outputs": [
        {
          "output_type": "stream",
          "text": [
            "       cvt_per_day  weighted_categorical_position  \\\n",
            "count     4226.000                       4226.000   \n",
            "mean      4218.630                          7.783   \n",
            "std      13036.080                          6.134   \n",
            "min          2.188                          1.000   \n",
            "10%        141.985                          3.000   \n",
            "25%        351.169                          4.000   \n",
            "50%       1193.500                          6.000   \n",
            "75%       3356.789                          9.000   \n",
            "90%       7930.121                         15.000   \n",
            "max     307127.606                         41.000   \n",
            "\n",
            "       weighted_horizontal_position  imdb_votes        budget     boxoffice  \\\n",
            "count                      4226.000    4226.000      4226.000      4226.000   \n",
            "mean                         28.104    6462.924   2150743.439   2536338.472   \n",
            "std                          11.864   31596.007   7176604.483   8243516.266   \n",
            "min                           1.000       0.000         0.000         0.000   \n",
            "10%                          13.000       8.000         0.000         0.000   \n",
            "25%                          20.000      81.000         0.000         0.000   \n",
            "50%                          28.000     535.000         0.000         0.000   \n",
            "75%                          36.000    3053.000   1500000.000         0.000   \n",
            "90%                          44.000   12180.500   5000000.000   8551228.000   \n",
            "max                          70.000  948630.000 107000000.000 184208848.000   \n",
            "\n",
            "       imdb_rating  duration_in_mins  metacritic_score  star_category  \n",
            "count     4226.000          4226.000          4226.000       4226.000  \n",
            "mean         5.257            89.556            15.974          0.955  \n",
            "std          2.123            21.086            26.205          0.955  \n",
            "min          0.000             4.037             0.000          0.000  \n",
            "10%          2.300            62.391             0.000          0.000  \n",
            "25%          4.300            82.602             0.000          0.000  \n",
            "50%          5.800            90.730             0.000          1.000  \n",
            "75%          6.800            99.500            41.000          1.667  \n",
            "90%          7.500           111.034            57.000          2.250  \n",
            "max         10.000           246.017           100.000          4.000  \n"
          ],
          "name": "stdout"
        }
      ]
    },
    {
      "cell_type": "code",
      "metadata": {
        "id": "dd686FWqN0oZ",
        "colab_type": "code",
        "colab": {
          "base_uri": "https://localhost:8080/",
          "height": 306
        },
        "outputId": "3dc865d6-0e50-4188-866f-8a612017d320"
      },
      "source": [
        "(df1 == 0).sum()"
      ],
      "execution_count": 77,
      "outputs": [
        {
          "output_type": "execute_result",
          "data": {
            "text/plain": [
              "video_id                            0\n",
              "cvt_per_day                         0\n",
              "weighted_categorical_position       0\n",
              "weighted_horizontal_position        0\n",
              "import_id                           0\n",
              "release_year                        0\n",
              "genres                              0\n",
              "imdb_votes                        344\n",
              "budget                           2454\n",
              "boxoffice                        3194\n",
              "imdb_rating                       344\n",
              "duration_in_mins                    0\n",
              "metacritic_score                 3012\n",
              "awards                              0\n",
              "mpaa                                0\n",
              "star_category                    1846\n",
              "dtype: int64"
            ]
          },
          "metadata": {
            "tags": []
          },
          "execution_count": 77
        }
      ]
    },
    {
      "cell_type": "code",
      "metadata": {
        "id": "bTS5ESaAuG6I",
        "colab_type": "code",
        "colab": {
          "base_uri": "https://localhost:8080/",
          "height": 51
        },
        "outputId": "f134398d-6501-4bd2-e24c-1ae772a17416"
      },
      "source": [
        "print('There are ' + str((df1 == 0).any(axis = 0).sum()) + ' number of columns that have at least 1 missing values')\n",
        "print('There are ' + str((df1 == 0).any(axis = 1).sum()) + ' number of rows that have at least 1 missing values')"
      ],
      "execution_count": 29,
      "outputs": [
        {
          "output_type": "stream",
          "text": [
            "There are 6 number of columns that have at least 1 missing values\n",
            "There are 3242 number of rows that have at least 1 missing values\n"
          ],
          "name": "stdout"
        }
      ]
    },
    {
      "cell_type": "code",
      "metadata": {
        "id": "fETbjTPWYAW9",
        "colab_type": "code",
        "outputId": "dee98796-c46d-4dc6-84eb-1100d7e78bd2",
        "colab": {
          "base_uri": "https://localhost:8080/",
          "height": 119
        }
      },
      "source": [
        "#imdb votes, imdb rating, budget, boxoffice, metacritic score, star category have missing values\n",
        "mv = ['imdb_votes', 'imdb_rating', 'budget', 'boxoffice', 'metacritic_score', 'star_category']\n",
        "count = 0\n",
        "for col in mv:\n",
        "  for row in df1[col]:\n",
        "    if row == 0:\n",
        "      count += 1\n",
        "  print(col, '\\t :', count, 'missing values, ', np.floor((count/df1.shape[0])*100), '% of total data points' )\n",
        "  count = 0"
      ],
      "execution_count": 30,
      "outputs": [
        {
          "output_type": "stream",
          "text": [
            "imdb_votes \t : 344 missing values,  8.0 % of total data points\n",
            "imdb_rating \t : 344 missing values,  8.0 % of total data points\n",
            "budget \t : 2454 missing values,  58.0 % of total data points\n",
            "boxoffice \t : 3194 missing values,  75.0 % of total data points\n",
            "metacritic_score \t : 3012 missing values,  71.0 % of total data points\n",
            "star_category \t : 1846 missing values,  43.0 % of total data points\n"
          ],
          "name": "stdout"
        }
      ]
    },
    {
      "cell_type": "markdown",
      "metadata": {
        "id": "HzLvz3VTPhXJ",
        "colab_type": "text"
      },
      "source": [
        "Among the 10 numerical features (not include video_id and release_year), 4 features have over 45% of missing data: budget, boxoffice, metacritic_score, star_category. 2 features have less than 10% of missing data: imdb_votes, imdb_rating. In this assessment, I will assume that all cells with 0 values are missing values, not informative missing."
      ]
    },
    {
      "cell_type": "markdown",
      "metadata": {
        "id": "HIfakaUDS8UZ",
        "colab_type": "text"
      },
      "source": [
        "1.2.2 Understand distribution of numerical features\n",
        "- Cumulated view time per day is the feature we forecast (cvt_per_day)\n",
        "- Other features, such as budget, weighted_categorical_position, duration_in_mins\n"
      ]
    },
    {
      "cell_type": "code",
      "metadata": {
        "id": "iymCclsQcFeU",
        "colab_type": "code",
        "outputId": "02f420b8-7ac1-4967-a782-11a6af6872ca",
        "colab": {
          "base_uri": "https://localhost:8080/",
          "height": 280
        }
      },
      "source": [
        "sns.distplot(df1['cvt_per_day'], label = 'cvt_per_day')\n",
        "plt.legend(loc = 'upper right')\n",
        "plt.ylabel('density')\n",
        "plt.show()"
      ],
      "execution_count": 38,
      "outputs": [
        {
          "output_type": "display_data",
          "data": {
            "image/png": "[encoded data removed]",
            "text/plain": [
              "<Figure size 432x288 with 1 Axes>"
            ]
          },
          "metadata": {
            "tags": []
          }
        }
      ]
    },
    {
      "cell_type": "code",
      "metadata": {
        "id": "kst2zKXHcAzc",
        "colab_type": "code",
        "colab": {
          "base_uri": "https://localhost:8080/",
          "height": 296
        },
        "outputId": "2fc7843f-e3ea-41ed-9144-521aaa60ec07"
      },
      "source": [
        "#draw a histogram for 'cvt_per_day' with range (0, 20000)\n",
        "\n",
        "plt.hist(df1['cvt_per_day'].values, bins = range(0, 20000, 200), label = 'cvt_per_day', density = True)\n",
        "plt.legend(loc = 'upper right')\n",
        "plt.xlabel('cvt_per_day')\n",
        "plt.ylabel('density')\n",
        "plt.title('cvt_per_day distribution')\n",
        "plt.show()\n",
        "\n",
        "#bins = range(0, 20000, 200) is optimized from bins = 200, range = (0, 20000)"
      ],
      "execution_count": 49,
      "outputs": [
        {
          "output_type": "display_data",
          "data": {
            "image/png": "[encoded data removed]",
            "text/plain": [
              "<Figure size 432x288 with 1 Axes>"
            ]
          },
          "metadata": {
            "tags": []
          }
        }
      ]
    },
    {
      "cell_type": "code",
      "metadata": {
        "id": "DJpHUT5y9y-s",
        "colab_type": "code",
        "colab": {
          "base_uri": "https://localhost:8080/",
          "height": 295
        },
        "outputId": "c136d336-1d5d-44a5-cfe2-a0a3fcb20826"
      },
      "source": [
        "#draw a histogram for 'budget'\n",
        "\n",
        "plt.hist(df1['budget'].values, density = True, log = True, label = 'budget(log)', color = 'g')\n",
        "plt.legend(loc = 'upper right')\n",
        "plt.xlabel('budget')\n",
        "plt.ylabel('count')\n",
        "plt.title('budget distribution in log')\n",
        "plt.show()"
      ],
      "execution_count": 51,
      "outputs": [
        {
          "output_type": "display_data",
          "data": {
            "image/png": "[encoded data removed]",
            "text/plain": [
              "<Figure size 432x288 with 1 Axes>"
            ]
          },
          "metadata": {
            "tags": []
          }
        }
      ]
    },
    {
      "cell_type": "code",
      "metadata": {
        "id": "ftCk8tis_DDG",
        "colab_type": "code",
        "colab": {
          "base_uri": "https://localhost:8080/",
          "height": 296
        },
        "outputId": "03aa6ffe-b89a-4df0-9376-e36512ae418b"
      },
      "source": [
        "#draw a histogram for 'weighted_categorical_position'\n",
        "\n",
        "plt.hist(df1['weighted_categorical_position'], density = True, label = 'weighted_categorical_position', color = 'y')\n",
        "plt.legend(loc = 'upper right')\n",
        "plt.xlabel('weighted_categorical_position')\n",
        "plt.ylabel('density')\n",
        "plt.title('weighted_categorical_position')\n",
        "plt.show()"
      ],
      "execution_count": 56,
      "outputs": [
        {
          "output_type": "display_data",
          "data": {
            "image/png": "[encoded data removed]",
            "text/plain": [
              "<Figure size 432x288 with 1 Axes>"
            ]
          },
          "metadata": {
            "tags": []
          }
        }
      ]
    },
    {
      "cell_type": "code",
      "metadata": {
        "id": "BP9AYw9Z_scV",
        "colab_type": "code",
        "colab": {
          "base_uri": "https://localhost:8080/",
          "height": 296
        },
        "outputId": "14fad9c9-edf1-4346-da9f-375c077c6978"
      },
      "source": [
        "#draw a histogram for 'duration_in_mins'\n",
        "\n",
        "plt.hist(df1['duration_in_mins'].values, density = True, label = 'duration_in_mins', color = 'grey')\n",
        "plt.legend(loc = 'upper right')\n",
        "plt.xlabel('duration_in_mins')\n",
        "plt.ylabel('density')\n",
        "plt.title('duration_in_mins')\n",
        "plt.show()"
      ],
      "execution_count": 57,
      "outputs": [
        {
          "output_type": "display_data",
          "data": {
            "image/png": "[encoded data removed]",
            "text/plain": [
              "<Figure size 432x288 with 1 Axes>"
            ]
          },
          "metadata": {
            "tags": []
          }
        }
      ]
    },
    {
      "cell_type": "markdown",
      "metadata": {
        "id": "IYDeDjqNUFAw",
        "colab_type": "text"
      },
      "source": [
        "1.2.3 Correlation among numerical features"
      ]
    },
    {
      "cell_type": "code",
      "metadata": {
        "id": "-_fJ-fCUoiZw",
        "colab_type": "code",
        "colab": {}
      },
      "source": [
        "corr = df1[['cvt_per_day', 'weighted_categorical_position',\n",
        "       'weighted_horizontal_position', 'release_year',\n",
        "       'imdb_votes', 'budget', 'boxoffice', 'imdb_rating', 'duration_in_mins',\n",
        "       'metacritic_score', 'star_category']].corr()"
      ],
      "execution_count": 0,
      "outputs": []
    },
    {
      "cell_type": "code",
      "metadata": {
        "id": "nvlmAY2RpI45",
        "colab_type": "code",
        "outputId": "d3ad5d64-fc03-4aa8-c5b7-bcba1e8be404",
        "colab": {
          "base_uri": "https://localhost:8080/",
          "height": 428
        }
      },
      "source": [
        "sns.heatmap(corr, cmap=\"YlGnBu\")\n"
      ],
      "execution_count": 59,
      "outputs": [
        {
          "output_type": "execute_result",
          "data": {
            "text/plain": [
              "<matplotlib.axes._subplots.AxesSubplot at 0x7eff6e270128>"
            ]
          },
          "metadata": {
            "tags": []
          },
          "execution_count": 59
        },
        {
          "output_type": "display_data",
          "data": {
            "image/png": "[encoded data removed]",
            "text/plain": [
              "<Figure size 432x288 with 2 Axes>"
            ]
          },
          "metadata": {
            "tags": []
          }
        }
      ]
    },
    {
      "cell_type": "code",
      "metadata": {
        "id": "QHIl8KbIsBJS",
        "colab_type": "code",
        "outputId": "e941536e-22e4-471a-c849-cf0f7c32c635",
        "colab": {
          "base_uri": "https://localhost:8080/",
          "height": 410
        }
      },
      "source": [
        "corr"
      ],
      "execution_count": 60,
      "outputs": [
        {
          "output_type": "execute_result",
          "data": {
            "text/html": [
              "<div>\n",
              "<style scoped>\n",
              "    .dataframe tbody tr th:only-of-type {\n",
              "        vertical-align: middle;\n",
              "    }\n",
              "\n",
              "    .dataframe tbody tr th {\n",
              "        vertical-align: top;\n",
              "    }\n",
              "\n",
              "    .dataframe thead th {\n",
              "        text-align: right;\n",
              "    }\n",
              "</style>\n",
              "<table border=\"1\" class=\"dataframe\">\n",
              "  <thead>\n",
              "    <tr style=\"text-align: right;\">\n",
              "      <th></th>\n",
              "      <th>cvt_per_day</th>\n",
              "      <th>weighted_categorical_position</th>\n",
              "      <th>weighted_horizontal_position</th>\n",
              "      <th>release_year</th>\n",
              "      <th>imdb_votes</th>\n",
              "      <th>budget</th>\n",
              "      <th>boxoffice</th>\n",
              "      <th>imdb_rating</th>\n",
              "      <th>duration_in_mins</th>\n",
              "      <th>metacritic_score</th>\n",
              "      <th>star_category</th>\n",
              "    </tr>\n",
              "  </thead>\n",
              "  <tbody>\n",
              "    <tr>\n",
              "      <th>cvt_per_day</th>\n",
              "      <td>1.000</td>\n",
              "      <td>-0.148</td>\n",
              "      <td>-0.302</td>\n",
              "      <td>0.046</td>\n",
              "      <td>0.298</td>\n",
              "      <td>0.316</td>\n",
              "      <td>0.312</td>\n",
              "      <td>0.059</td>\n",
              "      <td>0.152</td>\n",
              "      <td>0.249</td>\n",
              "      <td>0.247</td>\n",
              "    </tr>\n",
              "    <tr>\n",
              "      <th>weighted_categorical_position</th>\n",
              "      <td>-0.148</td>\n",
              "      <td>1.000</td>\n",
              "      <td>-0.084</td>\n",
              "      <td>-0.069</td>\n",
              "      <td>-0.064</td>\n",
              "      <td>-0.090</td>\n",
              "      <td>-0.074</td>\n",
              "      <td>-0.116</td>\n",
              "      <td>-0.174</td>\n",
              "      <td>-0.044</td>\n",
              "      <td>-0.123</td>\n",
              "    </tr>\n",
              "    <tr>\n",
              "      <th>weighted_horizontal_position</th>\n",
              "      <td>-0.302</td>\n",
              "      <td>-0.084</td>\n",
              "      <td>1.000</td>\n",
              "      <td>0.027</td>\n",
              "      <td>-0.221</td>\n",
              "      <td>-0.211</td>\n",
              "      <td>-0.245</td>\n",
              "      <td>-0.162</td>\n",
              "      <td>-0.102</td>\n",
              "      <td>-0.255</td>\n",
              "      <td>-0.168</td>\n",
              "    </tr>\n",
              "    <tr>\n",
              "      <th>release_year</th>\n",
              "      <td>0.046</td>\n",
              "      <td>-0.069</td>\n",
              "      <td>0.027</td>\n",
              "      <td>1.000</td>\n",
              "      <td>-0.083</td>\n",
              "      <td>-0.040</td>\n",
              "      <td>-0.128</td>\n",
              "      <td>-0.199</td>\n",
              "      <td>-0.097</td>\n",
              "      <td>-0.167</td>\n",
              "      <td>-0.198</td>\n",
              "    </tr>\n",
              "    <tr>\n",
              "      <th>imdb_votes</th>\n",
              "      <td>0.298</td>\n",
              "      <td>-0.064</td>\n",
              "      <td>-0.221</td>\n",
              "      <td>-0.083</td>\n",
              "      <td>1.000</td>\n",
              "      <td>0.273</td>\n",
              "      <td>0.531</td>\n",
              "      <td>0.163</td>\n",
              "      <td>0.156</td>\n",
              "      <td>0.322</td>\n",
              "      <td>0.225</td>\n",
              "    </tr>\n",
              "    <tr>\n",
              "      <th>budget</th>\n",
              "      <td>0.316</td>\n",
              "      <td>-0.090</td>\n",
              "      <td>-0.211</td>\n",
              "      <td>-0.040</td>\n",
              "      <td>0.273</td>\n",
              "      <td>1.000</td>\n",
              "      <td>0.505</td>\n",
              "      <td>0.106</td>\n",
              "      <td>0.251</td>\n",
              "      <td>0.315</td>\n",
              "      <td>0.322</td>\n",
              "    </tr>\n",
              "    <tr>\n",
              "      <th>boxoffice</th>\n",
              "      <td>0.312</td>\n",
              "      <td>-0.074</td>\n",
              "      <td>-0.245</td>\n",
              "      <td>-0.128</td>\n",
              "      <td>0.531</td>\n",
              "      <td>0.505</td>\n",
              "      <td>1.000</td>\n",
              "      <td>0.164</td>\n",
              "      <td>0.226</td>\n",
              "      <td>0.465</td>\n",
              "      <td>0.322</td>\n",
              "    </tr>\n",
              "    <tr>\n",
              "      <th>imdb_rating</th>\n",
              "      <td>0.059</td>\n",
              "      <td>-0.116</td>\n",
              "      <td>-0.162</td>\n",
              "      <td>-0.199</td>\n",
              "      <td>0.163</td>\n",
              "      <td>0.106</td>\n",
              "      <td>0.164</td>\n",
              "      <td>1.000</td>\n",
              "      <td>0.344</td>\n",
              "      <td>0.347</td>\n",
              "      <td>0.192</td>\n",
              "    </tr>\n",
              "    <tr>\n",
              "      <th>duration_in_mins</th>\n",
              "      <td>0.152</td>\n",
              "      <td>-0.174</td>\n",
              "      <td>-0.102</td>\n",
              "      <td>-0.097</td>\n",
              "      <td>0.156</td>\n",
              "      <td>0.251</td>\n",
              "      <td>0.226</td>\n",
              "      <td>0.344</td>\n",
              "      <td>1.000</td>\n",
              "      <td>0.327</td>\n",
              "      <td>0.309</td>\n",
              "    </tr>\n",
              "    <tr>\n",
              "      <th>metacritic_score</th>\n",
              "      <td>0.249</td>\n",
              "      <td>-0.044</td>\n",
              "      <td>-0.255</td>\n",
              "      <td>-0.167</td>\n",
              "      <td>0.322</td>\n",
              "      <td>0.315</td>\n",
              "      <td>0.465</td>\n",
              "      <td>0.347</td>\n",
              "      <td>0.327</td>\n",
              "      <td>1.000</td>\n",
              "      <td>0.452</td>\n",
              "    </tr>\n",
              "    <tr>\n",
              "      <th>star_category</th>\n",
              "      <td>0.247</td>\n",
              "      <td>-0.123</td>\n",
              "      <td>-0.168</td>\n",
              "      <td>-0.198</td>\n",
              "      <td>0.225</td>\n",
              "      <td>0.322</td>\n",
              "      <td>0.322</td>\n",
              "      <td>0.192</td>\n",
              "      <td>0.309</td>\n",
              "      <td>0.452</td>\n",
              "      <td>1.000</td>\n",
              "    </tr>\n",
              "  </tbody>\n",
              "</table>\n",
              "</div>"
            ],
            "text/plain": [
              "                               cvt_per_day  weighted_categorical_position  \\\n",
              "cvt_per_day                          1.000                         -0.148   \n",
              "weighted_categorical_position       -0.148                          1.000   \n",
              "weighted_horizontal_position        -0.302                         -0.084   \n",
              "release_year                         0.046                         -0.069   \n",
              "imdb_votes                           0.298                         -0.064   \n",
              "budget                               0.316                         -0.090   \n",
              "boxoffice                            0.312                         -0.074   \n",
              "imdb_rating                          0.059                         -0.116   \n",
              "duration_in_mins                     0.152                         -0.174   \n",
              "metacritic_score                     0.249                         -0.044   \n",
              "star_category                        0.247                         -0.123   \n",
              "\n",
              "                               weighted_horizontal_position  release_year  \\\n",
              "cvt_per_day                                          -0.302         0.046   \n",
              "weighted_categorical_position                        -0.084        -0.069   \n",
              "weighted_horizontal_position                          1.000         0.027   \n",
              "release_year                                          0.027         1.000   \n",
              "imdb_votes                                           -0.221        -0.083   \n",
              "budget                                               -0.211        -0.040   \n",
              "boxoffice                                            -0.245        -0.128   \n",
              "imdb_rating                                          -0.162        -0.199   \n",
              "duration_in_mins                                     -0.102        -0.097   \n",
              "metacritic_score                                     -0.255        -0.167   \n",
              "star_category                                        -0.168        -0.198   \n",
              "\n",
              "                               imdb_votes  budget  boxoffice  imdb_rating  \\\n",
              "cvt_per_day                         0.298   0.316      0.312        0.059   \n",
              "weighted_categorical_position      -0.064  -0.090     -0.074       -0.116   \n",
              "weighted_horizontal_position       -0.221  -0.211     -0.245       -0.162   \n",
              "release_year                       -0.083  -0.040     -0.128       -0.199   \n",
              "imdb_votes                          1.000   0.273      0.531        0.163   \n",
              "budget                              0.273   1.000      0.505        0.106   \n",
              "boxoffice                           0.531   0.505      1.000        0.164   \n",
              "imdb_rating                         0.163   0.106      0.164        1.000   \n",
              "duration_in_mins                    0.156   0.251      0.226        0.344   \n",
              "metacritic_score                    0.322   0.315      0.465        0.347   \n",
              "star_category                       0.225   0.322      0.322        0.192   \n",
              "\n",
              "                               duration_in_mins  metacritic_score  \\\n",
              "cvt_per_day                               0.152             0.249   \n",
              "weighted_categorical_position            -0.174            -0.044   \n",
              "weighted_horizontal_position             -0.102            -0.255   \n",
              "release_year                             -0.097            -0.167   \n",
              "imdb_votes                                0.156             0.322   \n",
              "budget                                    0.251             0.315   \n",
              "boxoffice                                 0.226             0.465   \n",
              "imdb_rating                               0.344             0.347   \n",
              "duration_in_mins                          1.000             0.327   \n",
              "metacritic_score                          0.327             1.000   \n",
              "star_category                             0.309             0.452   \n",
              "\n",
              "                               star_category  \n",
              "cvt_per_day                            0.247  \n",
              "weighted_categorical_position         -0.123  \n",
              "weighted_horizontal_position          -0.168  \n",
              "release_year                          -0.198  \n",
              "imdb_votes                             0.225  \n",
              "budget                                 0.322  \n",
              "boxoffice                              0.322  \n",
              "imdb_rating                            0.192  \n",
              "duration_in_mins                       0.309  \n",
              "metacritic_score                       0.452  \n",
              "star_category                          1.000  "
            ]
          },
          "metadata": {
            "tags": []
          },
          "execution_count": 60
        }
      ]
    },
    {
      "cell_type": "code",
      "metadata": {
        "id": "xqNG0vFiwEYz",
        "colab_type": "code",
        "colab": {
          "base_uri": "https://localhost:8080/",
          "height": 34
        },
        "outputId": "48b849f6-103a-46df-ec11-2cc0da85deba"
      },
      "source": [
        "# calculate two features correlation\n",
        "from scipy.stats import pearsonr\n",
        "print (pearsonr(df1['weighted_categorical_position'], df1['cvt_per_day'])[0])\n",
        "# p-value is extremely small"
      ],
      "execution_count": 66,
      "outputs": [
        {
          "output_type": "stream",
          "text": [
            "-0.14799969872195723\n"
          ],
          "name": "stdout"
        }
      ]
    },
    {
      "cell_type": "markdown",
      "metadata": {
        "id": "cKyU8PFhQiMR",
        "colab_type": "text"
      },
      "source": [
        "## 1.3 Understand categorical data"
      ]
    },
    {
      "cell_type": "markdown",
      "metadata": {
        "id": "oi0nuZWq8-bE",
        "colab_type": "text"
      },
      "source": [
        "1.3.1 Simple categorical features (import_id, mpaa, awards)"
      ]
    },
    {
      "cell_type": "code",
      "metadata": {
        "id": "4d6ar4ZaH1TK",
        "colab_type": "code",
        "colab": {
          "base_uri": "https://localhost:8080/",
          "height": 436
        },
        "outputId": "d19a0b85-94d1-4eea-9ad1-5f69f190a358"
      },
      "source": [
        "sns.stripplot(x = 'import_id', y = 'cvt_per_day', data = df1, jitter = True, palette = 'muted')\n",
        "plt.show()\n",
        "df1['import_id'].value_counts().reset_index()"
      ],
      "execution_count": 67,
      "outputs": [
        {
          "output_type": "display_data",
          "data": {
            "image/png": "[encoded data removed]",
            "text/plain": [
              "<Figure size 432x288 with 1 Axes>"
            ]
          },
          "metadata": {
            "tags": []
          }
        },
        {
          "output_type": "execute_result",
          "data": {
            "text/html": [
              "<div>\n",
              "<style scoped>\n",
              "    .dataframe tbody tr th:only-of-type {\n",
              "        vertical-align: middle;\n",
              "    }\n",
              "\n",
              "    .dataframe tbody tr th {\n",
              "        vertical-align: top;\n",
              "    }\n",
              "\n",
              "    .dataframe thead th {\n",
              "        text-align: right;\n",
              "    }\n",
              "</style>\n",
              "<table border=\"1\" class=\"dataframe\">\n",
              "  <thead>\n",
              "    <tr style=\"text-align: right;\">\n",
              "      <th></th>\n",
              "      <th>index</th>\n",
              "      <th>import_id</th>\n",
              "    </tr>\n",
              "  </thead>\n",
              "  <tbody>\n",
              "    <tr>\n",
              "      <th>0</th>\n",
              "      <td>other</td>\n",
              "      <td>2963</td>\n",
              "    </tr>\n",
              "    <tr>\n",
              "      <th>1</th>\n",
              "      <td>lionsgate</td>\n",
              "      <td>677</td>\n",
              "    </tr>\n",
              "    <tr>\n",
              "      <th>2</th>\n",
              "      <td>mgm</td>\n",
              "      <td>445</td>\n",
              "    </tr>\n",
              "    <tr>\n",
              "      <th>3</th>\n",
              "      <td>paramount</td>\n",
              "      <td>141</td>\n",
              "    </tr>\n",
              "  </tbody>\n",
              "</table>\n",
              "</div>"
            ],
            "text/plain": [
              "       index  import_id\n",
              "0      other       2963\n",
              "1  lionsgate        677\n",
              "2        mgm        445\n",
              "3  paramount        141"
            ]
          },
          "metadata": {
            "tags": []
          },
          "execution_count": 67
        }
      ]
    },
    {
      "cell_type": "code",
      "metadata": {
        "id": "u0zRva0eLEFO",
        "colab_type": "code",
        "colab": {
          "base_uri": "https://localhost:8080/",
          "height": 497
        },
        "outputId": "ce38bfd1-1d02-4a41-95e9-ccadf1386185"
      },
      "source": [
        "sns.stripplot(x = 'mpaa', y = 'cvt_per_day', data = df1, jitter = True, palette = 'deep')\n",
        "plt.show()\n",
        "df1['mpaa'].value_counts().reset_index()"
      ],
      "execution_count": 68,
      "outputs": [
        {
          "output_type": "display_data",
          "data": {
            "image/png": "[encoded data removed]",
            "text/plain": [
              "<Figure size 432x288 with 1 Axes>"
            ]
          },
          "metadata": {
            "tags": []
          }
        },
        {
          "output_type": "execute_result",
          "data": {
            "text/html": [
              "<div>\n",
              "<style scoped>\n",
              "    .dataframe tbody tr th:only-of-type {\n",
              "        vertical-align: middle;\n",
              "    }\n",
              "\n",
              "    .dataframe tbody tr th {\n",
              "        vertical-align: top;\n",
              "    }\n",
              "\n",
              "    .dataframe thead th {\n",
              "        text-align: right;\n",
              "    }\n",
              "</style>\n",
              "<table border=\"1\" class=\"dataframe\">\n",
              "  <thead>\n",
              "    <tr style=\"text-align: right;\">\n",
              "      <th></th>\n",
              "      <th>index</th>\n",
              "      <th>mpaa</th>\n",
              "    </tr>\n",
              "  </thead>\n",
              "  <tbody>\n",
              "    <tr>\n",
              "      <th>0</th>\n",
              "      <td>NotRated</td>\n",
              "      <td>2158</td>\n",
              "    </tr>\n",
              "    <tr>\n",
              "      <th>1</th>\n",
              "      <td>R</td>\n",
              "      <td>1158</td>\n",
              "    </tr>\n",
              "    <tr>\n",
              "      <th>2</th>\n",
              "      <td>PG-13</td>\n",
              "      <td>426</td>\n",
              "    </tr>\n",
              "    <tr>\n",
              "      <th>3</th>\n",
              "      <td>PG</td>\n",
              "      <td>353</td>\n",
              "    </tr>\n",
              "    <tr>\n",
              "      <th>4</th>\n",
              "      <td>G</td>\n",
              "      <td>125</td>\n",
              "    </tr>\n",
              "    <tr>\n",
              "      <th>5</th>\n",
              "      <td>NC-17</td>\n",
              "      <td>6</td>\n",
              "    </tr>\n",
              "  </tbody>\n",
              "</table>\n",
              "</div>"
            ],
            "text/plain": [
              "      index  mpaa\n",
              "0  NotRated  2158\n",
              "1         R  1158\n",
              "2     PG-13   426\n",
              "3        PG   353\n",
              "4         G   125\n",
              "5     NC-17     6"
            ]
          },
          "metadata": {
            "tags": []
          },
          "execution_count": 68
        }
      ]
    },
    {
      "cell_type": "code",
      "metadata": {
        "id": "bdT4fUO7NyEP",
        "colab_type": "code",
        "colab": {
          "base_uri": "https://localhost:8080/",
          "height": 466
        },
        "outputId": "67610e7b-a4ad-4764-818d-b02018e93c39"
      },
      "source": [
        "sns.stripplot(df1['awards'], df1['cvt_per_day'], palette= 'pastel')\n",
        "plt.show()\n",
        "df1['awards'].value_counts().reset_index()"
      ],
      "execution_count": 69,
      "outputs": [
        {
          "output_type": "display_data",
          "data": {
            "image/png": "[encoded data removed]",
            "text/plain": [
              "<Figure size 432x288 with 1 Axes>"
            ]
          },
          "metadata": {
            "tags": []
          }
        },
        {
          "output_type": "execute_result",
          "data": {
            "text/html": [
              "<div>\n",
              "<style scoped>\n",
              "    .dataframe tbody tr th:only-of-type {\n",
              "        vertical-align: middle;\n",
              "    }\n",
              "\n",
              "    .dataframe tbody tr th {\n",
              "        vertical-align: top;\n",
              "    }\n",
              "\n",
              "    .dataframe thead th {\n",
              "        text-align: right;\n",
              "    }\n",
              "</style>\n",
              "<table border=\"1\" class=\"dataframe\">\n",
              "  <thead>\n",
              "    <tr style=\"text-align: right;\">\n",
              "      <th></th>\n",
              "      <th>index</th>\n",
              "      <th>awards</th>\n",
              "    </tr>\n",
              "  </thead>\n",
              "  <tbody>\n",
              "    <tr>\n",
              "      <th>0</th>\n",
              "      <td>no award</td>\n",
              "      <td>2569</td>\n",
              "    </tr>\n",
              "    <tr>\n",
              "      <th>1</th>\n",
              "      <td>other award</td>\n",
              "      <td>1453</td>\n",
              "    </tr>\n",
              "    <tr>\n",
              "      <th>2</th>\n",
              "      <td>Oscar</td>\n",
              "      <td>141</td>\n",
              "    </tr>\n",
              "    <tr>\n",
              "      <th>3</th>\n",
              "      <td>Golden Globe</td>\n",
              "      <td>44</td>\n",
              "    </tr>\n",
              "    <tr>\n",
              "      <th>4</th>\n",
              "      <td>BAFTA</td>\n",
              "      <td>19</td>\n",
              "    </tr>\n",
              "  </tbody>\n",
              "</table>\n",
              "</div>"
            ],
            "text/plain": [
              "          index  awards\n",
              "0      no award    2569\n",
              "1   other award    1453\n",
              "2         Oscar     141\n",
              "3  Golden Globe      44\n",
              "4         BAFTA      19"
            ]
          },
          "metadata": {
            "tags": []
          },
          "execution_count": 69
        }
      ]
    },
    {
      "cell_type": "markdown",
      "metadata": {
        "id": "EUdGMugi9Cdk",
        "colab_type": "text"
      },
      "source": [
        "1.3.2 Distribution of split genres\n",
        " - Some videos belong to more than 1 genre. I split each genre out to help emphasize the effect of each individual genre."
      ]
    },
    {
      "cell_type": "code",
      "metadata": {
        "id": "M_tojtxZROOm",
        "colab_type": "code",
        "colab": {
          "base_uri": "https://localhost:8080/",
          "height": 407
        },
        "outputId": "27b1cb1a-c842-49d5-c30e-44d9401acca7"
      },
      "source": [
        "bar_chart = df1['genres'].str.get_dummies(sep=',').sum()\n",
        "#Series.str.get_dummies: Split each string in the Series by sep and return a DataFrame of dummy/indicator variables. axis : {index (0), columns (1)}\n",
        "#If the input is index axis then it adds all the values in a column and returns a series containing the sum of all the values in each column.\n",
        "\n",
        "#Action                    739\n",
        "#Adult                       3\n",
        "#Adventure                 363\n",
        "\n",
        "bar_chart.sort_values(ascending=True).plot.bar(label = 'genres')\n",
        "plt.title('Distribution of Split Genres')\n",
        "plt.legend(loc = 'upper left')\n",
        "plt.ylabel('count')\n",
        "plt.xlabel('genres')\n"
      ],
      "execution_count": 31,
      "outputs": [
        {
          "output_type": "execute_result",
          "data": {
            "text/plain": [
              "Text(0.5, 0, 'genres')"
            ]
          },
          "metadata": {
            "tags": []
          },
          "execution_count": 31
        },
        {
          "output_type": "display_data",
          "data": {
            "image/png": "[encoded data removed]",
            "text/plain": [
              "<Figure size 432x288 with 1 Axes>"
            ]
          },
          "metadata": {
            "tags": []
          }
        }
      ]
    },
    {
      "cell_type": "code",
      "metadata": {
        "id": "mJxnbfhx0B6Y",
        "colab_type": "code",
        "colab": {
          "base_uri": "https://localhost:8080/",
          "height": 34
        },
        "outputId": "bcf92d3b-c1d6-439f-c9cc-23923420d977"
      },
      "source": [
        "print('There are ' + str(df1['genres'].str.get_dummies(sep=',').columns.shape[0]) + ' movie genres after splitting')"
      ],
      "execution_count": 43,
      "outputs": [
        {
          "output_type": "stream",
          "text": [
            "There are 27 movie genres after splitting\n"
          ],
          "name": "stdout"
        }
      ]
    },
    {
      "cell_type": "markdown",
      "metadata": {
        "id": "qCDWA0n_ThB0",
        "colab_type": "text"
      },
      "source": [
        "6 genres including Anime, Reality, Lifestyle, Adult, LGBT, Holiday have low frequencies. Therefore, during feature processing, they will be grouped together as: 'Misc_gen' in the feature 'genres'."
      ]
    },
    {
      "cell_type": "markdown",
      "metadata": {
        "id": "Dr36L_Sa9Lay",
        "colab_type": "text"
      },
      "source": [
        "1.3.3 Distribution of release_year\n",
        " - The release year of video varies through a wide range. Considering the popularity of a video usually decays over time, the release_year should be bucketized based on the release_year range."
      ]
    },
    {
      "cell_type": "code",
      "metadata": {
        "id": "L2mCy3eFT_ct",
        "colab_type": "code",
        "colab": {
          "base_uri": "https://localhost:8080/",
          "height": 296
        },
        "outputId": "9bfe1b2c-a58c-4754-a7ef-34614e217edb"
      },
      "source": [
        "plt.hist(df1['release_year'], density = True, label = 'release_year', bins = range(1915, 2020, 1), color = 'deepskyblue')\n",
        "plt.legend(loc ='upper left')\n",
        "plt.title('Historgrams of release_year before data processing')\n",
        "plt.xlabel('release_year')\n",
        "plt.ylabel('density')\n",
        "plt.show()"
      ],
      "execution_count": 44,
      "outputs": [
        {
          "output_type": "display_data",
          "data": {
            "image/png": "[encoded data removed]",
            "text/plain": [
              "<Figure size 432x288 with 1 Axes>"
            ]
          },
          "metadata": {
            "tags": []
          }
        }
      ]
    },
    {
      "cell_type": "code",
      "metadata": {
        "id": "2tT6yELcVEvE",
        "colab_type": "code",
        "colab": {
          "base_uri": "https://localhost:8080/",
          "height": 272
        },
        "outputId": "fa10ff3e-3f32-4919-fb9f-cad61fd52233"
      },
      "source": [
        "df1['release_year'].describe(percentiles = [.1, .2, .3, .4, .5, .6, .7, .8, .9])\n",
        "#split into 10 sub groups"
      ],
      "execution_count": 45,
      "outputs": [
        {
          "output_type": "execute_result",
          "data": {
            "text/plain": [
              "count   4226.000\n",
              "mean    2001.057\n",
              "std       17.497\n",
              "min     1916.000\n",
              "10%     1974.000\n",
              "20%     1991.000\n",
              "30%     2001.000\n",
              "40%     2006.000\n",
              "50%     2008.000\n",
              "60%     2010.000\n",
              "70%     2012.000\n",
              "80%     2013.000\n",
              "90%     2014.000\n",
              "max     2017.000\n",
              "Name: release_year, dtype: float64"
            ]
          },
          "metadata": {
            "tags": []
          },
          "execution_count": 45
        }
      ]
    },
    {
      "cell_type": "markdown",
      "metadata": {
        "id": "W-KDWOPKIqCh",
        "colab_type": "text"
      },
      "source": [
        "# Part 2: Feature Processing"
      ]
    },
    {
      "cell_type": "markdown",
      "metadata": {
        "id": "sR8VCtxVxKuL",
        "colab_type": "text"
      },
      "source": [
        "## 2.1 Handling missing values"
      ]
    },
    {
      "cell_type": "markdown",
      "metadata": {
        "id": "kCkOfTHVsYkc",
        "colab_type": "text"
      },
      "source": [
        "Among the 10 numerical features (not include video_id), 4 features have over 25% of missing values (shown as '0', which is not possible in reality): budget, boxoffice, metacritic_score, star_category. 2 features have less than 10% of missing data: imdb_votes, imdb_rating.\n",
        "\n",
        "There are 3242 samples have at least one missing data."
      ]
    },
    {
      "cell_type": "code",
      "metadata": {
        "id": "6Yys1Rf-2wVv",
        "colab_type": "code",
        "colab": {}
      },
      "source": [
        "# mark zero values as NaN\n",
        "mv_cols = ['budget', 'boxoffice', 'metacritic_score', 'star_category', 'imdb_votes', 'imdb_rating']\n",
        "df1[mv_cols] = df1[mv_cols].replace(0, np.nan)"
      ],
      "execution_count": 0,
      "outputs": []
    },
    {
      "cell_type": "code",
      "metadata": {
        "id": "tyRAUQlc4kPO",
        "colab_type": "code",
        "colab": {
          "base_uri": "https://localhost:8080/",
          "height": 309
        },
        "outputId": "791b801c-4d51-47bb-c2af-6593ee68ab2c"
      },
      "source": [
        "df1.tail()"
      ],
      "execution_count": 47,
      "outputs": [
        {
          "output_type": "execute_result",
          "data": {
            "text/html": [
              "<div>\n",
              "<style scoped>\n",
              "    .dataframe tbody tr th:only-of-type {\n",
              "        vertical-align: middle;\n",
              "    }\n",
              "\n",
              "    .dataframe tbody tr th {\n",
              "        vertical-align: top;\n",
              "    }\n",
              "\n",
              "    .dataframe thead th {\n",
              "        text-align: right;\n",
              "    }\n",
              "</style>\n",
              "<table border=\"1\" class=\"dataframe\">\n",
              "  <thead>\n",
              "    <tr style=\"text-align: right;\">\n",
              "      <th></th>\n",
              "      <th>video_id</th>\n",
              "      <th>cvt_per_day</th>\n",
              "      <th>weighted_categorical_position</th>\n",
              "      <th>weighted_horizontal_position</th>\n",
              "      <th>import_id</th>\n",
              "      <th>release_year</th>\n",
              "      <th>genres</th>\n",
              "      <th>imdb_votes</th>\n",
              "      <th>budget</th>\n",
              "      <th>boxoffice</th>\n",
              "      <th>imdb_rating</th>\n",
              "      <th>duration_in_mins</th>\n",
              "      <th>metacritic_score</th>\n",
              "      <th>awards</th>\n",
              "      <th>mpaa</th>\n",
              "      <th>star_category</th>\n",
              "    </tr>\n",
              "  </thead>\n",
              "  <tbody>\n",
              "    <tr>\n",
              "      <th>4221</th>\n",
              "      <td>160848</td>\n",
              "      <td>9.726</td>\n",
              "      <td>3</td>\n",
              "      <td>32</td>\n",
              "      <td>other</td>\n",
              "      <td>2010</td>\n",
              "      <td>Comedy,Drama</td>\n",
              "      <td>14.000</td>\n",
              "      <td>nan</td>\n",
              "      <td>nan</td>\n",
              "      <td>7.800</td>\n",
              "      <td>4.312</td>\n",
              "      <td>nan</td>\n",
              "      <td>no award</td>\n",
              "      <td>NotRated</td>\n",
              "      <td>1.700</td>\n",
              "    </tr>\n",
              "    <tr>\n",
              "      <th>4222</th>\n",
              "      <td>365178</td>\n",
              "      <td>7.913</td>\n",
              "      <td>29</td>\n",
              "      <td>35</td>\n",
              "      <td>other</td>\n",
              "      <td>2013</td>\n",
              "      <td>Music</td>\n",
              "      <td>nan</td>\n",
              "      <td>nan</td>\n",
              "      <td>nan</td>\n",
              "      <td>nan</td>\n",
              "      <td>4.879</td>\n",
              "      <td>nan</td>\n",
              "      <td>no award</td>\n",
              "      <td>PG-13</td>\n",
              "      <td>nan</td>\n",
              "    </tr>\n",
              "    <tr>\n",
              "      <th>4223</th>\n",
              "      <td>11615</td>\n",
              "      <td>2.936</td>\n",
              "      <td>3</td>\n",
              "      <td>27</td>\n",
              "      <td>other</td>\n",
              "      <td>2008</td>\n",
              "      <td>Comedy</td>\n",
              "      <td>505.000</td>\n",
              "      <td>nan</td>\n",
              "      <td>nan</td>\n",
              "      <td>7.100</td>\n",
              "      <td>110.350</td>\n",
              "      <td>nan</td>\n",
              "      <td>other award</td>\n",
              "      <td>NotRated</td>\n",
              "      <td>nan</td>\n",
              "    </tr>\n",
              "    <tr>\n",
              "      <th>4224</th>\n",
              "      <td>26365</td>\n",
              "      <td>2.867</td>\n",
              "      <td>4</td>\n",
              "      <td>15</td>\n",
              "      <td>other</td>\n",
              "      <td>2003</td>\n",
              "      <td>Documentary</td>\n",
              "      <td>5.000</td>\n",
              "      <td>100000.000</td>\n",
              "      <td>nan</td>\n",
              "      <td>6.000</td>\n",
              "      <td>79.633</td>\n",
              "      <td>nan</td>\n",
              "      <td>no award</td>\n",
              "      <td>NotRated</td>\n",
              "      <td>nan</td>\n",
              "    </tr>\n",
              "    <tr>\n",
              "      <th>4225</th>\n",
              "      <td>11229</td>\n",
              "      <td>2.188</td>\n",
              "      <td>7</td>\n",
              "      <td>35</td>\n",
              "      <td>other</td>\n",
              "      <td>2003</td>\n",
              "      <td>Drama,Romance</td>\n",
              "      <td>80.000</td>\n",
              "      <td>nan</td>\n",
              "      <td>nan</td>\n",
              "      <td>7.600</td>\n",
              "      <td>53.618</td>\n",
              "      <td>nan</td>\n",
              "      <td>no award</td>\n",
              "      <td>NotRated</td>\n",
              "      <td>1.750</td>\n",
              "    </tr>\n",
              "  </tbody>\n",
              "</table>\n",
              "</div>"
            ],
            "text/plain": [
              "      video_id  cvt_per_day  weighted_categorical_position  \\\n",
              "4221    160848        9.726                              3   \n",
              "4222    365178        7.913                             29   \n",
              "4223     11615        2.936                              3   \n",
              "4224     26365        2.867                              4   \n",
              "4225     11229        2.188                              7   \n",
              "\n",
              "      weighted_horizontal_position import_id  release_year         genres  \\\n",
              "4221                            32     other          2010   Comedy,Drama   \n",
              "4222                            35     other          2013          Music   \n",
              "4223                            27     other          2008         Comedy   \n",
              "4224                            15     other          2003    Documentary   \n",
              "4225                            35     other          2003  Drama,Romance   \n",
              "\n",
              "      imdb_votes     budget  boxoffice  imdb_rating  duration_in_mins  \\\n",
              "4221      14.000        nan        nan        7.800             4.312   \n",
              "4222         nan        nan        nan          nan             4.879   \n",
              "4223     505.000        nan        nan        7.100           110.350   \n",
              "4224       5.000 100000.000        nan        6.000            79.633   \n",
              "4225      80.000        nan        nan        7.600            53.618   \n",
              "\n",
              "      metacritic_score       awards      mpaa  star_category  \n",
              "4221               nan     no award  NotRated          1.700  \n",
              "4222               nan     no award     PG-13            nan  \n",
              "4223               nan  other award  NotRated            nan  \n",
              "4224               nan     no award  NotRated            nan  \n",
              "4225               nan     no award  NotRated          1.750  "
            ]
          },
          "metadata": {
            "tags": []
          },
          "execution_count": 47
        }
      ]
    },
    {
      "cell_type": "code",
      "metadata": {
        "id": "A76b4BkP47pJ",
        "colab_type": "code",
        "colab": {
          "base_uri": "https://localhost:8080/",
          "height": 306
        },
        "outputId": "6c2f7a0e-859f-4e22-d745-a2f26a5cbd4e"
      },
      "source": [
        "# count the number of NaN values in each column\n",
        "df1.isnull().sum()"
      ],
      "execution_count": 48,
      "outputs": [
        {
          "output_type": "execute_result",
          "data": {
            "text/plain": [
              "video_id                            0\n",
              "cvt_per_day                         0\n",
              "weighted_categorical_position       0\n",
              "weighted_horizontal_position        0\n",
              "import_id                           0\n",
              "release_year                        0\n",
              "genres                              0\n",
              "imdb_votes                        344\n",
              "budget                           2454\n",
              "boxoffice                        3194\n",
              "imdb_rating                       344\n",
              "duration_in_mins                    0\n",
              "metacritic_score                 3012\n",
              "awards                              0\n",
              "mpaa                                0\n",
              "star_category                    1846\n",
              "dtype: int64"
            ]
          },
          "metadata": {
            "tags": []
          },
          "execution_count": 48
        }
      ]
    },
    {
      "cell_type": "code",
      "metadata": {
        "id": "TV67VXK65YiS",
        "colab_type": "code",
        "colab": {
          "base_uri": "https://localhost:8080/",
          "height": 34
        },
        "outputId": "e67ca50a-c750-4bb4-95d1-b91bfb96dd97"
      },
      "source": [
        "#count the number of video that has at least one missing data\n",
        "print('videos having at least one null: ', df1.isnull().any(axis = 1).sum())"
      ],
      "execution_count": 49,
      "outputs": [
        {
          "output_type": "stream",
          "text": [
            "videos having at least one null:  3242\n"
          ],
          "name": "stdout"
        }
      ]
    },
    {
      "cell_type": "markdown",
      "metadata": {
        "id": "ySBRrNra6_70",
        "colab_type": "text"
      },
      "source": [
        "Filling missing data with mean\n",
        " - For imdb_voates and imdb_rating, they always show 'null' together, which is reasonable, since when a imdb_votes is missing, the imdb_rating is mostly also missing. For all 6 features with missing data, the 1st attempt is to fill in with their mean value."
      ]
    },
    {
      "cell_type": "code",
      "metadata": {
        "id": "l0Phg-6-7J3Z",
        "colab_type": "code",
        "colab": {}
      },
      "source": [
        "df2 = df1.copy()\n",
        "df2['budget'].fillna(value = df2['budget'].mean(), inplace = True)\n",
        "df2['boxoffice'].fillna(df2['boxoffice'].mean(), inplace = True)\n",
        "df2['imdb_rating'].fillna(df2['imdb_rating'].mean(), inplace = True)\n",
        "df2['imdb_votes'].fillna(df2['imdb_votes'].mean(), inplace = True)\n",
        "df2['metacritic_score'].fillna(df2['metacritic_score'].mean(), inplace = True)\n",
        "df2['star_category'].fillna(df2['star_category'].mean(), inplace = True)"
      ],
      "execution_count": 0,
      "outputs": []
    },
    {
      "cell_type": "markdown",
      "metadata": {
        "id": "Lac-u1Eq83PT",
        "colab_type": "text"
      },
      "source": [
        "df2 has missing data filled in with mean values in columns budget, boxoffice,metacritic_score, star_category, imdb_votes and imdb_rating.\n",
        "It will be tested in the upcoming models and with variation of median moving forward."
      ]
    },
    {
      "cell_type": "markdown",
      "metadata": {
        "id": "aaomhu1KxVit",
        "colab_type": "text"
      },
      "source": [
        "## 2.2 Categorical features"
      ]
    },
    {
      "cell_type": "markdown",
      "metadata": {
        "id": "ASI_11IQsOwL",
        "colab_type": "text"
      },
      "source": [
        "There are 5 categorical features: import_id, mpaa, awards, genres, and release_year. There is no missing data in them. They can be converted into dummy/indicators.\n",
        "\n",
        "The first 3 have relatively small sub-types, they can be easily converted to dummies.\n",
        "\n",
        "The 'genres' have 27 different sub-types, 6 of them are rarely observed (refer to previous section). It's reasonable to group these 6 into 1. Note: a video may have more than one genre, in the feature preprocessing, all genres are handled individually.\n",
        "\n",
        "The release_year is binned into 10 buckets based on the year range between 1917 and 2017."
      ]
    },
    {
      "cell_type": "code",
      "metadata": {
        "id": "wTy2qltlvbbi",
        "colab_type": "code",
        "colab": {}
      },
      "source": [
        "# Convert 3 categorical features into dummy variables\n",
        "df3 = df2.copy()\n",
        "d_import_id = pd.get_dummies(df3['import_id'])\n",
        "d_mpaa = pd.get_dummies(df3['mpaa'])\n",
        "d_awards = pd.get_dummies(df3['awards'])"
      ],
      "execution_count": 0,
      "outputs": []
    },
    {
      "cell_type": "code",
      "metadata": {
        "id": "eypwltr4xCXK",
        "colab_type": "code",
        "colab": {}
      },
      "source": [
        "# Convert 'genres' into dummy variables\n",
        "d_genres = df3['genres'].str.get_dummies(sep=',')"
      ],
      "execution_count": 0,
      "outputs": []
    },
    {
      "cell_type": "code",
      "metadata": {
        "id": "94wrgggqlbYK",
        "colab_type": "code",
        "colab": {
          "base_uri": "https://localhost:8080/",
          "height": 34
        },
        "outputId": "fa1db33d-71c2-4ffb-aa1e-2b08fe6577b2"
      },
      "source": [
        "d_genres.shape"
      ],
      "execution_count": 57,
      "outputs": [
        {
          "output_type": "execute_result",
          "data": {
            "text/plain": [
              "(4226, 27)"
            ]
          },
          "metadata": {
            "tags": []
          },
          "execution_count": 57
        }
      ]
    },
    {
      "cell_type": "code",
      "metadata": {
        "id": "QRf8Ep8WxpFE",
        "colab_type": "code",
        "colab": {}
      },
      "source": [
        "# combine 6 smallest genres into a new genre 'Misc_gen'. Use bitwise operation '|', then drop these 6 columns.\n",
        "d_genres['Misc_gen'] = d_genres['Anime']|d_genres['Reality']|d_genres['Lifestyle']|d_genres['Adult']|d_genres['LGBT']|d_genres['Holiday']\n",
        "d_genres.drop(['Anime', 'Reality','Lifestyle', 'Adult','LGBT','Holiday'], inplace=True, axis=1)"
      ],
      "execution_count": 0,
      "outputs": []
    },
    {
      "cell_type": "code",
      "metadata": {
        "id": "1zuFzkI4ltkc",
        "colab_type": "code",
        "colab": {
          "base_uri": "https://localhost:8080/",
          "height": 34
        },
        "outputId": "ad5c7fd8-51d5-4814-97a3-83749b2b4761"
      },
      "source": [
        "d_genres.shape"
      ],
      "execution_count": 58,
      "outputs": [
        {
          "output_type": "execute_result",
          "data": {
            "text/plain": [
              "(4226, 27)"
            ]
          },
          "metadata": {
            "tags": []
          },
          "execution_count": 58
        }
      ]
    },
    {
      "cell_type": "code",
      "metadata": {
        "id": "-Og20prRnIud",
        "colab_type": "code",
        "colab": {
          "base_uri": "https://localhost:8080/",
          "height": 272
        },
        "outputId": "26f18250-b0db-4f60-a7eb-adba6b2c1ccb"
      },
      "source": [
        "df3['release_year'].describe(percentiles = [.1, .2, .3, .4, .5, .6, .7, .8, .9])"
      ],
      "execution_count": 60,
      "outputs": [
        {
          "output_type": "execute_result",
          "data": {
            "text/plain": [
              "count   4226.000\n",
              "mean    2001.057\n",
              "std       17.497\n",
              "min     1916.000\n",
              "10%     1974.000\n",
              "20%     1991.000\n",
              "30%     2001.000\n",
              "40%     2006.000\n",
              "50%     2008.000\n",
              "60%     2010.000\n",
              "70%     2012.000\n",
              "80%     2013.000\n",
              "90%     2014.000\n",
              "max     2017.000\n",
              "Name: release_year, dtype: float64"
            ]
          },
          "metadata": {
            "tags": []
          },
          "execution_count": 60
        }
      ]
    },
    {
      "cell_type": "code",
      "metadata": {
        "id": "97SVYetsnOA3",
        "colab_type": "code",
        "colab": {}
      },
      "source": [
        "# bin release_year into 10 buckets\n",
        "bin_year = [1916, 1974, 1991, 2001, 2006, 2008, 2010, 2012, 2013, 2014, 2017]\n",
        "year_label_name = ['1916-1974', '1974-1991', '1991-2001', '2001-2006', '2006-2008', '2008-2010', '2010-2012', '2012-2013', '2013-2014', '2014-2017']\n",
        "bin_df = pd.cut(df3['release_year'], bin_year, labels = year_label_name) #the value of each row turned from certain year to one of the 10 buckets"
      ],
      "execution_count": 0,
      "outputs": []
    },
    {
      "cell_type": "code",
      "metadata": {
        "id": "rWtR263npURj",
        "colab_type": "code",
        "colab": {
          "base_uri": "https://localhost:8080/",
          "height": 255
        },
        "outputId": "d29cc4bb-6465-4ede-8d9f-af0e6be60a31"
      },
      "source": [
        "bin_df"
      ],
      "execution_count": 62,
      "outputs": [
        {
          "output_type": "execute_result",
          "data": {
            "text/plain": [
              "0       2012-2013\n",
              "1       2012-2013\n",
              "2       2010-2012\n",
              "3       2006-2008\n",
              "4       2012-2013\n",
              "          ...    \n",
              "4221    2008-2010\n",
              "4222    2012-2013\n",
              "4223    2006-2008\n",
              "4224    2001-2006\n",
              "4225    2001-2006\n",
              "Name: release_year, Length: 4226, dtype: category\n",
              "Categories (10, object): [1916-1974 < 1974-1991 < 1991-2001 < 2001-2006 ... 2010-2012 < 2012-2013 <\n",
              "                          2013-2014 < 2014-2017]"
            ]
          },
          "metadata": {
            "tags": []
          },
          "execution_count": 62
        }
      ]
    },
    {
      "cell_type": "code",
      "metadata": {
        "id": "gsPuRPNvqSmA",
        "colab_type": "code",
        "colab": {}
      },
      "source": [
        "# convert release_year to 10 dummy features\n",
        "d_year = pd.get_dummies(bin_df)"
      ],
      "execution_count": 0,
      "outputs": []
    },
    {
      "cell_type": "code",
      "metadata": {
        "id": "C3StK3FNrEkp",
        "colab_type": "code",
        "colab": {}
      },
      "source": [
        "# drop original categorical cols \n",
        "df3_temp = df3.drop(columns = ['import_id', 'mpaa', 'awards', 'genres', 'release_year'], axis = 1)\n",
        "new_df3 = pd.concat([df3_temp, d_import_id, d_mpaa, d_awards, d_genres, d_year], axis = 1)"
      ],
      "execution_count": 0,
      "outputs": []
    },
    {
      "cell_type": "code",
      "metadata": {
        "id": "sSDlNugurrCa",
        "colab_type": "code",
        "colab": {
          "base_uri": "https://localhost:8080/",
          "height": 34
        },
        "outputId": "4eeecdc5-e546-4dbc-9f86-47e122a90af7"
      },
      "source": [
        "# check the shpae of new DataFrame\n",
        "new_df3.shape"
      ],
      "execution_count": 66,
      "outputs": [
        {
          "output_type": "execute_result",
          "data": {
            "text/plain": [
              "(4226, 58)"
            ]
          },
          "metadata": {
            "tags": []
          },
          "execution_count": 66
        }
      ]
    },
    {
      "cell_type": "code",
      "metadata": {
        "id": "xrfK433gs43w",
        "colab_type": "code",
        "colab": {
          "base_uri": "https://localhost:8080/",
          "height": 1000
        },
        "outputId": "7b5b134f-1af2-4d16-ea4c-b20e301bdede"
      },
      "source": [
        "# double check missing values\n",
        "new_df3.isnull().any(axis = 0)\n",
        "\n",
        "# .any(axis = 0) checks whether any element is True in each column (isnull in this case)"
      ],
      "execution_count": 73,
      "outputs": [
        {
          "output_type": "execute_result",
          "data": {
            "text/plain": [
              "video_id                         False\n",
              "cvt_per_day                      False\n",
              "weighted_categorical_position    False\n",
              "weighted_horizontal_position     False\n",
              "imdb_votes                       False\n",
              "budget                           False\n",
              "boxoffice                        False\n",
              "imdb_rating                      False\n",
              "duration_in_mins                 False\n",
              "metacritic_score                 False\n",
              "star_category                    False\n",
              "lionsgate                        False\n",
              "mgm                              False\n",
              "other                            False\n",
              "paramount                        False\n",
              "G                                False\n",
              "NC-17                            False\n",
              "NotRated                         False\n",
              "PG                               False\n",
              "PG-13                            False\n",
              "R                                False\n",
              "BAFTA                            False\n",
              "Golden Globe                     False\n",
              "Oscar                            False\n",
              "no award                         False\n",
              "other award                      False\n",
              "Action                           False\n",
              "Adventure                        False\n",
              "Animation                        False\n",
              "Comedy                           False\n",
              "Crime                            False\n",
              "Documentary                      False\n",
              "Drama                            False\n",
              "Fantasy                          False\n",
              "Foreign/International            False\n",
              "Horror                           False\n",
              "Independent                      False\n",
              "Kids & Family                    False\n",
              "Music                            False\n",
              "Musicals                         False\n",
              "Mystery                          False\n",
              "Romance                          False\n",
              "Sci-Fi                           False\n",
              "Sport                            False\n",
              "Thriller                         False\n",
              "War                              False\n",
              "Western                          False\n",
              "Misc_gen                         False\n",
              "1916-1974                        False\n",
              "1974-1991                        False\n",
              "1991-2001                        False\n",
              "2001-2006                        False\n",
              "2006-2008                        False\n",
              "2008-2010                        False\n",
              "2010-2012                        False\n",
              "2012-2013                        False\n",
              "2013-2014                        False\n",
              "2014-2017                        False\n",
              "dtype: bool"
            ]
          },
          "metadata": {
            "tags": []
          },
          "execution_count": 73
        }
      ]
    },
    {
      "cell_type": "code",
      "metadata": {
        "id": "XDidRl9owvjP",
        "colab_type": "code",
        "colab": {
          "base_uri": "https://localhost:8080/",
          "height": 241
        },
        "outputId": "b2287399-1fd9-4b17-f1b0-8925d286a77c"
      },
      "source": [
        "new_df3.head()"
      ],
      "execution_count": 74,
      "outputs": [
        {
          "output_type": "execute_result",
          "data": {
            "text/html": [
              "<div>\n",
              "<style scoped>\n",
              "    .dataframe tbody tr th:only-of-type {\n",
              "        vertical-align: middle;\n",
              "    }\n",
              "\n",
              "    .dataframe tbody tr th {\n",
              "        vertical-align: top;\n",
              "    }\n",
              "\n",
              "    .dataframe thead th {\n",
              "        text-align: right;\n",
              "    }\n",
              "</style>\n",
              "<table border=\"1\" class=\"dataframe\">\n",
              "  <thead>\n",
              "    <tr style=\"text-align: right;\">\n",
              "      <th></th>\n",
              "      <th>video_id</th>\n",
              "      <th>cvt_per_day</th>\n",
              "      <th>weighted_categorical_position</th>\n",
              "      <th>weighted_horizontal_position</th>\n",
              "      <th>imdb_votes</th>\n",
              "      <th>budget</th>\n",
              "      <th>boxoffice</th>\n",
              "      <th>imdb_rating</th>\n",
              "      <th>duration_in_mins</th>\n",
              "      <th>metacritic_score</th>\n",
              "      <th>star_category</th>\n",
              "      <th>lionsgate</th>\n",
              "      <th>mgm</th>\n",
              "      <th>other</th>\n",
              "      <th>paramount</th>\n",
              "      <th>G</th>\n",
              "      <th>NC-17</th>\n",
              "      <th>NotRated</th>\n",
              "      <th>PG</th>\n",
              "      <th>PG-13</th>\n",
              "      <th>R</th>\n",
              "      <th>BAFTA</th>\n",
              "      <th>Golden Globe</th>\n",
              "      <th>Oscar</th>\n",
              "      <th>no award</th>\n",
              "      <th>other award</th>\n",
              "      <th>Action</th>\n",
              "      <th>Adventure</th>\n",
              "      <th>Animation</th>\n",
              "      <th>Comedy</th>\n",
              "      <th>Crime</th>\n",
              "      <th>Documentary</th>\n",
              "      <th>Drama</th>\n",
              "      <th>Fantasy</th>\n",
              "      <th>Foreign/International</th>\n",
              "      <th>Horror</th>\n",
              "      <th>Independent</th>\n",
              "      <th>Kids &amp; Family</th>\n",
              "      <th>Music</th>\n",
              "      <th>Musicals</th>\n",
              "      <th>Mystery</th>\n",
              "      <th>Romance</th>\n",
              "      <th>Sci-Fi</th>\n",
              "      <th>Sport</th>\n",
              "      <th>Thriller</th>\n",
              "      <th>War</th>\n",
              "      <th>Western</th>\n",
              "      <th>Misc_gen</th>\n",
              "      <th>1916-1974</th>\n",
              "      <th>1974-1991</th>\n",
              "      <th>1991-2001</th>\n",
              "      <th>2001-2006</th>\n",
              "      <th>2006-2008</th>\n",
              "      <th>2008-2010</th>\n",
              "      <th>2010-2012</th>\n",
              "      <th>2012-2013</th>\n",
              "      <th>2013-2014</th>\n",
              "      <th>2014-2017</th>\n",
              "    </tr>\n",
              "  </thead>\n",
              "  <tbody>\n",
              "    <tr>\n",
              "      <th>0</th>\n",
              "      <td>385504</td>\n",
              "      <td>307127.606</td>\n",
              "      <td>1</td>\n",
              "      <td>3</td>\n",
              "      <td>69614.000</td>\n",
              "      <td>15000000.000</td>\n",
              "      <td>42930462.000</td>\n",
              "      <td>6.500</td>\n",
              "      <td>112.301</td>\n",
              "      <td>51.000</td>\n",
              "      <td>1.710</td>\n",
              "      <td>1</td>\n",
              "      <td>0</td>\n",
              "      <td>0</td>\n",
              "      <td>0</td>\n",
              "      <td>0</td>\n",
              "      <td>0</td>\n",
              "      <td>0</td>\n",
              "      <td>0</td>\n",
              "      <td>1</td>\n",
              "      <td>0</td>\n",
              "      <td>0</td>\n",
              "      <td>0</td>\n",
              "      <td>0</td>\n",
              "      <td>0</td>\n",
              "      <td>1</td>\n",
              "      <td>1</td>\n",
              "      <td>0</td>\n",
              "      <td>0</td>\n",
              "      <td>0</td>\n",
              "      <td>0</td>\n",
              "      <td>0</td>\n",
              "      <td>1</td>\n",
              "      <td>0</td>\n",
              "      <td>0</td>\n",
              "      <td>0</td>\n",
              "      <td>0</td>\n",
              "      <td>0</td>\n",
              "      <td>0</td>\n",
              "      <td>0</td>\n",
              "      <td>0</td>\n",
              "      <td>0</td>\n",
              "      <td>0</td>\n",
              "      <td>0</td>\n",
              "      <td>1</td>\n",
              "      <td>0</td>\n",
              "      <td>0</td>\n",
              "      <td>0</td>\n",
              "      <td>0</td>\n",
              "      <td>0</td>\n",
              "      <td>0</td>\n",
              "      <td>0</td>\n",
              "      <td>0</td>\n",
              "      <td>0</td>\n",
              "      <td>0</td>\n",
              "      <td>1</td>\n",
              "      <td>0</td>\n",
              "      <td>0</td>\n",
              "    </tr>\n",
              "    <tr>\n",
              "      <th>1</th>\n",
              "      <td>300175</td>\n",
              "      <td>270338.426</td>\n",
              "      <td>1</td>\n",
              "      <td>3</td>\n",
              "      <td>46705.000</td>\n",
              "      <td>15000000.000</td>\n",
              "      <td>3301046.000</td>\n",
              "      <td>6.500</td>\n",
              "      <td>94.983</td>\n",
              "      <td>41.000</td>\n",
              "      <td>3.250</td>\n",
              "      <td>1</td>\n",
              "      <td>0</td>\n",
              "      <td>0</td>\n",
              "      <td>0</td>\n",
              "      <td>0</td>\n",
              "      <td>0</td>\n",
              "      <td>0</td>\n",
              "      <td>0</td>\n",
              "      <td>0</td>\n",
              "      <td>1</td>\n",
              "      <td>0</td>\n",
              "      <td>0</td>\n",
              "      <td>0</td>\n",
              "      <td>1</td>\n",
              "      <td>0</td>\n",
              "      <td>0</td>\n",
              "      <td>0</td>\n",
              "      <td>0</td>\n",
              "      <td>1</td>\n",
              "      <td>1</td>\n",
              "      <td>0</td>\n",
              "      <td>0</td>\n",
              "      <td>0</td>\n",
              "      <td>0</td>\n",
              "      <td>0</td>\n",
              "      <td>0</td>\n",
              "      <td>0</td>\n",
              "      <td>0</td>\n",
              "      <td>0</td>\n",
              "      <td>0</td>\n",
              "      <td>0</td>\n",
              "      <td>0</td>\n",
              "      <td>0</td>\n",
              "      <td>1</td>\n",
              "      <td>0</td>\n",
              "      <td>0</td>\n",
              "      <td>0</td>\n",
              "      <td>0</td>\n",
              "      <td>0</td>\n",
              "      <td>0</td>\n",
              "      <td>0</td>\n",
              "      <td>0</td>\n",
              "      <td>0</td>\n",
              "      <td>0</td>\n",
              "      <td>1</td>\n",
              "      <td>0</td>\n",
              "      <td>0</td>\n",
              "    </tr>\n",
              "    <tr>\n",
              "      <th>2</th>\n",
              "      <td>361899</td>\n",
              "      <td>256165.867</td>\n",
              "      <td>1</td>\n",
              "      <td>3</td>\n",
              "      <td>197596.000</td>\n",
              "      <td>26000000.000</td>\n",
              "      <td>37397291.000</td>\n",
              "      <td>7.300</td>\n",
              "      <td>115.764</td>\n",
              "      <td>58.000</td>\n",
              "      <td>2.647</td>\n",
              "      <td>0</td>\n",
              "      <td>0</td>\n",
              "      <td>1</td>\n",
              "      <td>0</td>\n",
              "      <td>0</td>\n",
              "      <td>0</td>\n",
              "      <td>0</td>\n",
              "      <td>0</td>\n",
              "      <td>0</td>\n",
              "      <td>1</td>\n",
              "      <td>0</td>\n",
              "      <td>0</td>\n",
              "      <td>0</td>\n",
              "      <td>0</td>\n",
              "      <td>1</td>\n",
              "      <td>0</td>\n",
              "      <td>0</td>\n",
              "      <td>0</td>\n",
              "      <td>0</td>\n",
              "      <td>1</td>\n",
              "      <td>0</td>\n",
              "      <td>1</td>\n",
              "      <td>0</td>\n",
              "      <td>0</td>\n",
              "      <td>0</td>\n",
              "      <td>0</td>\n",
              "      <td>0</td>\n",
              "      <td>0</td>\n",
              "      <td>0</td>\n",
              "      <td>0</td>\n",
              "      <td>0</td>\n",
              "      <td>0</td>\n",
              "      <td>0</td>\n",
              "      <td>0</td>\n",
              "      <td>0</td>\n",
              "      <td>0</td>\n",
              "      <td>0</td>\n",
              "      <td>0</td>\n",
              "      <td>0</td>\n",
              "      <td>0</td>\n",
              "      <td>0</td>\n",
              "      <td>0</td>\n",
              "      <td>0</td>\n",
              "      <td>1</td>\n",
              "      <td>0</td>\n",
              "      <td>0</td>\n",
              "      <td>0</td>\n",
              "    </tr>\n",
              "    <tr>\n",
              "      <th>3</th>\n",
              "      <td>308314</td>\n",
              "      <td>196622.721</td>\n",
              "      <td>3</td>\n",
              "      <td>4</td>\n",
              "      <td>356339.000</td>\n",
              "      <td>15000000.000</td>\n",
              "      <td>15700000.000</td>\n",
              "      <td>7.600</td>\n",
              "      <td>130.704</td>\n",
              "      <td>94.000</td>\n",
              "      <td>1.667</td>\n",
              "      <td>1</td>\n",
              "      <td>0</td>\n",
              "      <td>0</td>\n",
              "      <td>0</td>\n",
              "      <td>0</td>\n",
              "      <td>0</td>\n",
              "      <td>0</td>\n",
              "      <td>0</td>\n",
              "      <td>0</td>\n",
              "      <td>1</td>\n",
              "      <td>0</td>\n",
              "      <td>0</td>\n",
              "      <td>1</td>\n",
              "      <td>0</td>\n",
              "      <td>0</td>\n",
              "      <td>1</td>\n",
              "      <td>0</td>\n",
              "      <td>0</td>\n",
              "      <td>0</td>\n",
              "      <td>0</td>\n",
              "      <td>1</td>\n",
              "      <td>1</td>\n",
              "      <td>0</td>\n",
              "      <td>0</td>\n",
              "      <td>0</td>\n",
              "      <td>0</td>\n",
              "      <td>0</td>\n",
              "      <td>0</td>\n",
              "      <td>0</td>\n",
              "      <td>1</td>\n",
              "      <td>0</td>\n",
              "      <td>0</td>\n",
              "      <td>0</td>\n",
              "      <td>1</td>\n",
              "      <td>1</td>\n",
              "      <td>0</td>\n",
              "      <td>0</td>\n",
              "      <td>0</td>\n",
              "      <td>0</td>\n",
              "      <td>0</td>\n",
              "      <td>0</td>\n",
              "      <td>1</td>\n",
              "      <td>0</td>\n",
              "      <td>0</td>\n",
              "      <td>0</td>\n",
              "      <td>0</td>\n",
              "      <td>0</td>\n",
              "    </tr>\n",
              "    <tr>\n",
              "      <th>4</th>\n",
              "      <td>307201</td>\n",
              "      <td>159841.652</td>\n",
              "      <td>1</td>\n",
              "      <td>3</td>\n",
              "      <td>46720.000</td>\n",
              "      <td>27220000.000</td>\n",
              "      <td>8551228.000</td>\n",
              "      <td>6.400</td>\n",
              "      <td>105.546</td>\n",
              "      <td>37.000</td>\n",
              "      <td>3.067</td>\n",
              "      <td>1</td>\n",
              "      <td>0</td>\n",
              "      <td>0</td>\n",
              "      <td>0</td>\n",
              "      <td>0</td>\n",
              "      <td>0</td>\n",
              "      <td>0</td>\n",
              "      <td>0</td>\n",
              "      <td>0</td>\n",
              "      <td>1</td>\n",
              "      <td>0</td>\n",
              "      <td>0</td>\n",
              "      <td>0</td>\n",
              "      <td>0</td>\n",
              "      <td>1</td>\n",
              "      <td>0</td>\n",
              "      <td>0</td>\n",
              "      <td>0</td>\n",
              "      <td>0</td>\n",
              "      <td>1</td>\n",
              "      <td>1</td>\n",
              "      <td>0</td>\n",
              "      <td>0</td>\n",
              "      <td>0</td>\n",
              "      <td>0</td>\n",
              "      <td>0</td>\n",
              "      <td>0</td>\n",
              "      <td>0</td>\n",
              "      <td>0</td>\n",
              "      <td>1</td>\n",
              "      <td>0</td>\n",
              "      <td>0</td>\n",
              "      <td>0</td>\n",
              "      <td>1</td>\n",
              "      <td>0</td>\n",
              "      <td>0</td>\n",
              "      <td>0</td>\n",
              "      <td>0</td>\n",
              "      <td>0</td>\n",
              "      <td>0</td>\n",
              "      <td>0</td>\n",
              "      <td>0</td>\n",
              "      <td>0</td>\n",
              "      <td>0</td>\n",
              "      <td>1</td>\n",
              "      <td>0</td>\n",
              "      <td>0</td>\n",
              "    </tr>\n",
              "  </tbody>\n",
              "</table>\n",
              "</div>"
            ],
            "text/plain": [
              "   video_id  cvt_per_day  weighted_categorical_position  \\\n",
              "0    385504   307127.606                              1   \n",
              "1    300175   270338.426                              1   \n",
              "2    361899   256165.867                              1   \n",
              "3    308314   196622.721                              3   \n",
              "4    307201   159841.652                              1   \n",
              "\n",
              "   weighted_horizontal_position  imdb_votes       budget    boxoffice  \\\n",
              "0                             3   69614.000 15000000.000 42930462.000   \n",
              "1                             3   46705.000 15000000.000  3301046.000   \n",
              "2                             3  197596.000 26000000.000 37397291.000   \n",
              "3                             4  356339.000 15000000.000 15700000.000   \n",
              "4                             3   46720.000 27220000.000  8551228.000   \n",
              "\n",
              "   imdb_rating  duration_in_mins  metacritic_score  star_category  lionsgate  \\\n",
              "0        6.500           112.301            51.000          1.710          1   \n",
              "1        6.500            94.983            41.000          3.250          1   \n",
              "2        7.300           115.764            58.000          2.647          0   \n",
              "3        7.600           130.704            94.000          1.667          1   \n",
              "4        6.400           105.546            37.000          3.067          1   \n",
              "\n",
              "   mgm  other  paramount  G  NC-17  NotRated  PG  PG-13  R  BAFTA  \\\n",
              "0    0      0          0  0      0         0   0      1  0      0   \n",
              "1    0      0          0  0      0         0   0      0  1      0   \n",
              "2    0      1          0  0      0         0   0      0  1      0   \n",
              "3    0      0          0  0      0         0   0      0  1      0   \n",
              "4    0      0          0  0      0         0   0      0  1      0   \n",
              "\n",
              "   Golden Globe  Oscar  no award  other award  Action  Adventure  Animation  \\\n",
              "0             0      0         0            1       1          0          0   \n",
              "1             0      0         1            0       0          0          0   \n",
              "2             0      0         0            1       0          0          0   \n",
              "3             0      1         0            0       1          0          0   \n",
              "4             0      0         0            1       0          0          0   \n",
              "\n",
              "   Comedy  Crime  Documentary  Drama  Fantasy  Foreign/International  Horror  \\\n",
              "0       0      0            0      1        0                      0       0   \n",
              "1       1      1            0      0        0                      0       0   \n",
              "2       0      1            0      1        0                      0       0   \n",
              "3       0      0            1      1        0                      0       0   \n",
              "4       0      1            1      0        0                      0       0   \n",
              "\n",
              "   Independent  Kids & Family  Music  Musicals  Mystery  Romance  Sci-Fi  \\\n",
              "0            0              0      0         0        0        0       0   \n",
              "1            0              0      0         0        0        0       0   \n",
              "2            0              0      0         0        0        0       0   \n",
              "3            0              0      0         0        1        0       0   \n",
              "4            0              0      0         0        1        0       0   \n",
              "\n",
              "   Sport  Thriller  War  Western  Misc_gen  1916-1974  1974-1991  1991-2001  \\\n",
              "0      0         1    0        0         0          0          0          0   \n",
              "1      0         1    0        0         0          0          0          0   \n",
              "2      0         0    0        0         0          0          0          0   \n",
              "3      0         1    1        0         0          0          0          0   \n",
              "4      0         1    0        0         0          0          0          0   \n",
              "\n",
              "   2001-2006  2006-2008  2008-2010  2010-2012  2012-2013  2013-2014  2014-2017  \n",
              "0          0          0          0          0          1          0          0  \n",
              "1          0          0          0          0          1          0          0  \n",
              "2          0          0          0          1          0          0          0  \n",
              "3          0          1          0          0          0          0          0  \n",
              "4          0          0          0          0          1          0          0  "
            ]
          },
          "metadata": {
            "tags": []
          },
          "execution_count": 74
        }
      ]
    },
    {
      "cell_type": "markdown",
      "metadata": {
        "id": "B46CXPmLwgdY",
        "colab_type": "text"
      },
      "source": [
        "New_df3 is kept after feature pre-processing. It holds 4226 observations and 58 features. There is NO null data."
      ]
    },
    {
      "cell_type": "markdown",
      "metadata": {
        "id": "mpIEn0uT1uyo",
        "colab_type": "text"
      },
      "source": [
        "## 2.3 Split Train/Test data"
      ]
    },
    {
      "cell_type": "markdown",
      "metadata": {
        "id": "ZmXDwJ8q14OP",
        "colab_type": "text"
      },
      "source": [
        "80% of the samples will be used to train all the models in the next section. 20% is reserved to test the models in the model evaluation section."
      ]
    },
    {
      "cell_type": "code",
      "metadata": {
        "id": "E0_M0wwoEZDi",
        "colab_type": "code",
        "colab": {}
      },
      "source": [
        "#get ground truth data\n",
        "y = new_df3['cvt_per_day']\n",
        "X = new_df3.drop(['cvt_per_day', 'video_id'], axis = 1)"
      ],
      "execution_count": 0,
      "outputs": []
    },
    {
      "cell_type": "code",
      "metadata": {
        "id": "Gy_84vzRFRh1",
        "colab_type": "code",
        "colab": {
          "base_uri": "https://localhost:8080/",
          "height": 51
        },
        "outputId": "7cb7fd54-7b80-4b12-ffa5-e96701b02622"
      },
      "source": [
        "# split the data into training and testing\n",
        "from sklearn import model_selection\n",
        "\n",
        "# Reserve 20% for testing\n",
        "X_train, X_test, y_train, y_test = model_selection.train_test_split(X, y, test_size = 0.2)\n",
        "\n",
        "print('training data has ' + str(X_train.shape[0]) + ' observation with ' + str(X_train.shape[1]) + ' features')\n",
        "print('testing data has ' + str(X_test.shape[0]) + ' observation with ' + str(X_test.shape[1]) + ' features')"
      ],
      "execution_count": 127,
      "outputs": [
        {
          "output_type": "stream",
          "text": [
            "training data has 3380 observation with 56 features\n",
            "testing data has 846 observation with 56 features\n"
          ],
          "name": "stdout"
        }
      ]
    },
    {
      "cell_type": "markdown",
      "metadata": {
        "id": "1sy1J5RuxZIG",
        "colab_type": "text"
      },
      "source": [
        "## 2.4 Scaling"
      ]
    },
    {
      "cell_type": "markdown",
      "metadata": {
        "id": "YZmKk2TmWKyP",
        "colab_type": "text"
      },
      "source": [
        "The impact of different scaling methods on the model performance is small. In the following model training and selections, the normalized data is used."
      ]
    },
    {
      "cell_type": "code",
      "metadata": {
        "id": "6_GPb0pBSS7O",
        "colab_type": "code",
        "colab": {
          "base_uri": "https://localhost:8080/",
          "height": 241
        },
        "outputId": "a10ae21e-e104-4f05-a6fe-7148599bc558"
      },
      "source": [
        "X_train.head()"
      ],
      "execution_count": 128,
      "outputs": [
        {
          "output_type": "execute_result",
          "data": {
            "text/html": [
              "<div>\n",
              "<style scoped>\n",
              "    .dataframe tbody tr th:only-of-type {\n",
              "        vertical-align: middle;\n",
              "    }\n",
              "\n",
              "    .dataframe tbody tr th {\n",
              "        vertical-align: top;\n",
              "    }\n",
              "\n",
              "    .dataframe thead th {\n",
              "        text-align: right;\n",
              "    }\n",
              "</style>\n",
              "<table border=\"1\" class=\"dataframe\">\n",
              "  <thead>\n",
              "    <tr style=\"text-align: right;\">\n",
              "      <th></th>\n",
              "      <th>weighted_categorical_position</th>\n",
              "      <th>weighted_horizontal_position</th>\n",
              "      <th>imdb_votes</th>\n",
              "      <th>budget</th>\n",
              "      <th>boxoffice</th>\n",
              "      <th>imdb_rating</th>\n",
              "      <th>duration_in_mins</th>\n",
              "      <th>metacritic_score</th>\n",
              "      <th>star_category</th>\n",
              "      <th>lionsgate</th>\n",
              "      <th>mgm</th>\n",
              "      <th>other</th>\n",
              "      <th>paramount</th>\n",
              "      <th>G</th>\n",
              "      <th>NC-17</th>\n",
              "      <th>NotRated</th>\n",
              "      <th>PG</th>\n",
              "      <th>PG-13</th>\n",
              "      <th>R</th>\n",
              "      <th>BAFTA</th>\n",
              "      <th>Golden Globe</th>\n",
              "      <th>Oscar</th>\n",
              "      <th>no award</th>\n",
              "      <th>other award</th>\n",
              "      <th>Action</th>\n",
              "      <th>Adventure</th>\n",
              "      <th>Animation</th>\n",
              "      <th>Comedy</th>\n",
              "      <th>Crime</th>\n",
              "      <th>Documentary</th>\n",
              "      <th>Drama</th>\n",
              "      <th>Fantasy</th>\n",
              "      <th>Foreign/International</th>\n",
              "      <th>Horror</th>\n",
              "      <th>Independent</th>\n",
              "      <th>Kids &amp; Family</th>\n",
              "      <th>Music</th>\n",
              "      <th>Musicals</th>\n",
              "      <th>Mystery</th>\n",
              "      <th>Romance</th>\n",
              "      <th>Sci-Fi</th>\n",
              "      <th>Sport</th>\n",
              "      <th>Thriller</th>\n",
              "      <th>War</th>\n",
              "      <th>Western</th>\n",
              "      <th>Misc_gen</th>\n",
              "      <th>1916-1974</th>\n",
              "      <th>1974-1991</th>\n",
              "      <th>1991-2001</th>\n",
              "      <th>2001-2006</th>\n",
              "      <th>2006-2008</th>\n",
              "      <th>2008-2010</th>\n",
              "      <th>2010-2012</th>\n",
              "      <th>2012-2013</th>\n",
              "      <th>2013-2014</th>\n",
              "      <th>2014-2017</th>\n",
              "    </tr>\n",
              "  </thead>\n",
              "  <tbody>\n",
              "    <tr>\n",
              "      <th>437</th>\n",
              "      <td>5</td>\n",
              "      <td>16</td>\n",
              "      <td>4976.000</td>\n",
              "      <td>1500000.000</td>\n",
              "      <td>8551228.000</td>\n",
              "      <td>4.800</td>\n",
              "      <td>94.316</td>\n",
              "      <td>57.000</td>\n",
              "      <td>1.062</td>\n",
              "      <td>1</td>\n",
              "      <td>0</td>\n",
              "      <td>0</td>\n",
              "      <td>0</td>\n",
              "      <td>0</td>\n",
              "      <td>0</td>\n",
              "      <td>0</td>\n",
              "      <td>0</td>\n",
              "      <td>0</td>\n",
              "      <td>1</td>\n",
              "      <td>0</td>\n",
              "      <td>0</td>\n",
              "      <td>0</td>\n",
              "      <td>1</td>\n",
              "      <td>0</td>\n",
              "      <td>0</td>\n",
              "      <td>0</td>\n",
              "      <td>0</td>\n",
              "      <td>0</td>\n",
              "      <td>0</td>\n",
              "      <td>0</td>\n",
              "      <td>0</td>\n",
              "      <td>0</td>\n",
              "      <td>0</td>\n",
              "      <td>1</td>\n",
              "      <td>0</td>\n",
              "      <td>0</td>\n",
              "      <td>0</td>\n",
              "      <td>0</td>\n",
              "      <td>0</td>\n",
              "      <td>0</td>\n",
              "      <td>0</td>\n",
              "      <td>0</td>\n",
              "      <td>1</td>\n",
              "      <td>0</td>\n",
              "      <td>0</td>\n",
              "      <td>0</td>\n",
              "      <td>0</td>\n",
              "      <td>0</td>\n",
              "      <td>0</td>\n",
              "      <td>0</td>\n",
              "      <td>0</td>\n",
              "      <td>1</td>\n",
              "      <td>0</td>\n",
              "      <td>0</td>\n",
              "      <td>0</td>\n",
              "      <td>0</td>\n",
              "    </tr>\n",
              "    <tr>\n",
              "      <th>3457</th>\n",
              "      <td>7</td>\n",
              "      <td>39</td>\n",
              "      <td>1713.000</td>\n",
              "      <td>5129256.081</td>\n",
              "      <td>10386207.734</td>\n",
              "      <td>3.700</td>\n",
              "      <td>70.510</td>\n",
              "      <td>55.605</td>\n",
              "      <td>1.695</td>\n",
              "      <td>0</td>\n",
              "      <td>0</td>\n",
              "      <td>1</td>\n",
              "      <td>0</td>\n",
              "      <td>1</td>\n",
              "      <td>0</td>\n",
              "      <td>0</td>\n",
              "      <td>0</td>\n",
              "      <td>0</td>\n",
              "      <td>0</td>\n",
              "      <td>0</td>\n",
              "      <td>0</td>\n",
              "      <td>0</td>\n",
              "      <td>1</td>\n",
              "      <td>0</td>\n",
              "      <td>0</td>\n",
              "      <td>0</td>\n",
              "      <td>0</td>\n",
              "      <td>0</td>\n",
              "      <td>1</td>\n",
              "      <td>0</td>\n",
              "      <td>0</td>\n",
              "      <td>0</td>\n",
              "      <td>0</td>\n",
              "      <td>1</td>\n",
              "      <td>0</td>\n",
              "      <td>0</td>\n",
              "      <td>0</td>\n",
              "      <td>0</td>\n",
              "      <td>0</td>\n",
              "      <td>0</td>\n",
              "      <td>1</td>\n",
              "      <td>0</td>\n",
              "      <td>0</td>\n",
              "      <td>0</td>\n",
              "      <td>0</td>\n",
              "      <td>0</td>\n",
              "      <td>1</td>\n",
              "      <td>0</td>\n",
              "      <td>0</td>\n",
              "      <td>0</td>\n",
              "      <td>0</td>\n",
              "      <td>0</td>\n",
              "      <td>0</td>\n",
              "      <td>0</td>\n",
              "      <td>0</td>\n",
              "      <td>0</td>\n",
              "    </tr>\n",
              "    <tr>\n",
              "      <th>28</th>\n",
              "      <td>2</td>\n",
              "      <td>6</td>\n",
              "      <td>34610.000</td>\n",
              "      <td>2000000.000</td>\n",
              "      <td>60755732.000</td>\n",
              "      <td>4.800</td>\n",
              "      <td>113.040</td>\n",
              "      <td>16.000</td>\n",
              "      <td>1.538</td>\n",
              "      <td>1</td>\n",
              "      <td>0</td>\n",
              "      <td>0</td>\n",
              "      <td>0</td>\n",
              "      <td>0</td>\n",
              "      <td>0</td>\n",
              "      <td>0</td>\n",
              "      <td>1</td>\n",
              "      <td>0</td>\n",
              "      <td>0</td>\n",
              "      <td>0</td>\n",
              "      <td>0</td>\n",
              "      <td>0</td>\n",
              "      <td>1</td>\n",
              "      <td>0</td>\n",
              "      <td>0</td>\n",
              "      <td>0</td>\n",
              "      <td>0</td>\n",
              "      <td>0</td>\n",
              "      <td>0</td>\n",
              "      <td>0</td>\n",
              "      <td>1</td>\n",
              "      <td>0</td>\n",
              "      <td>0</td>\n",
              "      <td>0</td>\n",
              "      <td>0</td>\n",
              "      <td>0</td>\n",
              "      <td>0</td>\n",
              "      <td>0</td>\n",
              "      <td>0</td>\n",
              "      <td>0</td>\n",
              "      <td>0</td>\n",
              "      <td>0</td>\n",
              "      <td>0</td>\n",
              "      <td>0</td>\n",
              "      <td>0</td>\n",
              "      <td>0</td>\n",
              "      <td>0</td>\n",
              "      <td>0</td>\n",
              "      <td>0</td>\n",
              "      <td>0</td>\n",
              "      <td>0</td>\n",
              "      <td>0</td>\n",
              "      <td>0</td>\n",
              "      <td>0</td>\n",
              "      <td>1</td>\n",
              "      <td>0</td>\n",
              "    </tr>\n",
              "    <tr>\n",
              "      <th>1156</th>\n",
              "      <td>12</td>\n",
              "      <td>36</td>\n",
              "      <td>9751.000</td>\n",
              "      <td>1500000.000</td>\n",
              "      <td>8551228.000</td>\n",
              "      <td>6.400</td>\n",
              "      <td>83.106</td>\n",
              "      <td>63.000</td>\n",
              "      <td>2.500</td>\n",
              "      <td>0</td>\n",
              "      <td>0</td>\n",
              "      <td>0</td>\n",
              "      <td>1</td>\n",
              "      <td>0</td>\n",
              "      <td>0</td>\n",
              "      <td>0</td>\n",
              "      <td>0</td>\n",
              "      <td>0</td>\n",
              "      <td>1</td>\n",
              "      <td>0</td>\n",
              "      <td>0</td>\n",
              "      <td>0</td>\n",
              "      <td>0</td>\n",
              "      <td>1</td>\n",
              "      <td>0</td>\n",
              "      <td>0</td>\n",
              "      <td>0</td>\n",
              "      <td>1</td>\n",
              "      <td>0</td>\n",
              "      <td>0</td>\n",
              "      <td>0</td>\n",
              "      <td>0</td>\n",
              "      <td>0</td>\n",
              "      <td>0</td>\n",
              "      <td>0</td>\n",
              "      <td>0</td>\n",
              "      <td>0</td>\n",
              "      <td>0</td>\n",
              "      <td>0</td>\n",
              "      <td>0</td>\n",
              "      <td>0</td>\n",
              "      <td>0</td>\n",
              "      <td>0</td>\n",
              "      <td>0</td>\n",
              "      <td>0</td>\n",
              "      <td>0</td>\n",
              "      <td>0</td>\n",
              "      <td>0</td>\n",
              "      <td>0</td>\n",
              "      <td>0</td>\n",
              "      <td>1</td>\n",
              "      <td>0</td>\n",
              "      <td>0</td>\n",
              "      <td>0</td>\n",
              "      <td>0</td>\n",
              "      <td>0</td>\n",
              "    </tr>\n",
              "    <tr>\n",
              "      <th>2437</th>\n",
              "      <td>4</td>\n",
              "      <td>43</td>\n",
              "      <td>112.000</td>\n",
              "      <td>100000.000</td>\n",
              "      <td>10386207.734</td>\n",
              "      <td>3.800</td>\n",
              "      <td>80.017</td>\n",
              "      <td>55.605</td>\n",
              "      <td>1.695</td>\n",
              "      <td>0</td>\n",
              "      <td>0</td>\n",
              "      <td>1</td>\n",
              "      <td>0</td>\n",
              "      <td>0</td>\n",
              "      <td>0</td>\n",
              "      <td>1</td>\n",
              "      <td>0</td>\n",
              "      <td>0</td>\n",
              "      <td>0</td>\n",
              "      <td>0</td>\n",
              "      <td>0</td>\n",
              "      <td>0</td>\n",
              "      <td>1</td>\n",
              "      <td>0</td>\n",
              "      <td>0</td>\n",
              "      <td>0</td>\n",
              "      <td>0</td>\n",
              "      <td>0</td>\n",
              "      <td>0</td>\n",
              "      <td>0</td>\n",
              "      <td>0</td>\n",
              "      <td>0</td>\n",
              "      <td>0</td>\n",
              "      <td>1</td>\n",
              "      <td>1</td>\n",
              "      <td>0</td>\n",
              "      <td>0</td>\n",
              "      <td>0</td>\n",
              "      <td>0</td>\n",
              "      <td>0</td>\n",
              "      <td>0</td>\n",
              "      <td>0</td>\n",
              "      <td>0</td>\n",
              "      <td>0</td>\n",
              "      <td>0</td>\n",
              "      <td>0</td>\n",
              "      <td>0</td>\n",
              "      <td>0</td>\n",
              "      <td>0</td>\n",
              "      <td>0</td>\n",
              "      <td>0</td>\n",
              "      <td>0</td>\n",
              "      <td>0</td>\n",
              "      <td>0</td>\n",
              "      <td>1</td>\n",
              "      <td>0</td>\n",
              "    </tr>\n",
              "  </tbody>\n",
              "</table>\n",
              "</div>"
            ],
            "text/plain": [
              "      weighted_categorical_position  weighted_horizontal_position  imdb_votes  \\\n",
              "437                               5                            16    4976.000   \n",
              "3457                              7                            39    1713.000   \n",
              "28                                2                             6   34610.000   \n",
              "1156                             12                            36    9751.000   \n",
              "2437                              4                            43     112.000   \n",
              "\n",
              "          budget    boxoffice  imdb_rating  duration_in_mins  \\\n",
              "437  1500000.000  8551228.000        4.800            94.316   \n",
              "3457 5129256.081 10386207.734        3.700            70.510   \n",
              "28   2000000.000 60755732.000        4.800           113.040   \n",
              "1156 1500000.000  8551228.000        6.400            83.106   \n",
              "2437  100000.000 10386207.734        3.800            80.017   \n",
              "\n",
              "      metacritic_score  star_category  lionsgate  mgm  other  paramount  G  \\\n",
              "437             57.000          1.062          1    0      0          0  0   \n",
              "3457            55.605          1.695          0    0      1          0  1   \n",
              "28              16.000          1.538          1    0      0          0  0   \n",
              "1156            63.000          2.500          0    0      0          1  0   \n",
              "2437            55.605          1.695          0    0      1          0  0   \n",
              "\n",
              "      NC-17  NotRated  PG  PG-13  R  BAFTA  Golden Globe  Oscar  no award  \\\n",
              "437       0         0   0      0  1      0             0      0         1   \n",
              "3457      0         0   0      0  0      0             0      0         1   \n",
              "28        0         0   1      0  0      0             0      0         1   \n",
              "1156      0         0   0      0  1      0             0      0         0   \n",
              "2437      0         1   0      0  0      0             0      0         1   \n",
              "\n",
              "      other award  Action  Adventure  Animation  Comedy  Crime  Documentary  \\\n",
              "437             0       0          0          0       0      0            0   \n",
              "3457            0       0          0          0       0      1            0   \n",
              "28              0       0          0          0       0      0            0   \n",
              "1156            1       0          0          0       1      0            0   \n",
              "2437            0       0          0          0       0      0            0   \n",
              "\n",
              "      Drama  Fantasy  Foreign/International  Horror  Independent  \\\n",
              "437       0        0                      0       1            0   \n",
              "3457      0        0                      0       1            0   \n",
              "28        1        0                      0       0            0   \n",
              "1156      0        0                      0       0            0   \n",
              "2437      0        0                      0       1            1   \n",
              "\n",
              "      Kids & Family  Music  Musicals  Mystery  Romance  Sci-Fi  Sport  \\\n",
              "437               0      0         0        0        0       0      0   \n",
              "3457              0      0         0        0        0       1      0   \n",
              "28                0      0         0        0        0       0      0   \n",
              "1156              0      0         0        0        0       0      0   \n",
              "2437              0      0         0        0        0       0      0   \n",
              "\n",
              "      Thriller  War  Western  Misc_gen  1916-1974  1974-1991  1991-2001  \\\n",
              "437          1    0        0         0          0          0          0   \n",
              "3457         0    0        0         0          1          0          0   \n",
              "28           0    0        0         0          0          0          0   \n",
              "1156         0    0        0         0          0          0          0   \n",
              "2437         0    0        0         0          0          0          0   \n",
              "\n",
              "      2001-2006  2006-2008  2008-2010  2010-2012  2012-2013  2013-2014  \\\n",
              "437           0          0          1          0          0          0   \n",
              "3457          0          0          0          0          0          0   \n",
              "28            0          0          0          0          0          1   \n",
              "1156          0          1          0          0          0          0   \n",
              "2437          0          0          0          0          0          1   \n",
              "\n",
              "      2014-2017  \n",
              "437           0  \n",
              "3457          0  \n",
              "28            0  \n",
              "1156          0  \n",
              "2437          0  "
            ]
          },
          "metadata": {
            "tags": []
          },
          "execution_count": 128
        }
      ]
    },
    {
      "cell_type": "code",
      "metadata": {
        "id": "W-bT1DaDG4iq",
        "colab_type": "code",
        "colab": {}
      },
      "source": [
        "# MinMax normalization\n",
        "\n",
        "from sklearn.preprocessing import MinMaxScaler\n",
        "minmax_scaler = MinMaxScaler()\n",
        "X_train_minmax = minmax_scaler.fit_transform(X_train)\n",
        "X_test_minmax = minmax_scaler.transform(X_test)"
      ],
      "execution_count": 0,
      "outputs": []
    },
    {
      "cell_type": "code",
      "metadata": {
        "id": "tY__XVicVt5V",
        "colab_type": "code",
        "colab": {
          "base_uri": "https://localhost:8080/",
          "height": 221
        },
        "outputId": "223fd782-acb8-43e6-be6a-5b9675b30f2b"
      },
      "source": [
        "X_train_minmax[0]"
      ],
      "execution_count": 133,
      "outputs": [
        {
          "output_type": "execute_result",
          "data": {
            "text/plain": [
              "array([0.11764706, 0.2238806 , 0.00524022, 0.01401868, 0.04641456,\n",
              "       0.42222224, 0.37308406, 0.56842105, 0.02083333, 1.        ,\n",
              "       0.        , 0.        , 0.        , 0.        , 0.        ,\n",
              "       0.        , 0.        , 0.        , 1.        , 0.        ,\n",
              "       0.        , 0.        , 1.        , 0.        , 0.        ,\n",
              "       0.        , 0.        , 0.        , 0.        , 0.        ,\n",
              "       0.        , 0.        , 0.        , 1.        , 0.        ,\n",
              "       0.        , 0.        , 0.        , 0.        , 0.        ,\n",
              "       0.        , 0.        , 1.        , 0.        , 0.        ,\n",
              "       0.        , 0.        , 0.        , 0.        , 0.        ,\n",
              "       0.        , 1.        , 0.        , 0.        , 0.        ,\n",
              "       0.        ])"
            ]
          },
          "metadata": {
            "tags": []
          },
          "execution_count": 133
        }
      ]
    },
    {
      "cell_type": "code",
      "metadata": {
        "id": "Dd1gqq_9U4us",
        "colab_type": "code",
        "colab": {}
      },
      "source": [
        "# (Ref) Standardization\n",
        "\n",
        "from sklearn.preprocessing import StandardScaler\n",
        "std_scaler = StandardScaler()\n",
        "X_train_std = std_scaler.fit_transform(X_train)\n",
        "X_test_std = std_scaler.transform(X_test)"
      ],
      "execution_count": 0,
      "outputs": []
    },
    {
      "cell_type": "code",
      "metadata": {
        "id": "uaimUH5rHLP0",
        "colab_type": "code",
        "colab": {}
      },
      "source": [
        "# (Ref) Robust scaling\n",
        "\n",
        "from sklearn.preprocessing import RobustScaler\n",
        "robust_scaler = RobustScaler()\n",
        "X_train_robust = robust_scaler.fit_transform(X_tran)\n",
        "X_test_robues = robust_scaler.transform(X_test)"
      ],
      "execution_count": 0,
      "outputs": []
    },
    {
      "cell_type": "markdown",
      "metadata": {
        "id": "U1QEa-6dIxWn",
        "colab_type": "text"
      },
      "source": [
        "# Part 3: Model Training"
      ]
    },
    {
      "cell_type": "markdown",
      "metadata": {
        "id": "IJpVWZvKW1tS",
        "colab_type": "text"
      },
      "source": [
        "## 3.1 Linear Models"
      ]
    },
    {
      "cell_type": "markdown",
      "metadata": {
        "id": "YxwE6zxUW7o2",
        "colab_type": "text"
      },
      "source": [
        "### 3.1.1 Lasso Linear Regression"
      ]
    },
    {
      "cell_type": "markdown",
      "metadata": {
        "id": "ki1q20eDX3XM",
        "colab_type": "text"
      },
      "source": [
        "Lasso Linear Regression improves the loss function definition of Linear Regression by introducing variance into the formula. I start with Lasso Regression as it can do numerical optimization for Linear Regression"
      ]
    },
    {
      "cell_type": "code",
      "metadata": {
        "id": "5JzLIS7fWxmC",
        "colab_type": "code",
        "colab": {
          "base_uri": "https://localhost:8080/",
          "height": 312
        },
        "outputId": "43bf107c-0440-4d40-863d-ba7054c2ff2d"
      },
      "source": [
        "from sklearn.model_selection import train_test_split\n",
        "from sklearn.linear_model import LinearRegression, Lasso, Ridge\n",
        "from sklearn.metrics import mean_squared_error, r2_score\n",
        "from math import sqrt\n",
        "\n",
        "#split the training data set into (1) training (2) validation. \n",
        "# Tune hyperparameter to find the best hyperparameter with the highest score (R2) on the validation data set.\n",
        "\n",
        "X_sub_train, X_validate, y_sub_train, y_validate = train_test_split(X_train_minmax, y_train, test_size=0.2, random_state = 0)\n",
        "\n",
        "alphas = np.logspace (-0.3, 2.5, num=150)\n",
        "# alphas= [0.000000001]\n",
        "scores = np.empty_like(alphas) #Return a new array with the same shape and type as the given array alphas\n",
        "opt_alpha = float('-inf')\n",
        "max_score = float('-inf')\n",
        "for idx, alp in enumerate(alphas):\n",
        "    model_lasso = Lasso()\n",
        "    model_lasso.set_params(alpha = alp)\n",
        "    model_lasso.fit(X_sub_train, y_sub_train)\n",
        "    scores[idx] = model_lasso.score(X_validate, y_validate) #r-squared\n",
        "    if scores[idx] > max_score:\n",
        "        max_score = scores[idx]\n",
        "        opt_alpha = alp\n",
        "        best_model_lasso = model_lasso\n",
        "plt.plot(alphas, scores, color='b', linestyle='dashed', marker='o', markerfacecolor='blue', markersize=6)\n",
        "plt.xlabel('alpha')\n",
        "plt.ylabel('score')\n",
        "plt.grid(True)\n",
        "plt.title('score vs. alpha')\n",
        "plt.show()\n",
        "print ('The optimaized alpha and score of Lasso Linear Regression is: ', opt_alpha, max_score)"
      ],
      "execution_count": 137,
      "outputs": [
        {
          "output_type": "display_data",
          "data": {
            "image/png": "[encoded data removed]",
            "text/plain": [
              "<Figure size 432x288 with 1 Axes>"
            ]
          },
          "metadata": {
            "tags": []
          }
        },
        {
          "output_type": "stream",
          "text": [
            "The optimaized alpha and score of Lasso linear Regression is:  0.5011872336272722 0.2779313017728634\n"
          ],
          "name": "stdout"
        }
      ]
    },
    {
      "cell_type": "code",
      "metadata": {
        "id": "GApXHaEthh3P",
        "colab_type": "code",
        "colab": {
          "base_uri": "https://localhost:8080/",
          "height": 68
        },
        "outputId": "11f0f463-a3cd-4eb6-ea4f-94a05035851e"
      },
      "source": [
        "# combine the validate data and training data, use the optimal alpha, re-train the model\n",
        "\n",
        "model_lasso_final = Lasso()\n",
        "model_lasso_final.set_params(alpha = opt_alpha)\n",
        "model_lasso_final.fit(X_train_minmax, y_train)"
      ],
      "execution_count": 139,
      "outputs": [
        {
          "output_type": "execute_result",
          "data": {
            "text/plain": [
              "Lasso(alpha=0.5011872336272722, copy_X=True, fit_intercept=True, max_iter=1000,\n",
              "      normalize=False, positive=False, precompute=False, random_state=None,\n",
              "      selection='cyclic', tol=0.0001, warm_start=False)"
            ]
          },
          "metadata": {
            "tags": []
          },
          "execution_count": 139
        }
      ]
    },
    {
      "cell_type": "markdown",
      "metadata": {
        "id": "nh4ZzP6xiA4M",
        "colab_type": "text"
      },
      "source": [
        "model_lasso_final is the Lasso Linear Regression model to be tested with final test data"
      ]
    },
    {
      "cell_type": "markdown",
      "metadata": {
        "id": "WiJBP_mAiPtD",
        "colab_type": "text"
      },
      "source": [
        "#### Lasso Polynomial Regression"
      ]
    },
    {
      "cell_type": "markdown",
      "metadata": {
        "id": "q_HNWLW5ibXD",
        "colab_type": "text"
      },
      "source": [
        "To improve the R-squared score of Lasso Linear Regression (0.27), I add polynomial features "
      ]
    },
    {
      "cell_type": "code",
      "metadata": {
        "id": "oZ3bEK60jzWU",
        "colab_type": "code",
        "colab": {
          "base_uri": "https://localhost:8080/",
          "height": 1000
        },
        "outputId": "142da7a6-8ba9-4b17-f887-e6228b725280"
      },
      "source": [
        "from sklearn.preprocessing import PolynomialFeatures\n",
        "\n",
        "X_sub_train_, X_validate_, y_sub_train_, y_validate_ = train_test_split(X_train_minmax, y_train, test_size=0.2, random_state = 0)\n",
        "\n",
        "poly = PolynomialFeatures(2)\n",
        "X_sub_train_poly2 = poly.fit_transform(X_sub_train_)\n",
        "X_sub_validate_poly2 = poly.transform(X_validate_)\n",
        "\n",
        "alphas = np.logspace (-2.6, 2.5, num=80)\n",
        "# alphas= [1]\n",
        "scores = np.empty_like(alphas)\n",
        "opt_alpha = float('-inf')\n",
        "max_score = float('-inf')\n",
        "for idx, alp in enumerate(alphas):\n",
        "    model_lasso_poly = Lasso()\n",
        "    model_lasso_poly.set_params(alpha = alp)\n",
        "    model_lasso_poly.fit(X_sub_train_poly2, y_sub_train_)\n",
        "    scores[idx] = model_lasso_poly.score(X_sub_validate_poly2, y_validate_)\n",
        "    if scores[idx] > max_score:\n",
        "        max_score = scores[idx]\n",
        "        opt_alpha = alp\n",
        "        best_mode_lasso_poly = model_lasso_poly\n",
        "        \n",
        "plt.plot(alphas, scores, color='b', linestyle='dashed', marker='o', markerfacecolor='blue', markersize=6)\n",
        "plt.xlabel('alpha')\n",
        "plt.ylabel('score')\n",
        "plt.grid(True)\n",
        "plt.title('score vs. alpha')\n",
        "plt.show()\n",
        "print('The optimaized alpha and score of Lasso polynomial is: ', opt_alpha, max_score)"
      ],
      "execution_count": 150,
      "outputs": [
        {
          "output_type": "stream",
          "text": [
            "/usr/local/lib/python3.6/dist-packages/sklearn/linear_model/_coordinate_descent.py:476: ConvergenceWarning: Objective did not converge. You might want to increase the number of iterations. Duality gap: 27955881053.71121, tolerance: 51670009.333155\n",
            "  positive)\n",
            "/usr/local/lib/python3.6/dist-packages/sklearn/linear_model/_coordinate_descent.py:476: ConvergenceWarning: Objective did not converge. You might want to increase the number of iterations. Duality gap: 27953495656.93566, tolerance: 51670009.333155\n",
            "  positive)\n",
            "/usr/local/lib/python3.6/dist-packages/sklearn/linear_model/_coordinate_descent.py:476: ConvergenceWarning: Objective did not converge. You might want to increase the number of iterations. Duality gap: 27950010886.02905, tolerance: 51670009.333155\n",
            "  positive)\n",
            "/usr/local/lib/python3.6/dist-packages/sklearn/linear_model/_coordinate_descent.py:476: ConvergenceWarning: Objective did not converge. You might want to increase the number of iterations. Duality gap: 27945488119.104267, tolerance: 51670009.333155\n",
            "  positive)\n",
            "/usr/local/lib/python3.6/dist-packages/sklearn/linear_model/_coordinate_descent.py:476: ConvergenceWarning: Objective did not converge. You might want to increase the number of iterations. Duality gap: 27941296169.415596, tolerance: 51670009.333155\n",
            "  positive)\n",
            "/usr/local/lib/python3.6/dist-packages/sklearn/linear_model/_coordinate_descent.py:476: ConvergenceWarning: Objective did not converge. You might want to increase the number of iterations. Duality gap: 27934807074.878403, tolerance: 51670009.333155\n",
            "  positive)\n",
            "/usr/local/lib/python3.6/dist-packages/sklearn/linear_model/_coordinate_descent.py:476: ConvergenceWarning: Objective did not converge. You might want to increase the number of iterations. Duality gap: 27926266432.745377, tolerance: 51670009.333155\n",
            "  positive)\n",
            "/usr/local/lib/python3.6/dist-packages/sklearn/linear_model/_coordinate_descent.py:476: ConvergenceWarning: Objective did not converge. You might want to increase the number of iterations. Duality gap: 27915115188.68842, tolerance: 51670009.333155\n",
            "  positive)\n",
            "/usr/local/lib/python3.6/dist-packages/sklearn/linear_model/_coordinate_descent.py:476: ConvergenceWarning: Objective did not converge. You might want to increase the number of iterations. Duality gap: 27904319820.275455, tolerance: 51670009.333155\n",
            "  positive)\n",
            "/usr/local/lib/python3.6/dist-packages/sklearn/linear_model/_coordinate_descent.py:476: ConvergenceWarning: Objective did not converge. You might want to increase the number of iterations. Duality gap: 27888036757.51966, tolerance: 51670009.333155\n",
            "  positive)\n",
            "/usr/local/lib/python3.6/dist-packages/sklearn/linear_model/_coordinate_descent.py:476: ConvergenceWarning: Objective did not converge. You might want to increase the number of iterations. Duality gap: 27866035921.350933, tolerance: 51670009.333155\n",
            "  positive)\n",
            "/usr/local/lib/python3.6/dist-packages/sklearn/linear_model/_coordinate_descent.py:476: ConvergenceWarning: Objective did not converge. You might want to increase the number of iterations. Duality gap: 27840705879.320633, tolerance: 51670009.333155\n",
            "  positive)\n",
            "/usr/local/lib/python3.6/dist-packages/sklearn/linear_model/_coordinate_descent.py:476: ConvergenceWarning: Objective did not converge. You might want to increase the number of iterations. Duality gap: 27803454141.479458, tolerance: 51670009.333155\n",
            "  positive)\n",
            "/usr/local/lib/python3.6/dist-packages/sklearn/linear_model/_coordinate_descent.py:476: ConvergenceWarning: Objective did not converge. You might want to increase the number of iterations. Duality gap: 27754782101.582066, tolerance: 51670009.333155\n",
            "  positive)\n",
            "/usr/local/lib/python3.6/dist-packages/sklearn/linear_model/_coordinate_descent.py:476: ConvergenceWarning: Objective did not converge. You might want to increase the number of iterations. Duality gap: 27691122774.33733, tolerance: 51670009.333155\n",
            "  positive)\n",
            "/usr/local/lib/python3.6/dist-packages/sklearn/linear_model/_coordinate_descent.py:476: ConvergenceWarning: Objective did not converge. You might want to increase the number of iterations. Duality gap: 27637938046.63566, tolerance: 51670009.333155\n",
            "  positive)\n",
            "/usr/local/lib/python3.6/dist-packages/sklearn/linear_model/_coordinate_descent.py:476: ConvergenceWarning: Objective did not converge. You might want to increase the number of iterations. Duality gap: 27553325944.277782, tolerance: 51670009.333155\n",
            "  positive)\n",
            "/usr/local/lib/python3.6/dist-packages/sklearn/linear_model/_coordinate_descent.py:476: ConvergenceWarning: Objective did not converge. You might want to increase the number of iterations. Duality gap: 27406509516.820133, tolerance: 51670009.333155\n",
            "  positive)\n",
            "/usr/local/lib/python3.6/dist-packages/sklearn/linear_model/_coordinate_descent.py:476: ConvergenceWarning: Objective did not converge. You might want to increase the number of iterations. Duality gap: 27269603508.192955, tolerance: 51670009.333155\n",
            "  positive)\n",
            "/usr/local/lib/python3.6/dist-packages/sklearn/linear_model/_coordinate_descent.py:476: ConvergenceWarning: Objective did not converge. You might want to increase the number of iterations. Duality gap: 26954777924.62446, tolerance: 51670009.333155\n",
            "  positive)\n",
            "/usr/local/lib/python3.6/dist-packages/sklearn/linear_model/_coordinate_descent.py:476: ConvergenceWarning: Objective did not converge. You might want to increase the number of iterations. Duality gap: 26549108944.572, tolerance: 51670009.333155\n",
            "  positive)\n",
            "/usr/local/lib/python3.6/dist-packages/sklearn/linear_model/_coordinate_descent.py:476: ConvergenceWarning: Objective did not converge. You might want to increase the number of iterations. Duality gap: 26339005415.789753, tolerance: 51670009.333155\n",
            "  positive)\n",
            "/usr/local/lib/python3.6/dist-packages/sklearn/linear_model/_coordinate_descent.py:476: ConvergenceWarning: Objective did not converge. You might want to increase the number of iterations. Duality gap: 26129059467.82828, tolerance: 51670009.333155\n",
            "  positive)\n",
            "/usr/local/lib/python3.6/dist-packages/sklearn/linear_model/_coordinate_descent.py:476: ConvergenceWarning: Objective did not converge. You might want to increase the number of iterations. Duality gap: 25957947884.45629, tolerance: 51670009.333155\n",
            "  positive)\n",
            "/usr/local/lib/python3.6/dist-packages/sklearn/linear_model/_coordinate_descent.py:476: ConvergenceWarning: Objective did not converge. You might want to increase the number of iterations. Duality gap: 25650454002.57136, tolerance: 51670009.333155\n",
            "  positive)\n",
            "/usr/local/lib/python3.6/dist-packages/sklearn/linear_model/_coordinate_descent.py:476: ConvergenceWarning: Objective did not converge. You might want to increase the number of iterations. Duality gap: 25470085460.5153, tolerance: 51670009.333155\n",
            "  positive)\n",
            "/usr/local/lib/python3.6/dist-packages/sklearn/linear_model/_coordinate_descent.py:476: ConvergenceWarning: Objective did not converge. You might want to increase the number of iterations. Duality gap: 24098693832.229813, tolerance: 51670009.333155\n",
            "  positive)\n",
            "/usr/local/lib/python3.6/dist-packages/sklearn/linear_model/_coordinate_descent.py:476: ConvergenceWarning: Objective did not converge. You might want to increase the number of iterations. Duality gap: 22972512907.521656, tolerance: 51670009.333155\n",
            "  positive)\n",
            "/usr/local/lib/python3.6/dist-packages/sklearn/linear_model/_coordinate_descent.py:476: ConvergenceWarning: Objective did not converge. You might want to increase the number of iterations. Duality gap: 21438724314.1745, tolerance: 51670009.333155\n",
            "  positive)\n",
            "/usr/local/lib/python3.6/dist-packages/sklearn/linear_model/_coordinate_descent.py:476: ConvergenceWarning: Objective did not converge. You might want to increase the number of iterations. Duality gap: 20642561309.02543, tolerance: 51670009.333155\n",
            "  positive)\n",
            "/usr/local/lib/python3.6/dist-packages/sklearn/linear_model/_coordinate_descent.py:476: ConvergenceWarning: Objective did not converge. You might want to increase the number of iterations. Duality gap: 19563489603.50671, tolerance: 51670009.333155\n",
            "  positive)\n",
            "/usr/local/lib/python3.6/dist-packages/sklearn/linear_model/_coordinate_descent.py:476: ConvergenceWarning: Objective did not converge. You might want to increase the number of iterations. Duality gap: 18384540038.43977, tolerance: 51670009.333155\n",
            "  positive)\n",
            "/usr/local/lib/python3.6/dist-packages/sklearn/linear_model/_coordinate_descent.py:476: ConvergenceWarning: Objective did not converge. You might want to increase the number of iterations. Duality gap: 20230036552.218555, tolerance: 51670009.333155\n",
            "  positive)\n",
            "/usr/local/lib/python3.6/dist-packages/sklearn/linear_model/_coordinate_descent.py:476: ConvergenceWarning: Objective did not converge. You might want to increase the number of iterations. Duality gap: 20998488563.52939, tolerance: 51670009.333155\n",
            "  positive)\n",
            "/usr/local/lib/python3.6/dist-packages/sklearn/linear_model/_coordinate_descent.py:476: ConvergenceWarning: Objective did not converge. You might want to increase the number of iterations. Duality gap: 20992222040.873894, tolerance: 51670009.333155\n",
            "  positive)\n",
            "/usr/local/lib/python3.6/dist-packages/sklearn/linear_model/_coordinate_descent.py:476: ConvergenceWarning: Objective did not converge. You might want to increase the number of iterations. Duality gap: 20275362075.174507, tolerance: 51670009.333155\n",
            "  positive)\n",
            "/usr/local/lib/python3.6/dist-packages/sklearn/linear_model/_coordinate_descent.py:476: ConvergenceWarning: Objective did not converge. You might want to increase the number of iterations. Duality gap: 16686780570.210728, tolerance: 51670009.333155\n",
            "  positive)\n",
            "/usr/local/lib/python3.6/dist-packages/sklearn/linear_model/_coordinate_descent.py:476: ConvergenceWarning: Objective did not converge. You might want to increase the number of iterations. Duality gap: 15987769373.163475, tolerance: 51670009.333155\n",
            "  positive)\n",
            "/usr/local/lib/python3.6/dist-packages/sklearn/linear_model/_coordinate_descent.py:476: ConvergenceWarning: Objective did not converge. You might want to increase the number of iterations. Duality gap: 16233795195.050785, tolerance: 51670009.333155\n",
            "  positive)\n",
            "/usr/local/lib/python3.6/dist-packages/sklearn/linear_model/_coordinate_descent.py:476: ConvergenceWarning: Objective did not converge. You might want to increase the number of iterations. Duality gap: 16796852368.157902, tolerance: 51670009.333155\n",
            "  positive)\n",
            "/usr/local/lib/python3.6/dist-packages/sklearn/linear_model/_coordinate_descent.py:476: ConvergenceWarning: Objective did not converge. You might want to increase the number of iterations. Duality gap: 13817059315.535828, tolerance: 51670009.333155\n",
            "  positive)\n",
            "/usr/local/lib/python3.6/dist-packages/sklearn/linear_model/_coordinate_descent.py:476: ConvergenceWarning: Objective did not converge. You might want to increase the number of iterations. Duality gap: 14371250628.117188, tolerance: 51670009.333155\n",
            "  positive)\n",
            "/usr/local/lib/python3.6/dist-packages/sklearn/linear_model/_coordinate_descent.py:476: ConvergenceWarning: Objective did not converge. You might want to increase the number of iterations. Duality gap: 16751898226.928368, tolerance: 51670009.333155\n",
            "  positive)\n",
            "/usr/local/lib/python3.6/dist-packages/sklearn/linear_model/_coordinate_descent.py:476: ConvergenceWarning: Objective did not converge. You might want to increase the number of iterations. Duality gap: 16847960376.26213, tolerance: 51670009.333155\n",
            "  positive)\n",
            "/usr/local/lib/python3.6/dist-packages/sklearn/linear_model/_coordinate_descent.py:476: ConvergenceWarning: Objective did not converge. You might want to increase the number of iterations. Duality gap: 11105653080.445877, tolerance: 51670009.333155\n",
            "  positive)\n",
            "/usr/local/lib/python3.6/dist-packages/sklearn/linear_model/_coordinate_descent.py:476: ConvergenceWarning: Objective did not converge. You might want to increase the number of iterations. Duality gap: 6508464423.509064, tolerance: 51670009.333155\n",
            "  positive)\n",
            "/usr/local/lib/python3.6/dist-packages/sklearn/linear_model/_coordinate_descent.py:476: ConvergenceWarning: Objective did not converge. You might want to increase the number of iterations. Duality gap: 3986805667.3272095, tolerance: 51670009.333155\n",
            "  positive)\n",
            "/usr/local/lib/python3.6/dist-packages/sklearn/linear_model/_coordinate_descent.py:476: ConvergenceWarning: Objective did not converge. You might want to increase the number of iterations. Duality gap: 2721472683.4127655, tolerance: 51670009.333155\n",
            "  positive)\n",
            "/usr/local/lib/python3.6/dist-packages/sklearn/linear_model/_coordinate_descent.py:476: ConvergenceWarning: Objective did not converge. You might want to increase the number of iterations. Duality gap: 1888606006.5223236, tolerance: 51670009.333155\n",
            "  positive)\n",
            "/usr/local/lib/python3.6/dist-packages/sklearn/linear_model/_coordinate_descent.py:476: ConvergenceWarning: Objective did not converge. You might want to increase the number of iterations. Duality gap: 1188676599.6146545, tolerance: 51670009.333155\n",
            "  positive)\n",
            "/usr/local/lib/python3.6/dist-packages/sklearn/linear_model/_coordinate_descent.py:476: ConvergenceWarning: Objective did not converge. You might want to increase the number of iterations. Duality gap: 357696753.2401428, tolerance: 51670009.333155\n",
            "  positive)\n",
            "/usr/local/lib/python3.6/dist-packages/sklearn/linear_model/_coordinate_descent.py:476: ConvergenceWarning: Objective did not converge. You might want to increase the number of iterations. Duality gap: 131005510.73513794, tolerance: 51670009.333155\n",
            "  positive)\n"
          ],
          "name": "stderr"
        },
        {
          "output_type": "display_data",
          "data": {
            "image/png": "[encoded data removed]",
            "text/plain": [
              "<Figure size 432x288 with 1 Axes>"
            ]
          },
          "metadata": {
            "tags": []
          }
        },
        {
          "output_type": "stream",
          "text": [
            "The optimaized alpha and score of Lasso polynomial is:  7.692649574879138 0.4031010344150105\n"
          ],
          "name": "stdout"
        }
      ]
    },
    {
      "cell_type": "code",
      "metadata": {
        "id": "Z1L_DkTSnyfP",
        "colab_type": "code",
        "colab": {
          "base_uri": "https://localhost:8080/",
          "height": 68
        },
        "outputId": "bcdf9d2b-143f-42c6-8aa5-4d932737cc6b"
      },
      "source": [
        "# combine the validate data and training data, use the optimal alpha, re-train the model\n",
        "X_train_minmax_poly = poly.fit_transform(X_train_minmax)\n",
        "\n",
        "model_lasso_poly = Lasso()\n",
        "model_lasso_poly.set_params(alpha = opt_alpha)\n",
        "model_lasso_poly.fit(X_train_minmax_poly, y_train)"
      ],
      "execution_count": 151,
      "outputs": [
        {
          "output_type": "execute_result",
          "data": {
            "text/plain": [
              "Lasso(alpha=7.692649574879138, copy_X=True, fit_intercept=True, max_iter=1000,\n",
              "      normalize=False, positive=False, precompute=False, random_state=None,\n",
              "      selection='cyclic', tol=0.0001, warm_start=False)"
            ]
          },
          "metadata": {
            "tags": []
          },
          "execution_count": 151
        }
      ]
    },
    {
      "cell_type": "markdown",
      "metadata": {
        "id": "vdWGBY5srsNi",
        "colab_type": "text"
      },
      "source": [
        "model_lasso_poly is the Lasso Polynomial Regression model to be tested with final test data. The r-squared score is 0.40, higher than that of Lasso Linear Regression model (0.27)"
      ]
    },
    {
      "cell_type": "markdown",
      "metadata": {
        "id": "d33sWYFcXPs7",
        "colab_type": "text"
      },
      "source": [
        "### 3.1.2 Ridge Linear Regression"
      ]
    },
    {
      "cell_type": "markdown",
      "metadata": {
        "id": "rkbmMe2zYXiC",
        "colab_type": "text"
      },
      "source": [
        "Ridge Linear Regression model is another model that optimizes the loss function "
      ]
    },
    {
      "cell_type": "code",
      "metadata": {
        "id": "3d5YTuf8smjz",
        "colab_type": "code",
        "colab": {
          "base_uri": "https://localhost:8080/",
          "height": 312
        },
        "outputId": "8dbbafd2-7fd0-4645-d9a3-e32b26dc33ed"
      },
      "source": [
        "#Same with Lasso, split the training data set into (1) training (2) validation and tune hyperparameter\n",
        "\n",
        "X_sub_train_r, X_validate_r, y_sub_train_r, y_validate_r = train_test_split(X_train_minmax, y_train, test_size=0.2, random_state = 0)\n",
        "\n",
        "alphas = np.logspace (-10, 2, num=150)\n",
        "# alphas= [0.000000001]\n",
        "scores = np.empty_like(alphas)\n",
        "opt_alpha = float('-inf')\n",
        "max_score = float('-inf')\n",
        "for idx, alp in enumerate(alphas):\n",
        "    model_ridge = Ridge()\n",
        "    model_ridge.set_params(alpha = alp)\n",
        "    model_ridge.fit(X_sub_train_r, y_sub_train_r)\n",
        "    scores[idx] = model_ridge.score(X_validate_r, y_validate_r)\n",
        "    if scores[idx] > max_score:\n",
        "        max_score = scores[idx]\n",
        "        opt_alpha = alp\n",
        "        best_model_ridge = model_ridge\n",
        "plt.plot(alphas, scores, color='b', linestyle='dashed', marker='o', markerfacecolor='blue', markersize=6)\n",
        "plt.xlabel('alpha')\n",
        "plt.ylabel('score')\n",
        "plt.grid(True)\n",
        "plt.title('score vs. alpha')\n",
        "plt.show()\n",
        "print ('The optimaized alpha and score of Ridge Linear Regression is: ', opt_alpha, max_score)"
      ],
      "execution_count": 159,
      "outputs": [
        {
          "output_type": "display_data",
          "data": {
            "image/png": "[encoded data removed]",
            "text/plain": [
              "<Figure size 432x288 with 1 Axes>"
            ]
          },
          "metadata": {
            "tags": []
          }
        },
        {
          "output_type": "stream",
          "text": [
            "The optimaized alpha and score of Ridge Linear Regression is:  1e-10 0.27817526906421763\n"
          ],
          "name": "stdout"
        }
      ]
    },
    {
      "cell_type": "code",
      "metadata": {
        "id": "2bJfaoP5uTqJ",
        "colab_type": "code",
        "colab": {
          "base_uri": "https://localhost:8080/",
          "height": 51
        },
        "outputId": "77713bb9-64ff-4740-9988-dde77370e274"
      },
      "source": [
        "# combine the validate data and training data, use the optimal alpha, re-train the model\n",
        "\n",
        "model_ridge_final = Ridge()\n",
        "model_ridge_final.set_params(alpha = opt_alpha)\n",
        "model_ridge_final.fit(X_train_minmax, y_train)"
      ],
      "execution_count": 160,
      "outputs": [
        {
          "output_type": "execute_result",
          "data": {
            "text/plain": [
              "Ridge(alpha=1e-10, copy_X=True, fit_intercept=True, max_iter=None,\n",
              "      normalize=False, random_state=None, solver='auto', tol=0.001)"
            ]
          },
          "metadata": {
            "tags": []
          },
          "execution_count": 160
        }
      ]
    },
    {
      "cell_type": "markdown",
      "metadata": {
        "id": "ffLAJg0Huer1",
        "colab_type": "text"
      },
      "source": [
        "model_ridge_final is the Ridge Linear Regression model to be tested with final test data"
      ]
    },
    {
      "cell_type": "markdown",
      "metadata": {
        "id": "pFd7ai2Uun5g",
        "colab_type": "text"
      },
      "source": [
        "#### Ridge Polynomial Regression"
      ]
    },
    {
      "cell_type": "markdown",
      "metadata": {
        "id": "HMX1zTNMuqpe",
        "colab_type": "text"
      },
      "source": [
        "To improve the r-squared score of Ridge Linear Regression model (0.27), I add polynomial features"
      ]
    },
    {
      "cell_type": "code",
      "metadata": {
        "id": "fWiK23ffueZP",
        "colab_type": "code",
        "colab": {
          "base_uri": "https://localhost:8080/",
          "height": 312
        },
        "outputId": "72645402-b773-4894-b22b-53f1b0773b57"
      },
      "source": [
        "from sklearn.preprocessing import PolynomialFeatures\n",
        "\n",
        "X_sub_train_rp, X_validate_rp, y_sub_train_rp, y_validate_rp = train_test_split(X_train_minmax, y_train, test_size=0.2, random_state = 0)\n",
        "\n",
        "poly = PolynomialFeatures(2)\n",
        "X_sub_train_rpoly2 = poly.fit_transform(X_sub_train_rp)\n",
        "X_sub_validate_rpoly2 = poly.transform(X_validate_rp)\n",
        "\n",
        "alphas = np.logspace (-2, 2, num=20)\n",
        "# alphas= [1]\n",
        "scores = np.empty_like(alphas)\n",
        "opt_alpha = float('-inf')\n",
        "max_score = float('-inf')\n",
        "for idx, alp in enumerate(alphas):\n",
        "    model_ridge_poly = Ridge()\n",
        "    model_ridge_poly.set_params(alpha = alp)\n",
        "    model_ridge_poly.fit(X_sub_train_rpoly2, y_sub_train_rp)\n",
        "    scores[idx] = model_ridge_poly.score(X_sub_validate_rpoly2, y_validate_rp)\n",
        "    if scores[idx] > max_score:\n",
        "        max_score = scores[idx]\n",
        "        opt_alpha = alp\n",
        "        best_mode_ridge_poly = model_ridge_poly\n",
        "        \n",
        "plt.plot(alphas, scores, color='b', linestyle='dashed', marker='o', markerfacecolor='blue', markersize=6)\n",
        "plt.xlabel('alpha')\n",
        "plt.ylabel('score')\n",
        "plt.grid(True)\n",
        "plt.title('score vs. alpha')\n",
        "plt.show()\n",
        "print('The optimaized alpha and score of Ridge polynomial is: ', opt_alpha, max_score)"
      ],
      "execution_count": 161,
      "outputs": [
        {
          "output_type": "display_data",
          "data": {
            "image/png": "[encoded data removed]",
            "text/plain": [
              "<Figure size 432x288 with 1 Axes>"
            ]
          },
          "metadata": {
            "tags": []
          }
        },
        {
          "output_type": "stream",
          "text": [
            "The optimaized alpha and score of Ridge polynomial is:  8.858667904100823 0.34846366820685026\n"
          ],
          "name": "stdout"
        }
      ]
    },
    {
      "cell_type": "code",
      "metadata": {
        "id": "T7p6WBtXvgy6",
        "colab_type": "code",
        "colab": {
          "base_uri": "https://localhost:8080/",
          "height": 51
        },
        "outputId": "bb766c27-923d-4db1-bad9-4511de688d1b"
      },
      "source": [
        "# combine the validate data and training data, use the optimal alpha, re-train the model\n",
        "X_train_minmax_rpoly = poly.fit_transform(X_train_minmax)\n",
        "\n",
        "model_ridge_poly = Ridge()\n",
        "model_ridge_poly.set_params(alpha = opt_alpha)\n",
        "model_ridge_poly.fit(X_train_minmax_rpoly, y_train)"
      ],
      "execution_count": 162,
      "outputs": [
        {
          "output_type": "execute_result",
          "data": {
            "text/plain": [
              "Ridge(alpha=8.858667904100823, copy_X=True, fit_intercept=True, max_iter=None,\n",
              "      normalize=False, random_state=None, solver='auto', tol=0.001)"
            ]
          },
          "metadata": {
            "tags": []
          },
          "execution_count": 162
        }
      ]
    },
    {
      "cell_type": "markdown",
      "metadata": {
        "id": "nCqvB28avjyq",
        "colab_type": "text"
      },
      "source": [
        "model_ridge_poly is the Ridge Polynomial Regression model to be tested with final test data. The r-squared score is 0.34, higher than that of Ridge Linear Regression model (0.27)"
      ]
    },
    {
      "cell_type": "markdown",
      "metadata": {
        "id": "QaaaQmURXXp5",
        "colab_type": "text"
      },
      "source": [
        "## 3.2: Non-linear model"
      ]
    },
    {
      "cell_type": "markdown",
      "metadata": {
        "id": "DeNQEXuKYl4e",
        "colab_type": "text"
      },
      "source": [
        "Build non-linear model in addition to above mentioned linear models. I'd like to build Random Forest model because it can handle complicated data. Random forest with Gridsearch cross-validation is used. The 'mean_scores' is used to narrow down the paramenters of n_estimator (number of trees in the forest) and Max_depth (maximum depth of the tree)."
      ]
    },
    {
      "cell_type": "code",
      "metadata": {
        "id": "y6_fwZKpwwd8",
        "colab_type": "code",
        "colab": {
          "base_uri": "https://localhost:8080/",
          "height": 340
        },
        "outputId": "77ba7411-5b45-4a2c-c77e-7213dad7129a"
      },
      "source": [
        "from sklearn.ensemble import RandomForestRegressor\n",
        "from sklearn.model_selection import GridSearchCV\n",
        "from sklearn.model_selection import cross_val_score\n",
        "\n",
        "rf_X_sub_train, rf_X_validation, rf_y_sub_train, rf_y_validation = train_test_split(X_train_minmax, y_train, test_size=0.2, random_state = 0)\n",
        "\n",
        "\n",
        "param_grid = {\n",
        "                 'n_estimators': [54, 55, 56, 57, 58, 59, 60, 62],\n",
        "                 'max_depth': [12, 13, 14, 15, 16, 17]\n",
        "             }\n",
        "\n",
        "rf = RandomForestRegressor(random_state=2, max_features = 'sqrt')\n",
        "grid_rf = GridSearchCV(rf, param_grid, cv=5, scoring = 'r2')\n",
        "grid_rf.fit(rf_X_sub_train, rf_y_sub_train)"
      ],
      "execution_count": 205,
      "outputs": [
        {
          "output_type": "execute_result",
          "data": {
            "text/plain": [
              "GridSearchCV(cv=5, error_score=nan,\n",
              "             estimator=RandomForestRegressor(bootstrap=True, ccp_alpha=0.0,\n",
              "                                             criterion='mse', max_depth=None,\n",
              "                                             max_features='sqrt',\n",
              "                                             max_leaf_nodes=None,\n",
              "                                             max_samples=None,\n",
              "                                             min_impurity_decrease=0.0,\n",
              "                                             min_impurity_split=None,\n",
              "                                             min_samples_leaf=1,\n",
              "                                             min_samples_split=2,\n",
              "                                             min_weight_fraction_leaf=0.0,\n",
              "                                             n_estimators=100, n_jobs=None,\n",
              "                                             oob_score=False, random_state=2,\n",
              "                                             verbose=0, warm_start=False),\n",
              "             iid='deprecated', n_jobs=None,\n",
              "             param_grid={'max_depth': [12, 13, 14, 15, 16, 17],\n",
              "                         'n_estimators': [54, 55, 56, 57, 58, 59, 60, 62]},\n",
              "             pre_dispatch='2*n_jobs', refit=True, return_train_score=False,\n",
              "             scoring='r2', verbose=0)"
            ]
          },
          "metadata": {
            "tags": []
          },
          "execution_count": 205
        }
      ]
    },
    {
      "cell_type": "code",
      "metadata": {
        "id": "R174yyiu0QkI",
        "colab_type": "code",
        "colab": {
          "base_uri": "https://localhost:8080/",
          "height": 34
        },
        "outputId": "069dd70a-e84b-4adb-c401-0cd9da28ec63"
      },
      "source": [
        "grid_rf.best_params_"
      ],
      "execution_count": 206,
      "outputs": [
        {
          "output_type": "execute_result",
          "data": {
            "text/plain": [
              "{'max_depth': 17, 'n_estimators': 55}"
            ]
          },
          "metadata": {
            "tags": []
          },
          "execution_count": 206
        }
      ]
    },
    {
      "cell_type": "code",
      "metadata": {
        "id": "1wkiUX7V0Udp",
        "colab_type": "code",
        "colab": {
          "base_uri": "https://localhost:8080/",
          "height": 1000
        },
        "outputId": "e7c2e83d-d0ab-44d0-9938-9fc526fd1e29"
      },
      "source": [
        "grid_rf.cv_results_"
      ],
      "execution_count": 207,
      "outputs": [
        {
          "output_type": "execute_result",
          "data": {
            "text/plain": [
              "{'mean_fit_time': array([0.18570328, 0.1783124 , 0.18353772, 0.19607329, 0.19601889,\n",
              "        0.20015593, 0.20473399, 0.20839925, 0.19247289, 0.19323697,\n",
              "        0.20414515, 0.20228662, 0.2004746 , 0.20487037, 0.21423788,\n",
              "        0.2206841 , 0.20187292, 0.20212002, 0.20825539, 0.21765156,\n",
              "        0.21129436, 0.21211753, 0.22192283, 0.23432107, 0.20866604,\n",
              "        0.2063796 , 0.21901484, 0.22389116, 0.23379259, 0.23347297,\n",
              "        0.23819537, 0.24185557, 0.21035748, 0.22223964, 0.22703757,\n",
              "        0.23107972, 0.22905388, 0.22765679, 0.23401923, 0.24690013,\n",
              "        0.22715411, 0.23358302, 0.23542924, 0.23788714, 0.24191709,\n",
              "        0.24537196, 0.24454203, 0.26220107]),\n",
              " 'mean_score_time': array([0.00760994, 0.0074831 , 0.00786614, 0.0082912 , 0.00831456,\n",
              "        0.00865512, 0.00880198, 0.00872111, 0.00801816, 0.00841522,\n",
              "        0.00978389, 0.00846543, 0.00840359, 0.00859604, 0.00927582,\n",
              "        0.00916643, 0.0085146 , 0.00834827, 0.00915599, 0.00902772,\n",
              "        0.00860476, 0.00921907, 0.00912428, 0.00969362, 0.00890975,\n",
              "        0.00857611, 0.00910811, 0.00979047, 0.00980792, 0.01003509,\n",
              "        0.01011624, 0.01024294, 0.00907974, 0.00959659, 0.00986552,\n",
              "        0.00966945, 0.00944653, 0.0092917 , 0.00967498, 0.01056762,\n",
              "        0.00961885, 0.01009698, 0.00994916, 0.0102705 , 0.00999537,\n",
              "        0.01027842, 0.01018424, 0.01078625]),\n",
              " 'mean_test_score': array([0.4631026 , 0.46596704, 0.46767413, 0.46663367, 0.46486444,\n",
              "        0.46073119, 0.46149959, 0.46672001, 0.48244194, 0.48479375,\n",
              "        0.48702181, 0.4812597 , 0.47799597, 0.47867359, 0.47526106,\n",
              "        0.4770751 , 0.49399808, 0.49611259, 0.49627251, 0.49249378,\n",
              "        0.48784333, 0.48822239, 0.48912254, 0.49242665, 0.48946548,\n",
              "        0.49227207, 0.49328616, 0.48797809, 0.48719734, 0.48720629,\n",
              "        0.48856383, 0.49005791, 0.49386843, 0.49563835, 0.49424478,\n",
              "        0.49153056, 0.48814401, 0.49193598, 0.49106437, 0.49271163,\n",
              "        0.51099922, 0.51255639, 0.51207236, 0.50895481, 0.50750441,\n",
              "        0.50622961, 0.50161783, 0.50340634]),\n",
              " 'param_max_depth': masked_array(data=[12, 12, 12, 12, 12, 12, 12, 12, 13, 13, 13, 13, 13, 13,\n",
              "                    13, 13, 14, 14, 14, 14, 14, 14, 14, 14, 15, 15, 15, 15,\n",
              "                    15, 15, 15, 15, 16, 16, 16, 16, 16, 16, 16, 16, 17, 17,\n",
              "                    17, 17, 17, 17, 17, 17],\n",
              "              mask=[False, False, False, False, False, False, False, False,\n",
              "                    False, False, False, False, False, False, False, False,\n",
              "                    False, False, False, False, False, False, False, False,\n",
              "                    False, False, False, False, False, False, False, False,\n",
              "                    False, False, False, False, False, False, False, False,\n",
              "                    False, False, False, False, False, False, False, False],\n",
              "        fill_value='?',\n",
              "             dtype=object),\n",
              " 'param_n_estimators': masked_array(data=[54, 55, 56, 57, 58, 59, 60, 62, 54, 55, 56, 57, 58, 59,\n",
              "                    60, 62, 54, 55, 56, 57, 58, 59, 60, 62, 54, 55, 56, 57,\n",
              "                    58, 59, 60, 62, 54, 55, 56, 57, 58, 59, 60, 62, 54, 55,\n",
              "                    56, 57, 58, 59, 60, 62],\n",
              "              mask=[False, False, False, False, False, False, False, False,\n",
              "                    False, False, False, False, False, False, False, False,\n",
              "                    False, False, False, False, False, False, False, False,\n",
              "                    False, False, False, False, False, False, False, False,\n",
              "                    False, False, False, False, False, False, False, False,\n",
              "                    False, False, False, False, False, False, False, False],\n",
              "        fill_value='?',\n",
              "             dtype=object),\n",
              " 'params': [{'max_depth': 12, 'n_estimators': 54},\n",
              "  {'max_depth': 12, 'n_estimators': 55},\n",
              "  {'max_depth': 12, 'n_estimators': 56},\n",
              "  {'max_depth': 12, 'n_estimators': 57},\n",
              "  {'max_depth': 12, 'n_estimators': 58},\n",
              "  {'max_depth': 12, 'n_estimators': 59},\n",
              "  {'max_depth': 12, 'n_estimators': 60},\n",
              "  {'max_depth': 12, 'n_estimators': 62},\n",
              "  {'max_depth': 13, 'n_estimators': 54},\n",
              "  {'max_depth': 13, 'n_estimators': 55},\n",
              "  {'max_depth': 13, 'n_estimators': 56},\n",
              "  {'max_depth': 13, 'n_estimators': 57},\n",
              "  {'max_depth': 13, 'n_estimators': 58},\n",
              "  {'max_depth': 13, 'n_estimators': 59},\n",
              "  {'max_depth': 13, 'n_estimators': 60},\n",
              "  {'max_depth': 13, 'n_estimators': 62},\n",
              "  {'max_depth': 14, 'n_estimators': 54},\n",
              "  {'max_depth': 14, 'n_estimators': 55},\n",
              "  {'max_depth': 14, 'n_estimators': 56},\n",
              "  {'max_depth': 14, 'n_estimators': 57},\n",
              "  {'max_depth': 14, 'n_estimators': 58},\n",
              "  {'max_depth': 14, 'n_estimators': 59},\n",
              "  {'max_depth': 14, 'n_estimators': 60},\n",
              "  {'max_depth': 14, 'n_estimators': 62},\n",
              "  {'max_depth': 15, 'n_estimators': 54},\n",
              "  {'max_depth': 15, 'n_estimators': 55},\n",
              "  {'max_depth': 15, 'n_estimators': 56},\n",
              "  {'max_depth': 15, 'n_estimators': 57},\n",
              "  {'max_depth': 15, 'n_estimators': 58},\n",
              "  {'max_depth': 15, 'n_estimators': 59},\n",
              "  {'max_depth': 15, 'n_estimators': 60},\n",
              "  {'max_depth': 15, 'n_estimators': 62},\n",
              "  {'max_depth': 16, 'n_estimators': 54},\n",
              "  {'max_depth': 16, 'n_estimators': 55},\n",
              "  {'max_depth': 16, 'n_estimators': 56},\n",
              "  {'max_depth': 16, 'n_estimators': 57},\n",
              "  {'max_depth': 16, 'n_estimators': 58},\n",
              "  {'max_depth': 16, 'n_estimators': 59},\n",
              "  {'max_depth': 16, 'n_estimators': 60},\n",
              "  {'max_depth': 16, 'n_estimators': 62},\n",
              "  {'max_depth': 17, 'n_estimators': 54},\n",
              "  {'max_depth': 17, 'n_estimators': 55},\n",
              "  {'max_depth': 17, 'n_estimators': 56},\n",
              "  {'max_depth': 17, 'n_estimators': 57},\n",
              "  {'max_depth': 17, 'n_estimators': 58},\n",
              "  {'max_depth': 17, 'n_estimators': 59},\n",
              "  {'max_depth': 17, 'n_estimators': 60},\n",
              "  {'max_depth': 17, 'n_estimators': 62}],\n",
              " 'rank_test_score': array([46, 44, 41, 43, 45, 48, 47, 42, 35, 34, 33, 36, 38, 37, 40, 39, 13,\n",
              "        10,  9, 17, 30, 27, 25, 18, 24, 19, 15, 29, 32, 31, 26, 23, 14, 11,\n",
              "        12, 21, 28, 20, 22, 16,  3,  1,  2,  4,  5,  6,  8,  7],\n",
              "       dtype=int32),\n",
              " 'split0_test_score': array([0.35850439, 0.34513589, 0.35564752, 0.34013698, 0.33349561,\n",
              "        0.32071521, 0.32473374, 0.31545128, 0.35923501, 0.3460254 ,\n",
              "        0.35628495, 0.34267664, 0.33919478, 0.34742077, 0.32976588,\n",
              "        0.31983936, 0.43497732, 0.42032628, 0.42580154, 0.41107086,\n",
              "        0.40352794, 0.41443675, 0.4159123 , 0.40498089, 0.34772038,\n",
              "        0.33360557, 0.34660622, 0.32909769, 0.3335373 , 0.32768112,\n",
              "        0.33855158, 0.32733465, 0.37576807, 0.36048116, 0.36743968,\n",
              "        0.35203186, 0.34373873, 0.35193053, 0.35626811, 0.34563674,\n",
              "        0.4357247 , 0.42015202, 0.42715406, 0.41240916, 0.40280709,\n",
              "        0.40929815, 0.39452578, 0.38368595]),\n",
              " 'split1_test_score': array([0.49697788, 0.50985248, 0.50934452, 0.51125825, 0.50740836,\n",
              "        0.50720442, 0.50410191, 0.51490076, 0.51298032, 0.52518497,\n",
              "        0.5228188 , 0.52369618, 0.52114904, 0.51784758, 0.51665891,\n",
              "        0.5250946 , 0.49630202, 0.5100437 , 0.50657995, 0.50443841,\n",
              "        0.50419023, 0.5040386 , 0.50146959, 0.51043635, 0.53358601,\n",
              "        0.54713972, 0.54455749, 0.54568002, 0.54244984, 0.55235317,\n",
              "        0.54939641, 0.55570618, 0.51358965, 0.52732309, 0.52364042,\n",
              "        0.52463106, 0.52248346, 0.53309182, 0.52958079, 0.53598685,\n",
              "        0.56261993, 0.57366351, 0.5756796 , 0.57683974, 0.57869922,\n",
              "        0.57206817, 0.57061526, 0.57638857]),\n",
              " 'split2_test_score': array([0.52730707, 0.52885264, 0.5277314 , 0.52271459, 0.51715211,\n",
              "        0.51348374, 0.51148767, 0.52075485, 0.58025623, 0.58093683,\n",
              "        0.57525087, 0.570606  , 0.56448963, 0.5597124 , 0.55819379,\n",
              "        0.56434056, 0.52796568, 0.52827567, 0.53288314, 0.52875219,\n",
              "        0.52214176, 0.51977882, 0.530249  , 0.53989854, 0.55336469,\n",
              "        0.55330967, 0.55093206, 0.54807925, 0.54299026, 0.5423509 ,\n",
              "        0.53887362, 0.54730241, 0.58704658, 0.58715755, 0.58239161,\n",
              "        0.57968386, 0.57520323, 0.57569566, 0.57014767, 0.57588812,\n",
              "        0.56350125, 0.56414018, 0.55944026, 0.55739065, 0.55502721,\n",
              "        0.54835205, 0.54408259, 0.55229892]),\n",
              " 'split3_test_score': array([0.45761925, 0.46925563, 0.46998286, 0.48185244, 0.47842749,\n",
              "        0.47360601, 0.47374654, 0.48032476, 0.49190578, 0.50116619,\n",
              "        0.51299147, 0.50600712, 0.49919934, 0.49789686, 0.50157591,\n",
              "        0.50555671, 0.52625822, 0.53596811, 0.53008345, 0.53128828,\n",
              "        0.5269083 , 0.52567883, 0.52627992, 0.53090447, 0.53093726,\n",
              "        0.54106562, 0.53892464, 0.53483768, 0.53354015, 0.53360286,\n",
              "        0.5350852 , 0.53881457, 0.53132933, 0.54091307, 0.54121517,\n",
              "        0.53698508, 0.53295525, 0.53478149, 0.53162795, 0.53512198,\n",
              "        0.51953566, 0.52982325, 0.52366713, 0.51848593, 0.52045491,\n",
              "        0.52160128, 0.51902822, 0.52364476]),\n",
              " 'split4_test_score': array([0.47510443, 0.47673858, 0.47566436, 0.47720613, 0.48783864,\n",
              "        0.48864658, 0.49342812, 0.5021684 , 0.46783235, 0.47065534,\n",
              "        0.46776294, 0.46331255, 0.46594709, 0.47049032, 0.47011079,\n",
              "        0.47054427, 0.48448714, 0.4859492 , 0.48601448, 0.48691914,\n",
              "        0.48244845, 0.47717893, 0.47170187, 0.47591299, 0.48171906,\n",
              "        0.48623975, 0.48541037, 0.48219582, 0.48346917, 0.48004339,\n",
              "        0.48091234, 0.48113173, 0.46160852, 0.46231686, 0.45653702,\n",
              "        0.46432095, 0.46633939, 0.46418039, 0.46769733, 0.47092447,\n",
              "        0.47361454, 0.475003  , 0.47442075, 0.47964857, 0.48053361,\n",
              "        0.47982838, 0.47983733, 0.48101351]),\n",
              " 'std_fit_time': array([0.01359452, 0.00213503, 0.00362089, 0.00355091, 0.00242957,\n",
              "        0.00047137, 0.00141166, 0.00084738, 0.00200095, 0.00331605,\n",
              "        0.00421355, 0.00112745, 0.00413839, 0.00384739, 0.00307848,\n",
              "        0.00287277, 0.00189148, 0.00209041, 0.00410523, 0.00663694,\n",
              "        0.004566  , 0.00276267, 0.00826715, 0.00655059, 0.00409715,\n",
              "        0.00347855, 0.00367172, 0.00133938, 0.00645621, 0.00177196,\n",
              "        0.00127331, 0.00201394, 0.00278201, 0.00311052, 0.00183688,\n",
              "        0.00139173, 0.00349895, 0.00224137, 0.00406271, 0.00587662,\n",
              "        0.00202618, 0.00174085, 0.00222991, 0.00220851, 0.00806076,\n",
              "        0.00194274, 0.00516817, 0.01007706]),\n",
              " 'std_score_time': array([4.68962802e-04, 4.18394204e-04, 3.86896132e-04, 1.88392828e-04,\n",
              "        2.31731448e-04, 4.05445116e-04, 1.46112149e-04, 3.54039950e-04,\n",
              "        3.67649198e-04, 3.33413666e-04, 1.76878712e-03, 3.22344021e-04,\n",
              "        4.19149529e-04, 2.91934592e-04, 2.40926314e-04, 3.01374717e-04,\n",
              "        1.92858520e-04, 2.09389420e-04, 2.34865899e-04, 4.37727863e-04,\n",
              "        1.85691434e-04, 8.13845032e-04, 4.88516376e-04, 1.41095382e-04,\n",
              "        6.25251574e-04, 1.38591094e-04, 8.55130570e-05, 3.20128361e-04,\n",
              "        4.84277954e-04, 2.32155476e-04, 2.43014882e-04, 6.27013104e-04,\n",
              "        6.30952748e-04, 1.90457202e-04, 2.07003737e-04, 3.30291115e-04,\n",
              "        2.19823306e-04, 1.24588470e-04, 2.90234268e-04, 6.46299434e-04,\n",
              "        4.06829924e-04, 1.56310930e-04, 4.63522691e-04, 2.61767383e-04,\n",
              "        3.45463193e-04, 3.92996429e-04, 3.68346949e-04, 3.56255550e-04]),\n",
              " 'std_test_score': array([0.05724447, 0.06419897, 0.05993736, 0.06554574, 0.0671022 ,\n",
              "        0.07140322, 0.06955298, 0.0768961 , 0.0720877 , 0.07822985,\n",
              "        0.07376075, 0.07736073, 0.07642496, 0.07178536, 0.0780762 ,\n",
              "        0.0842592 , 0.03398156, 0.04162658, 0.0391437 , 0.04387055,\n",
              "        0.04496191, 0.04053449, 0.04216094, 0.04894473, 0.07470116,\n",
              "        0.08285928, 0.07695674, 0.08296252, 0.07992328, 0.08359099,\n",
              "        0.0786869 , 0.08546622, 0.07136219, 0.07849494, 0.07528824,\n",
              "        0.07890882, 0.08011851, 0.07863476, 0.07496551, 0.0808646 ,\n",
              "        0.05011566, 0.05769218, 0.05486857, 0.05869439, 0.06194156,\n",
              "        0.05733766, 0.06133534, 0.06776562])}"
            ]
          },
          "metadata": {
            "tags": []
          },
          "execution_count": 207
        }
      ]
    },
    {
      "cell_type": "code",
      "metadata": {
        "id": "jEzL1nYE26zp",
        "colab_type": "code",
        "colab": {
          "base_uri": "https://localhost:8080/",
          "height": 34
        },
        "outputId": "9fe887c9-9165-474c-c121-2a46f68e64e6"
      },
      "source": [
        "#Mean cross-validated score of the best_estimator\n",
        "grid_rf.best_score_"
      ],
      "execution_count": 208,
      "outputs": [
        {
          "output_type": "execute_result",
          "data": {
            "text/plain": [
              "0.5125563933482997"
            ]
          },
          "metadata": {
            "tags": []
          },
          "execution_count": 208
        }
      ]
    },
    {
      "cell_type": "code",
      "metadata": {
        "id": "RjD8LhpO0jGn",
        "colab_type": "code",
        "colab": {
          "base_uri": "https://localhost:8080/",
          "height": 279
        },
        "outputId": "bfa1e445-993b-4aae-9073-82f4c6c5172d"
      },
      "source": [
        "# plot the effect of different number of trees and maximum tree-depth druing cross validation \n",
        "scores = grid_rf.cv_results_['mean_test_score']\n",
        "\n",
        "n_est = [54, 55, 56, 57, 58, 59, 60, 62]\n",
        "m_depth=[12, 13, 14, 15, 16, 17]\n",
        "scores = np.array(scores).reshape(len(m_depth), len(n_est))\n",
        "fig = plt.figure()\n",
        "ax = plt.subplot(111)\n",
        "for idx, depth in enumerate(m_depth):\n",
        "    plt.plot(n_est, scores[idx], '-o', label = 'n estimator' + str(depth))\n",
        "    \n",
        "ax.legend(loc='center left', bbox_to_anchor=(1, 0.5))\n",
        "plt.xlabel('Mean score')\n",
        "plt.ylabel('Max depth')\n",
        "plt.grid(True)\n",
        "plt.show()"
      ],
      "execution_count": 209,
      "outputs": [
        {
          "output_type": "display_data",
          "data": {
            "image/png": "[encoded data removed]",
            "text/plain": [
              "<Figure size 432x288 with 1 Axes>"
            ]
          },
          "metadata": {
            "tags": []
          }
        }
      ]
    },
    {
      "cell_type": "code",
      "metadata": {
        "id": "Eb7AkeBR1lyG",
        "colab_type": "code",
        "colab": {
          "base_uri": "https://localhost:8080/",
          "height": 136
        },
        "outputId": "bdc08e29-7001-42aa-b363-28c525f82842"
      },
      "source": [
        "# add both training and validation data together as the new training data\n",
        "random_forest_final = RandomForestRegressor(random_state=2, max_features = 'sqrt', max_depth= 17, n_estimators=55)\n",
        "random_forest_final.fit(X_train_minmax, y_train)"
      ],
      "execution_count": 210,
      "outputs": [
        {
          "output_type": "execute_result",
          "data": {
            "text/plain": [
              "RandomForestRegressor(bootstrap=True, ccp_alpha=0.0, criterion='mse',\n",
              "                      max_depth=17, max_features='sqrt', max_leaf_nodes=None,\n",
              "                      max_samples=None, min_impurity_decrease=0.0,\n",
              "                      min_impurity_split=None, min_samples_leaf=1,\n",
              "                      min_samples_split=2, min_weight_fraction_leaf=0.0,\n",
              "                      n_estimators=55, n_jobs=None, oob_score=False,\n",
              "                      random_state=2, verbose=0, warm_start=False)"
            ]
          },
          "metadata": {
            "tags": []
          },
          "execution_count": 210
        }
      ]
    },
    {
      "cell_type": "markdown",
      "metadata": {
        "id": "LBYDPupdwwO_",
        "colab_type": "text"
      },
      "source": [
        "random_forest_final is the best Random Forest model, with n_estimator = 17 and max_depth = 55. Its r-squared score is 0.51, the best score among the 5 models built:\n",
        "- model_lasso_final\n",
        "- model_lasso_poly\n",
        "- model_ridge_final\n",
        "- model_ridge_poly\n",
        "- random_forest_final\n",
        "\n",
        "All 5 models will be evaluated in the next step."
      ]
    },
    {
      "cell_type": "markdown",
      "metadata": {
        "id": "0LIF1pNzIzvN",
        "colab_type": "text"
      },
      "source": [
        "# Part 4: Model Evaluation"
      ]
    },
    {
      "cell_type": "markdown",
      "metadata": {
        "id": "U6XrQ52I5Ji3",
        "colab_type": "text"
      },
      "source": [
        "Test data is the reserved 20% of the whole dataset, and has never been seen by the above models. I will use the test data for model evaluation."
      ]
    },
    {
      "cell_type": "markdown",
      "metadata": {
        "id": "UZPCVZuD8DwI",
        "colab_type": "text"
      },
      "source": [
        "## 4.1 Lasso test with linear features (model_lasso_final)"
      ]
    },
    {
      "cell_type": "code",
      "metadata": {
        "id": "nahbYOft8m4s",
        "colab_type": "code",
        "colab": {
          "base_uri": "https://localhost:8080/",
          "height": 85
        },
        "outputId": "e29bef4f-08c7-4593-8346-b8d542112823"
      },
      "source": [
        "# model_lasso_final test (with linear features)\n",
        "\n",
        "r2score_lasso = model_lasso_final.score(X_test_minmax, y_test)\n",
        "\n",
        "# The mean squared error and root mean square error\n",
        "y_pred_lasso = model_lasso_final.predict(X_test_minmax)\n",
        "MSE_lasso = mean_squared_error(y_test, y_pred_lasso)\n",
        "RMSE_lasso = sqrt(mean_squared_error(y_test, y_pred_lasso))\n",
        "\n",
        "print('Lasso linear regression model') \n",
        "print('Score (accuracy): \\t', r2score_lasso)\n",
        "print('Mean square error: \\t', MSE_lasso)\n",
        "print('Root mean squared error: ', RMSE_lasso)\n",
        "#print('Coefficients of Lasso: ', model_lasso_final.coef_)"
      ],
      "execution_count": 213,
      "outputs": [
        {
          "output_type": "stream",
          "text": [
            "Lasso linear regression model\n",
            "Score (accuracy): \t 0.249264425978332\n",
            "Mean square error: \t 72422275.54707205\n",
            "Root mean squared error:  8510.12782201725\n"
          ],
          "name": "stdout"
        }
      ]
    },
    {
      "cell_type": "markdown",
      "metadata": {
        "id": "JNXJnlH_8OoY",
        "colab_type": "text"
      },
      "source": [
        "## 4.2 Lasso test with polynomial features (model_lasso_poly)"
      ]
    },
    {
      "cell_type": "code",
      "metadata": {
        "id": "TQxVLs1h_JJy",
        "colab_type": "code",
        "colab": {
          "base_uri": "https://localhost:8080/",
          "height": 85
        },
        "outputId": "8683b9de-bad2-4168-f3e4-23a400bc7028"
      },
      "source": [
        "# model_lasso_poly test (with polynomial features)\n",
        "\n",
        "X_test_minmax_poly = poly.transform(X_test_minmax)\n",
        "\n",
        "r2score_lasso_poly = model_lasso_poly.score(X_test_minmax_poly, y_test)\n",
        "\n",
        "# The mean squared error and root mean square error\n",
        "y_pred_lasso_poly = model_lasso_poly.predict(X_test_minmax_poly)\n",
        "MSE_lasso_poly = mean_squared_error(y_test, y_pred_lasso_poly)\n",
        "RMSE_lasso_poly = sqrt(mean_squared_error(y_test, y_pred_lasso_poly))\n",
        "\n",
        "print('Lasso polynomial regression model') \n",
        "print('Score (accuracy): \\t', r2score_lasso_poly)\n",
        "print('Mean square error: \\t', MSE_lasso_poly)\n",
        "print('Root mean squared error: ', RMSE_lasso_poly)\n",
        "#print('Coefficients of Lasso polynomial regression model: ', model_lasso_poly.coef_)"
      ],
      "execution_count": 214,
      "outputs": [
        {
          "output_type": "stream",
          "text": [
            "Lasso polynomial regression model\n",
            "Score (accuracy): \t 0.3718931427060096\n",
            "Mean square error: \t 60592476.85342524\n",
            "Root mean squared error:  7784.116960415307\n"
          ],
          "name": "stdout"
        }
      ]
    },
    {
      "cell_type": "markdown",
      "metadata": {
        "id": "ZjNyt_AE8Zy5",
        "colab_type": "text"
      },
      "source": [
        "## 4.3 Ridge test with linear features (model_ridge_final)"
      ]
    },
    {
      "cell_type": "code",
      "metadata": {
        "id": "9pWB5rasCC-b",
        "colab_type": "code",
        "colab": {
          "base_uri": "https://localhost:8080/",
          "height": 85
        },
        "outputId": "92096bd8-a454-4272-bf7f-5c8b4bf56bac"
      },
      "source": [
        "# model_ridge_final test (with linear features)\n",
        "\n",
        "r2score_ridge = model_ridge_final.score(X_test_minmax, y_test)\n",
        "\n",
        "# The mean squared error and root mean square error\n",
        "y_pred_ridge = model_ridge_final.predict(X_test_minmax)\n",
        "MSE_ridge = mean_squared_error(y_test, y_pred_ridge)\n",
        "RMSE_ridge = sqrt(mean_squared_error(y_test, y_pred_ridge))\n",
        "\n",
        "print('Ridge linear regression model') \n",
        "print('Score (accuracy): \\t', r2score_ridge)\n",
        "print('Mean square error: \\t', MSE_ridge)\n",
        "print('Root mean squared error: ', RMSE_ridge)\n",
        "#print('Coefficients of Ridge: ', model_ridge_final.coef_)"
      ],
      "execution_count": 215,
      "outputs": [
        {
          "output_type": "stream",
          "text": [
            "Ridge linear regression model\n",
            "Score (accuracy): \t 0.24871050984061768\n",
            "Mean square error: \t 72475710.96234165\n",
            "Root mean squared error:  8513.266762080328\n"
          ],
          "name": "stdout"
        }
      ]
    },
    {
      "cell_type": "markdown",
      "metadata": {
        "id": "d_OAXk458cex",
        "colab_type": "text"
      },
      "source": [
        "## 4.4 Ridge test with polynomial features (model_ridge_poly)"
      ]
    },
    {
      "cell_type": "code",
      "metadata": {
        "id": "c8dzdXE2Cbc8",
        "colab_type": "code",
        "colab": {
          "base_uri": "https://localhost:8080/",
          "height": 85
        },
        "outputId": "b81ebf88-db1b-49fc-97f1-f793fc9c80bb"
      },
      "source": [
        "# model_ridge_poly test (with polynomial features)\n",
        "\n",
        "X_test_minmax_poly_r = poly.transform(X_test_minmax)\n",
        "\n",
        "r2score_ridge_poly = model_ridge_poly.score(X_test_minmax_poly_r, y_test)\n",
        "\n",
        "# The mean squared error and root mean square error\n",
        "y_pred_ridge_poly = model_ridge_poly.predict(X_test_minmax_poly_r)\n",
        "MSE_ridge_poly = mean_squared_error(y_test, y_pred_ridge_poly)\n",
        "RMSE_ridge_poly = sqrt(mean_squared_error(y_test, y_pred_ridge_poly))\n",
        "\n",
        "print('Ridge polynomial regression model') \n",
        "print('Score (accuracy): \\t', r2score_ridge_poly)\n",
        "print('Mean square error: \\t', MSE_ridge_poly)\n",
        "print('Root mean squared error: ', RMSE_ridge_poly)\n",
        "#print('Coefficients of Ridge polynomial regression model: ', model_ridge_poly.coef_)"
      ],
      "execution_count": 217,
      "outputs": [
        {
          "output_type": "stream",
          "text": [
            "Ridge polynomial regression model\n",
            "Score (accuracy): \t 0.30666294281408757\n",
            "Mean square error: \t 66885131.25004109\n",
            "Root mean squared error:  8178.333036141356\n"
          ],
          "name": "stdout"
        }
      ]
    },
    {
      "cell_type": "markdown",
      "metadata": {
        "id": "-KN_lOaE8hH_",
        "colab_type": "text"
      },
      "source": [
        "## 4.5 Random forest test (random_forest_final)"
      ]
    },
    {
      "cell_type": "code",
      "metadata": {
        "id": "BruEgwzRDj5p",
        "colab_type": "code",
        "colab": {
          "base_uri": "https://localhost:8080/",
          "height": 68
        },
        "outputId": "2f12f35a-6a14-4659-80be-14185f84ff16"
      },
      "source": [
        "r2score_random_forest = random_forest_final.score(X_test_minmax, y_test)\n",
        "\n",
        "y_pred_random_forest = random_forest_final.predict(X_test_minmax)\n",
        "MSE_random_forest = mean_squared_error(y_test, y_pred_random_forest)\n",
        "RMSE_random_forest = sqrt(mean_squared_error(y_test, y_pred_random_forest))\n",
        "\n",
        "# The mean squared error and root mean square error\n",
        "print('Score (accuracy): \\t', r2score_random_forest)\n",
        "print('Mean square error : \\t', MSE_random_forest)\n",
        "print('Root mean squared error', RMSE_random_forest)"
      ],
      "execution_count": 216,
      "outputs": [
        {
          "output_type": "stream",
          "text": [
            "Score (accuracy): \t 0.4879098014313143\n",
            "Mean square error : \t 49400532.955996275\n",
            "Root mean squared error 7028.551270069549\n"
          ],
          "name": "stdout"
        }
      ]
    },
    {
      "cell_type": "markdown",
      "metadata": {
        "id": "TcG5z5CbFPex",
        "colab_type": "text"
      },
      "source": [
        "## 4.6 Comparison of the 5 models"
      ]
    },
    {
      "cell_type": "markdown",
      "metadata": {
        "id": "VUCXwUTRFUWh",
        "colab_type": "text"
      },
      "source": [
        "Compared the score, mean squared error (MSE), and root mean squared error (RMSE) of 5 models. Random forest model delivers the best prediction accuracy."
      ]
    },
    {
      "cell_type": "code",
      "metadata": {
        "id": "lPXnZw9xFbjU",
        "colab_type": "code",
        "colab": {
          "base_uri": "https://localhost:8080/",
          "height": 880
        },
        "outputId": "bd25a9ab-dcb5-4de6-b96a-ab5e5818c4ba"
      },
      "source": [
        "score_lst = [r2score_lasso, r2score_lasso_poly, r2score_ridge, r2score_ridge_poly, r2score_random_forest]\n",
        "MSE_lst =  [MSE_lasso, MSE_lasso_poly, MSE_ridge, MSE_ridge_poly, MSE_random_forest]\n",
        "RMSE_lst =  [RMSE_lasso, RMSE_lasso_poly, RMSE_ridge, RMSE_ridge_poly, RMSE_random_forest]\n",
        "model_lst = ['Lasso Linear','Lasso Poly', 'Ridge Linear', 'Ridge Poly', 'Random Forest']\n",
        "\n",
        "plt.figure(1)\n",
        "plt.plot(model_lst, score_lst, 'ro')\n",
        "plt.legend(loc = 9)\n",
        "plt.legend(['r-square score'])\n",
        "plt.xlabel('model names',fontsize =16)\n",
        "plt.ylabel('r-square score', fontsize =16)\n",
        "plt.grid(True)\n",
        "plt.show()\n",
        "\n",
        "plt.figure(2)\n",
        "plt.plot(model_lst, MSE_lst, 'g^')\n",
        "plt.legend(loc = 9)\n",
        "plt.legend(['mean square error (MSE)'])\n",
        "plt.xlabel('model names', fontsize =16)\n",
        "plt.ylabel('mean square error', fontsize =16)\n",
        "plt.grid(True)\n",
        "plt.show()\n",
        "\n",
        "plt.figure(3)\n",
        "plt.plot(model_lst, RMSE_lst, 'bs')\n",
        "plt.legend(loc = 9)\n",
        "plt.legend(['root mean square error (RMSE)'])\n",
        "plt.xlabel('model names', fontsize =16)\n",
        "plt.ylabel('root mean square error', fontsize =16)\n",
        "plt.grid(True)\n",
        "plt.show()"
      ],
      "execution_count": 222,
      "outputs": [
        {
          "output_type": "stream",
          "text": [
            "No handles with labels found to put in legend.\n"
          ],
          "name": "stderr"
        },
        {
          "output_type": "display_data",
          "data": {
            "image/png": "[encoded data removed]",
            "text/plain": [
              "<Figure size 432x288 with 1 Axes>"
            ]
          },
          "metadata": {
            "tags": []
          }
        },
        {
          "output_type": "stream",
          "text": [
            "No handles with labels found to put in legend.\n"
          ],
          "name": "stderr"
        },
        {
          "output_type": "display_data",
          "data": {
            "image/png": "[encoded data removed]",
            "text/plain": [
              "<Figure size 432x288 with 1 Axes>"
            ]
          },
          "metadata": {
            "tags": []
          }
        },
        {
          "output_type": "stream",
          "text": [
            "No handles with labels found to put in legend.\n"
          ],
          "name": "stderr"
        },
        {
          "output_type": "display_data",
          "data": {
            "image/png": "[encoded data removed]",
            "text/plain": [
              "<Figure size 432x288 with 1 Axes>"
            ]
          },
          "metadata": {
            "tags": []
          }
        }
      ]
    },
    {
      "cell_type": "markdown",
      "metadata": {
        "id": "WCRB6qR4I6qy",
        "colab_type": "text"
      },
      "source": [
        "# Part 5: Feature Selection"
      ]
    },
    {
      "cell_type": "markdown",
      "metadata": {
        "id": "DQo9qq_8MRRl",
        "colab_type": "text"
      },
      "source": [
        "The Random Forest model shows the best prediction accuracy. Therefore, the feature importance will be extracted from the RF model."
      ]
    },
    {
      "cell_type": "code",
      "metadata": {
        "id": "AxxXHuwuMbaG",
        "colab_type": "code",
        "colab": {}
      },
      "source": [
        "importances = random_forest_final.feature_importances_\n",
        "std = np.std([tree.feature_importances_ for tree in random_forest_final.estimators_], axis=0)\n",
        "indices = np.argsort(importances)[::-1]\n",
        "feature_name = X_test.columns"
      ],
      "execution_count": 0,
      "outputs": []
    },
    {
      "cell_type": "code",
      "metadata": {
        "id": "g_9BcJYZMdb_",
        "colab_type": "code",
        "colab": {
          "base_uri": "https://localhost:8080/",
          "height": 986
        },
        "outputId": "de40ed8a-e905-477c-84c6-4d6f6369b5ff"
      },
      "source": [
        "print(\"Feature importance ranking:\")\n",
        "\n",
        "for f in range(X_test.shape[1]):\n",
        "    print(\"%d. feature %d %s (%f)\" % (f + 1, indices[f],  feature_name[f], importances[indices[f]]))"
      ],
      "execution_count": 229,
      "outputs": [
        {
          "output_type": "stream",
          "text": [
            "Feature importance ranking:\n",
            "1. feature 0 weighted_categorical_position (0.171339)\n",
            "2. feature 1 weighted_horizontal_position (0.128160)\n",
            "3. feature 2 imdb_votes (0.124944)\n",
            "4. feature 4 budget (0.066316)\n",
            "5. feature 3 boxoffice (0.062998)\n",
            "6. feature 8 imdb_rating (0.055341)\n",
            "7. feature 7 duration_in_mins (0.047735)\n",
            "8. feature 9 metacritic_score (0.045600)\n",
            "9. feature 6 star_category (0.042235)\n",
            "10. feature 5 lionsgate (0.036627)\n",
            "11. feature 53 mgm (0.026348)\n",
            "12. feature 11 other (0.017847)\n",
            "13. feature 42 paramount (0.017101)\n",
            "14. feature 10 G (0.011026)\n",
            "15. feature 18 NC-17 (0.010147)\n",
            "16. feature 24 NotRated (0.008223)\n",
            "17. feature 22 PG (0.006968)\n",
            "18. feature 49 PG-13 (0.006613)\n",
            "19. feature 38 R (0.006589)\n",
            "20. feature 30 BAFTA (0.006436)\n",
            "21. feature 23 Golden Globe (0.006347)\n",
            "22. feature 28 Oscar (0.006312)\n",
            "23. feature 27 no award (0.006170)\n",
            "24. feature 17 other award (0.006004)\n",
            "25. feature 43 Action (0.005794)\n",
            "26. feature 44 Adventure (0.005698)\n",
            "27. feature 48 Animation (0.005368)\n",
            "28. feature 15 Comedy (0.004752)\n",
            "29. feature 25 Crime (0.004360)\n",
            "30. feature 50 Documentary (0.004072)\n",
            "31. feature 52 Drama (0.003951)\n",
            "32. feature 47 Fantasy (0.003888)\n",
            "33. feature 35 Foreign/International (0.003683)\n",
            "34. feature 29 Horror (0.003655)\n",
            "35. feature 51 Independent (0.003368)\n",
            "36. feature 33 Kids & Family (0.003344)\n",
            "37. feature 39 Music (0.003114)\n",
            "38. feature 54 Musicals (0.003089)\n",
            "39. feature 31 Mystery (0.002613)\n",
            "40. feature 12 Romance (0.002413)\n",
            "41. feature 40 Sci-Fi (0.002413)\n",
            "42. feature 20 Sport (0.001895)\n",
            "43. feature 16 Thriller (0.001560)\n",
            "44. feature 21 War (0.001534)\n",
            "45. feature 36 Western (0.001500)\n",
            "46. feature 55 Misc_gen (0.000951)\n",
            "47. feature 46 1916-1974 (0.000905)\n",
            "48. feature 41 1974-1991 (0.000643)\n",
            "49. feature 34 1991-2001 (0.000489)\n",
            "50. feature 14 2001-2006 (0.000459)\n",
            "51. feature 26 2006-2008 (0.000378)\n",
            "52. feature 37 2008-2010 (0.000345)\n",
            "53. feature 13 2010-2012 (0.000192)\n",
            "54. feature 45 2012-2013 (0.000076)\n",
            "55. feature 19 2013-2014 (0.000049)\n",
            "56. feature 32 2014-2017 (0.000024)\n"
          ],
          "name": "stdout"
        }
      ]
    },
    {
      "cell_type": "code",
      "metadata": {
        "id": "goS1b6iFNQSd",
        "colab_type": "code",
        "colab": {
          "base_uri": "https://localhost:8080/",
          "height": 407
        },
        "outputId": "5503aa71-547d-4231-f6d3-a1ac8dd5d783"
      },
      "source": [
        "# Print the feature ranking\n",
        "plt.bar(feature_name[:11], importances[indices[:11]])\n",
        "plt.xticks(rotation=90)\n",
        "plt.show()"
      ],
      "execution_count": 230,
      "outputs": [
        {
          "output_type": "display_data",
          "data": {
            "image/png": "[encoded data removed]",
            "text/plain": [
              "<Figure size 432x288 with 1 Axes>"
            ]
          },
          "metadata": {
            "tags": []
          }
        }
      ]
    },
    {
      "cell_type": "markdown",
      "metadata": {
        "id": "-N92qS2mNPwB",
        "colab_type": "text"
      },
      "source": [
        "From the features ranking, top influencing features include position, imdb_votest, budget, boxoffice and imdb_rating. These factors should be considered as key drivers as far as the forecasting dependent, cumulated view time per day, is concerned.\n",
        "\n",
        "It is to our surprise that the release years appear not so critical as they rank at the bottom of all features. Therefore it is suggested that the platform doesn't necessarily have to buy new movies to increase view time. Buying older movie can do just as well and can save money if other features that rank higher are emphasized.\n"
      ]
    }
  ]
}