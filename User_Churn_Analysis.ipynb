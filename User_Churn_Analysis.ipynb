{
  "nbformat": 4,
  "nbformat_minor": 0,
  "metadata": {
    "colab": {
      "name": "User Churn Analysis.ipynb",
      "provenance": [],
      "collapsed_sections": [],
      "include_colab_link": true
    },
    "kernelspec": {
      "name": "python3",
      "display_name": "Python 3"
    }
  },
  "cells": [
    {
      "cell_type": "markdown",
      "metadata": {
        "id": "view-in-github",
        "colab_type": "text"
      },
      "source": [
        "<a href=\"https://colab.research.google.com/github/vendyliang/MachineLearningProjects/blob/master/User_Churn_Analysis.ipynb\" target=\"_parent\"><img src=\"https://colab.research.google.com/assets/colab-badge.svg\" alt=\"Open In Colab\"/></a>"
      ]
    },
    {
      "cell_type": "markdown",
      "metadata": {
        "colab_type": "text",
        "id": "R88Ms0MTi0Ma"
      },
      "source": [
        "# **User Churn Analysis**"
      ]
    },
    {
      "cell_type": "markdown",
      "metadata": {
        "colab_type": "text",
        "id": "WA6lL1fni0Mb"
      },
      "source": [
        "I used a Telecommunication company user dataset in this project for user churn analysis. \n",
        "\n",
        "There are 2 objectives:\n",
        "\n",
        "- In this project, I will build supervised machine learning models in Python to identify customers who are likely to stop using service in the future. This will provide insights for business teams to make promotion campaign and avoid user acquisition costs.\n",
        "\n",
        "- In order to improve user retention, I will also analyze top factors that influence user retention for further discussion."
      ]
    },
    {
      "cell_type": "markdown",
      "metadata": {
        "colab_type": "text",
        "id": "bO94-bXZi0Md"
      },
      "source": [
        "## Contents"
      ]
    },
    {
      "cell_type": "markdown",
      "metadata": {
        "colab_type": "text",
        "id": "SIvRSRqAi0Md"
      },
      "source": [
        "\n",
        "* Part 1: Exploratory Data Analysis\n",
        "* Part 2: Feature Preprocessing\n",
        "* Part 3: Model Training and Results Evaluation\n",
        "* Part 4: Feature Selection"
      ]
    },
    {
      "cell_type": "markdown",
      "metadata": {
        "colab_type": "text",
        "id": "TUoI2S7Bi6iR"
      },
      "source": [
        "# Part 0: Setup Google Drive Environment"
      ]
    },
    {
      "cell_type": "code",
      "metadata": {
        "colab_type": "code",
        "id": "neechzbWi7rV",
        "colab": {}
      },
      "source": [
        "#install pydrive to load data\n",
        "!pip install -U -q PyDrive\n",
        "\n",
        "from pydrive.auth import GoogleAuth\n",
        "from pydrive.drive import GoogleDrive\n",
        "from google.colab import auth\n",
        "from oauth2client.client import GoogleCredentials\n",
        "\n",
        "auth.authenticate_user()\n",
        "gauth = GoogleAuth()\n",
        "gauth.credentials = GoogleCredentials.get_application_default()\n",
        "drive = GoogleDrive(gauth)"
      ],
      "execution_count": 0,
      "outputs": []
    },
    {
      "cell_type": "code",
      "metadata": {
        "colab_type": "code",
        "id": "UScKyL2TjARW",
        "colab": {}
      },
      "source": [
        "link = 'https://drive.google.com/open?id=1wvKi-E6GJnRqAkYMpVPaRc0L0XgY0Wkq'\n",
        "fluff, id = link.split('=')\n",
        "file = drive.CreateFile({'id':id}) \n",
        "file.GetContentFile('churn.csv')"
      ],
      "execution_count": 0,
      "outputs": []
    },
    {
      "cell_type": "markdown",
      "metadata": {
        "colab_type": "text",
        "id": "a6bG_gAPi0Me"
      },
      "source": [
        "# Part 1: Exploratory Data Analysis"
      ]
    },
    {
      "cell_type": "markdown",
      "metadata": {
        "colab_type": "text",
        "id": "bspx2K6fi0Me"
      },
      "source": [
        "### Part 1.1: Understand the Raw Dataset"
      ]
    },
    {
      "cell_type": "code",
      "metadata": {
        "colab_type": "code",
        "id": "kuTHKjk-i0Mf",
        "colab": {}
      },
      "source": [
        "import warnings\n",
        "warnings.filterwarnings('ignore')\n",
        "\n",
        "import pandas as pd\n",
        "import numpy as np\n",
        "\n",
        "churn_df = pd.read_csv('churn.csv')"
      ],
      "execution_count": 0,
      "outputs": []
    },
    {
      "cell_type": "code",
      "metadata": {
        "colab_type": "code",
        "id": "hHNZRs2Ti0Mi",
        "scrolled": true,
        "outputId": "f3eb9767-683f-45cc-b69a-ba0d8c14a55a",
        "colab": {
          "base_uri": "https://localhost:8080/",
          "height": 224
        }
      },
      "source": [
        "churn_df.head()"
      ],
      "execution_count": 5,
      "outputs": [
        {
          "output_type": "execute_result",
          "data": {
            "text/html": [
              "<div>\n",
              "<style scoped>\n",
              "    .dataframe tbody tr th:only-of-type {\n",
              "        vertical-align: middle;\n",
              "    }\n",
              "\n",
              "    .dataframe tbody tr th {\n",
              "        vertical-align: top;\n",
              "    }\n",
              "\n",
              "    .dataframe thead th {\n",
              "        text-align: right;\n",
              "    }\n",
              "</style>\n",
              "<table border=\"1\" class=\"dataframe\">\n",
              "  <thead>\n",
              "    <tr style=\"text-align: right;\">\n",
              "      <th></th>\n",
              "      <th>state</th>\n",
              "      <th>account_length</th>\n",
              "      <th>area_code</th>\n",
              "      <th>phone_number</th>\n",
              "      <th>intl_plan</th>\n",
              "      <th>voice_mail_plan</th>\n",
              "      <th>number_vmail_messages</th>\n",
              "      <th>total_day_minutes</th>\n",
              "      <th>total_day_calls</th>\n",
              "      <th>total_day_charge</th>\n",
              "      <th>total_eve_minutes</th>\n",
              "      <th>total_eve_calls</th>\n",
              "      <th>total_eve_charge</th>\n",
              "      <th>total_night_minutes</th>\n",
              "      <th>total_night_calls</th>\n",
              "      <th>total_night_charge</th>\n",
              "      <th>total_intl_minutes</th>\n",
              "      <th>total_intl_calls</th>\n",
              "      <th>total_intl_charge</th>\n",
              "      <th>number_customer_service_calls</th>\n",
              "      <th>churned</th>\n",
              "    </tr>\n",
              "  </thead>\n",
              "  <tbody>\n",
              "    <tr>\n",
              "      <th>0</th>\n",
              "      <td>KS</td>\n",
              "      <td>128</td>\n",
              "      <td>415</td>\n",
              "      <td>382-4657</td>\n",
              "      <td>no</td>\n",
              "      <td>yes</td>\n",
              "      <td>25</td>\n",
              "      <td>265.1</td>\n",
              "      <td>110</td>\n",
              "      <td>45.07</td>\n",
              "      <td>197.4</td>\n",
              "      <td>99</td>\n",
              "      <td>16.78</td>\n",
              "      <td>244.7</td>\n",
              "      <td>91</td>\n",
              "      <td>11.01</td>\n",
              "      <td>10.0</td>\n",
              "      <td>3</td>\n",
              "      <td>2.70</td>\n",
              "      <td>1</td>\n",
              "      <td>False.</td>\n",
              "    </tr>\n",
              "    <tr>\n",
              "      <th>1</th>\n",
              "      <td>OH</td>\n",
              "      <td>107</td>\n",
              "      <td>415</td>\n",
              "      <td>371-7191</td>\n",
              "      <td>no</td>\n",
              "      <td>yes</td>\n",
              "      <td>26</td>\n",
              "      <td>161.6</td>\n",
              "      <td>123</td>\n",
              "      <td>27.47</td>\n",
              "      <td>195.5</td>\n",
              "      <td>103</td>\n",
              "      <td>16.62</td>\n",
              "      <td>254.4</td>\n",
              "      <td>103</td>\n",
              "      <td>11.45</td>\n",
              "      <td>13.7</td>\n",
              "      <td>3</td>\n",
              "      <td>3.70</td>\n",
              "      <td>1</td>\n",
              "      <td>False.</td>\n",
              "    </tr>\n",
              "    <tr>\n",
              "      <th>2</th>\n",
              "      <td>NJ</td>\n",
              "      <td>137</td>\n",
              "      <td>415</td>\n",
              "      <td>358-1921</td>\n",
              "      <td>no</td>\n",
              "      <td>no</td>\n",
              "      <td>0</td>\n",
              "      <td>243.4</td>\n",
              "      <td>114</td>\n",
              "      <td>41.38</td>\n",
              "      <td>121.2</td>\n",
              "      <td>110</td>\n",
              "      <td>10.30</td>\n",
              "      <td>162.6</td>\n",
              "      <td>104</td>\n",
              "      <td>7.32</td>\n",
              "      <td>12.2</td>\n",
              "      <td>5</td>\n",
              "      <td>3.29</td>\n",
              "      <td>0</td>\n",
              "      <td>False.</td>\n",
              "    </tr>\n",
              "    <tr>\n",
              "      <th>3</th>\n",
              "      <td>OH</td>\n",
              "      <td>84</td>\n",
              "      <td>408</td>\n",
              "      <td>375-9999</td>\n",
              "      <td>yes</td>\n",
              "      <td>no</td>\n",
              "      <td>0</td>\n",
              "      <td>299.4</td>\n",
              "      <td>71</td>\n",
              "      <td>50.90</td>\n",
              "      <td>61.9</td>\n",
              "      <td>88</td>\n",
              "      <td>5.26</td>\n",
              "      <td>196.9</td>\n",
              "      <td>89</td>\n",
              "      <td>8.86</td>\n",
              "      <td>6.6</td>\n",
              "      <td>7</td>\n",
              "      <td>1.78</td>\n",
              "      <td>2</td>\n",
              "      <td>False.</td>\n",
              "    </tr>\n",
              "    <tr>\n",
              "      <th>4</th>\n",
              "      <td>OK</td>\n",
              "      <td>75</td>\n",
              "      <td>415</td>\n",
              "      <td>330-6626</td>\n",
              "      <td>yes</td>\n",
              "      <td>no</td>\n",
              "      <td>0</td>\n",
              "      <td>166.7</td>\n",
              "      <td>113</td>\n",
              "      <td>28.34</td>\n",
              "      <td>148.3</td>\n",
              "      <td>122</td>\n",
              "      <td>12.61</td>\n",
              "      <td>186.9</td>\n",
              "      <td>121</td>\n",
              "      <td>8.41</td>\n",
              "      <td>10.1</td>\n",
              "      <td>3</td>\n",
              "      <td>2.73</td>\n",
              "      <td>3</td>\n",
              "      <td>False.</td>\n",
              "    </tr>\n",
              "  </tbody>\n",
              "</table>\n",
              "</div>"
            ],
            "text/plain": [
              "  state  account_length  ...  number_customer_service_calls  churned\n",
              "0    KS             128  ...                              1   False.\n",
              "1    OH             107  ...                              1   False.\n",
              "2    NJ             137  ...                              0   False.\n",
              "3    OH              84  ...                              2   False.\n",
              "4    OK              75  ...                              3   False.\n",
              "\n",
              "[5 rows x 21 columns]"
            ]
          },
          "metadata": {
            "tags": []
          },
          "execution_count": 5
        }
      ]
    },
    {
      "cell_type": "code",
      "metadata": {
        "colab_type": "code",
        "id": "C99Z9b7ai0Mm",
        "outputId": "c0ad8430-5e5d-4b09-8b85-c25c8a63206c",
        "colab": {
          "base_uri": "https://localhost:8080/",
          "height": 51
        }
      },
      "source": [
        "print (\"Num of rows: \" + str(churn_df.shape[0])) # row count\n",
        "print (\"Num of columns: \" + str(churn_df.shape[1])) # col count"
      ],
      "execution_count": 6,
      "outputs": [
        {
          "output_type": "stream",
          "text": [
            "Num of rows: 5000\n",
            "Num of columns: 21\n"
          ],
          "name": "stdout"
        }
      ]
    },
    {
      "cell_type": "code",
      "metadata": {
        "id": "wy1dpP4eT5TQ",
        "colab_type": "code",
        "outputId": "62ec00cc-7f83-4d8e-be4c-2ae303012697",
        "colab": {
          "base_uri": "https://localhost:8080/",
          "height": 493
        }
      },
      "source": [
        "churn_df.info()"
      ],
      "execution_count": 7,
      "outputs": [
        {
          "output_type": "stream",
          "text": [
            "<class 'pandas.core.frame.DataFrame'>\n",
            "RangeIndex: 5000 entries, 0 to 4999\n",
            "Data columns (total 21 columns):\n",
            " #   Column                         Non-Null Count  Dtype  \n",
            "---  ------                         --------------  -----  \n",
            " 0   state                          5000 non-null   object \n",
            " 1   account_length                 5000 non-null   int64  \n",
            " 2   area_code                      5000 non-null   int64  \n",
            " 3   phone_number                   5000 non-null   object \n",
            " 4   intl_plan                      5000 non-null   object \n",
            " 5   voice_mail_plan                5000 non-null   object \n",
            " 6   number_vmail_messages          5000 non-null   int64  \n",
            " 7   total_day_minutes              5000 non-null   float64\n",
            " 8   total_day_calls                5000 non-null   int64  \n",
            " 9   total_day_charge               5000 non-null   float64\n",
            " 10  total_eve_minutes              5000 non-null   float64\n",
            " 11  total_eve_calls                5000 non-null   int64  \n",
            " 12  total_eve_charge               5000 non-null   float64\n",
            " 13  total_night_minutes            5000 non-null   float64\n",
            " 14  total_night_calls              5000 non-null   int64  \n",
            " 15  total_night_charge             5000 non-null   float64\n",
            " 16  total_intl_minutes             5000 non-null   float64\n",
            " 17  total_intl_calls               5000 non-null   int64  \n",
            " 18  total_intl_charge              5000 non-null   float64\n",
            " 19  number_customer_service_calls  5000 non-null   int64  \n",
            " 20  churned                        5000 non-null   object \n",
            "dtypes: float64(8), int64(8), object(5)\n",
            "memory usage: 820.4+ KB\n"
          ],
          "name": "stdout"
        }
      ]
    },
    {
      "cell_type": "markdown",
      "metadata": {
        "colab_type": "text",
        "id": "OCglmJ9Oi0Mo"
      },
      "source": [
        "### Part 1.2: Data cleaning"
      ]
    },
    {
      "cell_type": "markdown",
      "metadata": {
        "id": "L9UjLYqsb8WG",
        "colab_type": "text"
      },
      "source": [
        "I check for both duplication and missing values. \n",
        "Result: There is no duplication. There are zeros in multiple columns but I assume them to be informative zeros, which mean some users didn't use any services at all."
      ]
    },
    {
      "cell_type": "code",
      "metadata": {
        "id": "wCvFoE0Qrps4",
        "colab_type": "code",
        "colab": {
          "base_uri": "https://localhost:8080/",
          "height": 391
        },
        "outputId": "76a550d4-7965-4d0e-f498-30005932b722"
      },
      "source": [
        "#check missing values - null\n",
        "churn_df.isnull().sum(axis = 0)"
      ],
      "execution_count": 29,
      "outputs": [
        {
          "output_type": "execute_result",
          "data": {
            "text/plain": [
              "state                            0\n",
              "account_length                   0\n",
              "area_code                        0\n",
              "phone_number                     0\n",
              "intl_plan                        0\n",
              "voice_mail_plan                  0\n",
              "number_vmail_messages            0\n",
              "total_day_minutes                0\n",
              "total_day_calls                  0\n",
              "total_day_charge                 0\n",
              "total_eve_minutes                0\n",
              "total_eve_calls                  0\n",
              "total_eve_charge                 0\n",
              "total_night_minutes              0\n",
              "total_night_calls                0\n",
              "total_night_charge               0\n",
              "total_intl_minutes               0\n",
              "total_intl_calls                 0\n",
              "total_intl_charge                0\n",
              "number_customer_service_calls    0\n",
              "churned                          0\n",
              "dtype: int64"
            ]
          },
          "metadata": {
            "tags": []
          },
          "execution_count": 29
        }
      ]
    },
    {
      "cell_type": "code",
      "metadata": {
        "id": "1j5h5kq-sM5i",
        "colab_type": "code",
        "colab": {
          "base_uri": "https://localhost:8080/",
          "height": 317
        },
        "outputId": "2c8726ba-ee7c-432e-aefe-1d6f6668419d"
      },
      "source": [
        "#check missing values - zeros\n",
        "churn_df.describe()"
      ],
      "execution_count": 32,
      "outputs": [
        {
          "output_type": "execute_result",
          "data": {
            "text/html": [
              "<div>\n",
              "<style scoped>\n",
              "    .dataframe tbody tr th:only-of-type {\n",
              "        vertical-align: middle;\n",
              "    }\n",
              "\n",
              "    .dataframe tbody tr th {\n",
              "        vertical-align: top;\n",
              "    }\n",
              "\n",
              "    .dataframe thead th {\n",
              "        text-align: right;\n",
              "    }\n",
              "</style>\n",
              "<table border=\"1\" class=\"dataframe\">\n",
              "  <thead>\n",
              "    <tr style=\"text-align: right;\">\n",
              "      <th></th>\n",
              "      <th>account_length</th>\n",
              "      <th>area_code</th>\n",
              "      <th>number_vmail_messages</th>\n",
              "      <th>total_day_minutes</th>\n",
              "      <th>total_day_calls</th>\n",
              "      <th>total_day_charge</th>\n",
              "      <th>total_eve_minutes</th>\n",
              "      <th>total_eve_calls</th>\n",
              "      <th>total_eve_charge</th>\n",
              "      <th>total_night_minutes</th>\n",
              "      <th>total_night_calls</th>\n",
              "      <th>total_night_charge</th>\n",
              "      <th>total_intl_minutes</th>\n",
              "      <th>total_intl_calls</th>\n",
              "      <th>total_intl_charge</th>\n",
              "      <th>number_customer_service_calls</th>\n",
              "    </tr>\n",
              "  </thead>\n",
              "  <tbody>\n",
              "    <tr>\n",
              "      <th>count</th>\n",
              "      <td>5000.000</td>\n",
              "      <td>5000.000</td>\n",
              "      <td>5000.000</td>\n",
              "      <td>5000.000</td>\n",
              "      <td>5000.000</td>\n",
              "      <td>5000.000</td>\n",
              "      <td>5000.000</td>\n",
              "      <td>5000.000</td>\n",
              "      <td>5000.000</td>\n",
              "      <td>5000.000</td>\n",
              "      <td>5000.000</td>\n",
              "      <td>5000.000</td>\n",
              "      <td>5000.000</td>\n",
              "      <td>5000.000</td>\n",
              "      <td>5000.000</td>\n",
              "      <td>5000.000</td>\n",
              "    </tr>\n",
              "    <tr>\n",
              "      <th>mean</th>\n",
              "      <td>100.259</td>\n",
              "      <td>436.911</td>\n",
              "      <td>7.755</td>\n",
              "      <td>180.289</td>\n",
              "      <td>100.029</td>\n",
              "      <td>30.650</td>\n",
              "      <td>200.637</td>\n",
              "      <td>100.191</td>\n",
              "      <td>17.054</td>\n",
              "      <td>200.392</td>\n",
              "      <td>99.919</td>\n",
              "      <td>9.018</td>\n",
              "      <td>10.262</td>\n",
              "      <td>4.435</td>\n",
              "      <td>2.771</td>\n",
              "      <td>1.570</td>\n",
              "    </tr>\n",
              "    <tr>\n",
              "      <th>std</th>\n",
              "      <td>39.695</td>\n",
              "      <td>42.209</td>\n",
              "      <td>13.546</td>\n",
              "      <td>53.895</td>\n",
              "      <td>19.831</td>\n",
              "      <td>9.162</td>\n",
              "      <td>50.551</td>\n",
              "      <td>19.826</td>\n",
              "      <td>4.297</td>\n",
              "      <td>50.528</td>\n",
              "      <td>19.959</td>\n",
              "      <td>2.274</td>\n",
              "      <td>2.761</td>\n",
              "      <td>2.457</td>\n",
              "      <td>0.746</td>\n",
              "      <td>1.306</td>\n",
              "    </tr>\n",
              "    <tr>\n",
              "      <th>min</th>\n",
              "      <td>1.000</td>\n",
              "      <td>408.000</td>\n",
              "      <td>0.000</td>\n",
              "      <td>0.000</td>\n",
              "      <td>0.000</td>\n",
              "      <td>0.000</td>\n",
              "      <td>0.000</td>\n",
              "      <td>0.000</td>\n",
              "      <td>0.000</td>\n",
              "      <td>0.000</td>\n",
              "      <td>0.000</td>\n",
              "      <td>0.000</td>\n",
              "      <td>0.000</td>\n",
              "      <td>0.000</td>\n",
              "      <td>0.000</td>\n",
              "      <td>0.000</td>\n",
              "    </tr>\n",
              "    <tr>\n",
              "      <th>25%</th>\n",
              "      <td>73.000</td>\n",
              "      <td>408.000</td>\n",
              "      <td>0.000</td>\n",
              "      <td>143.700</td>\n",
              "      <td>87.000</td>\n",
              "      <td>24.430</td>\n",
              "      <td>166.375</td>\n",
              "      <td>87.000</td>\n",
              "      <td>14.140</td>\n",
              "      <td>166.900</td>\n",
              "      <td>87.000</td>\n",
              "      <td>7.510</td>\n",
              "      <td>8.500</td>\n",
              "      <td>3.000</td>\n",
              "      <td>2.300</td>\n",
              "      <td>1.000</td>\n",
              "    </tr>\n",
              "    <tr>\n",
              "      <th>50%</th>\n",
              "      <td>100.000</td>\n",
              "      <td>415.000</td>\n",
              "      <td>0.000</td>\n",
              "      <td>180.100</td>\n",
              "      <td>100.000</td>\n",
              "      <td>30.620</td>\n",
              "      <td>201.000</td>\n",
              "      <td>100.000</td>\n",
              "      <td>17.090</td>\n",
              "      <td>200.400</td>\n",
              "      <td>100.000</td>\n",
              "      <td>9.020</td>\n",
              "      <td>10.300</td>\n",
              "      <td>4.000</td>\n",
              "      <td>2.780</td>\n",
              "      <td>1.000</td>\n",
              "    </tr>\n",
              "    <tr>\n",
              "      <th>75%</th>\n",
              "      <td>127.000</td>\n",
              "      <td>415.000</td>\n",
              "      <td>17.000</td>\n",
              "      <td>216.200</td>\n",
              "      <td>113.000</td>\n",
              "      <td>36.750</td>\n",
              "      <td>234.100</td>\n",
              "      <td>114.000</td>\n",
              "      <td>19.900</td>\n",
              "      <td>234.700</td>\n",
              "      <td>113.000</td>\n",
              "      <td>10.560</td>\n",
              "      <td>12.000</td>\n",
              "      <td>6.000</td>\n",
              "      <td>3.240</td>\n",
              "      <td>2.000</td>\n",
              "    </tr>\n",
              "    <tr>\n",
              "      <th>max</th>\n",
              "      <td>243.000</td>\n",
              "      <td>510.000</td>\n",
              "      <td>52.000</td>\n",
              "      <td>351.500</td>\n",
              "      <td>165.000</td>\n",
              "      <td>59.760</td>\n",
              "      <td>363.700</td>\n",
              "      <td>170.000</td>\n",
              "      <td>30.910</td>\n",
              "      <td>395.000</td>\n",
              "      <td>175.000</td>\n",
              "      <td>17.770</td>\n",
              "      <td>20.000</td>\n",
              "      <td>20.000</td>\n",
              "      <td>5.400</td>\n",
              "      <td>9.000</td>\n",
              "    </tr>\n",
              "  </tbody>\n",
              "</table>\n",
              "</div>"
            ],
            "text/plain": [
              "       account_length  area_code  number_vmail_messages  total_day_minutes  \\\n",
              "count        5000.000   5000.000               5000.000           5000.000   \n",
              "mean          100.259    436.911                  7.755            180.289   \n",
              "std            39.695     42.209                 13.546             53.895   \n",
              "min             1.000    408.000                  0.000              0.000   \n",
              "25%            73.000    408.000                  0.000            143.700   \n",
              "50%           100.000    415.000                  0.000            180.100   \n",
              "75%           127.000    415.000                 17.000            216.200   \n",
              "max           243.000    510.000                 52.000            351.500   \n",
              "\n",
              "       total_day_calls  total_day_charge  total_eve_minutes  total_eve_calls  \\\n",
              "count         5000.000          5000.000           5000.000         5000.000   \n",
              "mean           100.029            30.650            200.637          100.191   \n",
              "std             19.831             9.162             50.551           19.826   \n",
              "min              0.000             0.000              0.000            0.000   \n",
              "25%             87.000            24.430            166.375           87.000   \n",
              "50%            100.000            30.620            201.000          100.000   \n",
              "75%            113.000            36.750            234.100          114.000   \n",
              "max            165.000            59.760            363.700          170.000   \n",
              "\n",
              "       total_eve_charge  total_night_minutes  total_night_calls  \\\n",
              "count          5000.000             5000.000           5000.000   \n",
              "mean             17.054              200.392             99.919   \n",
              "std               4.297               50.528             19.959   \n",
              "min               0.000                0.000              0.000   \n",
              "25%              14.140              166.900             87.000   \n",
              "50%              17.090              200.400            100.000   \n",
              "75%              19.900              234.700            113.000   \n",
              "max              30.910              395.000            175.000   \n",
              "\n",
              "       total_night_charge  total_intl_minutes  total_intl_calls  \\\n",
              "count            5000.000            5000.000          5000.000   \n",
              "mean                9.018              10.262             4.435   \n",
              "std                 2.274               2.761             2.457   \n",
              "min                 0.000               0.000             0.000   \n",
              "25%                 7.510               8.500             3.000   \n",
              "50%                 9.020              10.300             4.000   \n",
              "75%                10.560              12.000             6.000   \n",
              "max                17.770              20.000            20.000   \n",
              "\n",
              "       total_intl_charge  number_customer_service_calls  \n",
              "count           5000.000                       5000.000  \n",
              "mean               2.771                          1.570  \n",
              "std                0.746                          1.306  \n",
              "min                0.000                          0.000  \n",
              "25%                2.300                          1.000  \n",
              "50%                2.780                          1.000  \n",
              "75%                3.240                          2.000  \n",
              "max                5.400                          9.000  "
            ]
          },
          "metadata": {
            "tags": []
          },
          "execution_count": 32
        }
      ]
    },
    {
      "cell_type": "code",
      "metadata": {
        "id": "D3YyiwFlbXqg",
        "colab_type": "code",
        "outputId": "56055082-eec3-4d42-db13-48d9a0e207e8",
        "colab": {
          "base_uri": "https://localhost:8080/",
          "height": 34
        }
      },
      "source": [
        "#check duplication\n",
        "churn_df['phone_number'][churn_df['phone_number'].duplicated()]"
      ],
      "execution_count": 35,
      "outputs": [
        {
          "output_type": "execute_result",
          "data": {
            "text/plain": [
              "Series([], Name: phone_number, dtype: object)"
            ]
          },
          "metadata": {
            "tags": []
          },
          "execution_count": 35
        }
      ]
    },
    {
      "cell_type": "markdown",
      "metadata": {
        "id": "tTFgi96FZq5h",
        "colab_type": "text"
      },
      "source": [
        "There are 16 numeric features and 5 categorical features.\n",
        "\n",
        "I check the 5 columns that are categorical features: state, phone_number, intl_plan, voice_mail_plan, and churned columns."
      ]
    },
    {
      "cell_type": "markdown",
      "metadata": {
        "colab_type": "text",
        "id": "JxlrXRG3i0Mp"
      },
      "source": [
        "- Remove Extra Whitespace for 3 columns: intl_plan, voice_mail_plan, and churned"
      ]
    },
    {
      "cell_type": "code",
      "metadata": {
        "colab_type": "code",
        "id": "2Vf8iYmWi0Mq",
        "scrolled": true,
        "outputId": "5a2c2fb9-5293-4b85-fc18-d6f9c962eae5",
        "colab": {
          "base_uri": "https://localhost:8080/",
          "height": 34
        }
      },
      "source": [
        "#before removal\n",
        "churn_df['voice_mail_plan'][0]"
      ],
      "execution_count": 16,
      "outputs": [
        {
          "output_type": "execute_result",
          "data": {
            "text/plain": [
              "' yes'"
            ]
          },
          "metadata": {
            "tags": []
          },
          "execution_count": 16
        }
      ]
    },
    {
      "cell_type": "code",
      "metadata": {
        "colab_type": "code",
        "id": "3lpwxvQfi0Mt",
        "colab": {}
      },
      "source": [
        "#remove the heading and trailing whitespaces\n",
        "churn_df['voice_mail_plan'] = churn_df['voice_mail_plan'].apply(lambda x: x.strip())\n",
        "churn_df['intl_plan'] = churn_df['intl_plan'].apply(lambda x: x.strip())\n",
        "churn_df['churned'] = churn_df['churned'].apply(lambda x: x.strip())"
      ],
      "execution_count": 0,
      "outputs": []
    },
    {
      "cell_type": "code",
      "metadata": {
        "colab_type": "code",
        "id": "kcyHhHKHZN2p",
        "outputId": "63ff284c-d1c1-484b-bf29-0580240fadcd",
        "colab": {
          "base_uri": "https://localhost:8080/",
          "height": 34
        }
      },
      "source": [
        "#after removal\n",
        "churn_df['voice_mail_plan'][0]"
      ],
      "execution_count": 20,
      "outputs": [
        {
          "output_type": "execute_result",
          "data": {
            "text/plain": [
              "'yes'"
            ]
          },
          "metadata": {
            "tags": []
          },
          "execution_count": 20
        }
      ]
    },
    {
      "cell_type": "markdown",
      "metadata": {
        "id": "EenY0aqXaYbo",
        "colab_type": "text"
      },
      "source": [
        "- Remove the dot following 'False' and 'True'"
      ]
    },
    {
      "cell_type": "code",
      "metadata": {
        "id": "aE-3YadPUmbd",
        "colab_type": "code",
        "outputId": "8587a732-b39e-4e64-f327-eee0bf9fa1d6",
        "colab": {
          "base_uri": "https://localhost:8080/",
          "height": 34
        }
      },
      "source": [
        "#before removal\n",
        "churn_df['churned'][0]"
      ],
      "execution_count": 21,
      "outputs": [
        {
          "output_type": "execute_result",
          "data": {
            "text/plain": [
              "'False.'"
            ]
          },
          "metadata": {
            "tags": []
          },
          "execution_count": 21
        }
      ]
    },
    {
      "cell_type": "code",
      "metadata": {
        "id": "4ozzZ0AGVzBB",
        "colab_type": "code",
        "colab": {}
      },
      "source": [
        "#remove the dot\n",
        "churn_df['churned'].replace('False.', 'False', inplace = True)\n",
        "churn_df['churned'].replace('True.', 'True', inplace = True)"
      ],
      "execution_count": 0,
      "outputs": []
    },
    {
      "cell_type": "code",
      "metadata": {
        "id": "xZcv2sE0Weyt",
        "colab_type": "code",
        "outputId": "dd95dad3-02fa-4777-cb0e-66fd6412f57d",
        "colab": {
          "base_uri": "https://localhost:8080/",
          "height": 34
        }
      },
      "source": [
        "#after removal\n",
        "churn_df['churned'][0]"
      ],
      "execution_count": 24,
      "outputs": [
        {
          "output_type": "execute_result",
          "data": {
            "text/plain": [
              "'False'"
            ]
          },
          "metadata": {
            "tags": []
          },
          "execution_count": 24
        }
      ]
    },
    {
      "cell_type": "markdown",
      "metadata": {
        "colab_type": "text",
        "id": "SsAbAjhvi0Mx"
      },
      "source": [
        "### Part 1.3:  Understand the features"
      ]
    },
    {
      "cell_type": "code",
      "metadata": {
        "colab_type": "code",
        "id": "rJ0AdxwLi0Mz",
        "scrolled": false,
        "outputId": "4edfd3cc-0207-4254-b96d-e2686fbe4d69",
        "colab": {
          "base_uri": "https://localhost:8080/",
          "height": 297
        }
      },
      "source": [
        "# check the feature distribution\n",
        "%matplotlib inline\n",
        "import matplotlib.pyplot as plt\n",
        "import seaborn as sns\n",
        "\n",
        "sns.distplot(churn_df['total_intl_charge'])"
      ],
      "execution_count": 41,
      "outputs": [
        {
          "output_type": "execute_result",
          "data": {
            "text/plain": [
              "<matplotlib.axes._subplots.AxesSubplot at 0x7fe9fb15e240>"
            ]
          },
          "metadata": {
            "tags": []
          },
          "execution_count": 41
        },
        {
          "output_type": "display_data",
          "data": {
            "image/png": "[encoded data removed]",
            "text/plain": [
              "<Figure size 432x288 with 1 Axes>"
            ]
          },
          "metadata": {
            "tags": [],
            "needs_background": "light"
          }
        }
      ]
    },
    {
      "cell_type": "code",
      "metadata": {
        "id": "EProzk6svtRb",
        "colab_type": "code",
        "colab": {
          "base_uri": "https://localhost:8080/",
          "height": 301
        },
        "outputId": "35545f27-10d0-4fe6-ae8c-f932146cb6b0"
      },
      "source": [
        "sns.distplot(churn_df['number_vmail_messages'])"
      ],
      "execution_count": 37,
      "outputs": [
        {
          "output_type": "execute_result",
          "data": {
            "text/plain": [
              "<matplotlib.axes._subplots.AxesSubplot at 0x7fe9fb835390>"
            ]
          },
          "metadata": {
            "tags": []
          },
          "execution_count": 37
        },
        {
          "output_type": "display_data",
          "data": {
            "image/png": "[encoded data removed]",
            "text/plain": [
              "<Figure size 432x288 with 1 Axes>"
            ]
          },
          "metadata": {
            "tags": [],
            "needs_background": "light"
          }
        }
      ]
    },
    {
      "cell_type": "code",
      "metadata": {
        "id": "GyQ3YT3jvxSQ",
        "colab_type": "code",
        "colab": {
          "base_uri": "https://localhost:8080/",
          "height": 297
        },
        "outputId": "51481eb8-2558-4b1d-8ae7-41eb50f4d68d"
      },
      "source": [
        "sns.distplot(churn_df['total_day_minutes'])"
      ],
      "execution_count": 38,
      "outputs": [
        {
          "output_type": "execute_result",
          "data": {
            "text/plain": [
              "<matplotlib.axes._subplots.AxesSubplot at 0x7fe9fb335400>"
            ]
          },
          "metadata": {
            "tags": []
          },
          "execution_count": 38
        },
        {
          "output_type": "display_data",
          "data": {
            "image/png": "[encoded data removed]",
            "text/plain": [
              "<Figure size 432x288 with 1 Axes>"
            ]
          },
          "metadata": {
            "tags": [],
            "needs_background": "light"
          }
        }
      ]
    },
    {
      "cell_type": "code",
      "metadata": {
        "id": "W0JJoOR2v22h",
        "colab_type": "code",
        "colab": {
          "base_uri": "https://localhost:8080/",
          "height": 297
        },
        "outputId": "0bf6d3dd-7a65-4b81-cec5-c1edec1e8210"
      },
      "source": [
        "sns.distplot(churn_df['total_eve_calls'])"
      ],
      "execution_count": 39,
      "outputs": [
        {
          "output_type": "execute_result",
          "data": {
            "text/plain": [
              "<matplotlib.axes._subplots.AxesSubplot at 0x7fe9fb209b70>"
            ]
          },
          "metadata": {
            "tags": []
          },
          "execution_count": 39
        },
        {
          "output_type": "display_data",
          "data": {
            "image/png": "[encoded data removed]",
            "text/plain": [
              "<Figure size 432x288 with 1 Axes>"
            ]
          },
          "metadata": {
            "tags": [],
            "needs_background": "light"
          }
        }
      ]
    },
    {
      "cell_type": "code",
      "metadata": {
        "colab_type": "code",
        "id": "4DKTTdB6i0M2",
        "outputId": "d3d77da8-eab6-4755-aa98-f86bd56f0e67",
        "colab": {
          "base_uri": "https://localhost:8080/",
          "height": 403
        }
      },
      "source": [
        "# correlations between all the features\n",
        "corr = churn_df[[\"account_length\", \"number_vmail_messages\", \"total_day_minutes\",\n",
        "                    \"total_day_calls\", \"total_day_charge\", \"total_eve_minutes\",\n",
        "                    \"total_eve_calls\", \"total_eve_charge\", \"total_night_minutes\",\n",
        "                    \"total_night_calls\", \"total_intl_minutes\", \"total_intl_calls\",\n",
        "                    \"total_intl_charge\"]].corr()\n",
        "\n",
        "# show heapmap of correlations\n",
        "sns.heatmap(corr)"
      ],
      "execution_count": 42,
      "outputs": [
        {
          "output_type": "execute_result",
          "data": {
            "text/plain": [
              "<matplotlib.axes._subplots.AxesSubplot at 0x7fe9fb024eb8>"
            ]
          },
          "metadata": {
            "tags": []
          },
          "execution_count": 42
        },
        {
          "output_type": "display_data",
          "data": {
            "image/png": "[encoded data removed]",
            "text/plain": [
              "<Figure size 432x288 with 2 Axes>"
            ]
          },
          "metadata": {
            "tags": [],
            "needs_background": "light"
          }
        }
      ]
    },
    {
      "cell_type": "code",
      "metadata": {
        "colab_type": "code",
        "id": "1qfEnNW_i0M5",
        "outputId": "f00bbfa3-04c5-43df-f950-fd2b6805c09a",
        "colab": {
          "base_uri": "https://localhost:8080/",
          "height": 472
        }
      },
      "source": [
        "# check the actual values of correlations\n",
        "corr"
      ],
      "execution_count": 43,
      "outputs": [
        {
          "output_type": "execute_result",
          "data": {
            "text/html": [
              "<div>\n",
              "<style scoped>\n",
              "    .dataframe tbody tr th:only-of-type {\n",
              "        vertical-align: middle;\n",
              "    }\n",
              "\n",
              "    .dataframe tbody tr th {\n",
              "        vertical-align: top;\n",
              "    }\n",
              "\n",
              "    .dataframe thead th {\n",
              "        text-align: right;\n",
              "    }\n",
              "</style>\n",
              "<table border=\"1\" class=\"dataframe\">\n",
              "  <thead>\n",
              "    <tr style=\"text-align: right;\">\n",
              "      <th></th>\n",
              "      <th>account_length</th>\n",
              "      <th>number_vmail_messages</th>\n",
              "      <th>total_day_minutes</th>\n",
              "      <th>total_day_calls</th>\n",
              "      <th>total_day_charge</th>\n",
              "      <th>total_eve_minutes</th>\n",
              "      <th>total_eve_calls</th>\n",
              "      <th>total_eve_charge</th>\n",
              "      <th>total_night_minutes</th>\n",
              "      <th>total_night_calls</th>\n",
              "      <th>total_intl_minutes</th>\n",
              "      <th>total_intl_calls</th>\n",
              "      <th>total_intl_charge</th>\n",
              "    </tr>\n",
              "  </thead>\n",
              "  <tbody>\n",
              "    <tr>\n",
              "      <th>account_length</th>\n",
              "      <td>1.000</td>\n",
              "      <td>-0.015</td>\n",
              "      <td>-0.001</td>\n",
              "      <td>0.028</td>\n",
              "      <td>-0.001</td>\n",
              "      <td>-0.010</td>\n",
              "      <td>0.009</td>\n",
              "      <td>-0.010</td>\n",
              "      <td>0.001</td>\n",
              "      <td>-0.008</td>\n",
              "      <td>0.001</td>\n",
              "      <td>0.014</td>\n",
              "      <td>0.001</td>\n",
              "    </tr>\n",
              "    <tr>\n",
              "      <th>number_vmail_messages</th>\n",
              "      <td>-0.015</td>\n",
              "      <td>1.000</td>\n",
              "      <td>0.005</td>\n",
              "      <td>0.001</td>\n",
              "      <td>0.005</td>\n",
              "      <td>0.019</td>\n",
              "      <td>-0.004</td>\n",
              "      <td>0.019</td>\n",
              "      <td>0.006</td>\n",
              "      <td>0.003</td>\n",
              "      <td>0.002</td>\n",
              "      <td>0.000</td>\n",
              "      <td>0.003</td>\n",
              "    </tr>\n",
              "    <tr>\n",
              "      <th>total_day_minutes</th>\n",
              "      <td>-0.001</td>\n",
              "      <td>0.005</td>\n",
              "      <td>1.000</td>\n",
              "      <td>0.002</td>\n",
              "      <td>1.000</td>\n",
              "      <td>-0.011</td>\n",
              "      <td>0.008</td>\n",
              "      <td>-0.011</td>\n",
              "      <td>0.012</td>\n",
              "      <td>0.004</td>\n",
              "      <td>-0.019</td>\n",
              "      <td>-0.001</td>\n",
              "      <td>-0.019</td>\n",
              "    </tr>\n",
              "    <tr>\n",
              "      <th>total_day_calls</th>\n",
              "      <td>0.028</td>\n",
              "      <td>0.001</td>\n",
              "      <td>0.002</td>\n",
              "      <td>1.000</td>\n",
              "      <td>0.002</td>\n",
              "      <td>-0.001</td>\n",
              "      <td>0.004</td>\n",
              "      <td>-0.001</td>\n",
              "      <td>0.003</td>\n",
              "      <td>-0.008</td>\n",
              "      <td>0.013</td>\n",
              "      <td>0.011</td>\n",
              "      <td>0.013</td>\n",
              "    </tr>\n",
              "    <tr>\n",
              "      <th>total_day_charge</th>\n",
              "      <td>-0.001</td>\n",
              "      <td>0.005</td>\n",
              "      <td>1.000</td>\n",
              "      <td>0.002</td>\n",
              "      <td>1.000</td>\n",
              "      <td>-0.011</td>\n",
              "      <td>0.008</td>\n",
              "      <td>-0.011</td>\n",
              "      <td>0.012</td>\n",
              "      <td>0.004</td>\n",
              "      <td>-0.019</td>\n",
              "      <td>-0.001</td>\n",
              "      <td>-0.019</td>\n",
              "    </tr>\n",
              "    <tr>\n",
              "      <th>total_eve_minutes</th>\n",
              "      <td>-0.010</td>\n",
              "      <td>0.019</td>\n",
              "      <td>-0.011</td>\n",
              "      <td>-0.001</td>\n",
              "      <td>-0.011</td>\n",
              "      <td>1.000</td>\n",
              "      <td>0.003</td>\n",
              "      <td>1.000</td>\n",
              "      <td>-0.017</td>\n",
              "      <td>0.013</td>\n",
              "      <td>0.000</td>\n",
              "      <td>0.008</td>\n",
              "      <td>0.000</td>\n",
              "    </tr>\n",
              "    <tr>\n",
              "      <th>total_eve_calls</th>\n",
              "      <td>0.009</td>\n",
              "      <td>-0.004</td>\n",
              "      <td>0.008</td>\n",
              "      <td>0.004</td>\n",
              "      <td>0.008</td>\n",
              "      <td>0.003</td>\n",
              "      <td>1.000</td>\n",
              "      <td>0.003</td>\n",
              "      <td>0.002</td>\n",
              "      <td>-0.014</td>\n",
              "      <td>-0.007</td>\n",
              "      <td>0.006</td>\n",
              "      <td>-0.008</td>\n",
              "    </tr>\n",
              "    <tr>\n",
              "      <th>total_eve_charge</th>\n",
              "      <td>-0.010</td>\n",
              "      <td>0.019</td>\n",
              "      <td>-0.011</td>\n",
              "      <td>-0.001</td>\n",
              "      <td>-0.011</td>\n",
              "      <td>1.000</td>\n",
              "      <td>0.003</td>\n",
              "      <td>1.000</td>\n",
              "      <td>-0.017</td>\n",
              "      <td>0.013</td>\n",
              "      <td>0.000</td>\n",
              "      <td>0.008</td>\n",
              "      <td>0.000</td>\n",
              "    </tr>\n",
              "    <tr>\n",
              "      <th>total_night_minutes</th>\n",
              "      <td>0.001</td>\n",
              "      <td>0.006</td>\n",
              "      <td>0.012</td>\n",
              "      <td>0.003</td>\n",
              "      <td>0.012</td>\n",
              "      <td>-0.017</td>\n",
              "      <td>0.002</td>\n",
              "      <td>-0.017</td>\n",
              "      <td>1.000</td>\n",
              "      <td>0.027</td>\n",
              "      <td>-0.007</td>\n",
              "      <td>-0.017</td>\n",
              "      <td>-0.007</td>\n",
              "    </tr>\n",
              "    <tr>\n",
              "      <th>total_night_calls</th>\n",
              "      <td>-0.008</td>\n",
              "      <td>0.003</td>\n",
              "      <td>0.004</td>\n",
              "      <td>-0.008</td>\n",
              "      <td>0.004</td>\n",
              "      <td>0.013</td>\n",
              "      <td>-0.014</td>\n",
              "      <td>0.013</td>\n",
              "      <td>0.027</td>\n",
              "      <td>1.000</td>\n",
              "      <td>0.000</td>\n",
              "      <td>-0.000</td>\n",
              "      <td>0.000</td>\n",
              "    </tr>\n",
              "    <tr>\n",
              "      <th>total_intl_minutes</th>\n",
              "      <td>0.001</td>\n",
              "      <td>0.002</td>\n",
              "      <td>-0.019</td>\n",
              "      <td>0.013</td>\n",
              "      <td>-0.019</td>\n",
              "      <td>0.000</td>\n",
              "      <td>-0.007</td>\n",
              "      <td>0.000</td>\n",
              "      <td>-0.007</td>\n",
              "      <td>0.000</td>\n",
              "      <td>1.000</td>\n",
              "      <td>0.017</td>\n",
              "      <td>1.000</td>\n",
              "    </tr>\n",
              "    <tr>\n",
              "      <th>total_intl_calls</th>\n",
              "      <td>0.014</td>\n",
              "      <td>0.000</td>\n",
              "      <td>-0.001</td>\n",
              "      <td>0.011</td>\n",
              "      <td>-0.001</td>\n",
              "      <td>0.008</td>\n",
              "      <td>0.006</td>\n",
              "      <td>0.008</td>\n",
              "      <td>-0.017</td>\n",
              "      <td>-0.000</td>\n",
              "      <td>0.017</td>\n",
              "      <td>1.000</td>\n",
              "      <td>0.017</td>\n",
              "    </tr>\n",
              "    <tr>\n",
              "      <th>total_intl_charge</th>\n",
              "      <td>0.001</td>\n",
              "      <td>0.003</td>\n",
              "      <td>-0.019</td>\n",
              "      <td>0.013</td>\n",
              "      <td>-0.019</td>\n",
              "      <td>0.000</td>\n",
              "      <td>-0.008</td>\n",
              "      <td>0.000</td>\n",
              "      <td>-0.007</td>\n",
              "      <td>0.000</td>\n",
              "      <td>1.000</td>\n",
              "      <td>0.017</td>\n",
              "      <td>1.000</td>\n",
              "    </tr>\n",
              "  </tbody>\n",
              "</table>\n",
              "</div>"
            ],
            "text/plain": [
              "                       account_length  number_vmail_messages  \\\n",
              "account_length                  1.000                 -0.015   \n",
              "number_vmail_messages          -0.015                  1.000   \n",
              "total_day_minutes              -0.001                  0.005   \n",
              "total_day_calls                 0.028                  0.001   \n",
              "total_day_charge               -0.001                  0.005   \n",
              "total_eve_minutes              -0.010                  0.019   \n",
              "total_eve_calls                 0.009                 -0.004   \n",
              "total_eve_charge               -0.010                  0.019   \n",
              "total_night_minutes             0.001                  0.006   \n",
              "total_night_calls              -0.008                  0.003   \n",
              "total_intl_minutes              0.001                  0.002   \n",
              "total_intl_calls                0.014                  0.000   \n",
              "total_intl_charge               0.001                  0.003   \n",
              "\n",
              "                       total_day_minutes  total_day_calls  total_day_charge  \\\n",
              "account_length                    -0.001            0.028            -0.001   \n",
              "number_vmail_messages              0.005            0.001             0.005   \n",
              "total_day_minutes                  1.000            0.002             1.000   \n",
              "total_day_calls                    0.002            1.000             0.002   \n",
              "total_day_charge                   1.000            0.002             1.000   \n",
              "total_eve_minutes                 -0.011           -0.001            -0.011   \n",
              "total_eve_calls                    0.008            0.004             0.008   \n",
              "total_eve_charge                  -0.011           -0.001            -0.011   \n",
              "total_night_minutes                0.012            0.003             0.012   \n",
              "total_night_calls                  0.004           -0.008             0.004   \n",
              "total_intl_minutes                -0.019            0.013            -0.019   \n",
              "total_intl_calls                  -0.001            0.011            -0.001   \n",
              "total_intl_charge                 -0.019            0.013            -0.019   \n",
              "\n",
              "                       total_eve_minutes  total_eve_calls  total_eve_charge  \\\n",
              "account_length                    -0.010            0.009            -0.010   \n",
              "number_vmail_messages              0.019           -0.004             0.019   \n",
              "total_day_minutes                 -0.011            0.008            -0.011   \n",
              "total_day_calls                   -0.001            0.004            -0.001   \n",
              "total_day_charge                  -0.011            0.008            -0.011   \n",
              "total_eve_minutes                  1.000            0.003             1.000   \n",
              "total_eve_calls                    0.003            1.000             0.003   \n",
              "total_eve_charge                   1.000            0.003             1.000   \n",
              "total_night_minutes               -0.017            0.002            -0.017   \n",
              "total_night_calls                  0.013           -0.014             0.013   \n",
              "total_intl_minutes                 0.000           -0.007             0.000   \n",
              "total_intl_calls                   0.008            0.006             0.008   \n",
              "total_intl_charge                  0.000           -0.008             0.000   \n",
              "\n",
              "                       total_night_minutes  total_night_calls  \\\n",
              "account_length                       0.001             -0.008   \n",
              "number_vmail_messages                0.006              0.003   \n",
              "total_day_minutes                    0.012              0.004   \n",
              "total_day_calls                      0.003             -0.008   \n",
              "total_day_charge                     0.012              0.004   \n",
              "total_eve_minutes                   -0.017              0.013   \n",
              "total_eve_calls                      0.002             -0.014   \n",
              "total_eve_charge                    -0.017              0.013   \n",
              "total_night_minutes                  1.000              0.027   \n",
              "total_night_calls                    0.027              1.000   \n",
              "total_intl_minutes                  -0.007              0.000   \n",
              "total_intl_calls                    -0.017             -0.000   \n",
              "total_intl_charge                   -0.007              0.000   \n",
              "\n",
              "                       total_intl_minutes  total_intl_calls  total_intl_charge  \n",
              "account_length                      0.001             0.014              0.001  \n",
              "number_vmail_messages               0.002             0.000              0.003  \n",
              "total_day_minutes                  -0.019            -0.001             -0.019  \n",
              "total_day_calls                     0.013             0.011              0.013  \n",
              "total_day_charge                   -0.019            -0.001             -0.019  \n",
              "total_eve_minutes                   0.000             0.008              0.000  \n",
              "total_eve_calls                    -0.007             0.006             -0.008  \n",
              "total_eve_charge                    0.000             0.008              0.000  \n",
              "total_night_minutes                -0.007            -0.017             -0.007  \n",
              "total_night_calls                   0.000            -0.000              0.000  \n",
              "total_intl_minutes                  1.000             0.017              1.000  \n",
              "total_intl_calls                    0.017             1.000              0.017  \n",
              "total_intl_charge                   1.000             0.017              1.000  "
            ]
          },
          "metadata": {
            "tags": []
          },
          "execution_count": 43
        }
      ]
    },
    {
      "cell_type": "code",
      "metadata": {
        "id": "8lSBZEQoXIix",
        "colab_type": "code",
        "outputId": "0eee1766-2572-4dfa-f8cb-c615abd885dd",
        "colab": {
          "base_uri": "https://localhost:8080/",
          "height": 312
        }
      },
      "source": [
        "#understand subcategories of 'state' column\n",
        "bar_state = pd.get_dummies(churn_df['state']).sum()\n",
        "\n",
        "#KS                   1\n",
        "#OH                   3\n",
        "#OK                   3\n",
        "\n",
        "bar_state.sort_values(ascending=True).plot.bar(label = 'state')\n",
        "plt.title('Distribution of Split States')\n",
        "plt.legend(loc = 'upper left')\n",
        "plt.xticks(np.arange(0, 51, step=5), rotation = 0)\n",
        "plt.ylabel('count')\n",
        "plt.xlabel('states')"
      ],
      "execution_count": 45,
      "outputs": [
        {
          "output_type": "execute_result",
          "data": {
            "text/plain": [
              "Text(0.5, 0, 'states')"
            ]
          },
          "metadata": {
            "tags": []
          },
          "execution_count": 45
        },
        {
          "output_type": "display_data",
          "data": {
            "image/png": "[encoded data removed]",
            "text/plain": [
              "<Figure size 432x288 with 1 Axes>"
            ]
          },
          "metadata": {
            "tags": [],
            "needs_background": "light"
          }
        }
      ]
    },
    {
      "cell_type": "markdown",
      "metadata": {
        "colab_type": "text",
        "id": "aFa4d6t3i0NH"
      },
      "source": [
        "# Part 2: Feature Preprocessing"
      ]
    },
    {
      "cell_type": "markdown",
      "metadata": {
        "id": "p3A3e0t_V3Hf",
        "colab_type": "text"
      },
      "source": [
        "### Part 2.1: Get ground truth data and convert data types to numerical or boolean for next steps"
      ]
    },
    {
      "cell_type": "code",
      "metadata": {
        "colab_type": "code",
        "id": "pxtf6XoJi0NI",
        "scrolled": true,
        "outputId": "18517422-914c-443b-d8fa-309c4e57456a",
        "colab": {
          "base_uri": "https://localhost:8080/",
          "height": 224
        }
      },
      "source": [
        "churn_df.head()"
      ],
      "execution_count": 46,
      "outputs": [
        {
          "output_type": "execute_result",
          "data": {
            "text/html": [
              "<div>\n",
              "<style scoped>\n",
              "    .dataframe tbody tr th:only-of-type {\n",
              "        vertical-align: middle;\n",
              "    }\n",
              "\n",
              "    .dataframe tbody tr th {\n",
              "        vertical-align: top;\n",
              "    }\n",
              "\n",
              "    .dataframe thead th {\n",
              "        text-align: right;\n",
              "    }\n",
              "</style>\n",
              "<table border=\"1\" class=\"dataframe\">\n",
              "  <thead>\n",
              "    <tr style=\"text-align: right;\">\n",
              "      <th></th>\n",
              "      <th>state</th>\n",
              "      <th>account_length</th>\n",
              "      <th>area_code</th>\n",
              "      <th>phone_number</th>\n",
              "      <th>intl_plan</th>\n",
              "      <th>voice_mail_plan</th>\n",
              "      <th>number_vmail_messages</th>\n",
              "      <th>total_day_minutes</th>\n",
              "      <th>total_day_calls</th>\n",
              "      <th>total_day_charge</th>\n",
              "      <th>total_eve_minutes</th>\n",
              "      <th>total_eve_calls</th>\n",
              "      <th>total_eve_charge</th>\n",
              "      <th>total_night_minutes</th>\n",
              "      <th>total_night_calls</th>\n",
              "      <th>total_night_charge</th>\n",
              "      <th>total_intl_minutes</th>\n",
              "      <th>total_intl_calls</th>\n",
              "      <th>total_intl_charge</th>\n",
              "      <th>number_customer_service_calls</th>\n",
              "      <th>churned</th>\n",
              "    </tr>\n",
              "  </thead>\n",
              "  <tbody>\n",
              "    <tr>\n",
              "      <th>0</th>\n",
              "      <td>KS</td>\n",
              "      <td>128</td>\n",
              "      <td>415</td>\n",
              "      <td>382-4657</td>\n",
              "      <td>no</td>\n",
              "      <td>yes</td>\n",
              "      <td>25</td>\n",
              "      <td>265.100</td>\n",
              "      <td>110</td>\n",
              "      <td>45.070</td>\n",
              "      <td>197.400</td>\n",
              "      <td>99</td>\n",
              "      <td>16.780</td>\n",
              "      <td>244.700</td>\n",
              "      <td>91</td>\n",
              "      <td>11.010</td>\n",
              "      <td>10.000</td>\n",
              "      <td>3</td>\n",
              "      <td>2.700</td>\n",
              "      <td>1</td>\n",
              "      <td>False</td>\n",
              "    </tr>\n",
              "    <tr>\n",
              "      <th>1</th>\n",
              "      <td>OH</td>\n",
              "      <td>107</td>\n",
              "      <td>415</td>\n",
              "      <td>371-7191</td>\n",
              "      <td>no</td>\n",
              "      <td>yes</td>\n",
              "      <td>26</td>\n",
              "      <td>161.600</td>\n",
              "      <td>123</td>\n",
              "      <td>27.470</td>\n",
              "      <td>195.500</td>\n",
              "      <td>103</td>\n",
              "      <td>16.620</td>\n",
              "      <td>254.400</td>\n",
              "      <td>103</td>\n",
              "      <td>11.450</td>\n",
              "      <td>13.700</td>\n",
              "      <td>3</td>\n",
              "      <td>3.700</td>\n",
              "      <td>1</td>\n",
              "      <td>False</td>\n",
              "    </tr>\n",
              "    <tr>\n",
              "      <th>2</th>\n",
              "      <td>NJ</td>\n",
              "      <td>137</td>\n",
              "      <td>415</td>\n",
              "      <td>358-1921</td>\n",
              "      <td>no</td>\n",
              "      <td>no</td>\n",
              "      <td>0</td>\n",
              "      <td>243.400</td>\n",
              "      <td>114</td>\n",
              "      <td>41.380</td>\n",
              "      <td>121.200</td>\n",
              "      <td>110</td>\n",
              "      <td>10.300</td>\n",
              "      <td>162.600</td>\n",
              "      <td>104</td>\n",
              "      <td>7.320</td>\n",
              "      <td>12.200</td>\n",
              "      <td>5</td>\n",
              "      <td>3.290</td>\n",
              "      <td>0</td>\n",
              "      <td>False</td>\n",
              "    </tr>\n",
              "    <tr>\n",
              "      <th>3</th>\n",
              "      <td>OH</td>\n",
              "      <td>84</td>\n",
              "      <td>408</td>\n",
              "      <td>375-9999</td>\n",
              "      <td>yes</td>\n",
              "      <td>no</td>\n",
              "      <td>0</td>\n",
              "      <td>299.400</td>\n",
              "      <td>71</td>\n",
              "      <td>50.900</td>\n",
              "      <td>61.900</td>\n",
              "      <td>88</td>\n",
              "      <td>5.260</td>\n",
              "      <td>196.900</td>\n",
              "      <td>89</td>\n",
              "      <td>8.860</td>\n",
              "      <td>6.600</td>\n",
              "      <td>7</td>\n",
              "      <td>1.780</td>\n",
              "      <td>2</td>\n",
              "      <td>False</td>\n",
              "    </tr>\n",
              "    <tr>\n",
              "      <th>4</th>\n",
              "      <td>OK</td>\n",
              "      <td>75</td>\n",
              "      <td>415</td>\n",
              "      <td>330-6626</td>\n",
              "      <td>yes</td>\n",
              "      <td>no</td>\n",
              "      <td>0</td>\n",
              "      <td>166.700</td>\n",
              "      <td>113</td>\n",
              "      <td>28.340</td>\n",
              "      <td>148.300</td>\n",
              "      <td>122</td>\n",
              "      <td>12.610</td>\n",
              "      <td>186.900</td>\n",
              "      <td>121</td>\n",
              "      <td>8.410</td>\n",
              "      <td>10.100</td>\n",
              "      <td>3</td>\n",
              "      <td>2.730</td>\n",
              "      <td>3</td>\n",
              "      <td>False</td>\n",
              "    </tr>\n",
              "  </tbody>\n",
              "</table>\n",
              "</div>"
            ],
            "text/plain": [
              "  state  account_length  area_code phone_number intl_plan voice_mail_plan  \\\n",
              "0    KS             128        415     382-4657        no             yes   \n",
              "1    OH             107        415     371-7191        no             yes   \n",
              "2    NJ             137        415     358-1921        no              no   \n",
              "3    OH              84        408     375-9999       yes              no   \n",
              "4    OK              75        415     330-6626       yes              no   \n",
              "\n",
              "   number_vmail_messages  total_day_minutes  total_day_calls  \\\n",
              "0                     25            265.100              110   \n",
              "1                     26            161.600              123   \n",
              "2                      0            243.400              114   \n",
              "3                      0            299.400               71   \n",
              "4                      0            166.700              113   \n",
              "\n",
              "   total_day_charge  total_eve_minutes  total_eve_calls  total_eve_charge  \\\n",
              "0            45.070            197.400               99            16.780   \n",
              "1            27.470            195.500              103            16.620   \n",
              "2            41.380            121.200              110            10.300   \n",
              "3            50.900             61.900               88             5.260   \n",
              "4            28.340            148.300              122            12.610   \n",
              "\n",
              "   total_night_minutes  total_night_calls  total_night_charge  \\\n",
              "0              244.700                 91              11.010   \n",
              "1              254.400                103              11.450   \n",
              "2              162.600                104               7.320   \n",
              "3              196.900                 89               8.860   \n",
              "4              186.900                121               8.410   \n",
              "\n",
              "   total_intl_minutes  total_intl_calls  total_intl_charge  \\\n",
              "0              10.000                 3              2.700   \n",
              "1              13.700                 3              3.700   \n",
              "2              12.200                 5              3.290   \n",
              "3               6.600                 7              1.780   \n",
              "4              10.100                 3              2.730   \n",
              "\n",
              "   number_customer_service_calls churned  \n",
              "0                              1   False  \n",
              "1                              1   False  \n",
              "2                              0   False  \n",
              "3                              2   False  \n",
              "4                              3   False  "
            ]
          },
          "metadata": {
            "tags": []
          },
          "execution_count": 46
        }
      ]
    },
    {
      "cell_type": "code",
      "metadata": {
        "colab_type": "code",
        "id": "4ec5r_Qdi0NL",
        "colab": {}
      },
      "source": [
        "# Get ground truth data\n",
        "y = np.where(churn_df['churned'] == 'True', 1, 0)\n",
        "\n",
        "# Drop some useless columns\n",
        "to_drop = ['state','area_code','phone_number','churned']\n",
        "churn_feat_space = churn_df.drop(to_drop, axis=1)\n",
        "\n",
        "# yes and no have to be converted to boolean values\n",
        "yes_no_cols = [\"intl_plan\", \"voice_mail_plan\"]\n",
        "churn_feat_space[yes_no_cols] = churn_feat_space[yes_no_cols] == 'yes'\n",
        "\n",
        "X = churn_feat_space"
      ],
      "execution_count": 0,
      "outputs": []
    },
    {
      "cell_type": "code",
      "metadata": {
        "colab_type": "code",
        "id": "rzCo_GC97rGd",
        "outputId": "b0f7fabf-3232-4845-b4d3-4e66debc6620",
        "colab": {
          "base_uri": "https://localhost:8080/",
          "height": 34
        }
      },
      "source": [
        "# check the propotion of y = 1\n",
        "print(y.sum() / y.shape * 100)"
      ],
      "execution_count": 48,
      "outputs": [
        {
          "output_type": "stream",
          "text": [
            "[14.14]\n"
          ],
          "name": "stdout"
        }
      ]
    },
    {
      "cell_type": "markdown",
      "metadata": {
        "colab_type": "text",
        "id": "oNsZwmWxi0NP"
      },
      "source": [
        "comment: I removed the 'state' column in further analysis due to the time constraint but I wanted to understand how 'state' has an influence in our feature matrix. I vectorized 50 more columns for each and every state with one-hot-encoding but that would create too many features for now. Implementing different methods of encoding would be the next improvement"
      ]
    },
    {
      "cell_type": "code",
      "metadata": {
        "cellView": "both",
        "colab_type": "code",
        "id": "MrsjiqTwi0NQ",
        "colab": {}
      },
      "source": [
        "# for reference only\n",
        "to_drop_state = ['area_code','phone_number','churned']\n",
        "churn_feat_space_state = churn_df.drop(to_drop_state, axis=1)\n",
        "\n",
        "# yes and no have to be converted to boolean values\n",
        "yes_no_cols = [\"intl_plan\",\"voice_mail_plan\"]\n",
        "churn_feat_space_state[yes_no_cols] = churn_feat_space_state[yes_no_cols] == 'yes'\n",
        "\n",
        "# sklearn.preprocessing.OneHotEncoder\n",
        "churn_feat_space_state = pd.get_dummies(churn_feat_space_state, columns=['state'])\n",
        "\n",
        "churn_feat_space_state.head()"
      ],
      "execution_count": 0,
      "outputs": []
    },
    {
      "cell_type": "markdown",
      "metadata": {
        "colab_type": "text",
        "id": "77OjmSl9i0Nf"
      },
      "source": [
        "### Part 2.2: Split dataset into training and testing"
      ]
    },
    {
      "cell_type": "code",
      "metadata": {
        "colab_type": "code",
        "id": "Uay8Md5li0Nh",
        "outputId": "b23e4ff4-d3f4-4350-d106-be10239576eb",
        "colab": {
          "base_uri": "https://localhost:8080/",
          "height": 51
        }
      },
      "source": [
        "# Split the data into training and testing\n",
        "from sklearn import model_selection\n",
        "\n",
        "# Reserve 20% for testing\n",
        "X_train, X_test, y_train, y_test = model_selection.train_test_split(X, y, test_size=0.2)\n",
        "\n",
        "print('training data has ' + str(X_train.shape[0]) + ' observation with ' + str(X_train.shape[1]) + ' features')\n",
        "print('test data has ' + str(X_test.shape[0]) + ' observation with ' + str(X_test.shape[1]) + ' features')"
      ],
      "execution_count": 49,
      "outputs": [
        {
          "output_type": "stream",
          "text": [
            "training data has 4000 observation with 17 features\n",
            "test data has 1000 observation with 17 features\n"
          ],
          "name": "stdout"
        }
      ]
    },
    {
      "cell_type": "code",
      "metadata": {
        "id": "uSg8XPq5jj9F",
        "colab_type": "code",
        "outputId": "4a4aed0a-bbc8-42ca-a075-67a1df6c9bc7",
        "colab": {
          "base_uri": "https://localhost:8080/",
          "height": 51
        }
      },
      "source": [
        "# Feb follow-up\n",
        "# Split the data into training and testing\n",
        "from sklearn import model_selection\n",
        "\n",
        "# Reserve 20% for testing\n",
        "X_up_train, X_up_test, y_train, y_test = model_selection.train_test_split(X_update, y, test_size=0.2)\n",
        "\n",
        "print('training data has ' + str(X_up_train.shape[0]) + ' observation with ' + str(X_up_train.shape[1]) + ' features')\n",
        "print('test data has ' + str(X_up_test.shape[0]) + ' observation with ' + str(X_up_test.shape[1]) + ' features')"
      ],
      "execution_count": 0,
      "outputs": [
        {
          "output_type": "stream",
          "text": [
            "training data has 4000 observation with 21 features\n",
            "test data has 1000 observation with 21 features\n"
          ],
          "name": "stdout"
        }
      ]
    },
    {
      "cell_type": "markdown",
      "metadata": {
        "id": "k5kEeaqmWeLZ",
        "colab_type": "text"
      },
      "source": [
        "### Part 2.3: Feature Scaling"
      ]
    },
    {
      "cell_type": "markdown",
      "metadata": {
        "id": "_FmQVL_yZjr0",
        "colab_type": "text"
      },
      "source": [
        "#### Part 2.3.1: Standardization"
      ]
    },
    {
      "cell_type": "code",
      "metadata": {
        "colab_type": "code",
        "id": "JuPhtUkJi0NW",
        "colab": {}
      },
      "source": [
        "# Scale the data using standardization\n",
        "\n",
        "from sklearn.preprocessing import StandardScaler\n",
        "std_scaler = StandardScaler()\n",
        "X_train_std = std_scaler.fit_transform(X_train)\n",
        "X_test_std = std_scaler.transform(X_test)"
      ],
      "execution_count": 0,
      "outputs": []
    },
    {
      "cell_type": "code",
      "metadata": {
        "id": "P9BXfNNSaVMd",
        "colab_type": "code",
        "outputId": "4f275167-452e-4346-ae92-0e61eee7ce09",
        "colab": {
          "base_uri": "https://localhost:8080/",
          "height": 238
        }
      },
      "source": [
        "X_train_std"
      ],
      "execution_count": 51,
      "outputs": [
        {
          "output_type": "execute_result",
          "data": {
            "text/plain": [
              "array([[ 0.16819926, -0.32352314,  1.67076904, ..., -1.39125586,\n",
              "         0.26928557,  0.32542454],\n",
              "       [-0.33569307, -0.32352314, -0.59852677, ...,  0.22624841,\n",
              "        -0.98578267,  1.08709694],\n",
              "       [ 0.94923236, -0.32352314, -0.59852677, ..., -1.39125586,\n",
              "         0.48291421, -1.19792028],\n",
              "       ...,\n",
              "       [-0.58763923, -0.32352314,  1.67076904, ..., -0.17812766,\n",
              "         1.81809319,  2.61044175],\n",
              "       [-0.13413614, -0.32352314, -0.59852677, ..., -0.98687979,\n",
              "        -0.51847003, -0.43624787],\n",
              "       [ 0.3949508 , -0.32352314, -0.59852677, ..., -0.98687979,\n",
              "        -0.85226477,  1.08709694]])"
            ]
          },
          "metadata": {
            "tags": []
          },
          "execution_count": 51
        }
      ]
    },
    {
      "cell_type": "markdown",
      "metadata": {
        "id": "s4SNleFJZtFR",
        "colab_type": "text"
      },
      "source": [
        "####Part 2.3.2: Normalization"
      ]
    },
    {
      "cell_type": "code",
      "metadata": {
        "id": "G9i2jZZaZiVM",
        "colab_type": "code",
        "colab": {}
      },
      "source": [
        "# Scale the data using normalization\n",
        "\n",
        "from sklearn.preprocessing import MinMaxScaler\n",
        "nor_scaler = MinMaxScaler()\n",
        "X_train_nor = nor_scaler.fit_transform(X_train)\n",
        "X_test_nor = nor_scaler.transform(X_test)"
      ],
      "execution_count": 0,
      "outputs": []
    },
    {
      "cell_type": "code",
      "metadata": {
        "id": "adgmKg5dakSZ",
        "colab_type": "code",
        "outputId": "965273dd-7540-4485-fced-90007077e7c3",
        "colab": {
          "base_uri": "https://localhost:8080/",
          "height": 238
        }
      },
      "source": [
        "X_train_nor"
      ],
      "execution_count": 53,
      "outputs": [
        {
          "output_type": "execute_result",
          "data": {
            "text/plain": [
              "array([[0.43801653, 0.        , 1.        , ..., 0.05      , 0.55      ,\n",
              "        0.22222222],\n",
              "       [0.3553719 , 0.        , 0.        , ..., 0.25      , 0.37592593,\n",
              "        0.33333333],\n",
              "       [0.5661157 , 0.        , 0.        , ..., 0.05      , 0.57962963,\n",
              "        0.        ],\n",
              "       ...,\n",
              "       [0.31404959, 0.        , 1.        , ..., 0.2       , 0.76481481,\n",
              "        0.55555556],\n",
              "       [0.38842975, 0.        , 0.        , ..., 0.1       , 0.44074074,\n",
              "        0.11111111],\n",
              "       [0.47520661, 0.        , 0.        , ..., 0.1       , 0.39444444,\n",
              "        0.33333333]])"
            ]
          },
          "metadata": {
            "tags": []
          },
          "execution_count": 53
        }
      ]
    },
    {
      "cell_type": "code",
      "metadata": {
        "id": "A9oyNWiXpcBO",
        "colab_type": "code",
        "colab": {}
      },
      "source": [
        "# Feb follow-up\n",
        "# Scale the data using normalization\n",
        "\n",
        "from sklearn.preprocessing import MinMaxScaler\n",
        "nor_scaler = MinMaxScaler()\n",
        "X_up_train_nor = nor_scaler.fit_transform(X_up_train)\n",
        "X_up_test_nor = nor_scaler.transform(X_up_test)"
      ],
      "execution_count": 0,
      "outputs": []
    },
    {
      "cell_type": "markdown",
      "metadata": {
        "colab_type": "text",
        "id": "q3x9ySX_i0Nd"
      },
      "source": [
        "# Part 3: Model Training and Result Evaluation"
      ]
    },
    {
      "cell_type": "markdown",
      "metadata": {
        "colab_type": "text",
        "id": "c4UTtCQTi0Nl"
      },
      "source": [
        "### Part 3.1: Model Training and Selection"
      ]
    },
    {
      "cell_type": "code",
      "metadata": {
        "cellView": "both",
        "colab_type": "code",
        "id": "EAhSxINLi0Nl",
        "colab": {}
      },
      "source": [
        "#build models for classification\n",
        "from sklearn.ensemble import RandomForestClassifier\n",
        "from sklearn.neighbors import KNeighborsClassifier \n",
        "from sklearn.linear_model import LogisticRegression\n",
        "\n",
        "# Logistic Regression\n",
        "classifier_logistic = LogisticRegression()\n",
        "\n",
        "# K Nearest Neighbors\n",
        "classifier_KNN = KNeighborsClassifier()\n",
        "\n",
        "# Random Forest\n",
        "classifier_RF = RandomForestClassifier()"
      ],
      "execution_count": 0,
      "outputs": []
    },
    {
      "cell_type": "markdown",
      "metadata": {
        "id": "ygSSIs4q7wQl",
        "colab_type": "text"
      },
      "source": [
        "#### Group 1: Standardized data sets"
      ]
    },
    {
      "cell_type": "code",
      "metadata": {
        "colab_type": "code",
        "id": "Av0IRSoBQ3pe",
        "outputId": "06f758fb-4715-49a7-a10f-59507dd5adb3",
        "colab": {
          "base_uri": "https://localhost:8080/",
          "height": 102
        }
      },
      "source": [
        "# Train the model\n",
        "classifier_logistic.fit(X_train_std, y_train)"
      ],
      "execution_count": 66,
      "outputs": [
        {
          "output_type": "execute_result",
          "data": {
            "text/plain": [
              "LogisticRegression(C=1.0, class_weight=None, dual=False, fit_intercept=True,\n",
              "                   intercept_scaling=1, l1_ratio=None, max_iter=100,\n",
              "                   multi_class='auto', n_jobs=None, penalty='l2',\n",
              "                   random_state=None, solver='lbfgs', tol=0.0001, verbose=0,\n",
              "                   warm_start=False)"
            ]
          },
          "metadata": {
            "tags": []
          },
          "execution_count": 66
        }
      ]
    },
    {
      "cell_type": "code",
      "metadata": {
        "id": "HXagPtOz6miY",
        "colab_type": "code",
        "outputId": "a7fb5c94-24c9-4337-c2a3-0ceadf7a5868",
        "colab": {
          "base_uri": "https://localhost:8080/",
          "height": 153
        }
      },
      "source": [
        "classifier_RF.fit(X_train_std, y_train)"
      ],
      "execution_count": 67,
      "outputs": [
        {
          "output_type": "execute_result",
          "data": {
            "text/plain": [
              "RandomForestClassifier(bootstrap=True, ccp_alpha=0.0, class_weight=None,\n",
              "                       criterion='gini', max_depth=None, max_features='auto',\n",
              "                       max_leaf_nodes=None, max_samples=None,\n",
              "                       min_impurity_decrease=0.0, min_impurity_split=None,\n",
              "                       min_samples_leaf=1, min_samples_split=2,\n",
              "                       min_weight_fraction_leaf=0.0, n_estimators=100,\n",
              "                       n_jobs=None, oob_score=False, random_state=None,\n",
              "                       verbose=0, warm_start=False)"
            ]
          },
          "metadata": {
            "tags": []
          },
          "execution_count": 67
        }
      ]
    },
    {
      "cell_type": "code",
      "metadata": {
        "id": "PVIiNelL8iud",
        "colab_type": "code",
        "outputId": "83ca7421-7dd9-4c83-d89c-ddee1b2bd2ff",
        "colab": {
          "base_uri": "https://localhost:8080/",
          "height": 68
        }
      },
      "source": [
        "classifier_KNN.fit(X_train_std, y_train)"
      ],
      "execution_count": 68,
      "outputs": [
        {
          "output_type": "execute_result",
          "data": {
            "text/plain": [
              "KNeighborsClassifier(algorithm='auto', leaf_size=30, metric='minkowski',\n",
              "                     metric_params=None, n_jobs=None, n_neighbors=5, p=2,\n",
              "                     weights='uniform')"
            ]
          },
          "metadata": {
            "tags": []
          },
          "execution_count": 68
        }
      ]
    },
    {
      "cell_type": "code",
      "metadata": {
        "colab_type": "code",
        "id": "1OCgNSNri0Nn",
        "outputId": "763d296f-38a8-4b9b-a04b-dbe96ffc9ef3",
        "colab": {
          "base_uri": "https://localhost:8080/",
          "height": 119
        }
      },
      "source": [
        "# Use 5-fold Cross Validation to select model based on accuracy \n",
        "# note: the machine either correctly classify or doesn't so we use classification score, not mean squared error\n",
        "model_names = ['Logistic Regression','KNN','Random Forest']\n",
        "model_list = [classifier_logistic, classifier_KNN, classifier_RF]\n",
        "count = 0\n",
        "\n",
        "for classifier in model_list:\n",
        "    cv_score = model_selection.cross_val_score(classifier, X_train_std, y_train, cv=5, scoring = 'accuracy')\n",
        "    print(cv_score)\n",
        "    print('Model accuracy of ' + model_names[count] + ' is ' + str(cv_score.mean()))\n",
        "    count += 1"
      ],
      "execution_count": 69,
      "outputs": [
        {
          "output_type": "stream",
          "text": [
            "[0.8675  0.86875 0.86875 0.8675  0.8425 ]\n",
            "Model accuracy of Logistic Regression is 0.8630000000000001\n",
            "[0.9075  0.9     0.89125 0.89375 0.90125]\n",
            "Model accuracy of KNN is 0.89875\n",
            "[0.95375 0.9575  0.9525  0.95625 0.95625]\n",
            "Model accuracy of Random Forest is 0.95525\n"
          ],
          "name": "stdout"
        }
      ]
    },
    {
      "cell_type": "markdown",
      "metadata": {
        "id": "MywlomIX8RC2",
        "colab_type": "text"
      },
      "source": [
        "#### Group 2: Normalized data sets"
      ]
    },
    {
      "cell_type": "code",
      "metadata": {
        "id": "sElAnnvXCvlJ",
        "colab_type": "code",
        "outputId": "c345eae2-c9f0-4366-9476-10831354ed7a",
        "colab": {
          "base_uri": "https://localhost:8080/",
          "height": 119
        }
      },
      "source": [
        "model_name = ['Logistic Regression', 'KNN', 'Random Forest']\n",
        "model_list = [classifier_logistic, classifier_KNN, classifier_RF]\n",
        "count = 0\n",
        "\n",
        "for classifier in model_list:\n",
        "  cv_score = model_selection.cross_val_score(classifier, X_train_nor, y_train, cv = 5, scoring = 'accuracy')\n",
        "  print(cv_score)\n",
        "  print('Model accuracy of ', model_name[count], ' is ', str(cv_score.mean()))\n",
        "  count += 1"
      ],
      "execution_count": 0,
      "outputs": [
        {
          "output_type": "stream",
          "text": [
            "[0.8675  0.87875 0.87    0.8675  0.8475 ]\n",
            "Model accuracy of  Logistic Regression  is  0.86625\n",
            "[0.89875 0.8975  0.89375 0.9     0.89125]\n",
            "Model accuracy of  KNN  is  0.89625\n",
            "[0.95625 0.94875 0.96125 0.96375 0.95125]\n",
            "Model accuracy of  Random Forest  is  0.95625\n"
          ],
          "name": "stdout"
        }
      ]
    },
    {
      "cell_type": "markdown",
      "metadata": {
        "id": "7IbvkKJn-gsO",
        "colab_type": "text"
      },
      "source": [
        "Based on cross validation performance results (accuracy), the Random Forest model has the highest accuracy among the 3 models.\n",
        "\n",
        "We can also see that while difference between the 2 scaling methods is small,Standardized results are still better than normalized ones. Thus I will use standardized dataset moving forward."
      ]
    },
    {
      "cell_type": "markdown",
      "metadata": {
        "id": "3wi1RvnGwuxg",
        "colab_type": "text"
      },
      "source": [
        "### Part 3.2: Penalized Regression with Grid Search to Find Optimal Hyperparameters"
      ]
    },
    {
      "cell_type": "markdown",
      "metadata": {
        "id": "jaQamJuuxJoq",
        "colab_type": "text"
      },
      "source": [
        "Logistic regression has lowest accuracy during the model selection step and lowest recall rate in the model evaluation step. I'd like to try to optimize the result with penalized logistic regression models."
      ]
    },
    {
      "cell_type": "code",
      "metadata": {
        "id": "z96yqgt_wuf7",
        "colab_type": "code",
        "colab": {}
      },
      "source": [
        "from sklearn.model_selection import GridSearchCV\n",
        "\n",
        "def print_grid_search_metrics(model):\n",
        "    print (\"Best score: \" + str(model.best_score_))\n",
        "    print (\"Best parameters set:\")\n",
        "    best_parameters = model.best_params_\n",
        "    for param_name in sorted(parameters.keys()):\n",
        "        print(param_name + ':' + str(best_parameters[param_name]))"
      ],
      "execution_count": 0,
      "outputs": []
    },
    {
      "cell_type": "code",
      "metadata": {
        "id": "LWnlGInYxIwJ",
        "colab_type": "code",
        "outputId": "d6cb605d-6011-445a-ca70-8ab3424b659a",
        "colab": {
          "base_uri": "https://localhost:8080/",
          "height": 255
        }
      },
      "source": [
        "# hyperparamter tuning\n",
        "# Penalty is choosed from either L1 or L2\n",
        "# C is the lambda value(weight) for L1 and L2\n",
        "\n",
        "parameters = {\n",
        "    'penalty':('l1', 'l2'), \n",
        "    'C':(0.001, 0.01, 0.1, 1, 5, 10)\n",
        "}\n",
        "Grid_LR = GridSearchCV(LogisticRegression(), parameters, cv=5)\n",
        "Grid_LR.fit(X_train_std, y_train)"
      ],
      "execution_count": 71,
      "outputs": [
        {
          "output_type": "execute_result",
          "data": {
            "text/plain": [
              "GridSearchCV(cv=5, error_score=nan,\n",
              "             estimator=LogisticRegression(C=1.0, class_weight=None, dual=False,\n",
              "                                          fit_intercept=True,\n",
              "                                          intercept_scaling=1, l1_ratio=None,\n",
              "                                          max_iter=100, multi_class='auto',\n",
              "                                          n_jobs=None, penalty='l2',\n",
              "                                          random_state=None, solver='lbfgs',\n",
              "                                          tol=0.0001, verbose=0,\n",
              "                                          warm_start=False),\n",
              "             iid='deprecated', n_jobs=None,\n",
              "             param_grid={'C': (0.001, 0.01, 0.1, 1, 5, 10),\n",
              "                         'penalty': ('l1', 'l2')},\n",
              "             pre_dispatch='2*n_jobs', refit=True, return_train_score=False,\n",
              "             scoring=None, verbose=0)"
            ]
          },
          "metadata": {
            "tags": []
          },
          "execution_count": 71
        }
      ]
    },
    {
      "cell_type": "code",
      "metadata": {
        "id": "nhQaGrWfxcra",
        "colab_type": "code",
        "outputId": "cff347e6-2479-4ddb-a2ba-4239e2c547a5",
        "colab": {
          "base_uri": "https://localhost:8080/",
          "height": 85
        }
      },
      "source": [
        "# the best hyperparameter combination\n",
        "print_grid_search_metrics(Grid_LR)"
      ],
      "execution_count": 72,
      "outputs": [
        {
          "output_type": "stream",
          "text": [
            "Best score: 0.86625\n",
            "Best parameters set:\n",
            "C:0.01\n",
            "penalty:l2\n"
          ],
          "name": "stdout"
        }
      ]
    },
    {
      "cell_type": "code",
      "metadata": {
        "id": "7CS4A5a3xfeZ",
        "colab_type": "code",
        "colab": {}
      },
      "source": [
        "# best model\n",
        "classifier_Grid_LR = Grid_LR.best_estimator_"
      ],
      "execution_count": 0,
      "outputs": []
    },
    {
      "cell_type": "markdown",
      "metadata": {
        "id": "yhoI5JY0HUCa",
        "colab_type": "text"
      },
      "source": [
        "Add Polynomial features to Ridge Regression"
      ]
    },
    {
      "cell_type": "code",
      "metadata": {
        "id": "qwVACYLrHfMe",
        "colab_type": "code",
        "colab": {}
      },
      "source": [
        "from sklearn.preprocessing import PolynomialFeatures\n",
        "\n",
        "poly = PolynomialFeatures(2)\n",
        "X_train_poly = poly.fit_transform(X_train_std)\n",
        "X_test_poly = poly.transform(X_test_std)"
      ],
      "execution_count": 0,
      "outputs": []
    },
    {
      "cell_type": "code",
      "metadata": {
        "id": "JyPr9nYPH9uN",
        "colab_type": "code",
        "outputId": "b5492f92-fcf9-4096-e0d2-f08b70f1415d",
        "colab": {
          "base_uri": "https://localhost:8080/",
          "height": 255
        }
      },
      "source": [
        "parameters = {\n",
        "    'penalty':('l1', 'l2'), \n",
        "    'C':(0.001, 0.01, 0.1, 1, 5, 10)\n",
        "}\n",
        "Grid_LR_poly = GridSearchCV(LogisticRegression(), parameters, cv=5)\n",
        "Grid_LR_poly.fit(X_train_poly, y_train)"
      ],
      "execution_count": 74,
      "outputs": [
        {
          "output_type": "execute_result",
          "data": {
            "text/plain": [
              "GridSearchCV(cv=5, error_score=nan,\n",
              "             estimator=LogisticRegression(C=1.0, class_weight=None, dual=False,\n",
              "                                          fit_intercept=True,\n",
              "                                          intercept_scaling=1, l1_ratio=None,\n",
              "                                          max_iter=100, multi_class='auto',\n",
              "                                          n_jobs=None, penalty='l2',\n",
              "                                          random_state=None, solver='lbfgs',\n",
              "                                          tol=0.0001, verbose=0,\n",
              "                                          warm_start=False),\n",
              "             iid='deprecated', n_jobs=None,\n",
              "             param_grid={'C': (0.001, 0.01, 0.1, 1, 5, 10),\n",
              "                         'penalty': ('l1', 'l2')},\n",
              "             pre_dispatch='2*n_jobs', refit=True, return_train_score=False,\n",
              "             scoring=None, verbose=0)"
            ]
          },
          "metadata": {
            "tags": []
          },
          "execution_count": 74
        }
      ]
    },
    {
      "cell_type": "code",
      "metadata": {
        "id": "ihzm3ilmIGgf",
        "colab_type": "code",
        "outputId": "5a8692f3-0be1-4973-8fe7-1e9b872eea9b",
        "colab": {
          "base_uri": "https://localhost:8080/",
          "height": 85
        }
      },
      "source": [
        "# the best hyperparameter combination\n",
        "print_grid_search_metrics(Grid_LR_poly)"
      ],
      "execution_count": 75,
      "outputs": [
        {
          "output_type": "stream",
          "text": [
            "Best score: 0.917\n",
            "Best parameters set:\n",
            "C:5\n",
            "penalty:l2\n"
          ],
          "name": "stdout"
        }
      ]
    },
    {
      "cell_type": "code",
      "metadata": {
        "id": "m6I3W4-qIIfL",
        "colab_type": "code",
        "colab": {}
      },
      "source": [
        "# best model\n",
        "classifier_Grid_LR_poly = Grid_LR_poly.best_estimator_"
      ],
      "execution_count": 0,
      "outputs": []
    },
    {
      "cell_type": "markdown",
      "metadata": {
        "colab_type": "text",
        "id": "xxDAOrGIi0OI"
      },
      "source": [
        "###Part 3.3: Model Evaluation - Confusion Matrix (Precision, Recall, Accuracy)"
      ]
    },
    {
      "cell_type": "markdown",
      "metadata": {
        "id": "K-7GcDVdW_l_",
        "colab_type": "text"
      },
      "source": [
        "The class of interest is positive (churned).\n",
        "\n",
        "True Positive (tp): correctly labeled real churn\n",
        "\n",
        "Precision: tp / (tp + fp)\n",
        "Total number of true predictive churn divided by the total number of predictive churn;\n",
        "High Precision means low fp, not many return users were predicted as churn users. \n",
        "\n",
        "\n",
        "Recall: tp / (tp + fn)\n",
        "Predict most postive or churn user correctly. High recall means low fn, not many churn users were predicted as return users."
      ]
    },
    {
      "cell_type": "code",
      "metadata": {
        "colab_type": "code",
        "id": "o-tP94iFi0OI",
        "colab": {}
      },
      "source": [
        "from sklearn.metrics import confusion_matrix\n",
        "\n",
        "# calculate accuracy, precision and recall, [[tn, fp],[fn, tp]]]\n",
        "def cal_evaluation(classifier, cm):\n",
        "    tn = cm[0][0]\n",
        "    fp = cm[0][1]\n",
        "    fn = cm[1][0]\n",
        "    tp = cm[1][1]\n",
        "    accuracy  = (tp + tn) / (tp + fp + fn + tn + 0.0)\n",
        "    precision = tp / (tp + fp + 0.0)\n",
        "    recall = tp / (tp + fn + 0.0)\n",
        "    print (classifier)\n",
        "    print (\"Accuracy is: \" + str(accuracy))\n",
        "    print (\"precision is: \" + str(precision))\n",
        "    print (\"recall is: \" + str(recall))\n",
        "\n",
        "# print out confusion matrices\n",
        "def draw_confusion_matrices(confusion_matrices):\n",
        "    class_names = ['Not','Churn']\n",
        "    for cm in confusion_matrices:\n",
        "        classifier, cm = cm[0], cm[1]\n",
        "        cal_evaluation(classifier, cm)\n",
        "        fig = plt.figure()\n",
        "        ax = fig.add_subplot(111)\n",
        "        cax = ax.matshow(cm, interpolation='nearest',cmap=plt.get_cmap('Reds'))\n",
        "        fig.colorbar(cax)\n",
        "        ax.set_xticklabels([''] + class_names)\n",
        "        ax.set_yticklabels([''] + class_names)\n",
        "        plt.xlabel('Predicted')\n",
        "        plt.ylabel('True')\n",
        "        plt.show()"
      ],
      "execution_count": 0,
      "outputs": []
    },
    {
      "cell_type": "code",
      "metadata": {
        "colab_type": "code",
        "id": "OpSGaN49i0OL",
        "outputId": "87ed1455-199b-4199-f6a4-4c7f649cf83d",
        "colab": {
          "base_uri": "https://localhost:8080/",
          "height": 1007
        }
      },
      "source": [
        "%matplotlib inline\n",
        "\n",
        "# Confusion matrix, accuracy, precison and recall for random forest, logistic regression and KNN\n",
        "confusion_matrices = [\n",
        "    (\"Random Forest\", confusion_matrix(y_test, classifier_RF.predict(X_test_std))),\n",
        "    (\"Logistic Regression\", confusion_matrix(y_test, classifier_logistic.predict(X_test_std))),\n",
        "    (\"KNN\", confusion_matrix(y_test, classifier_KNN.predict(X_test_std)))\n",
        "]\n",
        "\n",
        "draw_confusion_matrices(confusion_matrices)"
      ],
      "execution_count": 79,
      "outputs": [
        {
          "output_type": "stream",
          "text": [
            "Random Forest\n",
            "Accuracy is: 0.956\n",
            "precision is: 0.911504424778761\n",
            "recall is: 0.7518248175182481\n"
          ],
          "name": "stdout"
        },
        {
          "output_type": "display_data",
          "data": {
            "image/png": "[encoded data removed]",
            "text/plain": [
              "<Figure size 432x288 with 2 Axes>"
            ]
          },
          "metadata": {
            "tags": [],
            "needs_background": "light"
          }
        },
        {
          "output_type": "stream",
          "text": [
            "Logistic Regression\n",
            "Accuracy is: 0.867\n",
            "precision is: 0.5416666666666666\n",
            "recall is: 0.1897810218978102\n"
          ],
          "name": "stdout"
        },
        {
          "output_type": "display_data",
          "data": {
            "image/png": "[encoded data removed]",
            "text/plain": [
              "<Figure size 432x288 with 2 Axes>"
            ]
          },
          "metadata": {
            "tags": [],
            "needs_background": "light"
          }
        },
        {
          "output_type": "stream",
          "text": [
            "KNN\n",
            "Accuracy is: 0.895\n",
            "precision is: 0.75\n",
            "recall is: 0.35036496350364965\n"
          ],
          "name": "stdout"
        },
        {
          "output_type": "display_data",
          "data": {
            "image/png": "[encoded data removed]",
            "text/plain": [
              "<Figure size 432x288 with 2 Axes>"
            ]
          },
          "metadata": {
            "tags": [],
            "needs_background": "light"
          }
        }
      ]
    },
    {
      "cell_type": "markdown",
      "metadata": {
        "id": "ykZ4OYmOZsgT",
        "colab_type": "text"
      },
      "source": [
        "There are 14% churned users so the data is a little bit imbalanced. However, the Random Forest model does a good job in terms of recall metric (0.78), which is better than Logistic Regression (0.24) and KNN (0.37)."
      ]
    },
    {
      "cell_type": "code",
      "metadata": {
        "id": "v2W1IPEx9m0c",
        "colab_type": "code",
        "outputId": "cd061b99-d184-4eaf-856d-ae198ff46bd6",
        "colab": {
          "base_uri": "https://localhost:8080/",
          "height": 347
        }
      },
      "source": [
        "%matplotlib inline\n",
        "\n",
        "confusion_matrices_up = [\n",
        "    (\"Penalized Logistic Regression (L2)\", confusion_matrix(y_test, classifier_Grid_LR.predict(X_test_std))),\n",
        "]\n",
        "\n",
        "draw_confusion_matrices(confusion_matrices_up)"
      ],
      "execution_count": 101,
      "outputs": [
        {
          "output_type": "stream",
          "text": [
            "Penalized Logistic Regression (L2)\n",
            "Accuracy is: 0.869\n",
            "precision is: 0.59375\n",
            "recall is: 0.1386861313868613\n"
          ],
          "name": "stdout"
        },
        {
          "output_type": "display_data",
          "data": {
            "image/png": "[encoded data removed]",
            "text/plain": [
              "<Figure size 432x288 with 2 Axes>"
            ]
          },
          "metadata": {
            "tags": [],
            "needs_background": "light"
          }
        }
      ]
    },
    {
      "cell_type": "markdown",
      "metadata": {
        "id": "RphZHaFvGiPx",
        "colab_type": "text"
      },
      "source": [
        "In the attempt to improve the logistic regression model in terms of accuracy, precision, and recall metric, I added regularization into the regression model. However, only precision improved from 0.51 to 0.59. Accuracy and recall decreased. "
      ]
    },
    {
      "cell_type": "code",
      "metadata": {
        "id": "5vI_kgbYIhfE",
        "colab_type": "code",
        "outputId": "3753df0f-d03b-4094-a15a-f6e7dbf3e525",
        "colab": {
          "base_uri": "https://localhost:8080/",
          "height": 347
        }
      },
      "source": [
        "confusion_matrices_poly = [\n",
        "    (\"Ridge Regression with Polynomial Features\", confusion_matrix(y_test, classifier_Grid_LR_poly.predict(X_test_poly))),\n",
        "]\n",
        "\n",
        "draw_confusion_matrices(confusion_matrices_poly)"
      ],
      "execution_count": 80,
      "outputs": [
        {
          "output_type": "stream",
          "text": [
            "Ridge Regression with Polynomial Features\n",
            "Accuracy is: 0.926\n",
            "precision is: 0.8058252427184466\n",
            "recall is: 0.6058394160583942\n"
          ],
          "name": "stdout"
        },
        {
          "output_type": "display_data",
          "data": {
            "image/png": "[encoded data removed]",
            "text/plain": [
              "<Figure size 432x288 with 2 Axes>"
            ]
          },
          "metadata": {
            "tags": [],
            "needs_background": "light"
          }
        }
      ]
    },
    {
      "cell_type": "markdown",
      "metadata": {
        "id": "4WtqvsiuJED3",
        "colab_type": "text"
      },
      "source": [
        "To further optimize the Logistic Regression model beyond adding regularization, I added polynomial features to the dataset. The number of features increased from 17 to 171. Accuracy is now higher than that of the LR model and Ridge model. Precision and recall has improved significantly. \n",
        "\n",
        "Although the logistic model is improved, it still cannot beat the Random Forest model. Therefore, the RF is still the best model for predicting the user churn classification."
      ]
    },
    {
      "cell_type": "markdown",
      "metadata": {
        "colab_type": "text",
        "id": "OvHlyhPBi0OT"
      },
      "source": [
        "### Part 3.4: Model Evaluation - ROC & AUC"
      ]
    },
    {
      "cell_type": "markdown",
      "metadata": {
        "colab_type": "text",
        "id": "jx_3XkgKi0OW"
      },
      "source": [
        "We also evaluate the 3 models from the machine stand point, regardless of the cutoff. RandomForestClassifier, KNeighborsClassifier and LogisticRegression have predict_prob() function."
      ]
    },
    {
      "cell_type": "markdown",
      "metadata": {
        "id": "pVhZgUKVKVxz",
        "colab_type": "text"
      },
      "source": [
        "#### Part 3.4.1: ROC of Ridge Regrssion with Polynomial Features"
      ]
    },
    {
      "cell_type": "code",
      "metadata": {
        "id": "QNxwPePMKZ0L",
        "colab_type": "code",
        "colab": {}
      },
      "source": [
        "y_pred_proba_lrpp = classifier_Grid_LR_poly.predict_proba(X_test_poly)[:, 1]\n",
        "fpr_lrpp, tpr_lrpp, _ = roc_curve(y_test, y_pred_proba_lrpp)"
      ],
      "execution_count": 0,
      "outputs": []
    },
    {
      "cell_type": "code",
      "metadata": {
        "id": "ngyFBWPDKaOw",
        "colab_type": "code",
        "outputId": "48f64b48-ea2a-416f-ee3f-4d2ca04fb812",
        "colab": {
          "base_uri": "https://localhost:8080/",
          "height": 312
        }
      },
      "source": [
        "# ROC Curve\n",
        "plt.figure(1)\n",
        "plt.plot([0, 1], [0, 1], 'k--')\n",
        "plt.plot(fpr_lrpp, tpr_lrpp, label='Penalized LR with Polynomial Features')\n",
        "plt.xlabel('False positive rate')\n",
        "plt.ylabel('True positive rate')\n",
        "plt.title('ROC curve - Penalized LR Model with Polynomial Features')\n",
        "plt.legend(loc='best')\n",
        "plt.show()\n",
        "\n",
        "print (\"AUC score is: \" + str(metrics.auc(fpr_lrpp, tpr_lrpp)))"
      ],
      "execution_count": 88,
      "outputs": [
        {
          "output_type": "display_data",
          "data": {
            "image/png": "[encoded data removed]",
            "text/plain": [
              "<Figure size 432x288 with 1 Axes>"
            ]
          },
          "metadata": {
            "tags": [],
            "needs_background": "light"
          }
        },
        {
          "output_type": "stream",
          "text": [
            "AUC score is: 0.8891153758320577\n"
          ],
          "name": "stdout"
        }
      ]
    },
    {
      "cell_type": "code",
      "metadata": {
        "id": "d8KMSXoaKawR",
        "colab_type": "code",
        "outputId": "1a85ce09-1d19-4347-9f97-7a62bf2f49f7",
        "colab": {
          "base_uri": "https://localhost:8080/",
          "height": 34
        }
      },
      "source": [
        "# AUC score\n",
        "metrics.auc(fpr_lrpp, tpr_lrpp)"
      ],
      "execution_count": 89,
      "outputs": [
        {
          "output_type": "execute_result",
          "data": {
            "text/plain": [
              "0.8891153758320577"
            ]
          },
          "metadata": {
            "tags": []
          },
          "execution_count": 89
        }
      ]
    },
    {
      "cell_type": "markdown",
      "metadata": {
        "colab_type": "text",
        "id": "-Os_ZLTvi0OX"
      },
      "source": [
        "#### Part 3.4.2: ROC of Random Forest Model"
      ]
    },
    {
      "cell_type": "code",
      "metadata": {
        "colab_type": "code",
        "id": "UypvQMVBi0OY",
        "colab": {}
      },
      "source": [
        "from sklearn.metrics import roc_curve\n",
        "from sklearn import metrics\n",
        "\n",
        "y_pred_proba_rf = classifier_RF.predict_proba(X_test_std)[:, 1]\n",
        "fpr_rf, tpr_rf, _ = roc_curve(y_test, y_pred_proba_rf)"
      ],
      "execution_count": 0,
      "outputs": []
    },
    {
      "cell_type": "code",
      "metadata": {
        "colab_type": "code",
        "id": "s3PR-PdPi0Ob",
        "outputId": "ec81f651-eb5b-445d-9496-a8febcb7664c",
        "colab": {
          "base_uri": "https://localhost:8080/",
          "height": 312
        }
      },
      "source": [
        "# draw ROC curve of Random Forest\n",
        "plt.figure(1)\n",
        "plt.plot([0, 1], [0, 1], 'k--')\n",
        "plt.plot(fpr_rf, tpr_rf, label='RF')\n",
        "plt.xlabel('False positive rate')\n",
        "plt.ylabel('True positive rate')\n",
        "plt.title('ROC curve - RF model')\n",
        "plt.legend(loc='best')\n",
        "plt.show()\n",
        "\n",
        "print (\"AUC score is: \" + str(metrics.auc(fpr_rf,tpr_rf)))"
      ],
      "execution_count": 85,
      "outputs": [
        {
          "output_type": "display_data",
          "data": {
            "image/png": "[encoded data removed]",
            "text/plain": [
              "<Figure size 432x288 with 1 Axes>"
            ]
          },
          "metadata": {
            "tags": [],
            "needs_background": "light"
          }
        },
        {
          "output_type": "stream",
          "text": [
            "AUC score is: 0.9197926093833257\n"
          ],
          "name": "stdout"
        }
      ]
    },
    {
      "cell_type": "code",
      "metadata": {
        "colab_type": "code",
        "id": "R89IUMYDi0Oe",
        "outputId": "8ccc2178-a012-4515-96d2-4b8dc738eef5",
        "colab": {
          "base_uri": "https://localhost:8080/",
          "height": 34
        }
      },
      "source": [
        "from sklearn import metrics\n",
        "\n",
        "# AUC score\n",
        "metrics.auc(fpr_rf,tpr_rf)"
      ],
      "execution_count": 90,
      "outputs": [
        {
          "output_type": "execute_result",
          "data": {
            "text/plain": [
              "0.9197926093833257"
            ]
          },
          "metadata": {
            "tags": []
          },
          "execution_count": 90
        }
      ]
    },
    {
      "cell_type": "markdown",
      "metadata": {
        "id": "u52vAntYEBcA",
        "colab_type": "text"
      },
      "source": [
        "#### Part 3.4.3: ROC of KNN Model"
      ]
    },
    {
      "cell_type": "code",
      "metadata": {
        "id": "5E0D4vdPjhtE",
        "colab_type": "code",
        "colab": {}
      },
      "source": [
        "# Use predict_proba to get the probability results of KNN\n",
        "y_pred_proba_knn = classifier_KNN.predict_proba(X_test_std)[:, 1]\n",
        "fpr_knn, tpr_knn, _ = roc_curve(y_test, y_pred_proba_knn)"
      ],
      "execution_count": 0,
      "outputs": []
    },
    {
      "cell_type": "code",
      "metadata": {
        "id": "vg0cvg9pj7Xw",
        "colab_type": "code",
        "outputId": "923808a4-8e44-40de-b1a6-262ff0a7dc16",
        "colab": {
          "base_uri": "https://localhost:8080/",
          "height": 312
        }
      },
      "source": [
        "# ROC Curve\n",
        "plt.figure(1)\n",
        "plt.plot([0, 1], [0, 1], 'k--')\n",
        "plt.plot(fpr_knn, tpr_knn, label = 'KNN')\n",
        "plt.xlabel('False positive rate')\n",
        "plt.ylabel('True positive rate')\n",
        "plt.title('ROC curve - KNN Model')\n",
        "plt.legend(loc = 'best')\n",
        "plt.show()\n",
        "\n",
        "print (\"AUC score is: \" + str(metrics.auc(fpr_knn, tpr_knn)))"
      ],
      "execution_count": 92,
      "outputs": [
        {
          "output_type": "display_data",
          "data": {
            "image/png": "[encoded data removed]",
            "text/plain": [
              "<Figure size 432x288 with 1 Axes>"
            ]
          },
          "metadata": {
            "tags": [],
            "needs_background": "light"
          }
        },
        {
          "output_type": "stream",
          "text": [
            "AUC score is: 0.8754599047627103\n"
          ],
          "name": "stdout"
        }
      ]
    },
    {
      "cell_type": "code",
      "metadata": {
        "id": "aln4GFqkkiRZ",
        "colab_type": "code",
        "outputId": "6df6165b-590c-4d75-fb62-6febd6293256",
        "colab": {
          "base_uri": "https://localhost:8080/",
          "height": 34
        }
      },
      "source": [
        "# AUC score\n",
        "metrics.auc(fpr_knn, tpr_knn)"
      ],
      "execution_count": 93,
      "outputs": [
        {
          "output_type": "execute_result",
          "data": {
            "text/plain": [
              "0.8754599047627103"
            ]
          },
          "metadata": {
            "tags": []
          },
          "execution_count": 93
        }
      ]
    },
    {
      "cell_type": "markdown",
      "metadata": {
        "id": "tjHTooGxkvwI",
        "colab_type": "text"
      },
      "source": [
        "In terms of ROC and AUC, the Random Forest model outstands the other 2 models, followed by KNN then Logistic Regression model."
      ]
    },
    {
      "cell_type": "markdown",
      "metadata": {
        "colab_type": "text",
        "id": "gHHurD8Ii0Oq"
      },
      "source": [
        "# Part 4: Feature Selection"
      ]
    },
    {
      "cell_type": "markdown",
      "metadata": {
        "colab_type": "text",
        "id": "dSx4TPO-i0Or"
      },
      "source": [
        "### Part 4.1:  Logistic Regression Model - Feature Selection Discussion "
      ]
    },
    {
      "cell_type": "markdown",
      "metadata": {
        "colab_type": "text",
        "id": "BtLHUixoi0Ot"
      },
      "source": [
        "The correlated features that we are interested in: (total_day_minutes, total_day_charge), (total_eve_minutes, total_eve_charge), (total_intl_minutes, total_intl_charge)."
      ]
    },
    {
      "cell_type": "markdown",
      "metadata": {
        "id": "HDnLiZF-7N7b",
        "colab_type": "text"
      },
      "source": [
        "Part 4.1.1: Add L1 regularization to logistic regression and check the coef for feature selection"
      ]
    },
    {
      "cell_type": "code",
      "metadata": {
        "colab_type": "code",
        "id": "cQaXOIsUi0Ou",
        "scrolled": true,
        "outputId": "f4e070d2-46b3-4a57-f4da-55327d0708ce",
        "colab": {
          "base_uri": "https://localhost:8080/",
          "height": 323
        }
      },
      "source": [
        "scaler = StandardScaler()\n",
        "X_std_l1 = scaler.fit_transform(X)\n",
        "LRmodel_l1 = LogisticRegression(penalty='l1', C = 0.1, solver = 'saga')\n",
        "LRmodel_l1.fit(X_std_l1, y)\n",
        "LRmodel_l1.coef_[0]\n",
        "\n",
        "print (\"Logistic Regression (L1) Coefficients\")\n",
        "for coef, col_name in sorted(zip(map(lambda x: round(x, 4), LRmodel_l1.coef_[0]), \\\n",
        "                      churn_feat_space.columns), key = lambda pair:(abs(pair[0])), reverse = True):\n",
        "    print (col_name, \": \\t\", str(coef))"
      ],
      "execution_count": 94,
      "outputs": [
        {
          "output_type": "stream",
          "text": [
            "Logistic Regression (L1) Coefficients\n",
            "number_customer_service_calls : \t 0.6468\n",
            "intl_plan : \t 0.5929\n",
            "voice_mail_plan : \t -0.4415\n",
            "total_day_minutes : \t 0.3662\n",
            "total_day_charge : \t 0.3366\n",
            "total_eve_charge : \t 0.1692\n",
            "total_eve_minutes : \t 0.1597\n",
            "total_intl_calls : \t -0.1494\n",
            "total_intl_charge : \t 0.1179\n",
            "total_night_minutes : \t 0.1005\n",
            "total_intl_minutes : \t 0.0996\n",
            "total_night_charge : \t 0.0758\n",
            "account_length : \t 0.0356\n",
            "total_day_calls : \t 0.0307\n",
            "total_night_calls : \t -0.0111\n",
            "total_eve_calls : \t -0.0091\n",
            "number_vmail_messages : \t 0.0\n"
          ],
          "name": "stdout"
        }
      ]
    },
    {
      "cell_type": "markdown",
      "metadata": {
        "id": "JnLoKNgs_avm",
        "colab_type": "text"
      },
      "source": [
        "Part 4.1.2: Add L2 regularization to logistic regression and check the coef for feature selection"
      ]
    },
    {
      "cell_type": "code",
      "metadata": {
        "colab_type": "code",
        "id": "majifZZqi0O9",
        "outputId": "bfeb9767-f257-4d77-b3b5-b35e981c61e7",
        "colab": {
          "base_uri": "https://localhost:8080/",
          "height": 323
        }
      },
      "source": [
        "scaler = StandardScaler()\n",
        "X_std_l2 = scaler.fit_transform(X)\n",
        "LRmodel_l2 = LogisticRegression(penalty=\"l2\", C = 0.1)\n",
        "LRmodel_l2.fit(X_std_l2, y)\n",
        "LRmodel_l2.coef_[0]\n",
        "print (\"Logistic Regression (L2) Coefficients\")\n",
        "for k,v in sorted(zip(map(lambda x: round(x, 4), LRmodel_l2.coef_[0]), \\\n",
        "                      churn_feat_space.columns), key=lambda k_v:(-abs(k_v[0]))):\n",
        "    print (v + \": \\t\" + str(k))"
      ],
      "execution_count": 95,
      "outputs": [
        {
          "output_type": "stream",
          "text": [
            "Logistic Regression (L2) Coefficients\n",
            "number_customer_service_calls: \t0.6604\n",
            "voice_mail_plan: \t-0.6199\n",
            "intl_plan: \t0.6039\n",
            "total_day_minutes: \t0.3626\n",
            "total_day_charge: \t0.3621\n",
            "total_eve_charge: \t0.1766\n",
            "total_eve_minutes: \t0.1764\n",
            "total_intl_calls: \t-0.1715\n",
            "number_vmail_messages: \t0.1659\n",
            "total_intl_charge: \t0.1204\n",
            "total_intl_minutes: \t0.12\n",
            "total_night_minutes: \t0.0997\n",
            "total_night_charge: \t0.0992\n",
            "account_length: \t0.0548\n",
            "total_day_calls: \t0.0501\n",
            "total_night_calls: \t-0.0313\n",
            "total_eve_calls: \t-0.0296\n"
          ],
          "name": "stdout"
        }
      ]
    },
    {
      "cell_type": "markdown",
      "metadata": {
        "colab_type": "text",
        "id": "uqs41ydLi0O_"
      },
      "source": [
        "\n",
        "### Part 4.2:  Random Forest Model - Feature Importance Discussion"
      ]
    },
    {
      "cell_type": "code",
      "metadata": {
        "colab_type": "code",
        "id": "MPxUM2lei0PA",
        "outputId": "123d43ea-38ea-4606-844d-96378380941c",
        "colab": {
          "base_uri": "https://localhost:8080/",
          "height": 323
        }
      },
      "source": [
        "# check feature importance of random forest for feature selection\n",
        "\n",
        "forest = RandomForestClassifier()\n",
        "forest.fit(X, y)\n",
        "\n",
        "importances = forest.feature_importances_\n",
        "\n",
        "# Print the feature ranking\n",
        "print(\"Feature importance ranking by Random Forest Model:\")\n",
        "for importance, col_name in sorted(zip(map(lambda x: round(x, 4), importances), churn_feat_space.columns), reverse=True):\n",
        "    print (col_name + \": \\t\" + str(importance))"
      ],
      "execution_count": 96,
      "outputs": [
        {
          "output_type": "stream",
          "text": [
            "Feature importance ranking by Random Forest Model:\n",
            "total_day_minutes: \t0.1437\n",
            "total_day_charge: \t0.142\n",
            "number_customer_service_calls: \t0.1167\n",
            "intl_plan: \t0.0865\n",
            "total_eve_charge: \t0.0656\n",
            "total_eve_minutes: \t0.065\n",
            "total_intl_calls: \t0.0593\n",
            "total_intl_minutes: \t0.0446\n",
            "total_intl_charge: \t0.0412\n",
            "total_night_charge: \t0.0398\n",
            "total_night_minutes: \t0.0392\n",
            "number_vmail_messages: \t0.0302\n",
            "account_length: \t0.0286\n",
            "total_day_calls: \t0.0276\n",
            "total_night_calls: \t0.0262\n",
            "total_eve_calls: \t0.0226\n",
            "voice_mail_plan: \t0.0213\n"
          ],
          "name": "stdout"
        }
      ]
    },
    {
      "cell_type": "code",
      "metadata": {
        "id": "Tf6xHEZiC1Al",
        "colab_type": "code",
        "outputId": "538acd16-c7f1-4fe4-c0b5-c47cc2656aea",
        "colab": {
          "base_uri": "https://localhost:8080/",
          "height": 431
        }
      },
      "source": [
        "# Plot the feature importances of the forest\n",
        "indices = np.argsort(importances)[::-1]\n",
        "std = np.std([tree.feature_importances_ for tree in forest.estimators_],\n",
        "             axis=0)\n",
        "\n",
        "plt.figure()\n",
        "plt.title(\"Feature importances\")\n",
        "plt.bar(range(X.shape[1]), importances[indices],\n",
        "       color=\"g\", yerr=std[indices], align=\"center\")\n",
        "plt.xticks(range(X.shape[1]), ['total_day_minutes', 'total_day_charge', 'number_customer_service_calls', 'intl_plan', \\\n",
        "                               'total_eve_charge', 'total_eve_minutes', 'total_intl_calls', 'total_intl_minutes', 'total_night_minutes', \\\n",
        "                               'total_night_charge', 'total_intl_charge', 'account_length', 'total_day_calls', 'number_vmail_messages',  \\\n",
        "                               'total_night_calls', 'voice_mail_plan', 'total_eve_calls'], rotation=90)\n",
        "plt.xlim([-1, X.shape[1]])\n",
        "plt.show()"
      ],
      "execution_count": 100,
      "outputs": [
        {
          "output_type": "display_data",
          "data": {
            "image/png": "[encoded data removed]",
            "text/plain": [
              "<Figure size 432x288 with 1 Axes>"
            ]
          },
          "metadata": {
            "tags": [],
            "needs_background": "light"
          }
        }
      ]
    },
    {
      "cell_type": "markdown",
      "metadata": {
        "id": "_BefkSzeIs6x",
        "colab_type": "text"
      },
      "source": [
        "Feature imporance summay:\n",
        "\n",
        "Among the correlated features that we are interested in: (total_day_minutes, total_day_charge), (total_eve_minutes, total_eve_charge), (total_intl_minutes, total_intl_charge), the (total_day_minutes, total_day_charge), (total_eve_minutes, total_eve_charge) have higher coefficient/importance.\n",
        "\n",
        "In addition, we can see that number_customer_service_calls and intl_plan are also importance features\n",
        "\n"
      ]
    }
  ]
}
