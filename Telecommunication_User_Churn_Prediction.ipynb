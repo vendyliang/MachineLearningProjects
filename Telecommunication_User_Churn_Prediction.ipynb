{
  "nbformat": 4,
  "nbformat_minor": 0,
  "metadata": {
    "colab": {
      "name": "Telecommunication User Churn Prediction.ipynb",
      "provenance": [],
      "collapsed_sections": [
        "7J-23z78i0Ns"
      ],
      "include_colab_link": true
    },
    "kernelspec": {
      "name": "python3",
      "display_name": "Python 3"
    }
  },
  "cells": [
    {
      "cell_type": "markdown",
      "metadata": {
        "id": "view-in-github",
        "colab_type": "text"
      },
      "source": [
        "<a href=\"https://colab.research.google.com/github/vendyliang/MachineLearningProjects/blob/master/Telecommunication_User_Churn_Prediction.ipynb\" target=\"_parent\"><img src=\"https://colab.research.google.com/assets/colab-badge.svg\" alt=\"Open In Colab\"/></a>"
      ]
    },
    {
      "cell_type": "markdown",
      "metadata": {
        "colab_type": "text",
        "id": "R88Ms0MTi0Ma"
      },
      "source": [
        "# **Telecommunication User Churn Prediction**"
      ]
    },
    {
      "cell_type": "markdown",
      "metadata": {
        "colab_type": "text",
        "id": "WA6lL1fni0Mb"
      },
      "source": [
        "In this project, we use supervised learning models to identify customers who are likely to stop using service in the future. Furthermore, we will analyze top factors that influence user retention."
      ]
    },
    {
      "cell_type": "markdown",
      "metadata": {
        "colab_type": "text",
        "id": "bO94-bXZi0Md"
      },
      "source": [
        "## Contents"
      ]
    },
    {
      "cell_type": "markdown",
      "metadata": {
        "colab_type": "text",
        "id": "SIvRSRqAi0Md"
      },
      "source": [
        "\n",
        "* [Part 1: Data Exploration](#Part-1:-Data-Exploration)\n",
        "* [Part 2: Feature Preprocessing](#Part-2:-Feature-Preprocessing)\n",
        "* [Part 3: Model Training and Results Evaluation](#Part-3:-Model-Training-and-Result-Evaluation)\n",
        "* [Part 4: Feature Selection](#Part-4:-Feature-Selection)"
      ]
    },
    {
      "cell_type": "markdown",
      "metadata": {
        "colab_type": "text",
        "id": "TUoI2S7Bi6iR"
      },
      "source": [
        "# Part 0: Setup Google Drive Environment"
      ]
    },
    {
      "cell_type": "code",
      "metadata": {
        "colab_type": "code",
        "id": "neechzbWi7rV",
        "colab": {}
      },
      "source": [
        "#install pydrive to load data\n",
        "!pip install -U -q PyDrive\n",
        "\n",
        "from pydrive.auth import GoogleAuth\n",
        "from pydrive.drive import GoogleDrive\n",
        "from google.colab import auth\n",
        "from oauth2client.client import GoogleCredentials\n",
        "\n",
        "auth.authenticate_user()\n",
        "gauth = GoogleAuth()\n",
        "gauth.credentials = GoogleCredentials.get_application_default()\n",
        "drive = GoogleDrive(gauth)"
      ],
      "execution_count": 0,
      "outputs": []
    },
    {
      "cell_type": "code",
      "metadata": {
        "colab_type": "code",
        "id": "UScKyL2TjARW",
        "colab": {}
      },
      "source": [
        "link = 'https://drive.google.com/open?id=1wvKi-E6GJnRqAkYMpVPaRc0L0XgY0Wkq' # the id of file we want to access\n",
        "fluff, id = link.split('=')\n",
        "file = drive.CreateFile({'id':id}) \n",
        "file.GetContentFile('churn.csv') #file name "
      ],
      "execution_count": 0,
      "outputs": []
    },
    {
      "cell_type": "markdown",
      "metadata": {
        "colab_type": "text",
        "id": "a6bG_gAPi0Me"
      },
      "source": [
        "# Part 1: Data Exploration"
      ]
    },
    {
      "cell_type": "markdown",
      "metadata": {
        "colab_type": "text",
        "id": "bspx2K6fi0Me"
      },
      "source": [
        "### Part 1.1: Understand the Raw Dataset"
      ]
    },
    {
      "cell_type": "code",
      "metadata": {
        "colab_type": "code",
        "id": "kuTHKjk-i0Mf",
        "colab": {}
      },
      "source": [
        "import warnings\n",
        "warnings.filterwarnings('ignore')\n",
        "\n",
        "import pandas as pd\n",
        "import numpy as np\n",
        "\n",
        "churn_df = pd.read_csv('churn.csv')"
      ],
      "execution_count": 0,
      "outputs": []
    },
    {
      "cell_type": "code",
      "metadata": {
        "colab_type": "code",
        "id": "hHNZRs2Ti0Mi",
        "scrolled": true,
        "outputId": "2cb9deb9-5323-45b0-b0f5-7472ad289f46",
        "colab": {
          "base_uri": "https://localhost:8080/",
          "height": 224
        }
      },
      "source": [
        "churn_df.head()"
      ],
      "execution_count": 4,
      "outputs": [
        {
          "output_type": "execute_result",
          "data": {
            "text/html": [
              "<div>\n",
              "<style scoped>\n",
              "    .dataframe tbody tr th:only-of-type {\n",
              "        vertical-align: middle;\n",
              "    }\n",
              "\n",
              "    .dataframe tbody tr th {\n",
              "        vertical-align: top;\n",
              "    }\n",
              "\n",
              "    .dataframe thead th {\n",
              "        text-align: right;\n",
              "    }\n",
              "</style>\n",
              "<table border=\"1\" class=\"dataframe\">\n",
              "  <thead>\n",
              "    <tr style=\"text-align: right;\">\n",
              "      <th></th>\n",
              "      <th>state</th>\n",
              "      <th>account_length</th>\n",
              "      <th>area_code</th>\n",
              "      <th>phone_number</th>\n",
              "      <th>intl_plan</th>\n",
              "      <th>voice_mail_plan</th>\n",
              "      <th>number_vmail_messages</th>\n",
              "      <th>total_day_minutes</th>\n",
              "      <th>total_day_calls</th>\n",
              "      <th>total_day_charge</th>\n",
              "      <th>total_eve_minutes</th>\n",
              "      <th>total_eve_calls</th>\n",
              "      <th>total_eve_charge</th>\n",
              "      <th>total_night_minutes</th>\n",
              "      <th>total_night_calls</th>\n",
              "      <th>total_night_charge</th>\n",
              "      <th>total_intl_minutes</th>\n",
              "      <th>total_intl_calls</th>\n",
              "      <th>total_intl_charge</th>\n",
              "      <th>number_customer_service_calls</th>\n",
              "      <th>churned</th>\n",
              "    </tr>\n",
              "  </thead>\n",
              "  <tbody>\n",
              "    <tr>\n",
              "      <th>0</th>\n",
              "      <td>KS</td>\n",
              "      <td>128</td>\n",
              "      <td>415</td>\n",
              "      <td>382-4657</td>\n",
              "      <td>no</td>\n",
              "      <td>yes</td>\n",
              "      <td>25</td>\n",
              "      <td>265.1</td>\n",
              "      <td>110</td>\n",
              "      <td>45.07</td>\n",
              "      <td>197.4</td>\n",
              "      <td>99</td>\n",
              "      <td>16.78</td>\n",
              "      <td>244.7</td>\n",
              "      <td>91</td>\n",
              "      <td>11.01</td>\n",
              "      <td>10.0</td>\n",
              "      <td>3</td>\n",
              "      <td>2.70</td>\n",
              "      <td>1</td>\n",
              "      <td>False.</td>\n",
              "    </tr>\n",
              "    <tr>\n",
              "      <th>1</th>\n",
              "      <td>OH</td>\n",
              "      <td>107</td>\n",
              "      <td>415</td>\n",
              "      <td>371-7191</td>\n",
              "      <td>no</td>\n",
              "      <td>yes</td>\n",
              "      <td>26</td>\n",
              "      <td>161.6</td>\n",
              "      <td>123</td>\n",
              "      <td>27.47</td>\n",
              "      <td>195.5</td>\n",
              "      <td>103</td>\n",
              "      <td>16.62</td>\n",
              "      <td>254.4</td>\n",
              "      <td>103</td>\n",
              "      <td>11.45</td>\n",
              "      <td>13.7</td>\n",
              "      <td>3</td>\n",
              "      <td>3.70</td>\n",
              "      <td>1</td>\n",
              "      <td>False.</td>\n",
              "    </tr>\n",
              "    <tr>\n",
              "      <th>2</th>\n",
              "      <td>NJ</td>\n",
              "      <td>137</td>\n",
              "      <td>415</td>\n",
              "      <td>358-1921</td>\n",
              "      <td>no</td>\n",
              "      <td>no</td>\n",
              "      <td>0</td>\n",
              "      <td>243.4</td>\n",
              "      <td>114</td>\n",
              "      <td>41.38</td>\n",
              "      <td>121.2</td>\n",
              "      <td>110</td>\n",
              "      <td>10.30</td>\n",
              "      <td>162.6</td>\n",
              "      <td>104</td>\n",
              "      <td>7.32</td>\n",
              "      <td>12.2</td>\n",
              "      <td>5</td>\n",
              "      <td>3.29</td>\n",
              "      <td>0</td>\n",
              "      <td>False.</td>\n",
              "    </tr>\n",
              "    <tr>\n",
              "      <th>3</th>\n",
              "      <td>OH</td>\n",
              "      <td>84</td>\n",
              "      <td>408</td>\n",
              "      <td>375-9999</td>\n",
              "      <td>yes</td>\n",
              "      <td>no</td>\n",
              "      <td>0</td>\n",
              "      <td>299.4</td>\n",
              "      <td>71</td>\n",
              "      <td>50.90</td>\n",
              "      <td>61.9</td>\n",
              "      <td>88</td>\n",
              "      <td>5.26</td>\n",
              "      <td>196.9</td>\n",
              "      <td>89</td>\n",
              "      <td>8.86</td>\n",
              "      <td>6.6</td>\n",
              "      <td>7</td>\n",
              "      <td>1.78</td>\n",
              "      <td>2</td>\n",
              "      <td>False.</td>\n",
              "    </tr>\n",
              "    <tr>\n",
              "      <th>4</th>\n",
              "      <td>OK</td>\n",
              "      <td>75</td>\n",
              "      <td>415</td>\n",
              "      <td>330-6626</td>\n",
              "      <td>yes</td>\n",
              "      <td>no</td>\n",
              "      <td>0</td>\n",
              "      <td>166.7</td>\n",
              "      <td>113</td>\n",
              "      <td>28.34</td>\n",
              "      <td>148.3</td>\n",
              "      <td>122</td>\n",
              "      <td>12.61</td>\n",
              "      <td>186.9</td>\n",
              "      <td>121</td>\n",
              "      <td>8.41</td>\n",
              "      <td>10.1</td>\n",
              "      <td>3</td>\n",
              "      <td>2.73</td>\n",
              "      <td>3</td>\n",
              "      <td>False.</td>\n",
              "    </tr>\n",
              "  </tbody>\n",
              "</table>\n",
              "</div>"
            ],
            "text/plain": [
              "  state  account_length  ...  number_customer_service_calls  churned\n",
              "0    KS             128  ...                              1   False.\n",
              "1    OH             107  ...                              1   False.\n",
              "2    NJ             137  ...                              0   False.\n",
              "3    OH              84  ...                              2   False.\n",
              "4    OK              75  ...                              3   False.\n",
              "\n",
              "[5 rows x 21 columns]"
            ]
          },
          "metadata": {
            "tags": []
          },
          "execution_count": 4
        }
      ]
    },
    {
      "cell_type": "code",
      "metadata": {
        "colab_type": "code",
        "id": "C99Z9b7ai0Mm",
        "outputId": "7b52d50a-25de-4c53-f810-2d1d96264890",
        "colab": {
          "base_uri": "https://localhost:8080/",
          "height": 51
        }
      },
      "source": [
        "print (\"Num of rows: \" + str(churn_df.shape[0])) # row count\n",
        "print (\"Num of columns: \" + str(churn_df.shape[1])) # col count"
      ],
      "execution_count": 0,
      "outputs": [
        {
          "output_type": "stream",
          "text": [
            "Num of rows: 5000\n",
            "Num of columns: 21\n"
          ],
          "name": "stdout"
        }
      ]
    },
    {
      "cell_type": "code",
      "metadata": {
        "id": "wy1dpP4eT5TQ",
        "colab_type": "code",
        "outputId": "6cffb729-b0d5-440c-f8c2-d1344ea89058",
        "colab": {
          "base_uri": "https://localhost:8080/",
          "height": 459
        }
      },
      "source": [
        "churn_df.info()"
      ],
      "execution_count": 0,
      "outputs": [
        {
          "output_type": "stream",
          "text": [
            "<class 'pandas.core.frame.DataFrame'>\n",
            "RangeIndex: 5000 entries, 0 to 4999\n",
            "Data columns (total 21 columns):\n",
            "state                            5000 non-null object\n",
            "account_length                   5000 non-null int64\n",
            "area_code                        5000 non-null int64\n",
            "phone_number                     5000 non-null object\n",
            "intl_plan                        5000 non-null object\n",
            "voice_mail_plan                  5000 non-null object\n",
            "number_vmail_messages            5000 non-null int64\n",
            "total_day_minutes                5000 non-null float64\n",
            "total_day_calls                  5000 non-null int64\n",
            "total_day_charge                 5000 non-null float64\n",
            "total_eve_minutes                5000 non-null float64\n",
            "total_eve_calls                  5000 non-null int64\n",
            "total_eve_charge                 5000 non-null float64\n",
            "total_night_minutes              5000 non-null float64\n",
            "total_night_calls                5000 non-null int64\n",
            "total_night_charge               5000 non-null float64\n",
            "total_intl_minutes               5000 non-null float64\n",
            "total_intl_calls                 5000 non-null int64\n",
            "total_intl_charge                5000 non-null float64\n",
            "number_customer_service_calls    5000 non-null int64\n",
            "churned                          5000 non-null object\n",
            "dtypes: float64(8), int64(8), object(5)\n",
            "memory usage: 820.4+ KB\n"
          ],
          "name": "stdout"
        }
      ]
    },
    {
      "cell_type": "markdown",
      "metadata": {
        "colab_type": "text",
        "id": "OCglmJ9Oi0Mo"
      },
      "source": [
        "### Part 1.2: Data cleaning"
      ]
    },
    {
      "cell_type": "markdown",
      "metadata": {
        "id": "tTFgi96FZq5h",
        "colab_type": "text"
      },
      "source": [
        "There are 5 columns that are categorical features: state, phone_number, intl_plan, voice_mail_plan, and churned columns."
      ]
    },
    {
      "cell_type": "markdown",
      "metadata": {
        "colab_type": "text",
        "id": "JxlrXRG3i0Mp"
      },
      "source": [
        "Remove Extra Whitespace for 3 columns: intl_plan, voice_mail_plan, and churned"
      ]
    },
    {
      "cell_type": "code",
      "metadata": {
        "colab_type": "code",
        "id": "2Vf8iYmWi0Mq",
        "scrolled": true,
        "outputId": "2233766e-731e-463c-d401-193ce2f14eb4",
        "colab": {
          "base_uri": "https://localhost:8080/",
          "height": 34
        }
      },
      "source": [
        "churn_df['voice_mail_plan'][0]"
      ],
      "execution_count": 0,
      "outputs": [
        {
          "output_type": "execute_result",
          "data": {
            "text/plain": [
              "' yes'"
            ]
          },
          "metadata": {
            "tags": []
          },
          "execution_count": 8
        }
      ]
    },
    {
      "cell_type": "code",
      "metadata": {
        "id": "GcxKVkt3WGdj",
        "colab_type": "code",
        "outputId": "508b71d3-f3b7-449f-a05b-3f0774f32209",
        "colab": {
          "base_uri": "https://localhost:8080/",
          "height": 34
        }
      },
      "source": [
        "churn_df['churned'][0]"
      ],
      "execution_count": 0,
      "outputs": [
        {
          "output_type": "execute_result",
          "data": {
            "text/plain": [
              "' False.'"
            ]
          },
          "metadata": {
            "tags": []
          },
          "execution_count": 9
        }
      ]
    },
    {
      "cell_type": "code",
      "metadata": {
        "colab_type": "code",
        "id": "3lpwxvQfi0Mt",
        "colab": {}
      },
      "source": [
        "# remove the heading and trailing whitespaces\n",
        "churn_df['voice_mail_plan'] = churn_df['voice_mail_plan'].apply(lambda x: x.strip())\n",
        "churn_df['intl_plan'] = churn_df['intl_plan'].apply(lambda x: x.strip())\n",
        "churn_df['churned'] = churn_df['churned'].apply(lambda x: x.strip())"
      ],
      "execution_count": 0,
      "outputs": []
    },
    {
      "cell_type": "code",
      "metadata": {
        "colab_type": "code",
        "id": "kcyHhHKHZN2p",
        "outputId": "b37150d0-9428-4b41-ff9c-57016a5f4d97",
        "colab": {
          "base_uri": "https://localhost:8080/",
          "height": 34
        }
      },
      "source": [
        "# check the categorical feature after manipulation\n",
        "churn_df['voice_mail_plan'][0]"
      ],
      "execution_count": 0,
      "outputs": [
        {
          "output_type": "execute_result",
          "data": {
            "text/plain": [
              "'yes'"
            ]
          },
          "metadata": {
            "tags": []
          },
          "execution_count": 11
        }
      ]
    },
    {
      "cell_type": "markdown",
      "metadata": {
        "id": "EenY0aqXaYbo",
        "colab_type": "text"
      },
      "source": [
        "Remove the dot following 'False' and 'True'"
      ]
    },
    {
      "cell_type": "code",
      "metadata": {
        "id": "aE-3YadPUmbd",
        "colab_type": "code",
        "outputId": "b897f466-19c8-4a4d-ed6a-cab3a778a84a",
        "colab": {
          "base_uri": "https://localhost:8080/",
          "height": 34
        }
      },
      "source": [
        "churn_df['churned'][0]"
      ],
      "execution_count": 0,
      "outputs": [
        {
          "output_type": "execute_result",
          "data": {
            "text/plain": [
              "'False.'"
            ]
          },
          "metadata": {
            "tags": []
          },
          "execution_count": 12
        }
      ]
    },
    {
      "cell_type": "code",
      "metadata": {
        "id": "4ozzZ0AGVzBB",
        "colab_type": "code",
        "colab": {}
      },
      "source": [
        "# remove the dot\n",
        "churn_df['churned'].replace('False.', 'False', inplace = True)\n",
        "churn_df['churned'].replace('True.', 'True', inplace = True)"
      ],
      "execution_count": 0,
      "outputs": []
    },
    {
      "cell_type": "code",
      "metadata": {
        "id": "xZcv2sE0Weyt",
        "colab_type": "code",
        "outputId": "f5fd214b-820d-4e08-ffdc-d0482dc1a773",
        "colab": {
          "base_uri": "https://localhost:8080/",
          "height": 221
        }
      },
      "source": [
        "# check the categorical feature after manipulation\n",
        "churn_df['churned']"
      ],
      "execution_count": 0,
      "outputs": [
        {
          "output_type": "execute_result",
          "data": {
            "text/plain": [
              "0       False\n",
              "1       False\n",
              "2       False\n",
              "3       False\n",
              "4       False\n",
              "        ...  \n",
              "4995    False\n",
              "4996     True\n",
              "4997    False\n",
              "4998    False\n",
              "4999    False\n",
              "Name: churned, Length: 5000, dtype: object"
            ]
          },
          "metadata": {
            "tags": []
          },
          "execution_count": 14
        }
      ]
    },
    {
      "cell_type": "markdown",
      "metadata": {
        "id": "L9UjLYqsb8WG",
        "colab_type": "text"
      },
      "source": [
        "There is no duplicated or missing values in this data set"
      ]
    },
    {
      "cell_type": "code",
      "metadata": {
        "id": "D3YyiwFlbXqg",
        "colab_type": "code",
        "outputId": "83d33a27-4396-4687-898c-869db79741ce",
        "colab": {
          "base_uri": "https://localhost:8080/",
          "height": 34
        }
      },
      "source": [
        "#check duplication\n",
        "if len(churn_df['phone_number'][churn_df['phone_number'].duplicated()]) == 0:\n",
        "  print('There is no duplicated entry (phone_number based).')"
      ],
      "execution_count": 5,
      "outputs": [
        {
          "output_type": "stream",
          "text": [
            "There is no duplicated entry (phone_number based).\n"
          ],
          "name": "stdout"
        }
      ]
    },
    {
      "cell_type": "code",
      "metadata": {
        "id": "UZ1uIfGz8kAi",
        "colab_type": "code",
        "colab": {
          "base_uri": "https://localhost:8080/",
          "height": 391
        },
        "outputId": "e279ab4e-4a2d-4cd2-b1dd-12510998195e"
      },
      "source": [
        "#check missing value\n",
        "idx_col_nan = pd.isnull(churn_df).any(axis=0)# return bool value\n",
        "print(idx_col_nan)"
      ],
      "execution_count": 15,
      "outputs": [
        {
          "output_type": "stream",
          "text": [
            "state                            False\n",
            "account_length                   False\n",
            "area_code                        False\n",
            "phone_number                     False\n",
            "intl_plan                        False\n",
            "voice_mail_plan                  False\n",
            "number_vmail_messages            False\n",
            "total_day_minutes                False\n",
            "total_day_calls                  False\n",
            "total_day_charge                 False\n",
            "total_eve_minutes                False\n",
            "total_eve_calls                  False\n",
            "total_eve_charge                 False\n",
            "total_night_minutes              False\n",
            "total_night_calls                False\n",
            "total_night_charge               False\n",
            "total_intl_minutes               False\n",
            "total_intl_calls                 False\n",
            "total_intl_charge                False\n",
            "number_customer_service_calls    False\n",
            "churned                          False\n",
            "dtype: bool\n"
          ],
          "name": "stdout"
        }
      ]
    },
    {
      "cell_type": "markdown",
      "metadata": {
        "colab_type": "text",
        "id": "SsAbAjhvi0Mx"
      },
      "source": [
        "### Part 1.3:  Understand the features"
      ]
    },
    {
      "cell_type": "code",
      "metadata": {
        "colab_type": "code",
        "id": "rJ0AdxwLi0Mz",
        "scrolled": false,
        "outputId": "42662e88-bd41-4042-8c0f-1c736fe2d687",
        "colab": {
          "base_uri": "https://localhost:8080/",
          "height": 297
        }
      },
      "source": [
        "# check the feature distribution\n",
        "%matplotlib inline\n",
        "import matplotlib.pyplot as plt\n",
        "import seaborn as sns\n",
        "\n",
        "sns.distplot(churn_df['total_intl_charge'])"
      ],
      "execution_count": 0,
      "outputs": [
        {
          "output_type": "execute_result",
          "data": {
            "text/plain": [
              "<matplotlib.axes._subplots.AxesSubplot at 0x7f0b03c55828>"
            ]
          },
          "metadata": {
            "tags": []
          },
          "execution_count": 34
        },
        {
          "output_type": "display_data",
          "data": {
            "image/png": "[encoded data removed]",
            "text/plain": [
              "<Figure size 432x288 with 1 Axes>"
            ]
          },
          "metadata": {
            "tags": []
          }
        }
      ]
    },
    {
      "cell_type": "code",
      "metadata": {
        "colab_type": "code",
        "id": "4DKTTdB6i0M2",
        "outputId": "bce0bc45-ffdb-4360-dde0-4aa795c82add",
        "colab": {
          "base_uri": "https://localhost:8080/",
          "height": 403
        }
      },
      "source": [
        "# correlations between all the features\n",
        "corr = churn_df[[\"account_length\", \"number_vmail_messages\", \"total_day_minutes\",\n",
        "                    \"total_day_calls\", \"total_day_charge\", \"total_eve_minutes\",\n",
        "                    \"total_eve_calls\", \"total_eve_charge\", \"total_night_minutes\",\n",
        "                    \"total_night_calls\", \"total_intl_minutes\", \"total_intl_calls\",\n",
        "                    \"total_intl_charge\"]].corr()\n",
        "\n",
        "# show heapmap of correlations\n",
        "sns.heatmap(corr)"
      ],
      "execution_count": 0,
      "outputs": [
        {
          "output_type": "execute_result",
          "data": {
            "text/plain": [
              "<matplotlib.axes._subplots.AxesSubplot at 0x7f0b02c1b9e8>"
            ]
          },
          "metadata": {
            "tags": []
          },
          "execution_count": 68
        },
        {
          "output_type": "display_data",
          "data": {
            "image/png": "[encoded data removed]",
            "text/plain": [
              "<Figure size 432x288 with 2 Axes>"
            ]
          },
          "metadata": {
            "tags": []
          }
        }
      ]
    },
    {
      "cell_type": "code",
      "metadata": {
        "colab_type": "code",
        "id": "1qfEnNW_i0M5",
        "colab": {}
      },
      "source": [
        "# check the actual values of correlations\n",
        "corr"
      ],
      "execution_count": 0,
      "outputs": []
    },
    {
      "cell_type": "code",
      "metadata": {
        "colab_type": "code",
        "id": "wtjI61m6i0M8",
        "outputId": "3e495a95-8791-43fb-8702-dc436bfeb702",
        "colab": {
          "base_uri": "https://localhost:8080/",
          "height": 34
        }
      },
      "source": [
        "# calculate two features correlation\n",
        "from scipy.stats import pearsonr\n",
        "print (pearsonr(churn_df['total_day_minutes'], churn_df['number_vmail_messages'])[0])\n",
        "# p-value is 0.70"
      ],
      "execution_count": 7,
      "outputs": [
        {
          "output_type": "stream",
          "text": [
            "0.00538137596065452\n"
          ],
          "name": "stdout"
        }
      ]
    },
    {
      "cell_type": "markdown",
      "metadata": {
        "colab_type": "text",
        "id": "aFa4d6t3i0NH"
      },
      "source": [
        "# Part 2: Feature Preprocessing"
      ]
    },
    {
      "cell_type": "markdown",
      "metadata": {
        "id": "p3A3e0t_V3Hf",
        "colab_type": "text"
      },
      "source": [
        "### Part 2.1: Get ground truth data and convert data types to numerical or boolean for next steps"
      ]
    },
    {
      "cell_type": "code",
      "metadata": {
        "colab_type": "code",
        "id": "pxtf6XoJi0NI",
        "scrolled": true,
        "outputId": "a483d515-634a-4a6f-bfd8-8738616162c0",
        "colab": {
          "base_uri": "https://localhost:8080/",
          "height": 224
        }
      },
      "source": [
        "churn_df.head()"
      ],
      "execution_count": 0,
      "outputs": [
        {
          "output_type": "execute_result",
          "data": {
            "text/html": [
              "<div>\n",
              "<style scoped>\n",
              "    .dataframe tbody tr th:only-of-type {\n",
              "        vertical-align: middle;\n",
              "    }\n",
              "\n",
              "    .dataframe tbody tr th {\n",
              "        vertical-align: top;\n",
              "    }\n",
              "\n",
              "    .dataframe thead th {\n",
              "        text-align: right;\n",
              "    }\n",
              "</style>\n",
              "<table border=\"1\" class=\"dataframe\">\n",
              "  <thead>\n",
              "    <tr style=\"text-align: right;\">\n",
              "      <th></th>\n",
              "      <th>state</th>\n",
              "      <th>account_length</th>\n",
              "      <th>area_code</th>\n",
              "      <th>phone_number</th>\n",
              "      <th>intl_plan</th>\n",
              "      <th>voice_mail_plan</th>\n",
              "      <th>number_vmail_messages</th>\n",
              "      <th>total_day_minutes</th>\n",
              "      <th>total_day_calls</th>\n",
              "      <th>total_day_charge</th>\n",
              "      <th>total_eve_minutes</th>\n",
              "      <th>total_eve_calls</th>\n",
              "      <th>total_eve_charge</th>\n",
              "      <th>total_night_minutes</th>\n",
              "      <th>total_night_calls</th>\n",
              "      <th>total_night_charge</th>\n",
              "      <th>total_intl_minutes</th>\n",
              "      <th>total_intl_calls</th>\n",
              "      <th>total_intl_charge</th>\n",
              "      <th>number_customer_service_calls</th>\n",
              "      <th>churned</th>\n",
              "    </tr>\n",
              "  </thead>\n",
              "  <tbody>\n",
              "    <tr>\n",
              "      <th>0</th>\n",
              "      <td>KS</td>\n",
              "      <td>128</td>\n",
              "      <td>415</td>\n",
              "      <td>382-4657</td>\n",
              "      <td>no</td>\n",
              "      <td>yes</td>\n",
              "      <td>25</td>\n",
              "      <td>265.1</td>\n",
              "      <td>110</td>\n",
              "      <td>45.07</td>\n",
              "      <td>197.4</td>\n",
              "      <td>99</td>\n",
              "      <td>16.78</td>\n",
              "      <td>244.7</td>\n",
              "      <td>91</td>\n",
              "      <td>11.01</td>\n",
              "      <td>10.0</td>\n",
              "      <td>3</td>\n",
              "      <td>2.70</td>\n",
              "      <td>1</td>\n",
              "      <td>False</td>\n",
              "    </tr>\n",
              "    <tr>\n",
              "      <th>1</th>\n",
              "      <td>OH</td>\n",
              "      <td>107</td>\n",
              "      <td>415</td>\n",
              "      <td>371-7191</td>\n",
              "      <td>no</td>\n",
              "      <td>yes</td>\n",
              "      <td>26</td>\n",
              "      <td>161.6</td>\n",
              "      <td>123</td>\n",
              "      <td>27.47</td>\n",
              "      <td>195.5</td>\n",
              "      <td>103</td>\n",
              "      <td>16.62</td>\n",
              "      <td>254.4</td>\n",
              "      <td>103</td>\n",
              "      <td>11.45</td>\n",
              "      <td>13.7</td>\n",
              "      <td>3</td>\n",
              "      <td>3.70</td>\n",
              "      <td>1</td>\n",
              "      <td>False</td>\n",
              "    </tr>\n",
              "    <tr>\n",
              "      <th>2</th>\n",
              "      <td>NJ</td>\n",
              "      <td>137</td>\n",
              "      <td>415</td>\n",
              "      <td>358-1921</td>\n",
              "      <td>no</td>\n",
              "      <td>no</td>\n",
              "      <td>0</td>\n",
              "      <td>243.4</td>\n",
              "      <td>114</td>\n",
              "      <td>41.38</td>\n",
              "      <td>121.2</td>\n",
              "      <td>110</td>\n",
              "      <td>10.30</td>\n",
              "      <td>162.6</td>\n",
              "      <td>104</td>\n",
              "      <td>7.32</td>\n",
              "      <td>12.2</td>\n",
              "      <td>5</td>\n",
              "      <td>3.29</td>\n",
              "      <td>0</td>\n",
              "      <td>False</td>\n",
              "    </tr>\n",
              "    <tr>\n",
              "      <th>3</th>\n",
              "      <td>OH</td>\n",
              "      <td>84</td>\n",
              "      <td>408</td>\n",
              "      <td>375-9999</td>\n",
              "      <td>yes</td>\n",
              "      <td>no</td>\n",
              "      <td>0</td>\n",
              "      <td>299.4</td>\n",
              "      <td>71</td>\n",
              "      <td>50.90</td>\n",
              "      <td>61.9</td>\n",
              "      <td>88</td>\n",
              "      <td>5.26</td>\n",
              "      <td>196.9</td>\n",
              "      <td>89</td>\n",
              "      <td>8.86</td>\n",
              "      <td>6.6</td>\n",
              "      <td>7</td>\n",
              "      <td>1.78</td>\n",
              "      <td>2</td>\n",
              "      <td>False</td>\n",
              "    </tr>\n",
              "    <tr>\n",
              "      <th>4</th>\n",
              "      <td>OK</td>\n",
              "      <td>75</td>\n",
              "      <td>415</td>\n",
              "      <td>330-6626</td>\n",
              "      <td>yes</td>\n",
              "      <td>no</td>\n",
              "      <td>0</td>\n",
              "      <td>166.7</td>\n",
              "      <td>113</td>\n",
              "      <td>28.34</td>\n",
              "      <td>148.3</td>\n",
              "      <td>122</td>\n",
              "      <td>12.61</td>\n",
              "      <td>186.9</td>\n",
              "      <td>121</td>\n",
              "      <td>8.41</td>\n",
              "      <td>10.1</td>\n",
              "      <td>3</td>\n",
              "      <td>2.73</td>\n",
              "      <td>3</td>\n",
              "      <td>False</td>\n",
              "    </tr>\n",
              "  </tbody>\n",
              "</table>\n",
              "</div>"
            ],
            "text/plain": [
              "  state  account_length  ...  number_customer_service_calls churned\n",
              "0    KS             128  ...                              1   False\n",
              "1    OH             107  ...                              1   False\n",
              "2    NJ             137  ...                              0   False\n",
              "3    OH              84  ...                              2   False\n",
              "4    OK              75  ...                              3   False\n",
              "\n",
              "[5 rows x 21 columns]"
            ]
          },
          "metadata": {
            "tags": []
          },
          "execution_count": 16
        }
      ]
    },
    {
      "cell_type": "code",
      "metadata": {
        "colab_type": "code",
        "id": "4ec5r_Qdi0NL",
        "colab": {}
      },
      "source": [
        "# Get ground truth data\n",
        "y = np.where(churn_df['churned'] == 'True',1,0)\n",
        "\n",
        "# Drop some useless columns\n",
        "to_drop = ['state','area_code','phone_number','churned']\n",
        "churn_feat_space = churn_df.drop(to_drop, axis=1)\n",
        "\n",
        "# yes and no have to be converted to boolean values\n",
        "yes_no_cols = [\"intl_plan\",\"voice_mail_plan\"]\n",
        "churn_feat_space[yes_no_cols] = churn_feat_space[yes_no_cols] == 'yes'\n",
        "\n",
        "X = churn_feat_space"
      ],
      "execution_count": 0,
      "outputs": []
    },
    {
      "cell_type": "code",
      "metadata": {
        "colab_type": "code",
        "id": "rzCo_GC97rGd",
        "outputId": "1784e3c0-e27a-457e-a5f3-f74e47ec8830",
        "colab": {
          "base_uri": "https://localhost:8080/",
          "height": 34
        }
      },
      "source": [
        "# check the propotion of y = 1\n",
        "print(y.sum() / y.shape * 100)"
      ],
      "execution_count": 0,
      "outputs": [
        {
          "output_type": "stream",
          "text": [
            "[14.14]\n"
          ],
          "name": "stdout"
        }
      ]
    },
    {
      "cell_type": "markdown",
      "metadata": {
        "colab_type": "text",
        "id": "oNsZwmWxi0NP"
      },
      "source": [
        "I removed the 'state' column for further analysis due to the time constraint but I wanted to understand how 'state' has an influence in our feature matrix. I vectorized 51 more columns for each and every state with one-hot-encoding but that would create too many features for now. Implementing different methods of encoding would be the next improvement"
      ]
    },
    {
      "cell_type": "code",
      "metadata": {
        "cellView": "both",
        "colab_type": "code",
        "id": "MrsjiqTwi0NQ",
        "colab": {}
      },
      "source": [
        "# for reference only\n",
        "to_drop_state = ['area_code','phone_number','churned']\n",
        "churn_feat_space_state = churn_df.drop(to_drop_state, axis=1)\n",
        "\n",
        "# yes and no have to be converted to boolean values\n",
        "yes_no_cols = [\"intl_plan\",\"voice_mail_plan\"]\n",
        "churn_feat_space_state[yes_no_cols] = churn_feat_space_state[yes_no_cols] == 'yes'\n",
        "\n",
        "# sklearn.preprocessing.OneHotEncoder\n",
        "churn_feat_space_state = pd.get_dummies(churn_feat_space_state, columns=['state'])\n",
        "\n",
        "churn_feat_space_state.head()"
      ],
      "execution_count": 0,
      "outputs": []
    },
    {
      "cell_type": "markdown",
      "metadata": {
        "colab_type": "text",
        "id": "77OjmSl9i0Nf"
      },
      "source": [
        "### Part 2.2: Split dataset into training and testing"
      ]
    },
    {
      "cell_type": "code",
      "metadata": {
        "colab_type": "code",
        "id": "Uay8Md5li0Nh",
        "outputId": "50110130-02b2-4160-cdfc-9b1c3a107aa9",
        "colab": {
          "base_uri": "https://localhost:8080/",
          "height": 51
        }
      },
      "source": [
        "# Split the data into training and testing\n",
        "from sklearn import model_selection\n",
        "\n",
        "# Reserve 20% for testing\n",
        "X_train, X_test, y_train, y_test = model_selection.train_test_split(X, y, test_size=0.2)\n",
        "\n",
        "print('training data has ' + str(X_train.shape[0]) + ' observation with ' + str(X_train.shape[1]) + ' features')\n",
        "print('test data has ' + str(X_test.shape[0]) + ' observation with ' + str(X_test.shape[1]) + ' features')"
      ],
      "execution_count": 0,
      "outputs": [
        {
          "output_type": "stream",
          "text": [
            "training data has 4000 observation with 17 features\n",
            "test data has 1000 observation with 17 features\n"
          ],
          "name": "stdout"
        }
      ]
    },
    {
      "cell_type": "markdown",
      "metadata": {
        "id": "k5kEeaqmWeLZ",
        "colab_type": "text"
      },
      "source": [
        "### Part 2.3: Feature Scaling"
      ]
    },
    {
      "cell_type": "markdown",
      "metadata": {
        "id": "_FmQVL_yZjr0",
        "colab_type": "text"
      },
      "source": [
        "#### Part 2.3.1: Standardization"
      ]
    },
    {
      "cell_type": "code",
      "metadata": {
        "colab_type": "code",
        "id": "JuPhtUkJi0NW",
        "colab": {}
      },
      "source": [
        "# Scale the data using standardization\n",
        "\n",
        "from sklearn.preprocessing import StandardScaler\n",
        "std_scaler = StandardScaler()\n",
        "X_train_std = std_scaler.fit_transform(X_train)\n",
        "X_test_std = std_scaler.transform(X_test)"
      ],
      "execution_count": 0,
      "outputs": []
    },
    {
      "cell_type": "code",
      "metadata": {
        "id": "P9BXfNNSaVMd",
        "colab_type": "code",
        "outputId": "0e785081-67f0-43c1-8222-88a7e18ec670",
        "colab": {
          "base_uri": "https://localhost:8080/",
          "height": 238
        }
      },
      "source": [
        "X_train_std"
      ],
      "execution_count": 0,
      "outputs": [
        {
          "output_type": "execute_result",
          "data": {
            "text/plain": [
              "array([[-1.38869712, -0.31831052, -0.59583014, ..., -0.58610595,\n",
              "        -0.4673378 ,  0.33296694],\n",
              "       [ 0.47316444, -0.31831052,  1.67833069, ..., -0.58610595,\n",
              "         0.1497559 , -0.43247431],\n",
              "       [ 0.80024823, -0.31831052,  1.67833069, ..., -0.17509196,\n",
              "        -0.42709256, -0.43247431],\n",
              "       ...,\n",
              "       [ 0.95120997, -0.31831052, -0.59583014, ...,  1.46896401,\n",
              "         0.65952895, -1.19791556],\n",
              "       [-1.46417799, -0.31831052, -0.59583014, ...,  1.879978  ,\n",
              "         0.76684959,  0.33296694],\n",
              "       [-0.96097217, -0.31831052, -0.59583014, ..., -0.17509196,\n",
              "        -0.64173385,  1.86384945]])"
            ]
          },
          "metadata": {
            "tags": []
          },
          "execution_count": 20
        }
      ]
    },
    {
      "cell_type": "markdown",
      "metadata": {
        "id": "s4SNleFJZtFR",
        "colab_type": "text"
      },
      "source": [
        "####Part 2.3.2: Normalization"
      ]
    },
    {
      "cell_type": "code",
      "metadata": {
        "id": "G9i2jZZaZiVM",
        "colab_type": "code",
        "colab": {}
      },
      "source": [
        "# Scale the data using normalization\n",
        "\n",
        "from sklearn.preprocessing import MinMaxScaler\n",
        "nor_scaler = MinMaxScaler()\n",
        "X_train_nor = nor_scaler.fit_transform(X_train)\n",
        "X_test_nor = nor_scaler.transform(X_test)"
      ],
      "execution_count": 0,
      "outputs": []
    },
    {
      "cell_type": "code",
      "metadata": {
        "id": "adgmKg5dakSZ",
        "colab_type": "code",
        "outputId": "5b056931-1e5c-4686-c5bd-d297ec9860ad",
        "colab": {
          "base_uri": "https://localhost:8080/",
          "height": 238
        }
      },
      "source": [
        "X_train_nor"
      ],
      "execution_count": 0,
      "outputs": [
        {
          "output_type": "execute_result",
          "data": {
            "text/plain": [
              "array([[0.18565401, 0.        , 0.        , ..., 0.15      , 0.45      ,\n",
              "        0.22222222],\n",
              "       [0.4978903 , 0.        , 1.        , ..., 0.15      , 0.53518519,\n",
              "        0.11111111],\n",
              "       [0.55274262, 0.        , 1.        , ..., 0.2       , 0.45555556,\n",
              "        0.11111111],\n",
              "       ...,\n",
              "       [0.57805907, 0.        , 0.        , ..., 0.4       , 0.60555556,\n",
              "        0.        ],\n",
              "       [0.17299578, 0.        , 0.        , ..., 0.45      , 0.62037037,\n",
              "        0.22222222],\n",
              "       [0.25738397, 0.        , 0.        , ..., 0.2       , 0.42592593,\n",
              "        0.44444444]])"
            ]
          },
          "metadata": {
            "tags": []
          },
          "execution_count": 22
        }
      ]
    },
    {
      "cell_type": "markdown",
      "metadata": {
        "colab_type": "text",
        "id": "q3x9ySX_i0Nd"
      },
      "source": [
        "# Part 3: Model Training and Result Evaluation"
      ]
    },
    {
      "cell_type": "markdown",
      "metadata": {
        "colab_type": "text",
        "id": "c4UTtCQTi0Nl"
      },
      "source": [
        "### Part 3.1: Model Training and Selection"
      ]
    },
    {
      "cell_type": "code",
      "metadata": {
        "cellView": "both",
        "colab_type": "code",
        "id": "EAhSxINLi0Nl",
        "colab": {}
      },
      "source": [
        "#build models for classification\n",
        "from sklearn.ensemble import RandomForestClassifier\n",
        "from sklearn.neighbors import KNeighborsClassifier \n",
        "from sklearn.linear_model import LogisticRegression\n",
        "\n",
        "# Logistic Regression\n",
        "classifier_logistic = LogisticRegression()\n",
        "\n",
        "# K Nearest Neighbors\n",
        "classifier_KNN = KNeighborsClassifier()\n",
        "\n",
        "# Random Forest\n",
        "classifier_RF = RandomForestClassifier()"
      ],
      "execution_count": 0,
      "outputs": []
    },
    {
      "cell_type": "markdown",
      "metadata": {
        "id": "ygSSIs4q7wQl",
        "colab_type": "text"
      },
      "source": [
        "Group 1: Standardized data sets"
      ]
    },
    {
      "cell_type": "code",
      "metadata": {
        "colab_type": "code",
        "id": "Av0IRSoBQ3pe",
        "outputId": "3862ecb5-0314-4590-a052-91d4f3b9194d",
        "colab": {
          "base_uri": "https://localhost:8080/",
          "height": 102
        }
      },
      "source": [
        "# Train the model\n",
        "classifier_logistic.fit(X_train_std, y_train)"
      ],
      "execution_count": 0,
      "outputs": [
        {
          "output_type": "execute_result",
          "data": {
            "text/plain": [
              "LogisticRegression(C=1.0, class_weight=None, dual=False, fit_intercept=True,\n",
              "                   intercept_scaling=1, l1_ratio=None, max_iter=100,\n",
              "                   multi_class='auto', n_jobs=None, penalty='l2',\n",
              "                   random_state=None, solver='lbfgs', tol=0.0001, verbose=0,\n",
              "                   warm_start=False)"
            ]
          },
          "metadata": {
            "tags": []
          },
          "execution_count": 25
        }
      ]
    },
    {
      "cell_type": "code",
      "metadata": {
        "colab_type": "code",
        "id": "1OCgNSNri0Nn",
        "outputId": "cd8590f9-d024-456e-c783-99e4f9c23416",
        "colab": {
          "base_uri": "https://localhost:8080/",
          "height": 119
        }
      },
      "source": [
        "# Use 5-fold Cross Validation to select model based on accuracy (note: the machine either correctly classify or doesn't so we use classification score, not mean squared error)\n",
        "model_names = ['Logistic Regression','KNN','Random Forest']\n",
        "model_list = [classifier_logistic, classifier_KNN, classifier_RF]\n",
        "count = 0\n",
        "\n",
        "for classifier in model_list:\n",
        "    cv_score = model_selection.cross_val_score(classifier, X_train_std, y_train, cv=5, scoring = 'accuracy')\n",
        "    print(cv_score)\n",
        "    print('Model accuracy of ' + model_names[count] + ' is ' + str(cv_score.mean()))\n",
        "    count += 1"
      ],
      "execution_count": 0,
      "outputs": [
        {
          "output_type": "stream",
          "text": [
            "[0.87   0.875  0.87   0.8625 0.845 ]\n",
            "Model accuracy of Logistic Regression is 0.8644999999999999\n",
            "[0.89125 0.88875 0.89875 0.90875 0.88625]\n",
            "Model accuracy of KNN is 0.8947499999999999\n",
            "[0.95625 0.95375 0.96125 0.9625  0.95   ]\n",
            "Model accuracy of Random Forest is 0.9567500000000001\n"
          ],
          "name": "stdout"
        }
      ]
    },
    {
      "cell_type": "markdown",
      "metadata": {
        "id": "MywlomIX8RC2",
        "colab_type": "text"
      },
      "source": [
        "Group 2: Normalized data sets"
      ]
    },
    {
      "cell_type": "code",
      "metadata": {
        "id": "sElAnnvXCvlJ",
        "colab_type": "code",
        "outputId": "c345eae2-c9f0-4366-9476-10831354ed7a",
        "colab": {
          "base_uri": "https://localhost:8080/",
          "height": 119
        }
      },
      "source": [
        "model_name = ['Logistic Regression', 'KNN', 'Random Forest']\n",
        "model_list = [classifier_logistic, classifier_KNN, classifier_RF]\n",
        "count = 0\n",
        "\n",
        "for classifier in model_list:\n",
        "  cv_score = model_selection.cross_val_score(classifier, X_train_nor, y_train, cv = 5, scoring = 'accuracy')\n",
        "  print(cv_score)\n",
        "  print('Model accuracy of ', model_name[count], ' is ', str(cv_score.mean()))\n",
        "  count += 1"
      ],
      "execution_count": 0,
      "outputs": [
        {
          "output_type": "stream",
          "text": [
            "[0.8675  0.87875 0.87    0.8675  0.8475 ]\n",
            "Model accuracy of  Logistic Regression  is  0.86625\n",
            "[0.89875 0.8975  0.89375 0.9     0.89125]\n",
            "Model accuracy of  KNN  is  0.89625\n",
            "[0.95625 0.94875 0.96125 0.96375 0.95125]\n",
            "Model accuracy of  Random Forest  is  0.95625\n"
          ],
          "name": "stdout"
        }
      ]
    },
    {
      "cell_type": "markdown",
      "metadata": {
        "id": "7IbvkKJn-gsO",
        "colab_type": "text"
      },
      "source": [
        "Based on cross validation performance results with accuracy as scoring, we may select the Random Forest model as our final model proposal because it has the highest accuracy among the 3 models.\n",
        "\n",
        "We can also see that normalized data performs roughly the same as standardized data.\n"
      ]
    },
    {
      "cell_type": "markdown",
      "metadata": {
        "colab_type": "text",
        "id": "xxDAOrGIi0OI"
      },
      "source": [
        "###Part 3.2: Model Evaluation - Confusion Matrix (Precision, Recall, Accuracy)"
      ]
    },
    {
      "cell_type": "markdown",
      "metadata": {
        "id": "K-7GcDVdW_l_",
        "colab_type": "text"
      },
      "source": [
        "Model evaluation from business stand point. Here th class of interest is positive (churned)\n",
        "\n",
        "TP: correctly labeled real churn\n",
        "\n",
        "Precision(PPV, positive predictive value): tp / (tp + fp);\n",
        "Total number of true predictive churn divided by the total number of predictive churn;\n",
        "High Precision means low fp, not many return users were predicted as churn users. \n",
        "\n",
        "\n",
        "Recall(sensitivity, hit rate, true positive rate): tp / (tp + fn)\n",
        "Predict most postive or churn user correctly. High recall means low fn, not many churn users were predicted as return users."
      ]
    },
    {
      "cell_type": "code",
      "metadata": {
        "colab_type": "code",
        "id": "o-tP94iFi0OI",
        "colab": {}
      },
      "source": [
        "from sklearn.metrics import confusion_matrix\n",
        "#from sklearn.metrics import classification_report\n",
        "#from sklearn.metrics import precision_score\n",
        "#from sklearn.metrics import recall_score\n",
        "\n",
        "# calculate accuracy, precision and recall, [[tn, fp],[fn, tp]]]\n",
        "def cal_evaluation(classifier, cm):\n",
        "    tn = cm[0][0]\n",
        "    fp = cm[0][1]\n",
        "    fn = cm[1][0]\n",
        "    tp = cm[1][1]\n",
        "    accuracy  = (tp + tn) / (tp + fp + fn + tn + 0.0)\n",
        "    precision = tp / (tp + fp + 0.0)\n",
        "    recall = tp / (tp + fn + 0.0)\n",
        "    print (classifier)\n",
        "    print (\"Accuracy is: \" + str(accuracy))\n",
        "    print (\"precision is: \" + str(precision))\n",
        "    print (\"recall is: \" + str(recall))\n",
        "\n",
        "# print out confusion matrices\n",
        "def draw_confusion_matrices(confusion_matricies):\n",
        "    class_names = ['Not','Churn']\n",
        "    for cm in confusion_matrices:\n",
        "        classifier, cm = cm[0], cm[1]\n",
        "        cal_evaluation(classifier, cm)\n",
        "        fig = plt.figure()\n",
        "        ax = fig.add_subplot(111)\n",
        "        cax = ax.matshow(cm, interpolation='nearest',cmap=plt.get_cmap('Reds'))\n",
        "        plt.title('Confusion matrix for ' + classifier)\n",
        "        fig.colorbar(cax)\n",
        "        ax.set_xticklabels([''] + class_names)\n",
        "        ax.set_yticklabels([''] + class_names)\n",
        "        plt.xlabel('Predicted')\n",
        "        plt.ylabel('True')\n",
        "        plt.show()"
      ],
      "execution_count": 0,
      "outputs": []
    },
    {
      "cell_type": "code",
      "metadata": {
        "colab_type": "code",
        "id": "OpSGaN49i0OL",
        "outputId": "6ac951b3-90e9-45f8-f8be-77fa5dedc598",
        "colab": {
          "base_uri": "https://localhost:8080/",
          "height": 1000
        }
      },
      "source": [
        "%matplotlib inline\n",
        "\n",
        "# Confusion matrix, accuracy, precison and recall for random forest, logistic regression and KNN\n",
        "confusion_matrices = [\n",
        "    (\"Random Forest\", confusion_matrix(y_test,classifier_RF.predict(X_test_std))),\n",
        "    (\"Logistic Regression\", confusion_matrix(y_test,classifier_logistic.predict(X_test_std))),\n",
        "    (\"KNN\", confusion_matrix(y_test, classifier_KNN.predict(X_test_std)))\n",
        "]\n",
        "\n",
        "draw_confusion_matrices(confusion_matrices)"
      ],
      "execution_count": 0,
      "outputs": [
        {
          "output_type": "stream",
          "text": [
            "Random Forest\n",
            "Accuracy is: 0.962\n",
            "precision is: 0.9401709401709402\n",
            "recall is: 0.7801418439716312\n"
          ],
          "name": "stdout"
        },
        {
          "output_type": "display_data",
          "data": {
            "image/png": "[encoded data removed]",
            "text/plain": [
              "<Figure size 432x288 with 2 Axes>"
            ]
          },
          "metadata": {
            "tags": []
          }
        },
        {
          "output_type": "stream",
          "text": [
            "Logistic Regression\n",
            "Accuracy is: 0.873\n",
            "precision is: 0.6296296296296297\n",
            "recall is: 0.24113475177304963\n"
          ],
          "name": "stdout"
        },
        {
          "output_type": "display_data",
          "data": {
            "image/png": "[encoded data removed]",
            "text/plain": [
              "<Figure size 432x288 with 2 Axes>"
            ]
          },
          "metadata": {
            "tags": []
          }
        },
        {
          "output_type": "stream",
          "text": [
            "KNN\n",
            "Accuracy is: 0.906\n",
            "precision is: 0.8983050847457628\n",
            "recall is: 0.375886524822695\n"
          ],
          "name": "stdout"
        },
        {
          "output_type": "display_data",
          "data": {
            "image/png": "[encoded data removed]",
            "text/plain": [
              "<Figure size 432x288 with 2 Axes>"
            ]
          },
          "metadata": {
            "tags": []
          }
        }
      ]
    },
    {
      "cell_type": "markdown",
      "metadata": {
        "id": "ykZ4OYmOZsgT",
        "colab_type": "text"
      },
      "source": [
        "There are 14% churned users so the data is a little bit imbalanced. However, the Random Forest model does a good job in terms of recall metric (0.78), which is better than Logistic Regression (0.24) and KNN (0.37)."
      ]
    },
    {
      "cell_type": "markdown",
      "metadata": {
        "colab_type": "text",
        "id": "OvHlyhPBi0OT"
      },
      "source": [
        "### Part 3.4: Model Evaluation - ROC & AUC"
      ]
    },
    {
      "cell_type": "markdown",
      "metadata": {
        "colab_type": "text",
        "id": "jx_3XkgKi0OW"
      },
      "source": [
        "We also evaluate the 3 models from the machine stand point, regardless of the cutoff. RandomForestClassifier, KNeighborsClassifier and LogisticRegression have predict_prob() function."
      ]
    },
    {
      "cell_type": "markdown",
      "metadata": {
        "colab_type": "text",
        "id": "-Os_ZLTvi0OX"
      },
      "source": [
        "#### Part 3.4.1: ROC of RF Model"
      ]
    },
    {
      "cell_type": "code",
      "metadata": {
        "colab_type": "code",
        "id": "UypvQMVBi0OY",
        "colab": {}
      },
      "source": [
        "from sklearn.metrics import roc_curve\n",
        "\n",
        "# Use predict_proba to get the probability results with Random Forest\n",
        "y_pred_proba_rf = classifier_RF.predict_proba(X_test_std)[:, 1]\n",
        "fpr_rf, tpr_rf, _ = roc_curve(y_test, y_pred_proba_rf)\n",
        "#roc_curve returns 3 outputs: fpr, tpr, and threshold. We use a placeholder _ for threshold here."
      ],
      "execution_count": 0,
      "outputs": []
    },
    {
      "cell_type": "code",
      "metadata": {
        "colab_type": "code",
        "id": "s3PR-PdPi0Ob",
        "outputId": "4a475454-22a3-47e2-acfa-9fbfa595f683",
        "colab": {
          "base_uri": "https://localhost:8080/",
          "height": 295
        }
      },
      "source": [
        "# draw ROC curve of Random Forest\n",
        "plt.figure(1)\n",
        "plt.plot([0, 1], [0, 1], 'k--')\n",
        "plt.plot(fpr_rf, tpr_rf, label='RF')\n",
        "plt.xlabel('False positive rate')\n",
        "plt.ylabel('True positive rate')\n",
        "plt.title('ROC curve - RF model')\n",
        "plt.legend(loc='best')\n",
        "plt.show()"
      ],
      "execution_count": 0,
      "outputs": [
        {
          "output_type": "display_data",
          "data": {
            "image/png": "[encoded data removed]",
            "text/plain": [
              "<Figure size 432x288 with 1 Axes>"
            ]
          },
          "metadata": {
            "tags": []
          }
        }
      ]
    },
    {
      "cell_type": "code",
      "metadata": {
        "colab_type": "code",
        "id": "R89IUMYDi0Oe",
        "outputId": "ff1e67ff-dc0b-4e58-e161-f4ac762da215",
        "colab": {
          "base_uri": "https://localhost:8080/",
          "height": 34
        }
      },
      "source": [
        "from sklearn import metrics\n",
        "\n",
        "# AUC score\n",
        "metrics.auc(fpr_rf,tpr_rf)"
      ],
      "execution_count": 0,
      "outputs": [
        {
          "output_type": "execute_result",
          "data": {
            "text/plain": [
              "0.911277338815545"
            ]
          },
          "metadata": {
            "tags": []
          },
          "execution_count": 48
        }
      ]
    },
    {
      "cell_type": "markdown",
      "metadata": {
        "colab_type": "text",
        "id": "-1DVqnJVi0Oh"
      },
      "source": [
        "#### Part 3.4.1: ROC of LR Model"
      ]
    },
    {
      "cell_type": "code",
      "metadata": {
        "colab_type": "code",
        "id": "t-q5XJPoi0Oi",
        "colab": {}
      },
      "source": [
        "# Use predict_proba to get the probability results of Logistic Regression\n",
        "y_pred_proba_lr = classifier_logistic.predict_proba(X_test_std)[:, 1]\n",
        "fpr_lr, tpr_lr, _ = roc_curve(y_test, y_pred_proba_lr)"
      ],
      "execution_count": 0,
      "outputs": []
    },
    {
      "cell_type": "code",
      "metadata": {
        "id": "Cl1gXyadjNHm",
        "colab_type": "code",
        "outputId": "181817b4-103a-4855-c9b7-fa55862c8311",
        "colab": {
          "base_uri": "https://localhost:8080/",
          "height": 295
        }
      },
      "source": [
        "# ROC Curve\n",
        "plt.figure(1)\n",
        "plt.plot([0, 1], [0, 1], 'k--')\n",
        "plt.plot(fpr_lr, tpr_lr, label='LR')\n",
        "plt.xlabel('False positive rate')\n",
        "plt.ylabel('True positive rate')\n",
        "plt.title('ROC curve - LR Model')\n",
        "plt.legend(loc='best')\n",
        "plt.show()"
      ],
      "execution_count": 0,
      "outputs": [
        {
          "output_type": "display_data",
          "data": {
            "image/png": "[encoded data removed]",
            "text/plain": [
              "<Figure size 432x288 with 1 Axes>"
            ]
          },
          "metadata": {
            "tags": []
          }
        }
      ]
    },
    {
      "cell_type": "code",
      "metadata": {
        "id": "MMI-lrfMjSIb",
        "colab_type": "code",
        "outputId": "2b5c21b8-f6a7-436b-a05a-c78aad44d51f",
        "colab": {
          "base_uri": "https://localhost:8080/",
          "height": 34
        }
      },
      "source": [
        "# AUC score\n",
        "metrics.auc(fpr_lr, tpr_lr)"
      ],
      "execution_count": 0,
      "outputs": [
        {
          "output_type": "execute_result",
          "data": {
            "text/plain": [
              "0.8340287624688472"
            ]
          },
          "metadata": {
            "tags": []
          },
          "execution_count": 57
        }
      ]
    },
    {
      "cell_type": "code",
      "metadata": {
        "id": "5E0D4vdPjhtE",
        "colab_type": "code",
        "colab": {}
      },
      "source": [
        "# Use predict_proba to get the probability results of KNN\n",
        "y_pred_proba_knn = classifier_KNN.predict_proba(X_test_std)[:, 1]\n",
        "fpr_knn, tpr_knn, _ = roc_curve(y_test, y_pred_proba_knn)"
      ],
      "execution_count": 0,
      "outputs": []
    },
    {
      "cell_type": "code",
      "metadata": {
        "id": "vg0cvg9pj7Xw",
        "colab_type": "code",
        "outputId": "0d8b5a2d-4fd4-4b2f-f1ab-a03836d6d2d1",
        "colab": {
          "base_uri": "https://localhost:8080/",
          "height": 295
        }
      },
      "source": [
        "# ROC Curve\n",
        "plt.figure(1)\n",
        "plt.plot([0, 1], [0, 1], 'k--')\n",
        "plt.plot(fpr_knn, tpr_knn, label = 'KNN')\n",
        "plt.xlabel('False positive rate')\n",
        "plt.ylabel('True positive rate')\n",
        "plt.title('ROC curve - KNN Model')\n",
        "plt.legend(loc = 'best')\n",
        "plt.show()"
      ],
      "execution_count": 0,
      "outputs": [
        {
          "output_type": "display_data",
          "data": {
            "image/png": "[encoded data removed]",
            "text/plain": [
              "<Figure size 432x288 with 1 Axes>"
            ]
          },
          "metadata": {
            "tags": []
          }
        }
      ]
    },
    {
      "cell_type": "code",
      "metadata": {
        "id": "aln4GFqkkiRZ",
        "colab_type": "code",
        "outputId": "11382dbd-39fd-42c7-9bcc-e7774f31ead7",
        "colab": {
          "base_uri": "https://localhost:8080/",
          "height": 34
        }
      },
      "source": [
        "# AUC score\n",
        "metrics.auc(fpr_knn, tpr_knn)"
      ],
      "execution_count": 0,
      "outputs": [
        {
          "output_type": "execute_result",
          "data": {
            "text/plain": [
              "0.8458705900808297"
            ]
          },
          "metadata": {
            "tags": []
          },
          "execution_count": 55
        }
      ]
    },
    {
      "cell_type": "markdown",
      "metadata": {
        "id": "tjHTooGxkvwI",
        "colab_type": "text"
      },
      "source": [
        "In terms of ROC and AUC, the Random Forest model outstands the other 2 models, followed by KNN then Logistic Regression model."
      ]
    },
    {
      "cell_type": "markdown",
      "metadata": {
        "colab_type": "text",
        "id": "gHHurD8Ii0Oq"
      },
      "source": [
        "# Part 4: Feature Selection"
      ]
    },
    {
      "cell_type": "markdown",
      "metadata": {
        "colab_type": "text",
        "id": "dSx4TPO-i0Or"
      },
      "source": [
        "### Part 4.1:  Logistic Regression Model - Feature Selection Discussion "
      ]
    },
    {
      "cell_type": "markdown",
      "metadata": {
        "colab_type": "text",
        "id": "BtLHUixoi0Ot"
      },
      "source": [
        "The correlated features that we are interested in: (total_day_minutes, total_day_charge), (total_eve_minutes, total_eve_charge), (total_intl_minutes, total_intl_charge)."
      ]
    },
    {
      "cell_type": "markdown",
      "metadata": {
        "id": "HDnLiZF-7N7b",
        "colab_type": "text"
      },
      "source": [
        "Part 4.1.1: Add L1 regularization to logistic regression and check the coef for feature selection"
      ]
    },
    {
      "cell_type": "code",
      "metadata": {
        "colab_type": "code",
        "id": "cQaXOIsUi0Ou",
        "scrolled": true,
        "outputId": "fbe70682-aabd-4220-f3b4-9766a43aae60",
        "colab": {
          "base_uri": "https://localhost:8080/",
          "height": 323
        }
      },
      "source": [
        "scaler = StandardScaler()\n",
        "X_std_l1 = scaler.fit_transform(X)\n",
        "LRmodel_l1 = LogisticRegression(penalty='l1', C = 0.1, solver = 'saga')\n",
        "LRmodel_l1.fit(X_std_l1, y)\n",
        "LRmodel_l1.coef_[0]\n",
        "\n",
        "print (\"Logistic Regression (L1) Coefficients\")\n",
        "for coef, col_name in sorted(zip(map(lambda x: round(x, 4), LRmodel_l1.coef_[0]), \\\n",
        "                      churn_feat_space.columns), key = lambda pair:(abs(pair[0])), reverse = True):\n",
        "    print (col_name, \": \\t\", str(coef))"
      ],
      "execution_count": 0,
      "outputs": [
        {
          "output_type": "stream",
          "text": [
            "Logistic Regression (L1) Coefficients\n",
            "number_customer_service_calls : \t 0.6468\n",
            "intl_plan : \t 0.5929\n",
            "voice_mail_plan : \t -0.4415\n",
            "total_day_minutes : \t 0.3662\n",
            "total_day_charge : \t 0.3366\n",
            "total_eve_charge : \t 0.169\n",
            "total_eve_minutes : \t 0.1599\n",
            "total_intl_calls : \t -0.1494\n",
            "total_intl_charge : \t 0.119\n",
            "total_night_minutes : \t 0.0999\n",
            "total_intl_minutes : \t 0.0985\n",
            "total_night_charge : \t 0.0765\n",
            "account_length : \t 0.0356\n",
            "total_day_calls : \t 0.0307\n",
            "total_night_calls : \t -0.0111\n",
            "total_eve_calls : \t -0.0091\n",
            "number_vmail_messages : \t 0.0\n"
          ],
          "name": "stdout"
        }
      ]
    },
    {
      "cell_type": "markdown",
      "metadata": {
        "id": "JnLoKNgs_avm",
        "colab_type": "text"
      },
      "source": [
        "Part 4.1.2: Add L2 regularization to logistic regression and check the coef for feature selection"
      ]
    },
    {
      "cell_type": "code",
      "metadata": {
        "colab_type": "code",
        "id": "majifZZqi0O9",
        "outputId": "d9f741b9-3fcc-47c8-9893-0c020c711e9d",
        "colab": {
          "base_uri": "https://localhost:8080/",
          "height": 323
        }
      },
      "source": [
        "scaler = StandardScaler()\n",
        "X_std_l2 = scaler.fit_transform(X)\n",
        "LRmodel_l2 = LogisticRegression(penalty=\"l2\", C = 0.1)\n",
        "LRmodel_l2.fit(X_std_l2, y)\n",
        "LRmodel_l2.coef_[0]\n",
        "print (\"Logistic Regression (L2) Coefficients\")\n",
        "for k,v in sorted(zip(map(lambda x: round(x, 4), LRmodel_l2.coef_[0]), \\\n",
        "                      churn_feat_space.columns), key=lambda k_v:(-abs(k_v[0]))):\n",
        "    print (v + \": \\t\" + str(k))"
      ],
      "execution_count": 0,
      "outputs": [
        {
          "output_type": "stream",
          "text": [
            "Logistic Regression (L2) Coefficients\n",
            "number_customer_service_calls: \t0.6604\n",
            "voice_mail_plan: \t-0.6199\n",
            "intl_plan: \t0.6039\n",
            "total_day_minutes: \t0.3626\n",
            "total_day_charge: \t0.3621\n",
            "total_eve_charge: \t0.1766\n",
            "total_eve_minutes: \t0.1764\n",
            "total_intl_calls: \t-0.1715\n",
            "number_vmail_messages: \t0.1659\n",
            "total_intl_charge: \t0.1204\n",
            "total_intl_minutes: \t0.12\n",
            "total_night_minutes: \t0.0997\n",
            "total_night_charge: \t0.0992\n",
            "account_length: \t0.0548\n",
            "total_day_calls: \t0.0501\n",
            "total_night_calls: \t-0.0313\n",
            "total_eve_calls: \t-0.0296\n"
          ],
          "name": "stdout"
        }
      ]
    },
    {
      "cell_type": "markdown",
      "metadata": {
        "colab_type": "text",
        "id": "uqs41ydLi0O_"
      },
      "source": [
        "\n",
        "### Part 4.2:  Random Forest Model - Feature Importance Discussion"
      ]
    },
    {
      "cell_type": "code",
      "metadata": {
        "colab_type": "code",
        "id": "MPxUM2lei0PA",
        "outputId": "b2f9d706-398e-4ebb-fe0f-ef6171b43fc1",
        "colab": {
          "base_uri": "https://localhost:8080/",
          "height": 323
        }
      },
      "source": [
        "# check feature importance of random forest for feature selection\n",
        "\n",
        "forest = RandomForestClassifier()\n",
        "forest.fit(X, y)\n",
        "\n",
        "importances = forest.feature_importances_\n",
        "\n",
        "# Print the feature ranking\n",
        "print(\"Feature importance ranking by Random Forest Model:\")\n",
        "for importance, col_name in sorted(zip(map(lambda x: round(x, 4), importances), churn_feat_space.columns), reverse=True):\n",
        "    print (col_name + \": \\t\" + str(importance))"
      ],
      "execution_count": 0,
      "outputs": [
        {
          "output_type": "stream",
          "text": [
            "Feature importance ranking by Random Forest Model:\n",
            "total_day_minutes: \t0.1509\n",
            "total_day_charge: \t0.1401\n",
            "number_customer_service_calls: \t0.1131\n",
            "intl_plan: \t0.0922\n",
            "total_eve_charge: \t0.0692\n",
            "total_eve_minutes: \t0.0606\n",
            "total_intl_calls: \t0.0563\n",
            "total_intl_minutes: \t0.042\n",
            "total_night_minutes: \t0.041\n",
            "total_night_charge: \t0.0384\n",
            "total_intl_charge: \t0.0375\n",
            "account_length: \t0.0292\n",
            "total_day_calls: \t0.0276\n",
            "number_vmail_messages: \t0.0273\n",
            "total_night_calls: \t0.026\n",
            "voice_mail_plan: \t0.0243\n",
            "total_eve_calls: \t0.0241\n"
          ],
          "name": "stdout"
        }
      ]
    },
    {
      "cell_type": "code",
      "metadata": {
        "id": "Tf6xHEZiC1Al",
        "colab_type": "code",
        "outputId": "00f03ed1-fec7-4c72-8c17-91e65f855f49",
        "colab": {
          "base_uri": "https://localhost:8080/",
          "height": 431
        }
      },
      "source": [
        "# Plot the feature importances of the forest\n",
        "indices = np.argsort(importances)[::-1]\n",
        "std = np.std([tree.feature_importances_ for tree in forest.estimators_],\n",
        "             axis=0)\n",
        "\n",
        "plt.figure()\n",
        "plt.title(\"Feature importances\")\n",
        "plt.bar(range(X.shape[1]), importances[indices],\n",
        "       color=\"g\", yerr=std[indices], align=\"center\")\n",
        "plt.xticks(range(X.shape[1]), ['total_day_minutes', 'total_day_charge', 'number_customer_service_calls', 'intl_plan', \\\n",
        "                               'total_eve_charge', 'total_eve_minutes', 'total_intl_calls', 'total_intl_minutes', 'total_night_minutes', \\\n",
        "                               'total_night_charge', 'total_intl_charge', 'account_length', 'total_day_calls', 'number_vmail_messages',  \\\n",
        "                               'total_night_calls', 'voice_mail_plan', 'total_eve_calls'], rotation=90)\n",
        "plt.xlim([-1, X.shape[1]])\n",
        "plt.show()"
      ],
      "execution_count": 0,
      "outputs": [
        {
          "output_type": "display_data",
          "data": {
            "image/png": "[encoded data removed]",
            "text/plain": [
              "<Figure size 432x288 with 1 Axes>"
            ]
          },
          "metadata": {
            "tags": []
          }
        }
      ]
    },
    {
      "cell_type": "markdown",
      "metadata": {
        "id": "_BefkSzeIs6x",
        "colab_type": "text"
      },
      "source": [
        "Feature imporance summay:\n",
        "\n",
        "Among the correlated features that we are interested in: (total_day_minutes, total_day_charge), (total_eve_minutes, total_eve_charge), (total_intl_minutes, total_intl_charge), the (total_day_minutes, total_day_charge), (total_eve_minutes, total_eve_charge) have higher coefficient/imporance.\n",
        "\n",
        "In addition, we can see that number_customer_service_calls and intl_plan are also importance features\n",
        "\n"
      ]
    }
  ]
}