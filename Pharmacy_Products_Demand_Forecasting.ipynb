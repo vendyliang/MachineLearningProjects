{
  "nbformat": 4,
  "nbformat_minor": 0,
  "metadata": {
    "colab": {
      "name": "Pharmacy Products Demand Forecasting",
      "provenance": [],
      "collapsed_sections": [
        "VBgUsoYO-Odd",
        "3BON-m8E-jZZ",
        "tJi9dG026nJQ",
        "0EWF0VZT9xVx",
        "tytfptkl-mSr",
        "j9pafzYyzP5N",
        "CpY5mOna3s6-",
        "10B5saplIpA-",
        "wu9fv7n2P0Qe",
        "hC4kvPhUP5GH"
      ],
      "authorship_tag": "ABX9TyMon5jS33E+ug4hi7CXErta",
      "include_colab_link": true
    },
    "kernelspec": {
      "name": "python3",
      "display_name": "Python 3"
    }
  },
  "cells": [
    {
      "cell_type": "markdown",
      "metadata": {
        "id": "view-in-github",
        "colab_type": "text"
      },
      "source": [
        "<a href=\"https://colab.research.google.com/github/vendyliang/MachineLearningProjects/blob/master/Pharmacy_Products_Demand_Forecasting.ipynb\" target=\"_parent\"><img src=\"https://colab.research.google.com/assets/colab-badge.svg\" alt=\"Open In Colab\"/></a>"
      ]
    },
    {
      "cell_type": "markdown",
      "metadata": {
        "id": "fIkU0TslMQG0",
        "colab_type": "text"
      },
      "source": [
        "In this project, we need to use the historical data to develop a model to help a pharmacy chain store with the future demand on different nutrition products. The model should provide forecasted sales amount for Summer 2016 at sku-quarter-global level. \n",
        "\n",
        "We are given with 3 separate files: \\\n",
        "(1) sales: contains weekly historical sales records since spring 2014.\\\n",
        "(2) products: contains the sku information for current and new products.\\\n",
        "(3) predict: contains the skus whose 2016 summer sales amount are to be predicted.\n",
        "\n",
        "I will use supervised machine learning methods to build 2 models, 1 for existing products with historical sales record, and 1 for new products without such information."
      ]
    },
    {
      "cell_type": "markdown",
      "metadata": {
        "id": "qIfhFA6l6HV_",
        "colab_type": "text"
      },
      "source": [
        "# Part 0: Load Packages/Data"
      ]
    },
    {
      "cell_type": "code",
      "metadata": {
        "id": "JHjuWTVT50h8",
        "colab_type": "code",
        "colab": {}
      },
      "source": [
        "%matplotlib inline\n",
        "import numpy as np\n",
        "import scipy\n",
        "import pandas as pd\n",
        "import matplotlib.pyplot as plt\n",
        "#import statsmodels.formula.api as sm\n",
        "import seaborn as sns\n",
        "import sklearn as sl\n",
        "from sklearn import preprocessing\n",
        "from scipy.stats import pearsonr\n",
        "pd.set_option('display.float_format', lambda x: '%.3f' % x)\n",
        "pd.set_option('display.max_columns', 60)\n",
        "import warnings\n",
        "warnings.filterwarnings('ignore')"
      ],
      "execution_count": 0,
      "outputs": []
    },
    {
      "cell_type": "code",
      "metadata": {
        "id": "SY4a4z6D6QRj",
        "colab_type": "code",
        "colab": {}
      },
      "source": [
        "# load 3 dataset with file ids\n",
        "file_id='1QHLPLZSwhZLqF3qaYKPe9cFfU-0S_2YG'\n",
        "link='https://drive.google.com/uc?export=download&id={FILE_ID}'\n",
        "csv_url_his = link.format(FILE_ID=file_id)\n",
        "\n",
        "file_id='18FAY6zby_oTERjT9kAK0sArkexG5eHLc'\n",
        "link='https://drive.google.com/uc?export=download&id={FILE_ID}'\n",
        "csv_url_pro = link.format(FILE_ID=file_id)\n",
        "\n",
        "file_id='1tC14pD4SnaYxqJaniwHZhG0hb0K4uiIj'\n",
        "link='https://drive.google.com/uc?export=download&id={FILE_ID}'\n",
        "csv_url_pre = link.format(FILE_ID=file_id)"
      ],
      "execution_count": 0,
      "outputs": []
    },
    {
      "cell_type": "code",
      "metadata": {
        "id": "wzAnG6j_6X7L",
        "colab_type": "code",
        "colab": {
          "base_uri": "https://localhost:8080/",
          "height": 204
        },
        "outputId": "4fe34d90-4df3-4dfb-d5f3-a071e0284693"
      },
      "source": [
        "#read data\n",
        "df_sale = pd.read_csv(csv_url_his)\n",
        "df_sale.head()"
      ],
      "execution_count": 3,
      "outputs": [
        {
          "output_type": "execute_result",
          "data": {
            "text/html": [
              "<div>\n",
              "<style scoped>\n",
              "    .dataframe tbody tr th:only-of-type {\n",
              "        vertical-align: middle;\n",
              "    }\n",
              "\n",
              "    .dataframe tbody tr th {\n",
              "        vertical-align: top;\n",
              "    }\n",
              "\n",
              "    .dataframe thead th {\n",
              "        text-align: right;\n",
              "    }\n",
              "</style>\n",
              "<table border=\"1\" class=\"dataframe\">\n",
              "  <thead>\n",
              "    <tr style=\"text-align: right;\">\n",
              "      <th></th>\n",
              "      <th>transaction_date</th>\n",
              "      <th>sku</th>\n",
              "      <th>location</th>\n",
              "      <th>quarter</th>\n",
              "      <th>sales_amt</th>\n",
              "      <th>shelf_amt</th>\n",
              "    </tr>\n",
              "  </thead>\n",
              "  <tbody>\n",
              "    <tr>\n",
              "      <th>0</th>\n",
              "      <td>1/18/14</td>\n",
              "      <td>3660</td>\n",
              "      <td>GERMANY</td>\n",
              "      <td>SP2014</td>\n",
              "      <td>51</td>\n",
              "      <td>578</td>\n",
              "    </tr>\n",
              "    <tr>\n",
              "      <th>1</th>\n",
              "      <td>9/12/15</td>\n",
              "      <td>6159</td>\n",
              "      <td>GERMANY</td>\n",
              "      <td>FA2015</td>\n",
              "      <td>1</td>\n",
              "      <td>89</td>\n",
              "    </tr>\n",
              "    <tr>\n",
              "      <th>2</th>\n",
              "      <td>12/26/15</td>\n",
              "      <td>8391</td>\n",
              "      <td>GERMANY</td>\n",
              "      <td>WI2015</td>\n",
              "      <td>872</td>\n",
              "      <td>11137</td>\n",
              "    </tr>\n",
              "    <tr>\n",
              "      <th>3</th>\n",
              "      <td>2/6/16</td>\n",
              "      <td>8544</td>\n",
              "      <td>GERMANY</td>\n",
              "      <td>SP2016</td>\n",
              "      <td>35</td>\n",
              "      <td>121</td>\n",
              "    </tr>\n",
              "    <tr>\n",
              "      <th>4</th>\n",
              "      <td>7/11/15</td>\n",
              "      <td>8544</td>\n",
              "      <td>GERMANY</td>\n",
              "      <td>FA2015</td>\n",
              "      <td>0</td>\n",
              "      <td>10</td>\n",
              "    </tr>\n",
              "  </tbody>\n",
              "</table>\n",
              "</div>"
            ],
            "text/plain": [
              "  transaction_date   sku location quarter  sales_amt  shelf_amt\n",
              "0          1/18/14  3660  GERMANY  SP2014         51        578\n",
              "1          9/12/15  6159  GERMANY  FA2015          1         89\n",
              "2         12/26/15  8391  GERMANY  WI2015        872      11137\n",
              "3           2/6/16  8544  GERMANY  SP2016         35        121\n",
              "4          7/11/15  8544  GERMANY  FA2015          0         10"
            ]
          },
          "metadata": {
            "tags": []
          },
          "execution_count": 3
        }
      ]
    },
    {
      "cell_type": "code",
      "metadata": {
        "id": "8S26TlRh7WE7",
        "colab_type": "code",
        "colab": {
          "base_uri": "https://localhost:8080/",
          "height": 204
        },
        "outputId": "cee03e66-bf52-4886-89c5-c20ef22e3a06"
      },
      "source": [
        "df_product = pd.read_csv(csv_url_pro)\n",
        "df_product.head()"
      ],
      "execution_count": 4,
      "outputs": [
        {
          "output_type": "execute_result",
          "data": {
            "text/html": [
              "<div>\n",
              "<style scoped>\n",
              "    .dataframe tbody tr th:only-of-type {\n",
              "        vertical-align: middle;\n",
              "    }\n",
              "\n",
              "    .dataframe tbody tr th {\n",
              "        vertical-align: top;\n",
              "    }\n",
              "\n",
              "    .dataframe thead th {\n",
              "        text-align: right;\n",
              "    }\n",
              "</style>\n",
              "<table border=\"1\" class=\"dataframe\">\n",
              "  <thead>\n",
              "    <tr style=\"text-align: right;\">\n",
              "      <th></th>\n",
              "      <th>sku</th>\n",
              "      <th>brand</th>\n",
              "      <th>age</th>\n",
              "      <th>formation</th>\n",
              "      <th>family</th>\n",
              "      <th>sales_price</th>\n",
              "      <th>specs</th>\n",
              "    </tr>\n",
              "  </thead>\n",
              "  <tbody>\n",
              "    <tr>\n",
              "      <th>0</th>\n",
              "      <td>6336</td>\n",
              "      <td>L273</td>\n",
              "      <td>ADULT</td>\n",
              "      <td>capsule</td>\n",
              "      <td>Omega3FattyAcid</td>\n",
              "      <td>138</td>\n",
              "      <td>PATENT 5726</td>\n",
              "    </tr>\n",
              "    <tr>\n",
              "      <th>1</th>\n",
              "      <td>8821</td>\n",
              "      <td>G633</td>\n",
              "      <td>GRADE SCHOOL</td>\n",
              "      <td>liquid</td>\n",
              "      <td>VitaminC</td>\n",
              "      <td>42</td>\n",
              "      <td>PATENT 6776|PATENT 4090|PATENT 5726</td>\n",
              "    </tr>\n",
              "    <tr>\n",
              "      <th>2</th>\n",
              "      <td>12</td>\n",
              "      <td>G906</td>\n",
              "      <td>ADULT</td>\n",
              "      <td>powder</td>\n",
              "      <td>Echinacea</td>\n",
              "      <td>204</td>\n",
              "      <td>PATENT 1030</td>\n",
              "    </tr>\n",
              "    <tr>\n",
              "      <th>3</th>\n",
              "      <td>8658</td>\n",
              "      <td>C549</td>\n",
              "      <td>TODDLER</td>\n",
              "      <td>capsule</td>\n",
              "      <td>Calcium</td>\n",
              "      <td>26</td>\n",
              "      <td>PATENT 4533</td>\n",
              "    </tr>\n",
              "    <tr>\n",
              "      <th>4</th>\n",
              "      <td>1860</td>\n",
              "      <td>T484</td>\n",
              "      <td>ADULT</td>\n",
              "      <td>capsule</td>\n",
              "      <td>Cranberry</td>\n",
              "      <td>47</td>\n",
              "      <td>PATENT 4533|PATENT 6776</td>\n",
              "    </tr>\n",
              "  </tbody>\n",
              "</table>\n",
              "</div>"
            ],
            "text/plain": [
              "    sku brand           age formation           family  sales_price  \\\n",
              "0  6336  L273         ADULT   capsule  Omega3FattyAcid          138   \n",
              "1  8821  G633  GRADE SCHOOL    liquid         VitaminC           42   \n",
              "2    12  G906         ADULT    powder        Echinacea          204   \n",
              "3  8658  C549       TODDLER   capsule          Calcium           26   \n",
              "4  1860  T484         ADULT   capsule        Cranberry           47   \n",
              "\n",
              "                                 specs  \n",
              "0                          PATENT 5726  \n",
              "1  PATENT 6776|PATENT 4090|PATENT 5726  \n",
              "2                          PATENT 1030  \n",
              "3                          PATENT 4533  \n",
              "4              PATENT 4533|PATENT 6776  "
            ]
          },
          "metadata": {
            "tags": []
          },
          "execution_count": 4
        }
      ]
    },
    {
      "cell_type": "code",
      "metadata": {
        "id": "GRBj76vY7cuK",
        "colab_type": "code",
        "colab": {
          "base_uri": "https://localhost:8080/",
          "height": 204
        },
        "outputId": "b75b0ba5-1109-4cf4-d5d8-502a66615638"
      },
      "source": [
        "df_predict = pd.read_csv(csv_url_pre)\n",
        "df_predict.head()"
      ],
      "execution_count": 5,
      "outputs": [
        {
          "output_type": "execute_result",
          "data": {
            "text/html": [
              "<div>\n",
              "<style scoped>\n",
              "    .dataframe tbody tr th:only-of-type {\n",
              "        vertical-align: middle;\n",
              "    }\n",
              "\n",
              "    .dataframe tbody tr th {\n",
              "        vertical-align: top;\n",
              "    }\n",
              "\n",
              "    .dataframe thead th {\n",
              "        text-align: right;\n",
              "    }\n",
              "</style>\n",
              "<table border=\"1\" class=\"dataframe\">\n",
              "  <thead>\n",
              "    <tr style=\"text-align: right;\">\n",
              "      <th></th>\n",
              "      <th>sku</th>\n",
              "      <th>quarter</th>\n",
              "    </tr>\n",
              "  </thead>\n",
              "  <tbody>\n",
              "    <tr>\n",
              "      <th>0</th>\n",
              "      <td>8852</td>\n",
              "      <td>SU2016</td>\n",
              "    </tr>\n",
              "    <tr>\n",
              "      <th>1</th>\n",
              "      <td>3403</td>\n",
              "      <td>SU2016</td>\n",
              "    </tr>\n",
              "    <tr>\n",
              "      <th>2</th>\n",
              "      <td>7584</td>\n",
              "      <td>SU2016</td>\n",
              "    </tr>\n",
              "    <tr>\n",
              "      <th>3</th>\n",
              "      <td>2057</td>\n",
              "      <td>SU2016</td>\n",
              "    </tr>\n",
              "    <tr>\n",
              "      <th>4</th>\n",
              "      <td>3686</td>\n",
              "      <td>SU2016</td>\n",
              "    </tr>\n",
              "  </tbody>\n",
              "</table>\n",
              "</div>"
            ],
            "text/plain": [
              "    sku quarter\n",
              "0  8852  SU2016\n",
              "1  3403  SU2016\n",
              "2  7584  SU2016\n",
              "3  2057  SU2016\n",
              "4  3686  SU2016"
            ]
          },
          "metadata": {
            "tags": []
          },
          "execution_count": 5
        }
      ]
    },
    {
      "cell_type": "markdown",
      "metadata": {
        "id": "VBgUsoYO-Odd",
        "colab_type": "text"
      },
      "source": [
        "# Part 1: Data Exploratoration (Descriptive)"
      ]
    },
    {
      "cell_type": "markdown",
      "metadata": {
        "id": "3BON-m8E-jZZ",
        "colab_type": "text"
      },
      "source": [
        "## Understand the Raw Data / Data Cleaning"
      ]
    },
    {
      "cell_type": "markdown",
      "metadata": {
        "id": "Ch2lE9Cg50Gr",
        "colab_type": "text"
      },
      "source": [
        "Sales dataset"
      ]
    },
    {
      "cell_type": "code",
      "metadata": {
        "id": "tcoz8IYFBD5q",
        "colab_type": "code",
        "colab": {
          "base_uri": "https://localhost:8080/",
          "height": 68
        },
        "outputId": "337f20ff-a97f-4b14-b7db-506d31cea27d"
      },
      "source": [
        "print (\"Num of rows: \" + str(df_sale.shape[0])) # row count\n",
        "print (\"Num of columns: \" + str(df_sale.shape[1])) # col count\n",
        "print ('Unique num of SKUs: ' + str(df_sale.sku.unique().size)) # different skus"
      ],
      "execution_count": 6,
      "outputs": [
        {
          "output_type": "stream",
          "text": [
            "Num of rows: 186836\n",
            "Num of columns: 6\n",
            "Unique num of SKUs: 320\n"
          ],
          "name": "stdout"
        }
      ]
    },
    {
      "cell_type": "markdown",
      "metadata": {
        "id": "CrsurSGw6KHX",
        "colab_type": "text"
      },
      "source": [
        "Product dataset"
      ]
    },
    {
      "cell_type": "code",
      "metadata": {
        "id": "fo4dRKiaBs3T",
        "colab_type": "code",
        "colab": {
          "base_uri": "https://localhost:8080/",
          "height": 68
        },
        "outputId": "3ff9ddf7-80d4-4fdd-df11-8aaf52d98ac2"
      },
      "source": [
        "print (\"Num of rows: \" + str(df_product.shape[0])) # row count\n",
        "print (\"Num of columns: \" + str(df_product.shape[1])) # col count\n",
        "print ('Unique num of SKUs: ' + str(df_product.sku.unique().size)) # different skus"
      ],
      "execution_count": 7,
      "outputs": [
        {
          "output_type": "stream",
          "text": [
            "Num of rows: 407\n",
            "Num of columns: 7\n",
            "Unique num of SKUs: 407\n"
          ],
          "name": "stdout"
        }
      ]
    },
    {
      "cell_type": "markdown",
      "metadata": {
        "id": "k-gnReFI6N6P",
        "colab_type": "text"
      },
      "source": [
        "Predict dataset"
      ]
    },
    {
      "cell_type": "code",
      "metadata": {
        "id": "BjpQFUBtB8ED",
        "colab_type": "code",
        "colab": {
          "base_uri": "https://localhost:8080/",
          "height": 68
        },
        "outputId": "d1d8f45c-ce81-4071-c42b-3480bdd8625b"
      },
      "source": [
        "print (\"Num of rows: \" + str(df_predict.shape[0])) # row count\n",
        "print (\"Num of columns: \" + str(df_predict.shape[1])) # col count\n",
        "print ('Unique num of SKUs: ' + str(df_predict.sku.unique().size)) # different skus"
      ],
      "execution_count": 8,
      "outputs": [
        {
          "output_type": "stream",
          "text": [
            "Num of rows: 407\n",
            "Num of columns: 2\n",
            "Unique num of SKUs: 407\n"
          ],
          "name": "stdout"
        }
      ]
    },
    {
      "cell_type": "markdown",
      "metadata": {
        "id": "XuqcY2cICBzN",
        "colab_type": "text"
      },
      "source": [
        "The product dataset contains all 407 skus. The sales dataset contains only 320 skus with sales records. And the predict file contains all 407 skus. Next we will mark all skus into 2 buckets: the 320 existing skus and the 87 newly launched skus."
      ]
    },
    {
      "cell_type": "markdown",
      "metadata": {
        "id": "tJi9dG026nJQ",
        "colab_type": "text"
      },
      "source": [
        "### Check for missing values or NaN"
      ]
    },
    {
      "cell_type": "code",
      "metadata": {
        "id": "zIAPHzJV-uGw",
        "colab_type": "code",
        "colab": {
          "base_uri": "https://localhost:8080/",
          "height": 204
        },
        "outputId": "8cb10687-3f85-42a1-f99b-6f6f3efb2813"
      },
      "source": [
        "df_sale.info()"
      ],
      "execution_count": 10,
      "outputs": [
        {
          "output_type": "stream",
          "text": [
            "<class 'pandas.core.frame.DataFrame'>\n",
            "RangeIndex: 186836 entries, 0 to 186835\n",
            "Data columns (total 6 columns):\n",
            "transaction_date    186836 non-null object\n",
            "sku                 186836 non-null int64\n",
            "location            186836 non-null object\n",
            "quarter             186836 non-null object\n",
            "sales_amt           186836 non-null int64\n",
            "shelf_amt           186836 non-null int64\n",
            "dtypes: int64(3), object(3)\n",
            "memory usage: 8.6+ MB\n"
          ],
          "name": "stdout"
        }
      ]
    },
    {
      "cell_type": "code",
      "metadata": {
        "id": "A0Q27v6u_GV7",
        "colab_type": "code",
        "colab": {
          "base_uri": "https://localhost:8080/",
          "height": 297
        },
        "outputId": "c342da15-f0b4-4632-80ec-e06290e24dca"
      },
      "source": [
        "df_sale.describe()"
      ],
      "execution_count": 11,
      "outputs": [
        {
          "output_type": "execute_result",
          "data": {
            "text/html": [
              "<div>\n",
              "<style scoped>\n",
              "    .dataframe tbody tr th:only-of-type {\n",
              "        vertical-align: middle;\n",
              "    }\n",
              "\n",
              "    .dataframe tbody tr th {\n",
              "        vertical-align: top;\n",
              "    }\n",
              "\n",
              "    .dataframe thead th {\n",
              "        text-align: right;\n",
              "    }\n",
              "</style>\n",
              "<table border=\"1\" class=\"dataframe\">\n",
              "  <thead>\n",
              "    <tr style=\"text-align: right;\">\n",
              "      <th></th>\n",
              "      <th>sku</th>\n",
              "      <th>sales_amt</th>\n",
              "      <th>shelf_amt</th>\n",
              "    </tr>\n",
              "  </thead>\n",
              "  <tbody>\n",
              "    <tr>\n",
              "      <th>count</th>\n",
              "      <td>186836.000</td>\n",
              "      <td>186836.000</td>\n",
              "      <td>186836.000</td>\n",
              "    </tr>\n",
              "    <tr>\n",
              "      <th>mean</th>\n",
              "      <td>5141.013</td>\n",
              "      <td>233.403</td>\n",
              "      <td>3797.877</td>\n",
              "    </tr>\n",
              "    <tr>\n",
              "      <th>std</th>\n",
              "      <td>2837.154</td>\n",
              "      <td>975.853</td>\n",
              "      <td>11400.378</td>\n",
              "    </tr>\n",
              "    <tr>\n",
              "      <th>min</th>\n",
              "      <td>12.000</td>\n",
              "      <td>0.000</td>\n",
              "      <td>0.000</td>\n",
              "    </tr>\n",
              "    <tr>\n",
              "      <th>25%</th>\n",
              "      <td>2786.000</td>\n",
              "      <td>1.000</td>\n",
              "      <td>15.000</td>\n",
              "    </tr>\n",
              "    <tr>\n",
              "      <th>50%</th>\n",
              "      <td>4861.000</td>\n",
              "      <td>15.000</td>\n",
              "      <td>254.000</td>\n",
              "    </tr>\n",
              "    <tr>\n",
              "      <th>75%</th>\n",
              "      <td>7685.000</td>\n",
              "      <td>127.000</td>\n",
              "      <td>2315.000</td>\n",
              "    </tr>\n",
              "    <tr>\n",
              "      <th>max</th>\n",
              "      <td>9974.000</td>\n",
              "      <td>103491.000</td>\n",
              "      <td>272647.000</td>\n",
              "    </tr>\n",
              "  </tbody>\n",
              "</table>\n",
              "</div>"
            ],
            "text/plain": [
              "             sku  sales_amt  shelf_amt\n",
              "count 186836.000 186836.000 186836.000\n",
              "mean    5141.013    233.403   3797.877\n",
              "std     2837.154    975.853  11400.378\n",
              "min       12.000      0.000      0.000\n",
              "25%     2786.000      1.000     15.000\n",
              "50%     4861.000     15.000    254.000\n",
              "75%     7685.000    127.000   2315.000\n",
              "max     9974.000 103491.000 272647.000"
            ]
          },
          "metadata": {
            "tags": []
          },
          "execution_count": 11
        }
      ]
    },
    {
      "cell_type": "code",
      "metadata": {
        "id": "_uDmQnnr5RI7",
        "colab_type": "code",
        "colab": {
          "base_uri": "https://localhost:8080/",
          "height": 323
        },
        "outputId": "c0400434-2ef1-441f-f7a2-ca8a515bfb1c"
      },
      "source": [
        "print (df_sale.isnull().sum(axis = 0))\n",
        "print (df_product.isnull().sum(axis = 0))\n",
        "print (df_predict.isnull().sum(axis = 0))"
      ],
      "execution_count": 12,
      "outputs": [
        {
          "output_type": "stream",
          "text": [
            "transaction_date    0\n",
            "sku                 0\n",
            "location            0\n",
            "quarter             0\n",
            "sales_amt           0\n",
            "shelf_amt           0\n",
            "dtype: int64\n",
            "sku            0\n",
            "brand          0\n",
            "age            0\n",
            "formation      0\n",
            "family         0\n",
            "sales_price    0\n",
            "specs          0\n",
            "dtype: int64\n",
            "sku        0\n",
            "quarter    0\n",
            "dtype: int64\n"
          ],
          "name": "stdout"
        }
      ]
    },
    {
      "cell_type": "markdown",
      "metadata": {
        "id": "gCdSBD14CcC5",
        "colab_type": "text"
      },
      "source": [
        "There is no NaN across all 3 datasets. There are 0s in the sales dataset but it is reasonable because there could be no sales_amt at all for some products. Therefore, I'd assume that there is NO missing data in this case."
      ]
    },
    {
      "cell_type": "markdown",
      "metadata": {
        "id": "0EWF0VZT9xVx",
        "colab_type": "text"
      },
      "source": [
        "### Check for duplication"
      ]
    },
    {
      "cell_type": "code",
      "metadata": {
        "id": "pB1q9MVjNYj6",
        "colab_type": "code",
        "colab": {
          "base_uri": "https://localhost:8080/",
          "height": 68
        },
        "outputId": "421191e9-dab2-4fca-e581-dc33672fa793"
      },
      "source": [
        "lst = [df_sale, df_product, df_predict]\n",
        "for i in range(len(lst)):\n",
        "    print ('Num of duplication: ' + str(lst[i].duplicated().sum()))"
      ],
      "execution_count": 12,
      "outputs": [
        {
          "output_type": "stream",
          "text": [
            "Num of duplication: 1808\n",
            "Num of duplication: 0\n",
            "Num of duplication: 0\n"
          ],
          "name": "stdout"
        }
      ]
    },
    {
      "cell_type": "markdown",
      "metadata": {
        "id": "TiRqw1hMByRB",
        "colab_type": "text"
      },
      "source": [
        "We can see that there are duplicated skus in the sales dataset. This is reasonable because a sku has different weeks' records and locations. We will need to group the weeks by quarter in the next step."
      ]
    },
    {
      "cell_type": "markdown",
      "metadata": {
        "id": "I_QHGjpK-aa_",
        "colab_type": "text"
      },
      "source": [
        "### Prepare dataframes for Existing and New products\n",
        "\n",
        "Existing 320 skus: products with historical sales data\\\n",
        "New 87 skus:       products without historical sales data\\\n",
        "total 407"
      ]
    },
    {
      "cell_type": "code",
      "metadata": {
        "id": "APmjJ5at-_C9",
        "colab_type": "code",
        "colab": {
          "base_uri": "https://localhost:8080/",
          "height": 221
        },
        "outputId": "b04c76da-042e-463b-ffa4-31c8f6e8d33e"
      },
      "source": [
        "ex_sku_blmask = df_predict['sku'].isin(df_sale['sku'])\n",
        "ex_sku_blmask"
      ],
      "execution_count": 9,
      "outputs": [
        {
          "output_type": "execute_result",
          "data": {
            "text/plain": [
              "0      True\n",
              "1      True\n",
              "2      True\n",
              "3      True\n",
              "4      True\n",
              "       ... \n",
              "402    True\n",
              "403    True\n",
              "404    True\n",
              "405    True\n",
              "406    True\n",
              "Name: sku, Length: 407, dtype: bool"
            ]
          },
          "metadata": {
            "tags": []
          },
          "execution_count": 9
        }
      ]
    },
    {
      "cell_type": "code",
      "metadata": {
        "id": "eo7hXDvSOjL7",
        "colab_type": "code",
        "colab": {
          "base_uri": "https://localhost:8080/",
          "height": 221
        },
        "outputId": "e330ecf9-939a-4b36-a278-6e5df9cdad76"
      },
      "source": [
        "nw_sku_blmask = ~ex_sku_blmask # ~ is not\n",
        "nw_sku_blmask"
      ],
      "execution_count": 10,
      "outputs": [
        {
          "output_type": "execute_result",
          "data": {
            "text/plain": [
              "0      False\n",
              "1      False\n",
              "2      False\n",
              "3      False\n",
              "4      False\n",
              "       ...  \n",
              "402    False\n",
              "403    False\n",
              "404    False\n",
              "405    False\n",
              "406    False\n",
              "Name: sku, Length: 407, dtype: bool"
            ]
          },
          "metadata": {
            "tags": []
          },
          "execution_count": 10
        }
      ]
    },
    {
      "cell_type": "code",
      "metadata": {
        "id": "qb1FdEncPsid",
        "colab_type": "code",
        "colab": {
          "base_uri": "https://localhost:8080/",
          "height": 51
        },
        "outputId": "6bf81f3c-5144-414b-a558-dbbdb14d2b0c"
      },
      "source": [
        "print('Num of existing products: ', ex_sku_blmask.sum())\n",
        "print('Num of new products: \\t', nw_sku_blmask.sum())"
      ],
      "execution_count": 11,
      "outputs": [
        {
          "output_type": "stream",
          "text": [
            "Num of existing products:  320\n",
            "Num of new products: \t 87\n"
          ],
          "name": "stdout"
        }
      ]
    },
    {
      "cell_type": "markdown",
      "metadata": {
        "id": "maPIyQFkQEcK",
        "colab_type": "text"
      },
      "source": [
        "Join tables (combine sales and product dataset together for existing products)"
      ]
    },
    {
      "cell_type": "code",
      "metadata": {
        "id": "gI4Lvu95QP2l",
        "colab_type": "code",
        "colab": {}
      },
      "source": [
        "# aggregate sales from weekly to quarterly\n",
        "function = {'sales_amt': 'sum', 'shelf_amt': 'sum'}\n",
        "sales_qrt = df_sale.groupby(['sku','location','quarter'], as_index = False).agg(function)"
      ],
      "execution_count": 0,
      "outputs": []
    },
    {
      "cell_type": "code",
      "metadata": {
        "id": "WTwacT--Qey7",
        "colab_type": "code",
        "colab": {
          "base_uri": "https://localhost:8080/",
          "height": 51
        },
        "outputId": "8181aa1d-1e37-471d-d3ea-3cb804f111cc"
      },
      "source": [
        "print('Num of rows before aggregation: ', df_sale.shape[0])\n",
        "print('Num of rows after aggregation: ', sales_qrt.shape[0])"
      ],
      "execution_count": 13,
      "outputs": [
        {
          "output_type": "stream",
          "text": [
            "Num of rows before aggregation:  186836\n",
            "Num of rows after aggregation:  6942\n"
          ],
          "name": "stdout"
        }
      ]
    },
    {
      "cell_type": "code",
      "metadata": {
        "id": "P7C4m7xVRVdF",
        "colab_type": "code",
        "colab": {
          "base_uri": "https://localhost:8080/",
          "height": 419
        },
        "outputId": "113d88f6-6868-41c9-92c1-d3033a600218"
      },
      "source": [
        "sales_qrt"
      ],
      "execution_count": 11,
      "outputs": [
        {
          "output_type": "execute_result",
          "data": {
            "text/html": [
              "<div>\n",
              "<style scoped>\n",
              "    .dataframe tbody tr th:only-of-type {\n",
              "        vertical-align: middle;\n",
              "    }\n",
              "\n",
              "    .dataframe tbody tr th {\n",
              "        vertical-align: top;\n",
              "    }\n",
              "\n",
              "    .dataframe thead th {\n",
              "        text-align: right;\n",
              "    }\n",
              "</style>\n",
              "<table border=\"1\" class=\"dataframe\">\n",
              "  <thead>\n",
              "    <tr style=\"text-align: right;\">\n",
              "      <th></th>\n",
              "      <th>sku</th>\n",
              "      <th>location</th>\n",
              "      <th>quarter</th>\n",
              "      <th>sales_amt</th>\n",
              "      <th>shelf_amt</th>\n",
              "    </tr>\n",
              "  </thead>\n",
              "  <tbody>\n",
              "    <tr>\n",
              "      <th>0</th>\n",
              "      <td>12</td>\n",
              "      <td>GERMANY</td>\n",
              "      <td>SP2016</td>\n",
              "      <td>0</td>\n",
              "      <td>14</td>\n",
              "    </tr>\n",
              "    <tr>\n",
              "      <th>1</th>\n",
              "      <td>12</td>\n",
              "      <td>RUSSIA</td>\n",
              "      <td>SP2016</td>\n",
              "      <td>11</td>\n",
              "      <td>66</td>\n",
              "    </tr>\n",
              "    <tr>\n",
              "      <th>2</th>\n",
              "      <td>12</td>\n",
              "      <td>SPAIN</td>\n",
              "      <td>FA2015</td>\n",
              "      <td>0</td>\n",
              "      <td>12</td>\n",
              "    </tr>\n",
              "    <tr>\n",
              "      <th>3</th>\n",
              "      <td>12</td>\n",
              "      <td>SPAIN</td>\n",
              "      <td>SP2016</td>\n",
              "      <td>0</td>\n",
              "      <td>47</td>\n",
              "    </tr>\n",
              "    <tr>\n",
              "      <th>4</th>\n",
              "      <td>12</td>\n",
              "      <td>SPAIN</td>\n",
              "      <td>WI2015</td>\n",
              "      <td>0</td>\n",
              "      <td>32</td>\n",
              "    </tr>\n",
              "    <tr>\n",
              "      <th>...</th>\n",
              "      <td>...</td>\n",
              "      <td>...</td>\n",
              "      <td>...</td>\n",
              "      <td>...</td>\n",
              "      <td>...</td>\n",
              "    </tr>\n",
              "    <tr>\n",
              "      <th>6937</th>\n",
              "      <td>9974</td>\n",
              "      <td>SPAIN</td>\n",
              "      <td>FA2015</td>\n",
              "      <td>3</td>\n",
              "      <td>162</td>\n",
              "    </tr>\n",
              "    <tr>\n",
              "      <th>6938</th>\n",
              "      <td>9974</td>\n",
              "      <td>SPAIN</td>\n",
              "      <td>SP2016</td>\n",
              "      <td>24</td>\n",
              "      <td>1536</td>\n",
              "    </tr>\n",
              "    <tr>\n",
              "      <th>6939</th>\n",
              "      <td>9974</td>\n",
              "      <td>SPAIN</td>\n",
              "      <td>WI2015</td>\n",
              "      <td>68</td>\n",
              "      <td>2231</td>\n",
              "    </tr>\n",
              "    <tr>\n",
              "      <th>6940</th>\n",
              "      <td>9974</td>\n",
              "      <td>UNITED KINGDOM</td>\n",
              "      <td>SP2016</td>\n",
              "      <td>13</td>\n",
              "      <td>112</td>\n",
              "    </tr>\n",
              "    <tr>\n",
              "      <th>6941</th>\n",
              "      <td>9974</td>\n",
              "      <td>UNITED KINGDOM</td>\n",
              "      <td>WI2015</td>\n",
              "      <td>28</td>\n",
              "      <td>283</td>\n",
              "    </tr>\n",
              "  </tbody>\n",
              "</table>\n",
              "<p>6942 rows × 5 columns</p>\n",
              "</div>"
            ],
            "text/plain": [
              "       sku        location quarter  sales_amt  shelf_amt\n",
              "0       12         GERMANY  SP2016          0         14\n",
              "1       12          RUSSIA  SP2016         11         66\n",
              "2       12           SPAIN  FA2015          0         12\n",
              "3       12           SPAIN  SP2016          0         47\n",
              "4       12           SPAIN  WI2015          0         32\n",
              "...    ...             ...     ...        ...        ...\n",
              "6937  9974           SPAIN  FA2015          3        162\n",
              "6938  9974           SPAIN  SP2016         24       1536\n",
              "6939  9974           SPAIN  WI2015         68       2231\n",
              "6940  9974  UNITED KINGDOM  SP2016         13        112\n",
              "6941  9974  UNITED KINGDOM  WI2015         28        283\n",
              "\n",
              "[6942 rows x 5 columns]"
            ]
          },
          "metadata": {
            "tags": []
          },
          "execution_count": 11
        }
      ]
    },
    {
      "cell_type": "code",
      "metadata": {
        "id": "S_XHHRaVRgRy",
        "colab_type": "code",
        "colab": {
          "base_uri": "https://localhost:8080/",
          "height": 111
        },
        "outputId": "fcce2ce6-6ae7-40e5-813c-9202677e827a"
      },
      "source": [
        "# merge sales dataset with product dataset into one table for existing skus\n",
        "ex_combine = sales_qrt.merge(df_product, on = ['sku'], how = 'left')\n",
        "ex_combine.head(2)"
      ],
      "execution_count": 15,
      "outputs": [
        {
          "output_type": "execute_result",
          "data": {
            "text/html": [
              "<div>\n",
              "<style scoped>\n",
              "    .dataframe tbody tr th:only-of-type {\n",
              "        vertical-align: middle;\n",
              "    }\n",
              "\n",
              "    .dataframe tbody tr th {\n",
              "        vertical-align: top;\n",
              "    }\n",
              "\n",
              "    .dataframe thead th {\n",
              "        text-align: right;\n",
              "    }\n",
              "</style>\n",
              "<table border=\"1\" class=\"dataframe\">\n",
              "  <thead>\n",
              "    <tr style=\"text-align: right;\">\n",
              "      <th></th>\n",
              "      <th>sku</th>\n",
              "      <th>location</th>\n",
              "      <th>quarter</th>\n",
              "      <th>sales_amt</th>\n",
              "      <th>shelf_amt</th>\n",
              "      <th>brand</th>\n",
              "      <th>age</th>\n",
              "      <th>formation</th>\n",
              "      <th>family</th>\n",
              "      <th>sales_price</th>\n",
              "      <th>specs</th>\n",
              "    </tr>\n",
              "  </thead>\n",
              "  <tbody>\n",
              "    <tr>\n",
              "      <th>0</th>\n",
              "      <td>12</td>\n",
              "      <td>GERMANY</td>\n",
              "      <td>SP2016</td>\n",
              "      <td>0</td>\n",
              "      <td>14</td>\n",
              "      <td>G906</td>\n",
              "      <td>ADULT</td>\n",
              "      <td>powder</td>\n",
              "      <td>Echinacea</td>\n",
              "      <td>204</td>\n",
              "      <td>PATENT 1030</td>\n",
              "    </tr>\n",
              "    <tr>\n",
              "      <th>1</th>\n",
              "      <td>12</td>\n",
              "      <td>RUSSIA</td>\n",
              "      <td>SP2016</td>\n",
              "      <td>11</td>\n",
              "      <td>66</td>\n",
              "      <td>G906</td>\n",
              "      <td>ADULT</td>\n",
              "      <td>powder</td>\n",
              "      <td>Echinacea</td>\n",
              "      <td>204</td>\n",
              "      <td>PATENT 1030</td>\n",
              "    </tr>\n",
              "  </tbody>\n",
              "</table>\n",
              "</div>"
            ],
            "text/plain": [
              "   sku location quarter  sales_amt  shelf_amt brand    age formation  \\\n",
              "0   12  GERMANY  SP2016          0         14  G906  ADULT    powder   \n",
              "1   12   RUSSIA  SP2016         11         66  G906  ADULT    powder   \n",
              "\n",
              "      family  sales_price        specs  \n",
              "0  Echinacea          204  PATENT 1030  \n",
              "1  Echinacea          204  PATENT 1030  "
            ]
          },
          "metadata": {
            "tags": []
          },
          "execution_count": 15
        }
      ]
    },
    {
      "cell_type": "code",
      "metadata": {
        "id": "-8hjhSI5SiDE",
        "colab_type": "code",
        "colab": {
          "base_uri": "https://localhost:8080/",
          "height": 221
        },
        "outputId": "92c0fa61-4223-4266-e8b4-836f321bea91"
      },
      "source": [
        "# double check missing values after left join\n",
        "print (ex_combine.isnull().sum())"
      ],
      "execution_count": 14,
      "outputs": [
        {
          "output_type": "stream",
          "text": [
            "sku            0\n",
            "location       0\n",
            "quarter        0\n",
            "sales_amt      0\n",
            "shelf_amt      0\n",
            "brand          0\n",
            "age            0\n",
            "formation      0\n",
            "family         0\n",
            "sales_price    0\n",
            "specs          0\n",
            "dtype: int64\n"
          ],
          "name": "stdout"
        }
      ]
    },
    {
      "cell_type": "markdown",
      "metadata": {
        "id": "DiFEkz1wbzZE",
        "colab_type": "text"
      },
      "source": [
        "From product dataset, get the info on new products (sales data not available)"
      ]
    },
    {
      "cell_type": "code",
      "metadata": {
        "id": "keYUFjY8R6J_",
        "colab_type": "code",
        "colab": {
          "base_uri": "https://localhost:8080/",
          "height": 111
        },
        "outputId": "2486f701-bb25-4380-b08e-47930331ee7b"
      },
      "source": [
        "nw = df_product[nw_sku_blmask]\n",
        "nw.head(2)"
      ],
      "execution_count": 16,
      "outputs": [
        {
          "output_type": "execute_result",
          "data": {
            "text/html": [
              "<div>\n",
              "<style scoped>\n",
              "    .dataframe tbody tr th:only-of-type {\n",
              "        vertical-align: middle;\n",
              "    }\n",
              "\n",
              "    .dataframe tbody tr th {\n",
              "        vertical-align: top;\n",
              "    }\n",
              "\n",
              "    .dataframe thead th {\n",
              "        text-align: right;\n",
              "    }\n",
              "</style>\n",
              "<table border=\"1\" class=\"dataframe\">\n",
              "  <thead>\n",
              "    <tr style=\"text-align: right;\">\n",
              "      <th></th>\n",
              "      <th>sku</th>\n",
              "      <th>brand</th>\n",
              "      <th>age</th>\n",
              "      <th>formation</th>\n",
              "      <th>family</th>\n",
              "      <th>sales_price</th>\n",
              "      <th>specs</th>\n",
              "    </tr>\n",
              "  </thead>\n",
              "  <tbody>\n",
              "    <tr>\n",
              "      <th>5</th>\n",
              "      <td>2778</td>\n",
              "      <td>P415</td>\n",
              "      <td>GRADE SCHOOL</td>\n",
              "      <td>powder</td>\n",
              "      <td>FishOil</td>\n",
              "      <td>77</td>\n",
              "      <td>PATENT 2876|PATENT 5726|PATENT 456</td>\n",
              "    </tr>\n",
              "    <tr>\n",
              "      <th>8</th>\n",
              "      <td>7158</td>\n",
              "      <td>C317</td>\n",
              "      <td>ADULT</td>\n",
              "      <td>powder</td>\n",
              "      <td>Zinc</td>\n",
              "      <td>229</td>\n",
              "      <td>PATENT 2876</td>\n",
              "    </tr>\n",
              "  </tbody>\n",
              "</table>\n",
              "</div>"
            ],
            "text/plain": [
              "    sku brand           age formation   family  sales_price  \\\n",
              "5  2778  P415  GRADE SCHOOL    powder  FishOil           77   \n",
              "8  7158  C317         ADULT    powder     Zinc          229   \n",
              "\n",
              "                                specs  \n",
              "5  PATENT 2876|PATENT 5726|PATENT 456  \n",
              "8                         PATENT 2876  "
            ]
          },
          "metadata": {
            "tags": []
          },
          "execution_count": 16
        }
      ]
    },
    {
      "cell_type": "markdown",
      "metadata": {
        "id": "tytfptkl-mSr",
        "colab_type": "text"
      },
      "source": [
        "## Distribution and Correlation"
      ]
    },
    {
      "cell_type": "markdown",
      "metadata": {
        "id": "j9pafzYyzP5N",
        "colab_type": "text"
      },
      "source": [
        "### Response Varieble - sales_amt"
      ]
    },
    {
      "cell_type": "code",
      "metadata": {
        "id": "-6NPXzIr0j24",
        "colab_type": "code",
        "colab": {
          "base_uri": "https://localhost:8080/",
          "height": 280
        },
        "outputId": "3a49bd54-a1fb-4f6d-c950-092d7195fb0e"
      },
      "source": [
        "# distribution of sales_amt\n",
        "sns.distplot(ex_combine['sales_amt'], label = 'sales_amt')\n",
        "plt.legend(loc = 'upper right')\n",
        "plt.ylabel('density')\n",
        "plt.show()"
      ],
      "execution_count": 23,
      "outputs": [
        {
          "output_type": "display_data",
          "data": {
            "image/png": "[encoded data removed]",
            "text/plain": [
              "<Figure size 432x288 with 1 Axes>"
            ]
          },
          "metadata": {
            "tags": []
          }
        }
      ]
    },
    {
      "cell_type": "code",
      "metadata": {
        "id": "STX9Ze3j1DKK",
        "colab_type": "code",
        "colab": {
          "base_uri": "https://localhost:8080/",
          "height": 296
        },
        "outputId": "3e6795f1-258d-497f-d08a-b8c3b9754e83"
      },
      "source": [
        "# histogram for sales_amt with range (0, 2000)\n",
        "\n",
        "plt.hist(ex_combine['sales_amt'].values, bins = range(0, 2000, 100), label = 'sales_amt', density = True)\n",
        "plt.legend(loc = 'upper right')\n",
        "plt.xlabel('sales_amt')\n",
        "plt.ylabel('density')\n",
        "plt.title('sales_amt distribution')\n",
        "plt.show()"
      ],
      "execution_count": 24,
      "outputs": [
        {
          "output_type": "display_data",
          "data": {
            "image/png": "[encoded data removed]",
            "text/plain": [
              "<Figure size 432x288 with 1 Axes>"
            ]
          },
          "metadata": {
            "tags": []
          }
        }
      ]
    },
    {
      "cell_type": "code",
      "metadata": {
        "id": "U8Zqy1N_MS6A",
        "colab_type": "code",
        "colab": {
          "base_uri": "https://localhost:8080/",
          "height": 269
        },
        "outputId": "9f3cd54d-5a87-4df4-b9bd-a1c8334485fd"
      },
      "source": [
        "# check outlier\n",
        "sns.boxplot(ex_combine.sales_amt, orient = 'v')"
      ],
      "execution_count": 25,
      "outputs": [
        {
          "output_type": "execute_result",
          "data": {
            "text/plain": [
              "<matplotlib.axes._subplots.AxesSubplot at 0x7fcc00815e10>"
            ]
          },
          "metadata": {
            "tags": []
          },
          "execution_count": 25
        },
        {
          "output_type": "display_data",
          "data": {
            "image/png": "[encoded data removed]",
            "text/plain": [
              "<Figure size 432x288 with 1 Axes>"
            ]
          },
          "metadata": {
            "tags": []
          }
        }
      ]
    },
    {
      "cell_type": "markdown",
      "metadata": {
        "id": "CpY5mOna3s6-",
        "colab_type": "text"
      },
      "source": [
        "### Numerical Features and Feature Correlation"
      ]
    },
    {
      "cell_type": "code",
      "metadata": {
        "id": "Dm_Bp8Km3uou",
        "colab_type": "code",
        "colab": {
          "base_uri": "https://localhost:8080/",
          "height": 296
        },
        "outputId": "35c01dd6-d4f0-4634-99e6-f9204d06c2a9"
      },
      "source": [
        "# shelf_amt\n",
        "plt.hist(ex_combine['shelf_amt'].values, bins = range(0, 2000, 100), label = 'shelf_amt', density = True)\n",
        "plt.legend(loc = 'upper right')\n",
        "plt.xlabel('shelf_amt')\n",
        "plt.ylabel('density')\n",
        "plt.title('shelf_amt distribution')\n",
        "plt.show()"
      ],
      "execution_count": 26,
      "outputs": [
        {
          "output_type": "display_data",
          "data": {
            "image/png": "[encoded data removed]",
            "text/plain": [
              "<Figure size 432x288 with 1 Axes>"
            ]
          },
          "metadata": {
            "tags": []
          }
        }
      ]
    },
    {
      "cell_type": "code",
      "metadata": {
        "id": "9Nnoq90eUAN1",
        "colab_type": "code",
        "colab": {
          "base_uri": "https://localhost:8080/",
          "height": 269
        },
        "outputId": "dba05dbf-b167-44e1-d5cd-3b49d4f4eb98"
      },
      "source": [
        "sns.boxplot(ex_combine.shelf_amt, orient = 'v')"
      ],
      "execution_count": 27,
      "outputs": [
        {
          "output_type": "execute_result",
          "data": {
            "text/plain": [
              "<matplotlib.axes._subplots.AxesSubplot at 0x7fcc0021ef98>"
            ]
          },
          "metadata": {
            "tags": []
          },
          "execution_count": 27
        },
        {
          "output_type": "display_data",
          "data": {
            "image/png": "[encoded data removed]",
            "text/plain": [
              "<Figure size 432x288 with 1 Axes>"
            ]
          },
          "metadata": {
            "tags": []
          }
        }
      ]
    },
    {
      "cell_type": "code",
      "metadata": {
        "id": "zCZILrs34IHw",
        "colab_type": "code",
        "colab": {
          "base_uri": "https://localhost:8080/",
          "height": 297
        },
        "outputId": "cf5133b3-acde-4097-a840-5ce9290844a0"
      },
      "source": [
        "# sales_price\n",
        "sns.distplot(ex_combine['sales_price'])"
      ],
      "execution_count": 28,
      "outputs": [
        {
          "output_type": "execute_result",
          "data": {
            "text/plain": [
              "<matplotlib.axes._subplots.AxesSubplot at 0x7fcc001137f0>"
            ]
          },
          "metadata": {
            "tags": []
          },
          "execution_count": 28
        },
        {
          "output_type": "display_data",
          "data": {
            "image/png": "[encoded data removed]",
            "text/plain": [
              "<Figure size 432x288 with 1 Axes>"
            ]
          },
          "metadata": {
            "tags": []
          }
        }
      ]
    },
    {
      "cell_type": "code",
      "metadata": {
        "id": "wmtqDu2_T6HA",
        "colab_type": "code",
        "colab": {
          "base_uri": "https://localhost:8080/",
          "height": 270
        },
        "outputId": "93652062-077d-46a4-c91e-102567f24b37"
      },
      "source": [
        "sns.boxplot(ex_combine.sales_price, orient = 'v')"
      ],
      "execution_count": 29,
      "outputs": [
        {
          "output_type": "execute_result",
          "data": {
            "text/plain": [
              "<matplotlib.axes._subplots.AxesSubplot at 0x7fcc0000f908>"
            ]
          },
          "metadata": {
            "tags": []
          },
          "execution_count": 29
        },
        {
          "output_type": "display_data",
          "data": {
            "image/png": "[encoded data removed]",
            "text/plain": [
              "<Figure size 432x288 with 1 Axes>"
            ]
          },
          "metadata": {
            "tags": []
          }
        }
      ]
    },
    {
      "cell_type": "code",
      "metadata": {
        "id": "_o6vqGJD45PD",
        "colab_type": "code",
        "colab": {}
      },
      "source": [
        "corr = ex_combine[['sales_amt', 'shelf_amt', 'sales_price']].corr()"
      ],
      "execution_count": 0,
      "outputs": []
    },
    {
      "cell_type": "code",
      "metadata": {
        "id": "ux8WwdNW46jI",
        "colab_type": "code",
        "colab": {
          "base_uri": "https://localhost:8080/",
          "height": 287
        },
        "outputId": "845b3eed-7e34-4d93-b112-9db95a66fab6"
      },
      "source": [
        "sns.heatmap(corr, cmap=\"YlGnBu\")"
      ],
      "execution_count": 32,
      "outputs": [
        {
          "output_type": "execute_result",
          "data": {
            "text/plain": [
              "<matplotlib.axes._subplots.AxesSubplot at 0x7fcbfffe9f98>"
            ]
          },
          "metadata": {
            "tags": []
          },
          "execution_count": 32
        },
        {
          "output_type": "display_data",
          "data": {
            "image/png": "[encoded data removed]",
            "text/plain": [
              "<Figure size 432x288 with 2 Axes>"
            ]
          },
          "metadata": {
            "tags": []
          }
        }
      ]
    },
    {
      "cell_type": "code",
      "metadata": {
        "id": "ix9qQ-rd5sxH",
        "colab_type": "code",
        "colab": {
          "base_uri": "https://localhost:8080/",
          "height": 142
        },
        "outputId": "9385e956-531d-4acd-b85f-3d054754ac74"
      },
      "source": [
        "corr"
      ],
      "execution_count": 33,
      "outputs": [
        {
          "output_type": "execute_result",
          "data": {
            "text/html": [
              "<div>\n",
              "<style scoped>\n",
              "    .dataframe tbody tr th:only-of-type {\n",
              "        vertical-align: middle;\n",
              "    }\n",
              "\n",
              "    .dataframe tbody tr th {\n",
              "        vertical-align: top;\n",
              "    }\n",
              "\n",
              "    .dataframe thead th {\n",
              "        text-align: right;\n",
              "    }\n",
              "</style>\n",
              "<table border=\"1\" class=\"dataframe\">\n",
              "  <thead>\n",
              "    <tr style=\"text-align: right;\">\n",
              "      <th></th>\n",
              "      <th>sales_amt</th>\n",
              "      <th>shelf_amt</th>\n",
              "      <th>sales_price</th>\n",
              "    </tr>\n",
              "  </thead>\n",
              "  <tbody>\n",
              "    <tr>\n",
              "      <th>sales_amt</th>\n",
              "      <td>1.000</td>\n",
              "      <td>0.891</td>\n",
              "      <td>-0.054</td>\n",
              "    </tr>\n",
              "    <tr>\n",
              "      <th>shelf_amt</th>\n",
              "      <td>0.891</td>\n",
              "      <td>1.000</td>\n",
              "      <td>-0.075</td>\n",
              "    </tr>\n",
              "    <tr>\n",
              "      <th>sales_price</th>\n",
              "      <td>-0.054</td>\n",
              "      <td>-0.075</td>\n",
              "      <td>1.000</td>\n",
              "    </tr>\n",
              "  </tbody>\n",
              "</table>\n",
              "</div>"
            ],
            "text/plain": [
              "             sales_amt  shelf_amt  sales_price\n",
              "sales_amt        1.000      0.891       -0.054\n",
              "shelf_amt        0.891      1.000       -0.075\n",
              "sales_price     -0.054     -0.075        1.000"
            ]
          },
          "metadata": {
            "tags": []
          },
          "execution_count": 33
        }
      ]
    },
    {
      "cell_type": "code",
      "metadata": {
        "id": "BoAJilOj5drz",
        "colab_type": "code",
        "colab": {
          "base_uri": "https://localhost:8080/",
          "height": 34
        },
        "outputId": "1329cf6c-6541-4539-e972-7ca9a45c433d"
      },
      "source": [
        "from scipy.stats import pearsonr\n",
        "print (pearsonr(ex_combine['sales_amt'], ex_combine['shelf_amt']))"
      ],
      "execution_count": 34,
      "outputs": [
        {
          "output_type": "stream",
          "text": [
            "(0.8910999154139893, 0.0)\n"
          ],
          "name": "stdout"
        }
      ]
    },
    {
      "cell_type": "markdown",
      "metadata": {
        "id": "brOZB65m5wcJ",
        "colab_type": "text"
      },
      "source": [
        "The correlation coefficient between 'sales_amt' and 'shelf_amt' is 0.89 and p-value is 0.00. This means that they are strongly correlated and that 'shelf_amt' can explain most of the variation in 'sales_amt'."
      ]
    },
    {
      "cell_type": "markdown",
      "metadata": {
        "id": "MED9mE1g6jlH",
        "colab_type": "text"
      },
      "source": [
        "### Categorical Features"
      ]
    },
    {
      "cell_type": "code",
      "metadata": {
        "id": "N8jX15mc7G6m",
        "colab_type": "code",
        "colab": {
          "base_uri": "https://localhost:8080/",
          "height": 376
        },
        "outputId": "48ddd2f6-9771-42c6-ea5e-a00bd1011cd9"
      },
      "source": [
        "# check number of sales records by country\n",
        "# ex_combine.groupby('location').size().plot.bar() + sort_values()\n",
        "ex_combine.groupby('location').size().sort_values().plot.bar()"
      ],
      "execution_count": 36,
      "outputs": [
        {
          "output_type": "execute_result",
          "data": {
            "text/plain": [
              "<matplotlib.axes._subplots.AxesSubplot at 0x7fcbfecde6a0>"
            ]
          },
          "metadata": {
            "tags": []
          },
          "execution_count": 36
        },
        {
          "output_type": "display_data",
          "data": {
            "image/png": "[encoded data removed]",
            "text/plain": [
              "<Figure size 432x288 with 1 Axes>"
            ]
          },
          "metadata": {
            "tags": []
          }
        }
      ]
    },
    {
      "cell_type": "code",
      "metadata": {
        "id": "t-etQ_EO9y37",
        "colab_type": "code",
        "colab": {
          "base_uri": "https://localhost:8080/",
          "height": 296
        },
        "outputId": "a2a177df-4376-457d-84da-72f73a05d7b5"
      },
      "source": [
        "# distrbution of sales_amt by location\n",
        "ex_combine.sales_amt.groupby(ex_combine['location']).mean().sort_values().plot()"
      ],
      "execution_count": 37,
      "outputs": [
        {
          "output_type": "execute_result",
          "data": {
            "text/plain": [
              "<matplotlib.axes._subplots.AxesSubplot at 0x7fcc0034e400>"
            ]
          },
          "metadata": {
            "tags": []
          },
          "execution_count": 37
        },
        {
          "output_type": "display_data",
          "data": {
            "image/png": "[encoded data removed]",
            "text/plain": [
              "<Figure size 432x288 with 1 Axes>"
            ]
          },
          "metadata": {
            "tags": []
          }
        }
      ]
    },
    {
      "cell_type": "code",
      "metadata": {
        "id": "D1jF5io3-Sfz",
        "colab_type": "code",
        "colab": {
          "base_uri": "https://localhost:8080/",
          "height": 435
        },
        "outputId": "1b142a27-7863-47be-fcb2-5a38180a2b0f"
      },
      "source": [
        "sns.stripplot(x = 'age', y = 'sales_amt', data = ex_combine, jitter = True, palette = 'muted')\n",
        "plt.show()\n",
        "ex_combine['age'].value_counts().reset_index()"
      ],
      "execution_count": 38,
      "outputs": [
        {
          "output_type": "display_data",
          "data": {
            "image/png": "[encoded data removed]",
            "text/plain": [
              "<Figure size 432x288 with 1 Axes>"
            ]
          },
          "metadata": {
            "tags": []
          }
        },
        {
          "output_type": "execute_result",
          "data": {
            "text/html": [
              "<div>\n",
              "<style scoped>\n",
              "    .dataframe tbody tr th:only-of-type {\n",
              "        vertical-align: middle;\n",
              "    }\n",
              "\n",
              "    .dataframe tbody tr th {\n",
              "        vertical-align: top;\n",
              "    }\n",
              "\n",
              "    .dataframe thead th {\n",
              "        text-align: right;\n",
              "    }\n",
              "</style>\n",
              "<table border=\"1\" class=\"dataframe\">\n",
              "  <thead>\n",
              "    <tr style=\"text-align: right;\">\n",
              "      <th></th>\n",
              "      <th>index</th>\n",
              "      <th>age</th>\n",
              "    </tr>\n",
              "  </thead>\n",
              "  <tbody>\n",
              "    <tr>\n",
              "      <th>0</th>\n",
              "      <td>ADULT</td>\n",
              "      <td>4491</td>\n",
              "    </tr>\n",
              "    <tr>\n",
              "      <th>1</th>\n",
              "      <td>GRADE SCHOOL</td>\n",
              "      <td>1421</td>\n",
              "    </tr>\n",
              "    <tr>\n",
              "      <th>2</th>\n",
              "      <td>TODDLER</td>\n",
              "      <td>597</td>\n",
              "    </tr>\n",
              "    <tr>\n",
              "      <th>3</th>\n",
              "      <td>PRE SCHOOL</td>\n",
              "      <td>433</td>\n",
              "    </tr>\n",
              "  </tbody>\n",
              "</table>\n",
              "</div>"
            ],
            "text/plain": [
              "          index   age\n",
              "0         ADULT  4491\n",
              "1  GRADE SCHOOL  1421\n",
              "2       TODDLER   597\n",
              "3    PRE SCHOOL   433"
            ]
          },
          "metadata": {
            "tags": []
          },
          "execution_count": 38
        }
      ]
    },
    {
      "cell_type": "code",
      "metadata": {
        "id": "B91pXBju-u7E",
        "colab_type": "code",
        "colab": {
          "base_uri": "https://localhost:8080/",
          "height": 590
        },
        "outputId": "11a30d93-ad88-4339-cfaa-cbf98eea1840"
      },
      "source": [
        "sns.stripplot(x = 'quarter', y = 'sales_amt', data = ex_combine, jitter = True, palette = 'muted')\n",
        "plt.show()\n",
        "ex_combine['quarter'].value_counts().reset_index()"
      ],
      "execution_count": 89,
      "outputs": [
        {
          "output_type": "display_data",
          "data": {
            "image/png": "[encoded data removed]",
            "text/plain": [
              "<Figure size 432x288 with 1 Axes>"
            ]
          },
          "metadata": {
            "tags": []
          }
        },
        {
          "output_type": "execute_result",
          "data": {
            "text/html": [
              "<div>\n",
              "<style scoped>\n",
              "    .dataframe tbody tr th:only-of-type {\n",
              "        vertical-align: middle;\n",
              "    }\n",
              "\n",
              "    .dataframe tbody tr th {\n",
              "        vertical-align: top;\n",
              "    }\n",
              "\n",
              "    .dataframe thead th {\n",
              "        text-align: right;\n",
              "    }\n",
              "</style>\n",
              "<table border=\"1\" class=\"dataframe\">\n",
              "  <thead>\n",
              "    <tr style=\"text-align: right;\">\n",
              "      <th></th>\n",
              "      <th>index</th>\n",
              "      <th>quarter</th>\n",
              "    </tr>\n",
              "  </thead>\n",
              "  <tbody>\n",
              "    <tr>\n",
              "      <th>0</th>\n",
              "      <td>SP2016</td>\n",
              "      <td>1364</td>\n",
              "    </tr>\n",
              "    <tr>\n",
              "      <th>1</th>\n",
              "      <td>WI2015</td>\n",
              "      <td>1185</td>\n",
              "    </tr>\n",
              "    <tr>\n",
              "      <th>2</th>\n",
              "      <td>FA2015</td>\n",
              "      <td>993</td>\n",
              "    </tr>\n",
              "    <tr>\n",
              "      <th>3</th>\n",
              "      <td>SU2015</td>\n",
              "      <td>848</td>\n",
              "    </tr>\n",
              "    <tr>\n",
              "      <th>4</th>\n",
              "      <td>SP2015</td>\n",
              "      <td>672</td>\n",
              "    </tr>\n",
              "    <tr>\n",
              "      <th>5</th>\n",
              "      <td>WI2014</td>\n",
              "      <td>575</td>\n",
              "    </tr>\n",
              "    <tr>\n",
              "      <th>6</th>\n",
              "      <td>FA2014</td>\n",
              "      <td>497</td>\n",
              "    </tr>\n",
              "    <tr>\n",
              "      <th>7</th>\n",
              "      <td>SU2014</td>\n",
              "      <td>442</td>\n",
              "    </tr>\n",
              "    <tr>\n",
              "      <th>8</th>\n",
              "      <td>SP2014</td>\n",
              "      <td>366</td>\n",
              "    </tr>\n",
              "  </tbody>\n",
              "</table>\n",
              "</div>"
            ],
            "text/plain": [
              "    index  quarter\n",
              "0  SP2016     1364\n",
              "1  WI2015     1185\n",
              "2  FA2015      993\n",
              "3  SU2015      848\n",
              "4  SP2015      672\n",
              "5  WI2014      575\n",
              "6  FA2014      497\n",
              "7  SU2014      442\n",
              "8  SP2014      366"
            ]
          },
          "metadata": {
            "tags": []
          },
          "execution_count": 89
        }
      ]
    },
    {
      "cell_type": "code",
      "metadata": {
        "id": "8FKwv2LhACKM",
        "colab_type": "code",
        "colab": {
          "base_uri": "https://localhost:8080/",
          "height": 404
        },
        "outputId": "b819cb4c-184c-40aa-e9a0-c561bb70d84d"
      },
      "source": [
        "sns.stripplot(x = 'formation', y = 'sales_amt', data = ex_combine, jitter = True, palette = 'muted')\n",
        "plt.show()\n",
        "ex_combine['formation'].value_counts().reset_index()"
      ],
      "execution_count": 93,
      "outputs": [
        {
          "output_type": "display_data",
          "data": {
            "image/png": "[encoded data removed]",
            "text/plain": [
              "<Figure size 432x288 with 1 Axes>"
            ]
          },
          "metadata": {
            "tags": []
          }
        },
        {
          "output_type": "execute_result",
          "data": {
            "text/html": [
              "<div>\n",
              "<style scoped>\n",
              "    .dataframe tbody tr th:only-of-type {\n",
              "        vertical-align: middle;\n",
              "    }\n",
              "\n",
              "    .dataframe tbody tr th {\n",
              "        vertical-align: top;\n",
              "    }\n",
              "\n",
              "    .dataframe thead th {\n",
              "        text-align: right;\n",
              "    }\n",
              "</style>\n",
              "<table border=\"1\" class=\"dataframe\">\n",
              "  <thead>\n",
              "    <tr style=\"text-align: right;\">\n",
              "      <th></th>\n",
              "      <th>index</th>\n",
              "      <th>formation</th>\n",
              "    </tr>\n",
              "  </thead>\n",
              "  <tbody>\n",
              "    <tr>\n",
              "      <th>0</th>\n",
              "      <td>powder</td>\n",
              "      <td>4856</td>\n",
              "    </tr>\n",
              "    <tr>\n",
              "      <th>1</th>\n",
              "      <td>capsule</td>\n",
              "      <td>1623</td>\n",
              "    </tr>\n",
              "    <tr>\n",
              "      <th>2</th>\n",
              "      <td>liquid</td>\n",
              "      <td>463</td>\n",
              "    </tr>\n",
              "  </tbody>\n",
              "</table>\n",
              "</div>"
            ],
            "text/plain": [
              "     index  formation\n",
              "0   powder       4856\n",
              "1  capsule       1623\n",
              "2   liquid        463"
            ]
          },
          "metadata": {
            "tags": []
          },
          "execution_count": 93
        }
      ]
    },
    {
      "cell_type": "code",
      "metadata": {
        "id": "Ikg5PPcdAwUl",
        "colab_type": "code",
        "colab": {
          "base_uri": "https://localhost:8080/",
          "height": 376
        },
        "outputId": "4473d48f-94d4-4f6e-cf83-f26c5491c87d"
      },
      "source": [
        "ex_combine.groupby('family').size().sort_values().plot.bar()"
      ],
      "execution_count": 97,
      "outputs": [
        {
          "output_type": "execute_result",
          "data": {
            "text/plain": [
              "<matplotlib.axes._subplots.AxesSubplot at 0x7f3021a466d8>"
            ]
          },
          "metadata": {
            "tags": []
          },
          "execution_count": 97
        },
        {
          "output_type": "display_data",
          "data": {
            "image/png": "[encoded data removed]",
            "text/plain": [
              "<Figure size 432x288 with 1 Axes>"
            ]
          },
          "metadata": {
            "tags": []
          }
        }
      ]
    },
    {
      "cell_type": "code",
      "metadata": {
        "id": "sA1_yTWYB9yG",
        "colab_type": "code",
        "colab": {}
      },
      "source": [
        "#ref\n",
        "\n",
        "for i in ['location','quarter','age','brand','formation','family']:\n",
        "    sns.countplot(x = i, data = ex_combine, order = ex_combine[i].value_counts().index)\n",
        "    plt.xticks(rotation = 90)\n",
        "    plt.title('Count of {}'.format(i))\n",
        "    plt.show()\n",
        "    sns.stripplot(x = i, y = 'sales_amt', data = ex_combine, jitter = True, order = ex_combine[i].value_counts().index)\n",
        "    plt.xticks(rotation = 90)\n",
        "    plt.title('Sales by {}'.format(i))\n",
        "    plt.show()"
      ],
      "execution_count": 0,
      "outputs": []
    },
    {
      "cell_type": "markdown",
      "metadata": {
        "id": "3GWLXb9sJbX-",
        "colab_type": "text"
      },
      "source": [
        "The 'specs' feature cantains multiple specs. We can split each and every different spec out and make into individual features in the feature preprocessing step."
      ]
    },
    {
      "cell_type": "code",
      "metadata": {
        "id": "KT4q6ef-JHHN",
        "colab_type": "code",
        "colab": {
          "base_uri": "https://localhost:8080/",
          "height": 374
        },
        "outputId": "84a6d473-9287-437e-a4f7-6af53b10fb53"
      },
      "source": [
        "bar_chart = ex_combine['specs'].str.get_dummies(sep='|').sum()\n",
        "bar_chart"
      ],
      "execution_count": 40,
      "outputs": [
        {
          "output_type": "execute_result",
          "data": {
            "text/plain": [
              "PATENT 1030     313\n",
              "PATENT 2461     105\n",
              "PATENT 2876    1426\n",
              "PATENT 3279      13\n",
              "PATENT 4090    2320\n",
              "PATENT 4533    2629\n",
              "PATENT 456     1340\n",
              "PATENT 4566     163\n",
              "PATENT 5281      99\n",
              "PATENT 5514     360\n",
              "PATENT 5726     925\n",
              "PATENT 6776     422\n",
              "PATENT 7883      37\n",
              "PATENT 8830    2464\n",
              "PATENT 8895      25\n",
              "PATENT 8924     113\n",
              "PATENT 8998      25\n",
              "PATENT 9404      32\n",
              "PATENT 9545      11\n",
              "PATENT 9568      85\n",
              "dtype: int64"
            ]
          },
          "metadata": {
            "tags": []
          },
          "execution_count": 40
        }
      ]
    },
    {
      "cell_type": "code",
      "metadata": {
        "id": "OX85YgBeJQvO",
        "colab_type": "code",
        "colab": {
          "base_uri": "https://localhost:8080/",
          "height": 370
        },
        "outputId": "fb9487b2-134a-43b8-dc99-08ba3ea0ca34"
      },
      "source": [
        "bar_chart.sort_values(ascending=True).plot.bar(label = 'specs')\n",
        "plt.title('Distribution of Split Specs')\n",
        "plt.legend(loc = 'upper left')\n",
        "plt.ylabel('count')\n",
        "plt.xlabel('specs')"
      ],
      "execution_count": 41,
      "outputs": [
        {
          "output_type": "execute_result",
          "data": {
            "text/plain": [
              "Text(0.5, 0, 'specs')"
            ]
          },
          "metadata": {
            "tags": []
          },
          "execution_count": 41
        },
        {
          "output_type": "display_data",
          "data": {
            "image/png": "[encoded data removed]",
            "text/plain": [
              "<Figure size 432x288 with 1 Axes>"
            ]
          },
          "metadata": {
            "tags": []
          }
        }
      ]
    },
    {
      "cell_type": "code",
      "metadata": {
        "id": "5gvhDjUfJr9J",
        "colab_type": "code",
        "colab": {
          "base_uri": "https://localhost:8080/",
          "height": 34
        },
        "outputId": "38b24785-0c79-496d-d9f5-2f253c4e7cfc"
      },
      "source": [
        "print('There are ' + str(ex_combine['specs'].str.get_dummies(sep='|').columns.shape[0]) + ' individual specs after splitting')"
      ],
      "execution_count": 42,
      "outputs": [
        {
          "output_type": "stream",
          "text": [
            "There are 20 individual specs after splitting\n"
          ],
          "name": "stdout"
        }
      ]
    },
    {
      "cell_type": "code",
      "metadata": {
        "id": "DMd-ayWkM6rr",
        "colab_type": "code",
        "colab": {}
      },
      "source": [
        "#ref on brand\n",
        "bar_chart2 = ex_combine.brand.value_counts()"
      ],
      "execution_count": 0,
      "outputs": []
    },
    {
      "cell_type": "code",
      "metadata": {
        "id": "5fuK3t0W42_S",
        "colab_type": "code",
        "colab": {
          "base_uri": "https://localhost:8080/",
          "height": 221
        },
        "outputId": "d21c5400-a9e4-4d75-81a3-a4757fe64c4b"
      },
      "source": [
        "#ref on brand\n",
        "bar_chart2"
      ],
      "execution_count": 59,
      "outputs": [
        {
          "output_type": "execute_result",
          "data": {
            "text/plain": [
              "B338    607\n",
              "G633    580\n",
              "Y83     488\n",
              "B538    444\n",
              "C319    291\n",
              "       ... \n",
              "G906      5\n",
              "F29       4\n",
              "V891      4\n",
              "C549      2\n",
              "G333      2\n",
              "Name: brand, Length: 105, dtype: int64"
            ]
          },
          "metadata": {
            "tags": []
          },
          "execution_count": 59
        }
      ]
    },
    {
      "cell_type": "code",
      "metadata": {
        "id": "WRMmj44zNIZy",
        "colab_type": "code",
        "colab": {
          "base_uri": "https://localhost:8080/",
          "height": 331
        },
        "outputId": "7a840278-d673-47d4-b4ad-a44b943e729e"
      },
      "source": [
        "#ref on brand\n",
        "bar_chart2.sort_values(ascending=True).plot.bar(label = 'brand')\n",
        "plt.title('Distribution of Brands')\n",
        "plt.legend(loc = 'upper left')\n",
        "plt.ylabel('count')\n",
        "plt.xlabel('brand')"
      ],
      "execution_count": 125,
      "outputs": [
        {
          "output_type": "execute_result",
          "data": {
            "text/plain": [
              "Text(0.5, 0, 'brand')"
            ]
          },
          "metadata": {
            "tags": []
          },
          "execution_count": 125
        },
        {
          "output_type": "display_data",
          "data": {
            "image/png": "[encoded data removed]",
            "text/plain": [
              "<Figure size 432x288 with 1 Axes>"
            ]
          },
          "metadata": {
            "tags": []
          }
        }
      ]
    },
    {
      "cell_type": "code",
      "metadata": {
        "id": "-NmLwbfBNYBk",
        "colab_type": "code",
        "colab": {
          "base_uri": "https://localhost:8080/",
          "height": 34
        },
        "outputId": "b29186df-c8bb-4167-dcff-a469cc66e231"
      },
      "source": [
        "#ref on brand\n",
        "bar_chart2.count()"
      ],
      "execution_count": 128,
      "outputs": [
        {
          "output_type": "execute_result",
          "data": {
            "text/plain": [
              "105"
            ]
          },
          "metadata": {
            "tags": []
          },
          "execution_count": 128
        }
      ]
    },
    {
      "cell_type": "code",
      "metadata": {
        "id": "BoVbj0SXNquj",
        "colab_type": "code",
        "colab": {
          "base_uri": "https://localhost:8080/",
          "height": 359
        },
        "outputId": "bbb0f3f9-a56b-41fe-82db-0c279db56959"
      },
      "source": [
        "#ref on brand\n",
        "ex_combine['brand'].value_counts().reset_index().head(10)"
      ],
      "execution_count": 134,
      "outputs": [
        {
          "output_type": "execute_result",
          "data": {
            "text/html": [
              "<div>\n",
              "<style scoped>\n",
              "    .dataframe tbody tr th:only-of-type {\n",
              "        vertical-align: middle;\n",
              "    }\n",
              "\n",
              "    .dataframe tbody tr th {\n",
              "        vertical-align: top;\n",
              "    }\n",
              "\n",
              "    .dataframe thead th {\n",
              "        text-align: right;\n",
              "    }\n",
              "</style>\n",
              "<table border=\"1\" class=\"dataframe\">\n",
              "  <thead>\n",
              "    <tr style=\"text-align: right;\">\n",
              "      <th></th>\n",
              "      <th>index</th>\n",
              "      <th>brand</th>\n",
              "    </tr>\n",
              "  </thead>\n",
              "  <tbody>\n",
              "    <tr>\n",
              "      <th>0</th>\n",
              "      <td>B338</td>\n",
              "      <td>607</td>\n",
              "    </tr>\n",
              "    <tr>\n",
              "      <th>1</th>\n",
              "      <td>G633</td>\n",
              "      <td>580</td>\n",
              "    </tr>\n",
              "    <tr>\n",
              "      <th>2</th>\n",
              "      <td>Y83</td>\n",
              "      <td>488</td>\n",
              "    </tr>\n",
              "    <tr>\n",
              "      <th>3</th>\n",
              "      <td>B538</td>\n",
              "      <td>444</td>\n",
              "    </tr>\n",
              "    <tr>\n",
              "      <th>4</th>\n",
              "      <td>C319</td>\n",
              "      <td>291</td>\n",
              "    </tr>\n",
              "    <tr>\n",
              "      <th>5</th>\n",
              "      <td>U117</td>\n",
              "      <td>268</td>\n",
              "    </tr>\n",
              "    <tr>\n",
              "      <th>6</th>\n",
              "      <td>R857</td>\n",
              "      <td>212</td>\n",
              "    </tr>\n",
              "    <tr>\n",
              "      <th>7</th>\n",
              "      <td>X315</td>\n",
              "      <td>211</td>\n",
              "    </tr>\n",
              "    <tr>\n",
              "      <th>8</th>\n",
              "      <td>D118</td>\n",
              "      <td>199</td>\n",
              "    </tr>\n",
              "    <tr>\n",
              "      <th>9</th>\n",
              "      <td>L214</td>\n",
              "      <td>189</td>\n",
              "    </tr>\n",
              "  </tbody>\n",
              "</table>\n",
              "</div>"
            ],
            "text/plain": [
              "  index  brand\n",
              "0  B338    607\n",
              "1  G633    580\n",
              "2   Y83    488\n",
              "3  B538    444\n",
              "4  C319    291\n",
              "5  U117    268\n",
              "6  R857    212\n",
              "7  X315    211\n",
              "8  D118    199\n",
              "9  L214    189"
            ]
          },
          "metadata": {
            "tags": []
          },
          "execution_count": 134
        }
      ]
    },
    {
      "cell_type": "markdown",
      "metadata": {
        "id": "10B5saplIpA-",
        "colab_type": "text"
      },
      "source": [
        "#Part 2: Feature Preprocessing"
      ]
    },
    {
      "cell_type": "markdown",
      "metadata": {
        "id": "dLZhwy6LO1qY",
        "colab_type": "text"
      },
      "source": [
        "We need to process the features for modeling\n",
        "1. Break 'quarter' down to 'year' and 'season'\n",
        "2. Bucketize 'sales_price' as its spread is large\n",
        "3. Transform categorical features to dummy intervals with numerical values\n"
      ]
    },
    {
      "cell_type": "code",
      "metadata": {
        "id": "HDiRAq3tPqrO",
        "colab_type": "code",
        "colab": {}
      },
      "source": [
        "# quarter => year + season\n",
        "\n",
        "ex_combine_1 = ex_combine.copy(deep = True)\n",
        "ex_combine_1['season'] = ex_combine_1['quarter'].astype(str).str[0:2]\n",
        "ex_combine_1['year'] = ex_combine_1['quarter'].astype(str).str[2:7]\n",
        "# will drop quarter in the training and testing data at later steps"
      ],
      "execution_count": 0,
      "outputs": []
    },
    {
      "cell_type": "code",
      "metadata": {
        "id": "xkLrNYVbUnRP",
        "colab_type": "code",
        "colab": {
          "base_uri": "https://localhost:8080/",
          "height": 204
        },
        "outputId": "2e949f0c-ae4b-4bf5-8c30-fd90af4ff64a"
      },
      "source": [
        "ex_combine_1.head()"
      ],
      "execution_count": 18,
      "outputs": [
        {
          "output_type": "execute_result",
          "data": {
            "text/html": [
              "<div>\n",
              "<style scoped>\n",
              "    .dataframe tbody tr th:only-of-type {\n",
              "        vertical-align: middle;\n",
              "    }\n",
              "\n",
              "    .dataframe tbody tr th {\n",
              "        vertical-align: top;\n",
              "    }\n",
              "\n",
              "    .dataframe thead th {\n",
              "        text-align: right;\n",
              "    }\n",
              "</style>\n",
              "<table border=\"1\" class=\"dataframe\">\n",
              "  <thead>\n",
              "    <tr style=\"text-align: right;\">\n",
              "      <th></th>\n",
              "      <th>sku</th>\n",
              "      <th>location</th>\n",
              "      <th>quarter</th>\n",
              "      <th>sales_amt</th>\n",
              "      <th>shelf_amt</th>\n",
              "      <th>brand</th>\n",
              "      <th>age</th>\n",
              "      <th>formation</th>\n",
              "      <th>family</th>\n",
              "      <th>sales_price</th>\n",
              "      <th>specs</th>\n",
              "      <th>season</th>\n",
              "      <th>year</th>\n",
              "    </tr>\n",
              "  </thead>\n",
              "  <tbody>\n",
              "    <tr>\n",
              "      <th>0</th>\n",
              "      <td>12</td>\n",
              "      <td>GERMANY</td>\n",
              "      <td>SP2016</td>\n",
              "      <td>0</td>\n",
              "      <td>14</td>\n",
              "      <td>G906</td>\n",
              "      <td>ADULT</td>\n",
              "      <td>powder</td>\n",
              "      <td>Echinacea</td>\n",
              "      <td>204</td>\n",
              "      <td>PATENT 1030</td>\n",
              "      <td>SP</td>\n",
              "      <td>2016</td>\n",
              "    </tr>\n",
              "    <tr>\n",
              "      <th>1</th>\n",
              "      <td>12</td>\n",
              "      <td>RUSSIA</td>\n",
              "      <td>SP2016</td>\n",
              "      <td>11</td>\n",
              "      <td>66</td>\n",
              "      <td>G906</td>\n",
              "      <td>ADULT</td>\n",
              "      <td>powder</td>\n",
              "      <td>Echinacea</td>\n",
              "      <td>204</td>\n",
              "      <td>PATENT 1030</td>\n",
              "      <td>SP</td>\n",
              "      <td>2016</td>\n",
              "    </tr>\n",
              "    <tr>\n",
              "      <th>2</th>\n",
              "      <td>12</td>\n",
              "      <td>SPAIN</td>\n",
              "      <td>FA2015</td>\n",
              "      <td>0</td>\n",
              "      <td>12</td>\n",
              "      <td>G906</td>\n",
              "      <td>ADULT</td>\n",
              "      <td>powder</td>\n",
              "      <td>Echinacea</td>\n",
              "      <td>204</td>\n",
              "      <td>PATENT 1030</td>\n",
              "      <td>FA</td>\n",
              "      <td>2015</td>\n",
              "    </tr>\n",
              "    <tr>\n",
              "      <th>3</th>\n",
              "      <td>12</td>\n",
              "      <td>SPAIN</td>\n",
              "      <td>SP2016</td>\n",
              "      <td>0</td>\n",
              "      <td>47</td>\n",
              "      <td>G906</td>\n",
              "      <td>ADULT</td>\n",
              "      <td>powder</td>\n",
              "      <td>Echinacea</td>\n",
              "      <td>204</td>\n",
              "      <td>PATENT 1030</td>\n",
              "      <td>SP</td>\n",
              "      <td>2016</td>\n",
              "    </tr>\n",
              "    <tr>\n",
              "      <th>4</th>\n",
              "      <td>12</td>\n",
              "      <td>SPAIN</td>\n",
              "      <td>WI2015</td>\n",
              "      <td>0</td>\n",
              "      <td>32</td>\n",
              "      <td>G906</td>\n",
              "      <td>ADULT</td>\n",
              "      <td>powder</td>\n",
              "      <td>Echinacea</td>\n",
              "      <td>204</td>\n",
              "      <td>PATENT 1030</td>\n",
              "      <td>WI</td>\n",
              "      <td>2015</td>\n",
              "    </tr>\n",
              "  </tbody>\n",
              "</table>\n",
              "</div>"
            ],
            "text/plain": [
              "   sku location quarter  sales_amt  shelf_amt brand    age formation  \\\n",
              "0   12  GERMANY  SP2016          0         14  G906  ADULT    powder   \n",
              "1   12   RUSSIA  SP2016         11         66  G906  ADULT    powder   \n",
              "2   12    SPAIN  FA2015          0         12  G906  ADULT    powder   \n",
              "3   12    SPAIN  SP2016          0         47  G906  ADULT    powder   \n",
              "4   12    SPAIN  WI2015          0         32  G906  ADULT    powder   \n",
              "\n",
              "      family  sales_price        specs season  year  \n",
              "0  Echinacea          204  PATENT 1030     SP  2016  \n",
              "1  Echinacea          204  PATENT 1030     SP  2016  \n",
              "2  Echinacea          204  PATENT 1030     FA  2015  \n",
              "3  Echinacea          204  PATENT 1030     SP  2016  \n",
              "4  Echinacea          204  PATENT 1030     WI  2015  "
            ]
          },
          "metadata": {
            "tags": []
          },
          "execution_count": 18
        }
      ]
    },
    {
      "cell_type": "code",
      "metadata": {
        "id": "x-ab1YPkPpnF",
        "colab_type": "code",
        "colab": {
          "base_uri": "https://localhost:8080/",
          "height": 272
        },
        "outputId": "bd153c40-4a50-4a77-b8fa-073be3946df1"
      },
      "source": [
        "# sales_amt\n",
        "ex_combine_1['sales_price'].describe(percentiles = [.1, .2, .3, .4, .5, .6, .7, .8, .9])"
      ],
      "execution_count": 19,
      "outputs": [
        {
          "output_type": "execute_result",
          "data": {
            "text/plain": [
              "count   6942.000\n",
              "mean      88.377\n",
              "std       49.898\n",
              "min       13.000\n",
              "10%       44.000\n",
              "20%       51.000\n",
              "30%       58.000\n",
              "40%       69.000\n",
              "50%       77.000\n",
              "60%       88.600\n",
              "70%      101.000\n",
              "80%      119.000\n",
              "90%      143.000\n",
              "max      306.000\n",
              "Name: sales_price, dtype: float64"
            ]
          },
          "metadata": {
            "tags": []
          },
          "execution_count": 19
        }
      ]
    },
    {
      "cell_type": "code",
      "metadata": {
        "id": "C29QRb8DU3P8",
        "colab_type": "code",
        "colab": {}
      },
      "source": [
        "# bin sales_price into 10 buckets\n",
        "bin_price = [13, 44, 51, 58, 69, 77, 88, 101, 119, 143, 306]\n",
        "price_label_name = ['<= $44', '$44-51', '$51-58', '$58-69', '$69-77', '$77-88', '$88-101', '$101-119', '$119-143', ' >= $143']\n",
        "bin = pd.cut(ex_combine_1['sales_price'], bin_price, labels = price_label_name) #the value of each row turned from certain price to one of the 10 buckets"
      ],
      "execution_count": 0,
      "outputs": []
    },
    {
      "cell_type": "code",
      "metadata": {
        "id": "wEL146mgWFmP",
        "colab_type": "code",
        "colab": {
          "base_uri": "https://localhost:8080/",
          "height": 238
        },
        "outputId": "fa0a6531-8de0-46dd-8840-79d1a8cb0ef4"
      },
      "source": [
        "bin"
      ],
      "execution_count": 21,
      "outputs": [
        {
          "output_type": "execute_result",
          "data": {
            "text/plain": [
              "0        >= $143\n",
              "1        >= $143\n",
              "2        >= $143\n",
              "3        >= $143\n",
              "4        >= $143\n",
              "          ...   \n",
              "6937    $119-143\n",
              "6938    $119-143\n",
              "6939    $119-143\n",
              "6940    $119-143\n",
              "6941    $119-143\n",
              "Name: sales_price, Length: 6942, dtype: category\n",
              "Categories (10, object): [<= $44 < $44-51 < $51-58 < $58-69 ... $88-101 < $101-119 < $119-143 < >= $143]"
            ]
          },
          "metadata": {
            "tags": []
          },
          "execution_count": 21
        }
      ]
    },
    {
      "cell_type": "code",
      "metadata": {
        "id": "ahXCOS3fWH69",
        "colab_type": "code",
        "colab": {}
      },
      "source": [
        "d_price = pd.get_dummies(bin)"
      ],
      "execution_count": 0,
      "outputs": []
    },
    {
      "cell_type": "code",
      "metadata": {
        "id": "dIdwguMoKfzs",
        "colab_type": "code",
        "colab": {}
      },
      "source": [
        "# simple categorical features\n",
        "d_location = pd.get_dummies(ex_combine_1['location'])\n",
        "d_age = pd.get_dummies(ex_combine_1['age'])\n",
        "d_formation = pd.get_dummies(ex_combine_1['formation'])\n",
        "d_family = pd.get_dummies(ex_combine_1['family'])\n",
        "d_brand = pd.get_dummies(ex_combine_1['brand'])\n",
        "d_year = pd.get_dummies(ex_combine_1['year'])\n",
        "d_season = pd.get_dummies(ex_combine_1['season'])"
      ],
      "execution_count": 0,
      "outputs": []
    },
    {
      "cell_type": "code",
      "metadata": {
        "id": "jjoYgTByPnKA",
        "colab_type": "code",
        "colab": {}
      },
      "source": [
        "# spec features\n",
        "d_spec = ex_combine_1['specs'].str.get_dummies(sep='|')"
      ],
      "execution_count": 0,
      "outputs": []
    },
    {
      "cell_type": "code",
      "metadata": {
        "id": "H_cMNKCWTsXo",
        "colab_type": "code",
        "colab": {}
      },
      "source": [
        "# drop\n",
        "temp = ex_combine_1.drop(['sales_price', 'location', 'age', 'formation', 'family', 'brand', 'specs', 'season', 'year'], axis =1)"
      ],
      "execution_count": 0,
      "outputs": []
    },
    {
      "cell_type": "code",
      "metadata": {
        "id": "c8KYh970Tvpr",
        "colab_type": "code",
        "colab": {}
      },
      "source": [
        "# concat\n",
        "new_ex_combine = pd.concat([temp, d_price, d_location, d_age, d_formation, d_family, d_brand, d_spec, d_year, d_season], axis = 1)"
      ],
      "execution_count": 0,
      "outputs": []
    },
    {
      "cell_type": "code",
      "metadata": {
        "id": "tEfCEws1XLWn",
        "colab_type": "code",
        "colab": {
          "base_uri": "https://localhost:8080/",
          "height": 270
        },
        "outputId": "3b4ddce2-7fbd-4d6f-9dc9-b01bbbb26b67"
      },
      "source": [
        "new_ex_combine.head()"
      ],
      "execution_count": 28,
      "outputs": [
        {
          "output_type": "execute_result",
          "data": {
            "text/html": [
              "<div>\n",
              "<style scoped>\n",
              "    .dataframe tbody tr th:only-of-type {\n",
              "        vertical-align: middle;\n",
              "    }\n",
              "\n",
              "    .dataframe tbody tr th {\n",
              "        vertical-align: top;\n",
              "    }\n",
              "\n",
              "    .dataframe thead th {\n",
              "        text-align: right;\n",
              "    }\n",
              "</style>\n",
              "<table border=\"1\" class=\"dataframe\">\n",
              "  <thead>\n",
              "    <tr style=\"text-align: right;\">\n",
              "      <th></th>\n",
              "      <th>sku</th>\n",
              "      <th>quarter</th>\n",
              "      <th>sales_amt</th>\n",
              "      <th>shelf_amt</th>\n",
              "      <th>&lt;= $44</th>\n",
              "      <th>$44-51</th>\n",
              "      <th>$51-58</th>\n",
              "      <th>$58-69</th>\n",
              "      <th>$69-77</th>\n",
              "      <th>$77-88</th>\n",
              "      <th>$88-101</th>\n",
              "      <th>$101-119</th>\n",
              "      <th>$119-143</th>\n",
              "      <th>&gt;= $143</th>\n",
              "      <th>CANADA</th>\n",
              "      <th>GERMANY</th>\n",
              "      <th>INDIA</th>\n",
              "      <th>ITALY</th>\n",
              "      <th>JAPAN</th>\n",
              "      <th>KOREA</th>\n",
              "      <th>MEXICO</th>\n",
              "      <th>RUSSIA</th>\n",
              "      <th>SPAIN</th>\n",
              "      <th>UNITED KINGDOM</th>\n",
              "      <th>UNITED STATES</th>\n",
              "      <th>ADULT</th>\n",
              "      <th>GRADE SCHOOL</th>\n",
              "      <th>PRE SCHOOL</th>\n",
              "      <th>TODDLER</th>\n",
              "      <th>capsule</th>\n",
              "      <th>...</th>\n",
              "      <th>Z762</th>\n",
              "      <th>Z778</th>\n",
              "      <th>Z966</th>\n",
              "      <th>PATENT 1030</th>\n",
              "      <th>PATENT 2461</th>\n",
              "      <th>PATENT 2876</th>\n",
              "      <th>PATENT 3279</th>\n",
              "      <th>PATENT 4090</th>\n",
              "      <th>PATENT 4533</th>\n",
              "      <th>PATENT 456</th>\n",
              "      <th>PATENT 4566</th>\n",
              "      <th>PATENT 5281</th>\n",
              "      <th>PATENT 5514</th>\n",
              "      <th>PATENT 5726</th>\n",
              "      <th>PATENT 6776</th>\n",
              "      <th>PATENT 7883</th>\n",
              "      <th>PATENT 8830</th>\n",
              "      <th>PATENT 8895</th>\n",
              "      <th>PATENT 8924</th>\n",
              "      <th>PATENT 8998</th>\n",
              "      <th>PATENT 9404</th>\n",
              "      <th>PATENT 9545</th>\n",
              "      <th>PATENT 9568</th>\n",
              "      <th>2014</th>\n",
              "      <th>2015</th>\n",
              "      <th>2016</th>\n",
              "      <th>FA</th>\n",
              "      <th>SP</th>\n",
              "      <th>SU</th>\n",
              "      <th>WI</th>\n",
              "    </tr>\n",
              "  </thead>\n",
              "  <tbody>\n",
              "    <tr>\n",
              "      <th>0</th>\n",
              "      <td>12</td>\n",
              "      <td>SP2016</td>\n",
              "      <td>0</td>\n",
              "      <td>14</td>\n",
              "      <td>0</td>\n",
              "      <td>0</td>\n",
              "      <td>0</td>\n",
              "      <td>0</td>\n",
              "      <td>0</td>\n",
              "      <td>0</td>\n",
              "      <td>0</td>\n",
              "      <td>0</td>\n",
              "      <td>0</td>\n",
              "      <td>1</td>\n",
              "      <td>0</td>\n",
              "      <td>1</td>\n",
              "      <td>0</td>\n",
              "      <td>0</td>\n",
              "      <td>0</td>\n",
              "      <td>0</td>\n",
              "      <td>0</td>\n",
              "      <td>0</td>\n",
              "      <td>0</td>\n",
              "      <td>0</td>\n",
              "      <td>0</td>\n",
              "      <td>1</td>\n",
              "      <td>0</td>\n",
              "      <td>0</td>\n",
              "      <td>0</td>\n",
              "      <td>0</td>\n",
              "      <td>...</td>\n",
              "      <td>0</td>\n",
              "      <td>0</td>\n",
              "      <td>0</td>\n",
              "      <td>1</td>\n",
              "      <td>0</td>\n",
              "      <td>0</td>\n",
              "      <td>0</td>\n",
              "      <td>0</td>\n",
              "      <td>0</td>\n",
              "      <td>0</td>\n",
              "      <td>0</td>\n",
              "      <td>0</td>\n",
              "      <td>0</td>\n",
              "      <td>0</td>\n",
              "      <td>0</td>\n",
              "      <td>0</td>\n",
              "      <td>0</td>\n",
              "      <td>0</td>\n",
              "      <td>0</td>\n",
              "      <td>0</td>\n",
              "      <td>0</td>\n",
              "      <td>0</td>\n",
              "      <td>0</td>\n",
              "      <td>0</td>\n",
              "      <td>0</td>\n",
              "      <td>1</td>\n",
              "      <td>0</td>\n",
              "      <td>1</td>\n",
              "      <td>0</td>\n",
              "      <td>0</td>\n",
              "    </tr>\n",
              "    <tr>\n",
              "      <th>1</th>\n",
              "      <td>12</td>\n",
              "      <td>SP2016</td>\n",
              "      <td>11</td>\n",
              "      <td>66</td>\n",
              "      <td>0</td>\n",
              "      <td>0</td>\n",
              "      <td>0</td>\n",
              "      <td>0</td>\n",
              "      <td>0</td>\n",
              "      <td>0</td>\n",
              "      <td>0</td>\n",
              "      <td>0</td>\n",
              "      <td>0</td>\n",
              "      <td>1</td>\n",
              "      <td>0</td>\n",
              "      <td>0</td>\n",
              "      <td>0</td>\n",
              "      <td>0</td>\n",
              "      <td>0</td>\n",
              "      <td>0</td>\n",
              "      <td>0</td>\n",
              "      <td>1</td>\n",
              "      <td>0</td>\n",
              "      <td>0</td>\n",
              "      <td>0</td>\n",
              "      <td>1</td>\n",
              "      <td>0</td>\n",
              "      <td>0</td>\n",
              "      <td>0</td>\n",
              "      <td>0</td>\n",
              "      <td>...</td>\n",
              "      <td>0</td>\n",
              "      <td>0</td>\n",
              "      <td>0</td>\n",
              "      <td>1</td>\n",
              "      <td>0</td>\n",
              "      <td>0</td>\n",
              "      <td>0</td>\n",
              "      <td>0</td>\n",
              "      <td>0</td>\n",
              "      <td>0</td>\n",
              "      <td>0</td>\n",
              "      <td>0</td>\n",
              "      <td>0</td>\n",
              "      <td>0</td>\n",
              "      <td>0</td>\n",
              "      <td>0</td>\n",
              "      <td>0</td>\n",
              "      <td>0</td>\n",
              "      <td>0</td>\n",
              "      <td>0</td>\n",
              "      <td>0</td>\n",
              "      <td>0</td>\n",
              "      <td>0</td>\n",
              "      <td>0</td>\n",
              "      <td>0</td>\n",
              "      <td>1</td>\n",
              "      <td>0</td>\n",
              "      <td>1</td>\n",
              "      <td>0</td>\n",
              "      <td>0</td>\n",
              "    </tr>\n",
              "    <tr>\n",
              "      <th>2</th>\n",
              "      <td>12</td>\n",
              "      <td>FA2015</td>\n",
              "      <td>0</td>\n",
              "      <td>12</td>\n",
              "      <td>0</td>\n",
              "      <td>0</td>\n",
              "      <td>0</td>\n",
              "      <td>0</td>\n",
              "      <td>0</td>\n",
              "      <td>0</td>\n",
              "      <td>0</td>\n",
              "      <td>0</td>\n",
              "      <td>0</td>\n",
              "      <td>1</td>\n",
              "      <td>0</td>\n",
              "      <td>0</td>\n",
              "      <td>0</td>\n",
              "      <td>0</td>\n",
              "      <td>0</td>\n",
              "      <td>0</td>\n",
              "      <td>0</td>\n",
              "      <td>0</td>\n",
              "      <td>1</td>\n",
              "      <td>0</td>\n",
              "      <td>0</td>\n",
              "      <td>1</td>\n",
              "      <td>0</td>\n",
              "      <td>0</td>\n",
              "      <td>0</td>\n",
              "      <td>0</td>\n",
              "      <td>...</td>\n",
              "      <td>0</td>\n",
              "      <td>0</td>\n",
              "      <td>0</td>\n",
              "      <td>1</td>\n",
              "      <td>0</td>\n",
              "      <td>0</td>\n",
              "      <td>0</td>\n",
              "      <td>0</td>\n",
              "      <td>0</td>\n",
              "      <td>0</td>\n",
              "      <td>0</td>\n",
              "      <td>0</td>\n",
              "      <td>0</td>\n",
              "      <td>0</td>\n",
              "      <td>0</td>\n",
              "      <td>0</td>\n",
              "      <td>0</td>\n",
              "      <td>0</td>\n",
              "      <td>0</td>\n",
              "      <td>0</td>\n",
              "      <td>0</td>\n",
              "      <td>0</td>\n",
              "      <td>0</td>\n",
              "      <td>0</td>\n",
              "      <td>1</td>\n",
              "      <td>0</td>\n",
              "      <td>1</td>\n",
              "      <td>0</td>\n",
              "      <td>0</td>\n",
              "      <td>0</td>\n",
              "    </tr>\n",
              "    <tr>\n",
              "      <th>3</th>\n",
              "      <td>12</td>\n",
              "      <td>SP2016</td>\n",
              "      <td>0</td>\n",
              "      <td>47</td>\n",
              "      <td>0</td>\n",
              "      <td>0</td>\n",
              "      <td>0</td>\n",
              "      <td>0</td>\n",
              "      <td>0</td>\n",
              "      <td>0</td>\n",
              "      <td>0</td>\n",
              "      <td>0</td>\n",
              "      <td>0</td>\n",
              "      <td>1</td>\n",
              "      <td>0</td>\n",
              "      <td>0</td>\n",
              "      <td>0</td>\n",
              "      <td>0</td>\n",
              "      <td>0</td>\n",
              "      <td>0</td>\n",
              "      <td>0</td>\n",
              "      <td>0</td>\n",
              "      <td>1</td>\n",
              "      <td>0</td>\n",
              "      <td>0</td>\n",
              "      <td>1</td>\n",
              "      <td>0</td>\n",
              "      <td>0</td>\n",
              "      <td>0</td>\n",
              "      <td>0</td>\n",
              "      <td>...</td>\n",
              "      <td>0</td>\n",
              "      <td>0</td>\n",
              "      <td>0</td>\n",
              "      <td>1</td>\n",
              "      <td>0</td>\n",
              "      <td>0</td>\n",
              "      <td>0</td>\n",
              "      <td>0</td>\n",
              "      <td>0</td>\n",
              "      <td>0</td>\n",
              "      <td>0</td>\n",
              "      <td>0</td>\n",
              "      <td>0</td>\n",
              "      <td>0</td>\n",
              "      <td>0</td>\n",
              "      <td>0</td>\n",
              "      <td>0</td>\n",
              "      <td>0</td>\n",
              "      <td>0</td>\n",
              "      <td>0</td>\n",
              "      <td>0</td>\n",
              "      <td>0</td>\n",
              "      <td>0</td>\n",
              "      <td>0</td>\n",
              "      <td>0</td>\n",
              "      <td>1</td>\n",
              "      <td>0</td>\n",
              "      <td>1</td>\n",
              "      <td>0</td>\n",
              "      <td>0</td>\n",
              "    </tr>\n",
              "    <tr>\n",
              "      <th>4</th>\n",
              "      <td>12</td>\n",
              "      <td>WI2015</td>\n",
              "      <td>0</td>\n",
              "      <td>32</td>\n",
              "      <td>0</td>\n",
              "      <td>0</td>\n",
              "      <td>0</td>\n",
              "      <td>0</td>\n",
              "      <td>0</td>\n",
              "      <td>0</td>\n",
              "      <td>0</td>\n",
              "      <td>0</td>\n",
              "      <td>0</td>\n",
              "      <td>1</td>\n",
              "      <td>0</td>\n",
              "      <td>0</td>\n",
              "      <td>0</td>\n",
              "      <td>0</td>\n",
              "      <td>0</td>\n",
              "      <td>0</td>\n",
              "      <td>0</td>\n",
              "      <td>0</td>\n",
              "      <td>1</td>\n",
              "      <td>0</td>\n",
              "      <td>0</td>\n",
              "      <td>1</td>\n",
              "      <td>0</td>\n",
              "      <td>0</td>\n",
              "      <td>0</td>\n",
              "      <td>0</td>\n",
              "      <td>...</td>\n",
              "      <td>0</td>\n",
              "      <td>0</td>\n",
              "      <td>0</td>\n",
              "      <td>1</td>\n",
              "      <td>0</td>\n",
              "      <td>0</td>\n",
              "      <td>0</td>\n",
              "      <td>0</td>\n",
              "      <td>0</td>\n",
              "      <td>0</td>\n",
              "      <td>0</td>\n",
              "      <td>0</td>\n",
              "      <td>0</td>\n",
              "      <td>0</td>\n",
              "      <td>0</td>\n",
              "      <td>0</td>\n",
              "      <td>0</td>\n",
              "      <td>0</td>\n",
              "      <td>0</td>\n",
              "      <td>0</td>\n",
              "      <td>0</td>\n",
              "      <td>0</td>\n",
              "      <td>0</td>\n",
              "      <td>0</td>\n",
              "      <td>1</td>\n",
              "      <td>0</td>\n",
              "      <td>0</td>\n",
              "      <td>0</td>\n",
              "      <td>0</td>\n",
              "      <td>1</td>\n",
              "    </tr>\n",
              "  </tbody>\n",
              "</table>\n",
              "<p>5 rows × 181 columns</p>\n",
              "</div>"
            ],
            "text/plain": [
              "   sku quarter  sales_amt  shelf_amt  <= $44  $44-51  $51-58  $58-69  $69-77  \\\n",
              "0   12  SP2016          0         14       0       0       0       0       0   \n",
              "1   12  SP2016         11         66       0       0       0       0       0   \n",
              "2   12  FA2015          0         12       0       0       0       0       0   \n",
              "3   12  SP2016          0         47       0       0       0       0       0   \n",
              "4   12  WI2015          0         32       0       0       0       0       0   \n",
              "\n",
              "   $77-88  $88-101  $101-119  $119-143   >= $143  CANADA  GERMANY  INDIA  \\\n",
              "0       0        0         0         0         1       0        1      0   \n",
              "1       0        0         0         0         1       0        0      0   \n",
              "2       0        0         0         0         1       0        0      0   \n",
              "3       0        0         0         0         1       0        0      0   \n",
              "4       0        0         0         0         1       0        0      0   \n",
              "\n",
              "   ITALY  JAPAN  KOREA  MEXICO  RUSSIA  SPAIN  UNITED KINGDOM  UNITED STATES  \\\n",
              "0      0      0      0       0       0      0               0              0   \n",
              "1      0      0      0       0       1      0               0              0   \n",
              "2      0      0      0       0       0      1               0              0   \n",
              "3      0      0      0       0       0      1               0              0   \n",
              "4      0      0      0       0       0      1               0              0   \n",
              "\n",
              "   ADULT  GRADE SCHOOL  PRE SCHOOL  TODDLER  capsule  ...  Z762  Z778  Z966  \\\n",
              "0      1             0           0        0        0  ...     0     0     0   \n",
              "1      1             0           0        0        0  ...     0     0     0   \n",
              "2      1             0           0        0        0  ...     0     0     0   \n",
              "3      1             0           0        0        0  ...     0     0     0   \n",
              "4      1             0           0        0        0  ...     0     0     0   \n",
              "\n",
              "   PATENT 1030  PATENT 2461  PATENT 2876  PATENT 3279  PATENT 4090  \\\n",
              "0            1            0            0            0            0   \n",
              "1            1            0            0            0            0   \n",
              "2            1            0            0            0            0   \n",
              "3            1            0            0            0            0   \n",
              "4            1            0            0            0            0   \n",
              "\n",
              "   PATENT 4533  PATENT 456  PATENT 4566  PATENT 5281  PATENT 5514  \\\n",
              "0            0           0            0            0            0   \n",
              "1            0           0            0            0            0   \n",
              "2            0           0            0            0            0   \n",
              "3            0           0            0            0            0   \n",
              "4            0           0            0            0            0   \n",
              "\n",
              "   PATENT 5726  PATENT 6776  PATENT 7883  PATENT 8830  PATENT 8895  \\\n",
              "0            0            0            0            0            0   \n",
              "1            0            0            0            0            0   \n",
              "2            0            0            0            0            0   \n",
              "3            0            0            0            0            0   \n",
              "4            0            0            0            0            0   \n",
              "\n",
              "   PATENT 8924  PATENT 8998  PATENT 9404  PATENT 9545  PATENT 9568  2014  \\\n",
              "0            0            0            0            0            0     0   \n",
              "1            0            0            0            0            0     0   \n",
              "2            0            0            0            0            0     0   \n",
              "3            0            0            0            0            0     0   \n",
              "4            0            0            0            0            0     0   \n",
              "\n",
              "   2015  2016  FA  SP  SU  WI  \n",
              "0     0     1   0   1   0   0  \n",
              "1     0     1   0   1   0   0  \n",
              "2     1     0   1   0   0   0  \n",
              "3     0     1   0   1   0   0  \n",
              "4     1     0   0   0   0   1  \n",
              "\n",
              "[5 rows x 181 columns]"
            ]
          },
          "metadata": {
            "tags": []
          },
          "execution_count": 28
        }
      ]
    },
    {
      "cell_type": "code",
      "metadata": {
        "id": "b8Jov_PtYEIE",
        "colab_type": "code",
        "colab": {
          "base_uri": "https://localhost:8080/",
          "height": 51
        },
        "outputId": "596892a2-4623-412d-988c-c2b72056f3be"
      },
      "source": [
        "print('Num of features before feature processing: ', ex_combine.shape[1])\n",
        "print('Num of features after feature processing: ', new_ex_combine.shape[1])"
      ],
      "execution_count": 29,
      "outputs": [
        {
          "output_type": "stream",
          "text": [
            "Num of features before feature processing:  11\n",
            "Num of features after feature processing:  181\n"
          ],
          "name": "stdout"
        }
      ]
    },
    {
      "cell_type": "code",
      "metadata": {
        "id": "rqecz4OgYmFm",
        "colab_type": "code",
        "colab": {
          "base_uri": "https://localhost:8080/",
          "height": 34
        },
        "outputId": "2468db38-fb0c-4f7d-df38-b01d529e5cfb"
      },
      "source": [
        "#double check any missing values\n",
        "print (new_ex_combine.isnull().sum().sum())"
      ],
      "execution_count": 30,
      "outputs": [
        {
          "output_type": "stream",
          "text": [
            "0\n"
          ],
          "name": "stdout"
        }
      ]
    },
    {
      "cell_type": "markdown",
      "metadata": {
        "id": "HO4xHcoUym1K",
        "colab_type": "text"
      },
      "source": [
        "nw dataset contains the product info of the 87 new skus. We need to transform the features as we did on the existing products."
      ]
    },
    {
      "cell_type": "code",
      "metadata": {
        "id": "mDUVogGw2cHp",
        "colab_type": "code",
        "colab": {}
      },
      "source": [
        "nw1 = nw.copy(deep = True)\n",
        "\n",
        "d_age2 = pd.get_dummies(nw1['age'])\n",
        "d_formation2 = pd.get_dummies(nw1['formation'])\n",
        "d_family2 = pd.get_dummies(nw1['family'])\n",
        "d_brand2 = pd.get_dummies(nw1['brand'])\n",
        "\n",
        "bin_nw = pd.cut(nw1['sales_price'], bin_price, labels = price_label_name)\n",
        "d_price2 = pd.get_dummies(bin_nw)\n",
        "d_spec2 = nw1['specs'].str.get_dummies(sep='|')"
      ],
      "execution_count": 0,
      "outputs": []
    },
    {
      "cell_type": "code",
      "metadata": {
        "id": "KSf1lJKuzNSu",
        "colab_type": "code",
        "colab": {}
      },
      "source": [
        "temp2 = nw1.drop(['sales_price', 'age', 'formation', 'family', 'brand', 'specs'], axis =1)\n",
        "new_nw = pd.concat([temp2, d_price2, d_age2, d_formation2, d_family2, d_brand2, d_spec2], axis = 1)"
      ],
      "execution_count": 0,
      "outputs": []
    },
    {
      "cell_type": "code",
      "metadata": {
        "id": "YbGc2d2s3YmV",
        "colab_type": "code",
        "colab": {
          "base_uri": "https://localhost:8080/",
          "height": 270
        },
        "outputId": "7f927927-58ec-4976-9b5c-a93b4ee19d0d"
      },
      "source": [
        "new_nw.head()"
      ],
      "execution_count": 33,
      "outputs": [
        {
          "output_type": "execute_result",
          "data": {
            "text/html": [
              "<div>\n",
              "<style scoped>\n",
              "    .dataframe tbody tr th:only-of-type {\n",
              "        vertical-align: middle;\n",
              "    }\n",
              "\n",
              "    .dataframe tbody tr th {\n",
              "        vertical-align: top;\n",
              "    }\n",
              "\n",
              "    .dataframe thead th {\n",
              "        text-align: right;\n",
              "    }\n",
              "</style>\n",
              "<table border=\"1\" class=\"dataframe\">\n",
              "  <thead>\n",
              "    <tr style=\"text-align: right;\">\n",
              "      <th></th>\n",
              "      <th>sku</th>\n",
              "      <th>&lt;= $44</th>\n",
              "      <th>$44-51</th>\n",
              "      <th>$51-58</th>\n",
              "      <th>$58-69</th>\n",
              "      <th>$69-77</th>\n",
              "      <th>$77-88</th>\n",
              "      <th>$88-101</th>\n",
              "      <th>$101-119</th>\n",
              "      <th>$119-143</th>\n",
              "      <th>&gt;= $143</th>\n",
              "      <th>ADULT</th>\n",
              "      <th>GRADE SCHOOL</th>\n",
              "      <th>PRE SCHOOL</th>\n",
              "      <th>TODDLER</th>\n",
              "      <th>capsule</th>\n",
              "      <th>liquid</th>\n",
              "      <th>powder</th>\n",
              "      <th>Calcium</th>\n",
              "      <th>Cranberry</th>\n",
              "      <th>Echinacea</th>\n",
              "      <th>FishOil</th>\n",
              "      <th>Ginger</th>\n",
              "      <th>Ginseng</th>\n",
              "      <th>Magnesium</th>\n",
              "      <th>Melatonin</th>\n",
              "      <th>MilkThistle</th>\n",
              "      <th>Omega3FattyAcid</th>\n",
              "      <th>Valerian</th>\n",
              "      <th>VitaminC</th>\n",
              "      <th>...</th>\n",
              "      <th>S157</th>\n",
              "      <th>T954</th>\n",
              "      <th>U117</th>\n",
              "      <th>U691</th>\n",
              "      <th>V891</th>\n",
              "      <th>X228</th>\n",
              "      <th>X315</th>\n",
              "      <th>X316</th>\n",
              "      <th>X411</th>\n",
              "      <th>Y481</th>\n",
              "      <th>Y585</th>\n",
              "      <th>Y83</th>\n",
              "      <th>Z362</th>\n",
              "      <th>PATENT 1030</th>\n",
              "      <th>PATENT 2461</th>\n",
              "      <th>PATENT 2876</th>\n",
              "      <th>PATENT 3279</th>\n",
              "      <th>PATENT 4090</th>\n",
              "      <th>PATENT 4533</th>\n",
              "      <th>PATENT 456</th>\n",
              "      <th>PATENT 4566</th>\n",
              "      <th>PATENT 5281</th>\n",
              "      <th>PATENT 5514</th>\n",
              "      <th>PATENT 5726</th>\n",
              "      <th>PATENT 6776</th>\n",
              "      <th>PATENT 7883</th>\n",
              "      <th>PATENT 8830</th>\n",
              "      <th>PATENT 8895</th>\n",
              "      <th>PATENT 8998</th>\n",
              "      <th>PATENT 9568</th>\n",
              "    </tr>\n",
              "  </thead>\n",
              "  <tbody>\n",
              "    <tr>\n",
              "      <th>5</th>\n",
              "      <td>2778</td>\n",
              "      <td>0</td>\n",
              "      <td>0</td>\n",
              "      <td>0</td>\n",
              "      <td>0</td>\n",
              "      <td>1</td>\n",
              "      <td>0</td>\n",
              "      <td>0</td>\n",
              "      <td>0</td>\n",
              "      <td>0</td>\n",
              "      <td>0</td>\n",
              "      <td>0</td>\n",
              "      <td>1</td>\n",
              "      <td>0</td>\n",
              "      <td>0</td>\n",
              "      <td>0</td>\n",
              "      <td>0</td>\n",
              "      <td>1</td>\n",
              "      <td>0</td>\n",
              "      <td>0</td>\n",
              "      <td>0</td>\n",
              "      <td>1</td>\n",
              "      <td>0</td>\n",
              "      <td>0</td>\n",
              "      <td>0</td>\n",
              "      <td>0</td>\n",
              "      <td>0</td>\n",
              "      <td>0</td>\n",
              "      <td>0</td>\n",
              "      <td>0</td>\n",
              "      <td>...</td>\n",
              "      <td>0</td>\n",
              "      <td>0</td>\n",
              "      <td>0</td>\n",
              "      <td>0</td>\n",
              "      <td>0</td>\n",
              "      <td>0</td>\n",
              "      <td>0</td>\n",
              "      <td>0</td>\n",
              "      <td>0</td>\n",
              "      <td>0</td>\n",
              "      <td>0</td>\n",
              "      <td>0</td>\n",
              "      <td>0</td>\n",
              "      <td>0</td>\n",
              "      <td>0</td>\n",
              "      <td>1</td>\n",
              "      <td>0</td>\n",
              "      <td>0</td>\n",
              "      <td>0</td>\n",
              "      <td>1</td>\n",
              "      <td>0</td>\n",
              "      <td>0</td>\n",
              "      <td>0</td>\n",
              "      <td>1</td>\n",
              "      <td>0</td>\n",
              "      <td>0</td>\n",
              "      <td>0</td>\n",
              "      <td>0</td>\n",
              "      <td>0</td>\n",
              "      <td>0</td>\n",
              "    </tr>\n",
              "    <tr>\n",
              "      <th>8</th>\n",
              "      <td>7158</td>\n",
              "      <td>0</td>\n",
              "      <td>0</td>\n",
              "      <td>0</td>\n",
              "      <td>0</td>\n",
              "      <td>0</td>\n",
              "      <td>0</td>\n",
              "      <td>0</td>\n",
              "      <td>0</td>\n",
              "      <td>0</td>\n",
              "      <td>1</td>\n",
              "      <td>1</td>\n",
              "      <td>0</td>\n",
              "      <td>0</td>\n",
              "      <td>0</td>\n",
              "      <td>0</td>\n",
              "      <td>0</td>\n",
              "      <td>1</td>\n",
              "      <td>0</td>\n",
              "      <td>0</td>\n",
              "      <td>0</td>\n",
              "      <td>0</td>\n",
              "      <td>0</td>\n",
              "      <td>0</td>\n",
              "      <td>0</td>\n",
              "      <td>0</td>\n",
              "      <td>0</td>\n",
              "      <td>0</td>\n",
              "      <td>0</td>\n",
              "      <td>0</td>\n",
              "      <td>...</td>\n",
              "      <td>0</td>\n",
              "      <td>0</td>\n",
              "      <td>0</td>\n",
              "      <td>0</td>\n",
              "      <td>0</td>\n",
              "      <td>0</td>\n",
              "      <td>0</td>\n",
              "      <td>0</td>\n",
              "      <td>0</td>\n",
              "      <td>0</td>\n",
              "      <td>0</td>\n",
              "      <td>0</td>\n",
              "      <td>0</td>\n",
              "      <td>0</td>\n",
              "      <td>0</td>\n",
              "      <td>1</td>\n",
              "      <td>0</td>\n",
              "      <td>0</td>\n",
              "      <td>0</td>\n",
              "      <td>0</td>\n",
              "      <td>0</td>\n",
              "      <td>0</td>\n",
              "      <td>0</td>\n",
              "      <td>0</td>\n",
              "      <td>0</td>\n",
              "      <td>0</td>\n",
              "      <td>0</td>\n",
              "      <td>0</td>\n",
              "      <td>0</td>\n",
              "      <td>0</td>\n",
              "    </tr>\n",
              "    <tr>\n",
              "      <th>11</th>\n",
              "      <td>7224</td>\n",
              "      <td>0</td>\n",
              "      <td>0</td>\n",
              "      <td>0</td>\n",
              "      <td>0</td>\n",
              "      <td>0</td>\n",
              "      <td>1</td>\n",
              "      <td>0</td>\n",
              "      <td>0</td>\n",
              "      <td>0</td>\n",
              "      <td>0</td>\n",
              "      <td>0</td>\n",
              "      <td>1</td>\n",
              "      <td>0</td>\n",
              "      <td>0</td>\n",
              "      <td>0</td>\n",
              "      <td>0</td>\n",
              "      <td>1</td>\n",
              "      <td>0</td>\n",
              "      <td>0</td>\n",
              "      <td>0</td>\n",
              "      <td>1</td>\n",
              "      <td>0</td>\n",
              "      <td>0</td>\n",
              "      <td>0</td>\n",
              "      <td>0</td>\n",
              "      <td>0</td>\n",
              "      <td>0</td>\n",
              "      <td>0</td>\n",
              "      <td>0</td>\n",
              "      <td>...</td>\n",
              "      <td>0</td>\n",
              "      <td>0</td>\n",
              "      <td>0</td>\n",
              "      <td>0</td>\n",
              "      <td>0</td>\n",
              "      <td>0</td>\n",
              "      <td>0</td>\n",
              "      <td>0</td>\n",
              "      <td>0</td>\n",
              "      <td>0</td>\n",
              "      <td>0</td>\n",
              "      <td>1</td>\n",
              "      <td>0</td>\n",
              "      <td>0</td>\n",
              "      <td>0</td>\n",
              "      <td>0</td>\n",
              "      <td>0</td>\n",
              "      <td>0</td>\n",
              "      <td>0</td>\n",
              "      <td>0</td>\n",
              "      <td>0</td>\n",
              "      <td>0</td>\n",
              "      <td>0</td>\n",
              "      <td>0</td>\n",
              "      <td>0</td>\n",
              "      <td>0</td>\n",
              "      <td>1</td>\n",
              "      <td>0</td>\n",
              "      <td>0</td>\n",
              "      <td>0</td>\n",
              "    </tr>\n",
              "    <tr>\n",
              "      <th>23</th>\n",
              "      <td>5674</td>\n",
              "      <td>0</td>\n",
              "      <td>0</td>\n",
              "      <td>0</td>\n",
              "      <td>1</td>\n",
              "      <td>0</td>\n",
              "      <td>0</td>\n",
              "      <td>0</td>\n",
              "      <td>0</td>\n",
              "      <td>0</td>\n",
              "      <td>0</td>\n",
              "      <td>1</td>\n",
              "      <td>0</td>\n",
              "      <td>0</td>\n",
              "      <td>0</td>\n",
              "      <td>0</td>\n",
              "      <td>0</td>\n",
              "      <td>1</td>\n",
              "      <td>0</td>\n",
              "      <td>0</td>\n",
              "      <td>0</td>\n",
              "      <td>0</td>\n",
              "      <td>0</td>\n",
              "      <td>0</td>\n",
              "      <td>0</td>\n",
              "      <td>0</td>\n",
              "      <td>0</td>\n",
              "      <td>1</td>\n",
              "      <td>0</td>\n",
              "      <td>0</td>\n",
              "      <td>...</td>\n",
              "      <td>0</td>\n",
              "      <td>0</td>\n",
              "      <td>0</td>\n",
              "      <td>0</td>\n",
              "      <td>0</td>\n",
              "      <td>0</td>\n",
              "      <td>0</td>\n",
              "      <td>0</td>\n",
              "      <td>0</td>\n",
              "      <td>0</td>\n",
              "      <td>0</td>\n",
              "      <td>0</td>\n",
              "      <td>0</td>\n",
              "      <td>0</td>\n",
              "      <td>0</td>\n",
              "      <td>0</td>\n",
              "      <td>0</td>\n",
              "      <td>0</td>\n",
              "      <td>0</td>\n",
              "      <td>1</td>\n",
              "      <td>0</td>\n",
              "      <td>0</td>\n",
              "      <td>0</td>\n",
              "      <td>0</td>\n",
              "      <td>0</td>\n",
              "      <td>0</td>\n",
              "      <td>0</td>\n",
              "      <td>0</td>\n",
              "      <td>0</td>\n",
              "      <td>0</td>\n",
              "    </tr>\n",
              "    <tr>\n",
              "      <th>30</th>\n",
              "      <td>13</td>\n",
              "      <td>0</td>\n",
              "      <td>0</td>\n",
              "      <td>0</td>\n",
              "      <td>0</td>\n",
              "      <td>0</td>\n",
              "      <td>0</td>\n",
              "      <td>1</td>\n",
              "      <td>0</td>\n",
              "      <td>0</td>\n",
              "      <td>0</td>\n",
              "      <td>0</td>\n",
              "      <td>1</td>\n",
              "      <td>0</td>\n",
              "      <td>0</td>\n",
              "      <td>1</td>\n",
              "      <td>0</td>\n",
              "      <td>0</td>\n",
              "      <td>0</td>\n",
              "      <td>0</td>\n",
              "      <td>0</td>\n",
              "      <td>1</td>\n",
              "      <td>0</td>\n",
              "      <td>0</td>\n",
              "      <td>0</td>\n",
              "      <td>0</td>\n",
              "      <td>0</td>\n",
              "      <td>0</td>\n",
              "      <td>0</td>\n",
              "      <td>0</td>\n",
              "      <td>...</td>\n",
              "      <td>0</td>\n",
              "      <td>0</td>\n",
              "      <td>0</td>\n",
              "      <td>0</td>\n",
              "      <td>0</td>\n",
              "      <td>0</td>\n",
              "      <td>0</td>\n",
              "      <td>0</td>\n",
              "      <td>0</td>\n",
              "      <td>0</td>\n",
              "      <td>0</td>\n",
              "      <td>0</td>\n",
              "      <td>0</td>\n",
              "      <td>0</td>\n",
              "      <td>0</td>\n",
              "      <td>0</td>\n",
              "      <td>0</td>\n",
              "      <td>0</td>\n",
              "      <td>0</td>\n",
              "      <td>0</td>\n",
              "      <td>0</td>\n",
              "      <td>0</td>\n",
              "      <td>0</td>\n",
              "      <td>0</td>\n",
              "      <td>0</td>\n",
              "      <td>0</td>\n",
              "      <td>1</td>\n",
              "      <td>0</td>\n",
              "      <td>0</td>\n",
              "      <td>0</td>\n",
              "    </tr>\n",
              "  </tbody>\n",
              "</table>\n",
              "<p>5 rows × 94 columns</p>\n",
              "</div>"
            ],
            "text/plain": [
              "     sku  <= $44  $44-51  $51-58  $58-69  $69-77  $77-88  $88-101  $101-119  \\\n",
              "5   2778       0       0       0       0       1       0        0         0   \n",
              "8   7158       0       0       0       0       0       0        0         0   \n",
              "11  7224       0       0       0       0       0       1        0         0   \n",
              "23  5674       0       0       0       1       0       0        0         0   \n",
              "30    13       0       0       0       0       0       0        1         0   \n",
              "\n",
              "    $119-143   >= $143  ADULT  GRADE SCHOOL  PRE SCHOOL  TODDLER  capsule  \\\n",
              "5          0         0      0             1           0        0        0   \n",
              "8          0         1      1             0           0        0        0   \n",
              "11         0         0      0             1           0        0        0   \n",
              "23         0         0      1             0           0        0        0   \n",
              "30         0         0      0             1           0        0        1   \n",
              "\n",
              "    liquid  powder  Calcium  Cranberry  Echinacea  FishOil  Ginger  Ginseng  \\\n",
              "5        0       1        0          0          0        1       0        0   \n",
              "8        0       1        0          0          0        0       0        0   \n",
              "11       0       1        0          0          0        1       0        0   \n",
              "23       0       1        0          0          0        0       0        0   \n",
              "30       0       0        0          0          0        1       0        0   \n",
              "\n",
              "    Magnesium  Melatonin  MilkThistle  Omega3FattyAcid  Valerian  VitaminC  \\\n",
              "5           0          0            0                0         0         0   \n",
              "8           0          0            0                0         0         0   \n",
              "11          0          0            0                0         0         0   \n",
              "23          0          0            0                1         0         0   \n",
              "30          0          0            0                0         0         0   \n",
              "\n",
              "    ...  S157  T954  U117  U691  V891  X228  X315  X316  X411  Y481  Y585  \\\n",
              "5   ...     0     0     0     0     0     0     0     0     0     0     0   \n",
              "8   ...     0     0     0     0     0     0     0     0     0     0     0   \n",
              "11  ...     0     0     0     0     0     0     0     0     0     0     0   \n",
              "23  ...     0     0     0     0     0     0     0     0     0     0     0   \n",
              "30  ...     0     0     0     0     0     0     0     0     0     0     0   \n",
              "\n",
              "    Y83  Z362  PATENT 1030  PATENT 2461  PATENT 2876  PATENT 3279  \\\n",
              "5     0     0            0            0            1            0   \n",
              "8     0     0            0            0            1            0   \n",
              "11    1     0            0            0            0            0   \n",
              "23    0     0            0            0            0            0   \n",
              "30    0     0            0            0            0            0   \n",
              "\n",
              "    PATENT 4090  PATENT 4533  PATENT 456  PATENT 4566  PATENT 5281  \\\n",
              "5             0            0           1            0            0   \n",
              "8             0            0           0            0            0   \n",
              "11            0            0           0            0            0   \n",
              "23            0            0           1            0            0   \n",
              "30            0            0           0            0            0   \n",
              "\n",
              "    PATENT 5514  PATENT 5726  PATENT 6776  PATENT 7883  PATENT 8830  \\\n",
              "5             0            1            0            0            0   \n",
              "8             0            0            0            0            0   \n",
              "11            0            0            0            0            1   \n",
              "23            0            0            0            0            0   \n",
              "30            0            0            0            0            1   \n",
              "\n",
              "    PATENT 8895  PATENT 8998  PATENT 9568  \n",
              "5             0            0            0  \n",
              "8             0            0            0  \n",
              "11            0            0            0  \n",
              "23            0            0            0  \n",
              "30            0            0            0  \n",
              "\n",
              "[5 rows x 94 columns]"
            ]
          },
          "metadata": {
            "tags": []
          },
          "execution_count": 33
        }
      ]
    },
    {
      "cell_type": "code",
      "metadata": {
        "id": "xrez8wiX3bFE",
        "colab_type": "code",
        "colab": {
          "base_uri": "https://localhost:8080/",
          "height": 51
        },
        "outputId": "e78cff99-c8e0-4124-e0d5-5f90229329c7"
      },
      "source": [
        "print('Num of features before feature processing: ', nw.shape[1])\n",
        "print('Num of features after feature processing: ', new_nw.shape[1])"
      ],
      "execution_count": 34,
      "outputs": [
        {
          "output_type": "stream",
          "text": [
            "Num of features before feature processing:  7\n",
            "Num of features after feature processing:  94\n"
          ],
          "name": "stdout"
        }
      ]
    },
    {
      "cell_type": "markdown",
      "metadata": {
        "id": "B9Gb-bB60igN",
        "colab_type": "text"
      },
      "source": [
        "Check the avergae count for each sku number (around 22)"
      ]
    },
    {
      "cell_type": "code",
      "metadata": {
        "id": "nMvXE-Wj4-3o",
        "colab_type": "code",
        "colab": {
          "base_uri": "https://localhost:8080/",
          "height": 34
        },
        "outputId": "926d4698-de0b-4257-c5b2-70fec55c6735"
      },
      "source": [
        "new_ex_combine['sku'][new_ex_combine['sku'] == 12].count()"
      ],
      "execution_count": 35,
      "outputs": [
        {
          "output_type": "execute_result",
          "data": {
            "text/plain": [
              "5"
            ]
          },
          "metadata": {
            "tags": []
          },
          "execution_count": 35
        }
      ]
    },
    {
      "cell_type": "code",
      "metadata": {
        "id": "Cl5gdDMx5q9T",
        "colab_type": "code",
        "colab": {
          "base_uri": "https://localhost:8080/",
          "height": 238
        },
        "outputId": "452fb489-9aca-4968-a5eb-b6a7256fc9b2"
      },
      "source": [
        "new_ex_combine.groupby(new_ex_combine.sku).size()"
      ],
      "execution_count": 36,
      "outputs": [
        {
          "output_type": "execute_result",
          "data": {
            "text/plain": [
              "sku\n",
              "12       5\n",
              "37      50\n",
              "81      14\n",
              "147     10\n",
              "206     19\n",
              "        ..\n",
              "9890    10\n",
              "9908     6\n",
              "9929     4\n",
              "9956     7\n",
              "9974    12\n",
              "Length: 320, dtype: int64"
            ]
          },
          "metadata": {
            "tags": []
          },
          "execution_count": 36
        }
      ]
    },
    {
      "cell_type": "code",
      "metadata": {
        "id": "DegVIdjf5-27",
        "colab_type": "code",
        "colab": {
          "base_uri": "https://localhost:8080/",
          "height": 34
        },
        "outputId": "de4f1cd5-9a51-4c16-b8c8-9c742224ca27"
      },
      "source": [
        "new_ex_combine.groupby(new_ex_combine.sku).size().mean()"
      ],
      "execution_count": 37,
      "outputs": [
        {
          "output_type": "execute_result",
          "data": {
            "text/plain": [
              "21.69375"
            ]
          },
          "metadata": {
            "tags": []
          },
          "execution_count": 37
        }
      ]
    },
    {
      "cell_type": "markdown",
      "metadata": {
        "id": "AeQ4KYRzZlJA",
        "colab_type": "text"
      },
      "source": [
        "# Part 3: Model Selection and Evaluation"
      ]
    },
    {
      "cell_type": "markdown",
      "metadata": {
        "id": "N2BEWQPk4VMI",
        "colab_type": "text"
      },
      "source": [
        "Two models will be developed: \\\n",
        "- one for existing products\n",
        "- one for new products\n",
        "\n",
        "The existing model will be trained on only its own historical data\\\n",
        "The new model will be trained on the data based on similarity with the existing products"
      ]
    },
    {
      "cell_type": "markdown",
      "metadata": {
        "id": "Mub_tgo9ZzGy",
        "colab_type": "text"
      },
      "source": [
        "## Model for 320 Existing Products"
      ]
    },
    {
      "cell_type": "markdown",
      "metadata": {
        "id": "VYYleW6i6LNF",
        "colab_type": "text"
      },
      "source": [
        "Using data of each product to build models is not ideal, as the average data points of each product/sku is only 22. So I'd like to build complicated models that use information of all products, not just by sku.\n",
        "\n",
        "Response variable (y) = sales_amt\\\n",
        "~ 20% SP2016 data will be used to evaluate the model (Testing data)"
      ]
    },
    {
      "cell_type": "markdown",
      "metadata": {
        "id": "wu9fv7n2P0Qe",
        "colab_type": "text"
      },
      "source": [
        "### Split dataset into Training and Testing"
      ]
    },
    {
      "cell_type": "code",
      "metadata": {
        "id": "7UJNgW5W91yP",
        "colab_type": "code",
        "colab": {
          "base_uri": "https://localhost:8080/",
          "height": 34
        },
        "outputId": "31368d9b-d106-4896-b29c-0290bc73c089"
      },
      "source": [
        "print ('SP2016 data points consists of', new_ex_combine['quarter'][new_ex_combine['quarter'] == 'SP2016'].count() / new_ex_combine.shape[0] * 100, '% of overall data points')"
      ],
      "execution_count": 38,
      "outputs": [
        {
          "output_type": "stream",
          "text": [
            "SP2016 data points consists of 19.64851627772976 % of overall data points\n"
          ],
          "name": "stdout"
        }
      ]
    },
    {
      "cell_type": "code",
      "metadata": {
        "id": "HCqbkxtRBeYl",
        "colab_type": "code",
        "colab": {}
      },
      "source": [
        "# select ~20% latest data for test purpose, the rest for training purpose\n",
        "test = new_ex_combine[new_ex_combine['quarter'] == 'SP2016']\n",
        "train = new_ex_combine[new_ex_combine['quarter'] !='SP2016']"
      ],
      "execution_count": 0,
      "outputs": []
    },
    {
      "cell_type": "code",
      "metadata": {
        "id": "EGXIPNR1E8Zs",
        "colab_type": "code",
        "colab": {}
      },
      "source": [
        "# the original data lines up orderly. shuffle to make the training data random samples in the cross validation step\n",
        "train = train.sample(frac = 1).reset_index(drop = True)"
      ],
      "execution_count": 0,
      "outputs": []
    },
    {
      "cell_type": "code",
      "metadata": {
        "id": "HeLlgiObCKBY",
        "colab_type": "code",
        "colab": {}
      },
      "source": [
        "# prepare training and test data\n",
        "y_train = train['sales_amt']\n",
        "X_train = train.drop(['sku', 'quarter', 'sales_amt'], axis = 1) \n",
        "\n",
        "y_test = test['sales_amt']\n",
        "X_test = test.drop(['sku', 'quarter', 'sales_amt'], axis = 1)"
      ],
      "execution_count": 0,
      "outputs": []
    },
    {
      "cell_type": "code",
      "metadata": {
        "id": "tYzeSfjEB82N",
        "colab_type": "code",
        "colab": {
          "base_uri": "https://localhost:8080/",
          "height": 51
        },
        "outputId": "6e9d2a7c-d806-44e8-f8eb-05cfffe2e24e"
      },
      "source": [
        "print('training data has ' + str(X_train.shape[0]) + ' observation with ' + str(X_train.shape[1]) + ' features')\n",
        "print('test data has ' + str(X_test.shape[0]) + ' observation with ' + str(X_test.shape[1]) + ' features')"
      ],
      "execution_count": 45,
      "outputs": [
        {
          "output_type": "stream",
          "text": [
            "training data has 5578 observation with 178 features\n",
            "test data has 1364 observation with 178 features\n"
          ],
          "name": "stdout"
        }
      ]
    },
    {
      "cell_type": "markdown",
      "metadata": {
        "id": "hC4kvPhUP5GH",
        "colab_type": "text"
      },
      "source": [
        "### Feature Scaling"
      ]
    },
    {
      "cell_type": "markdown",
      "metadata": {
        "id": "GANZBW3UHGWp",
        "colab_type": "text"
      },
      "source": [
        "Use Robust Scaler to scale numerical feature - shelf_amt \\\n",
        "I choose Robust Scaler because the values in shelf_amt have a wide range. Robust Scaling is similar to normalization but it uses the interquartile range instead, so that it is robust to outliers"
      ]
    },
    {
      "cell_type": "code",
      "metadata": {
        "id": "u4CSfOkvJipv",
        "colab_type": "code",
        "colab": {
          "base_uri": "https://localhost:8080/",
          "height": 456
        },
        "outputId": "b487c888-47ef-480f-e244-a503a40efcac"
      },
      "source": [
        "X_train"
      ],
      "execution_count": 46,
      "outputs": [
        {
          "output_type": "execute_result",
          "data": {
            "text/html": [
              "<div>\n",
              "<style scoped>\n",
              "    .dataframe tbody tr th:only-of-type {\n",
              "        vertical-align: middle;\n",
              "    }\n",
              "\n",
              "    .dataframe tbody tr th {\n",
              "        vertical-align: top;\n",
              "    }\n",
              "\n",
              "    .dataframe thead th {\n",
              "        text-align: right;\n",
              "    }\n",
              "</style>\n",
              "<table border=\"1\" class=\"dataframe\">\n",
              "  <thead>\n",
              "    <tr style=\"text-align: right;\">\n",
              "      <th></th>\n",
              "      <th>shelf_amt</th>\n",
              "      <th>&lt;= $44</th>\n",
              "      <th>$44-51</th>\n",
              "      <th>$51-58</th>\n",
              "      <th>$58-69</th>\n",
              "      <th>$69-77</th>\n",
              "      <th>$77-88</th>\n",
              "      <th>$88-101</th>\n",
              "      <th>$101-119</th>\n",
              "      <th>$119-143</th>\n",
              "      <th>&gt;= $143</th>\n",
              "      <th>CANADA</th>\n",
              "      <th>GERMANY</th>\n",
              "      <th>INDIA</th>\n",
              "      <th>ITALY</th>\n",
              "      <th>JAPAN</th>\n",
              "      <th>KOREA</th>\n",
              "      <th>MEXICO</th>\n",
              "      <th>RUSSIA</th>\n",
              "      <th>SPAIN</th>\n",
              "      <th>UNITED KINGDOM</th>\n",
              "      <th>UNITED STATES</th>\n",
              "      <th>ADULT</th>\n",
              "      <th>GRADE SCHOOL</th>\n",
              "      <th>PRE SCHOOL</th>\n",
              "      <th>TODDLER</th>\n",
              "      <th>capsule</th>\n",
              "      <th>liquid</th>\n",
              "      <th>powder</th>\n",
              "      <th>Calcium</th>\n",
              "      <th>...</th>\n",
              "      <th>Z762</th>\n",
              "      <th>Z778</th>\n",
              "      <th>Z966</th>\n",
              "      <th>PATENT 1030</th>\n",
              "      <th>PATENT 2461</th>\n",
              "      <th>PATENT 2876</th>\n",
              "      <th>PATENT 3279</th>\n",
              "      <th>PATENT 4090</th>\n",
              "      <th>PATENT 4533</th>\n",
              "      <th>PATENT 456</th>\n",
              "      <th>PATENT 4566</th>\n",
              "      <th>PATENT 5281</th>\n",
              "      <th>PATENT 5514</th>\n",
              "      <th>PATENT 5726</th>\n",
              "      <th>PATENT 6776</th>\n",
              "      <th>PATENT 7883</th>\n",
              "      <th>PATENT 8830</th>\n",
              "      <th>PATENT 8895</th>\n",
              "      <th>PATENT 8924</th>\n",
              "      <th>PATENT 8998</th>\n",
              "      <th>PATENT 9404</th>\n",
              "      <th>PATENT 9545</th>\n",
              "      <th>PATENT 9568</th>\n",
              "      <th>2014</th>\n",
              "      <th>2015</th>\n",
              "      <th>2016</th>\n",
              "      <th>FA</th>\n",
              "      <th>SP</th>\n",
              "      <th>SU</th>\n",
              "      <th>WI</th>\n",
              "    </tr>\n",
              "  </thead>\n",
              "  <tbody>\n",
              "    <tr>\n",
              "      <th>0</th>\n",
              "      <td>278</td>\n",
              "      <td>0</td>\n",
              "      <td>0</td>\n",
              "      <td>0</td>\n",
              "      <td>0</td>\n",
              "      <td>0</td>\n",
              "      <td>0</td>\n",
              "      <td>0</td>\n",
              "      <td>0</td>\n",
              "      <td>1</td>\n",
              "      <td>0</td>\n",
              "      <td>0</td>\n",
              "      <td>1</td>\n",
              "      <td>0</td>\n",
              "      <td>0</td>\n",
              "      <td>0</td>\n",
              "      <td>0</td>\n",
              "      <td>0</td>\n",
              "      <td>0</td>\n",
              "      <td>0</td>\n",
              "      <td>0</td>\n",
              "      <td>0</td>\n",
              "      <td>1</td>\n",
              "      <td>0</td>\n",
              "      <td>0</td>\n",
              "      <td>0</td>\n",
              "      <td>1</td>\n",
              "      <td>0</td>\n",
              "      <td>0</td>\n",
              "      <td>0</td>\n",
              "      <td>...</td>\n",
              "      <td>0</td>\n",
              "      <td>0</td>\n",
              "      <td>0</td>\n",
              "      <td>0</td>\n",
              "      <td>0</td>\n",
              "      <td>0</td>\n",
              "      <td>0</td>\n",
              "      <td>0</td>\n",
              "      <td>0</td>\n",
              "      <td>0</td>\n",
              "      <td>0</td>\n",
              "      <td>0</td>\n",
              "      <td>0</td>\n",
              "      <td>0</td>\n",
              "      <td>0</td>\n",
              "      <td>0</td>\n",
              "      <td>1</td>\n",
              "      <td>0</td>\n",
              "      <td>0</td>\n",
              "      <td>0</td>\n",
              "      <td>0</td>\n",
              "      <td>0</td>\n",
              "      <td>0</td>\n",
              "      <td>0</td>\n",
              "      <td>1</td>\n",
              "      <td>0</td>\n",
              "      <td>1</td>\n",
              "      <td>0</td>\n",
              "      <td>0</td>\n",
              "      <td>0</td>\n",
              "    </tr>\n",
              "    <tr>\n",
              "      <th>1</th>\n",
              "      <td>328929</td>\n",
              "      <td>0</td>\n",
              "      <td>0</td>\n",
              "      <td>0</td>\n",
              "      <td>0</td>\n",
              "      <td>0</td>\n",
              "      <td>0</td>\n",
              "      <td>0</td>\n",
              "      <td>0</td>\n",
              "      <td>1</td>\n",
              "      <td>0</td>\n",
              "      <td>0</td>\n",
              "      <td>1</td>\n",
              "      <td>0</td>\n",
              "      <td>0</td>\n",
              "      <td>0</td>\n",
              "      <td>0</td>\n",
              "      <td>0</td>\n",
              "      <td>0</td>\n",
              "      <td>0</td>\n",
              "      <td>0</td>\n",
              "      <td>0</td>\n",
              "      <td>1</td>\n",
              "      <td>0</td>\n",
              "      <td>0</td>\n",
              "      <td>0</td>\n",
              "      <td>0</td>\n",
              "      <td>0</td>\n",
              "      <td>1</td>\n",
              "      <td>0</td>\n",
              "      <td>...</td>\n",
              "      <td>0</td>\n",
              "      <td>0</td>\n",
              "      <td>0</td>\n",
              "      <td>0</td>\n",
              "      <td>0</td>\n",
              "      <td>0</td>\n",
              "      <td>0</td>\n",
              "      <td>1</td>\n",
              "      <td>0</td>\n",
              "      <td>0</td>\n",
              "      <td>0</td>\n",
              "      <td>0</td>\n",
              "      <td>0</td>\n",
              "      <td>0</td>\n",
              "      <td>0</td>\n",
              "      <td>0</td>\n",
              "      <td>0</td>\n",
              "      <td>0</td>\n",
              "      <td>0</td>\n",
              "      <td>0</td>\n",
              "      <td>0</td>\n",
              "      <td>0</td>\n",
              "      <td>0</td>\n",
              "      <td>0</td>\n",
              "      <td>1</td>\n",
              "      <td>0</td>\n",
              "      <td>1</td>\n",
              "      <td>0</td>\n",
              "      <td>0</td>\n",
              "      <td>0</td>\n",
              "    </tr>\n",
              "    <tr>\n",
              "      <th>2</th>\n",
              "      <td>85980</td>\n",
              "      <td>0</td>\n",
              "      <td>0</td>\n",
              "      <td>0</td>\n",
              "      <td>1</td>\n",
              "      <td>0</td>\n",
              "      <td>0</td>\n",
              "      <td>0</td>\n",
              "      <td>0</td>\n",
              "      <td>0</td>\n",
              "      <td>0</td>\n",
              "      <td>0</td>\n",
              "      <td>0</td>\n",
              "      <td>0</td>\n",
              "      <td>0</td>\n",
              "      <td>0</td>\n",
              "      <td>0</td>\n",
              "      <td>0</td>\n",
              "      <td>0</td>\n",
              "      <td>0</td>\n",
              "      <td>1</td>\n",
              "      <td>0</td>\n",
              "      <td>0</td>\n",
              "      <td>1</td>\n",
              "      <td>0</td>\n",
              "      <td>0</td>\n",
              "      <td>1</td>\n",
              "      <td>0</td>\n",
              "      <td>0</td>\n",
              "      <td>0</td>\n",
              "      <td>...</td>\n",
              "      <td>0</td>\n",
              "      <td>0</td>\n",
              "      <td>0</td>\n",
              "      <td>0</td>\n",
              "      <td>0</td>\n",
              "      <td>0</td>\n",
              "      <td>0</td>\n",
              "      <td>0</td>\n",
              "      <td>0</td>\n",
              "      <td>1</td>\n",
              "      <td>0</td>\n",
              "      <td>0</td>\n",
              "      <td>0</td>\n",
              "      <td>0</td>\n",
              "      <td>0</td>\n",
              "      <td>0</td>\n",
              "      <td>1</td>\n",
              "      <td>0</td>\n",
              "      <td>0</td>\n",
              "      <td>0</td>\n",
              "      <td>0</td>\n",
              "      <td>0</td>\n",
              "      <td>0</td>\n",
              "      <td>0</td>\n",
              "      <td>1</td>\n",
              "      <td>0</td>\n",
              "      <td>1</td>\n",
              "      <td>0</td>\n",
              "      <td>0</td>\n",
              "      <td>0</td>\n",
              "    </tr>\n",
              "    <tr>\n",
              "      <th>3</th>\n",
              "      <td>101023</td>\n",
              "      <td>1</td>\n",
              "      <td>0</td>\n",
              "      <td>0</td>\n",
              "      <td>0</td>\n",
              "      <td>0</td>\n",
              "      <td>0</td>\n",
              "      <td>0</td>\n",
              "      <td>0</td>\n",
              "      <td>0</td>\n",
              "      <td>0</td>\n",
              "      <td>0</td>\n",
              "      <td>0</td>\n",
              "      <td>0</td>\n",
              "      <td>0</td>\n",
              "      <td>0</td>\n",
              "      <td>0</td>\n",
              "      <td>0</td>\n",
              "      <td>0</td>\n",
              "      <td>0</td>\n",
              "      <td>1</td>\n",
              "      <td>0</td>\n",
              "      <td>0</td>\n",
              "      <td>1</td>\n",
              "      <td>0</td>\n",
              "      <td>0</td>\n",
              "      <td>0</td>\n",
              "      <td>1</td>\n",
              "      <td>0</td>\n",
              "      <td>0</td>\n",
              "      <td>...</td>\n",
              "      <td>0</td>\n",
              "      <td>0</td>\n",
              "      <td>0</td>\n",
              "      <td>0</td>\n",
              "      <td>0</td>\n",
              "      <td>0</td>\n",
              "      <td>0</td>\n",
              "      <td>1</td>\n",
              "      <td>1</td>\n",
              "      <td>0</td>\n",
              "      <td>0</td>\n",
              "      <td>0</td>\n",
              "      <td>0</td>\n",
              "      <td>1</td>\n",
              "      <td>0</td>\n",
              "      <td>0</td>\n",
              "      <td>0</td>\n",
              "      <td>0</td>\n",
              "      <td>0</td>\n",
              "      <td>0</td>\n",
              "      <td>0</td>\n",
              "      <td>0</td>\n",
              "      <td>0</td>\n",
              "      <td>0</td>\n",
              "      <td>1</td>\n",
              "      <td>0</td>\n",
              "      <td>0</td>\n",
              "      <td>0</td>\n",
              "      <td>0</td>\n",
              "      <td>1</td>\n",
              "    </tr>\n",
              "    <tr>\n",
              "      <th>4</th>\n",
              "      <td>14</td>\n",
              "      <td>0</td>\n",
              "      <td>0</td>\n",
              "      <td>0</td>\n",
              "      <td>0</td>\n",
              "      <td>0</td>\n",
              "      <td>0</td>\n",
              "      <td>0</td>\n",
              "      <td>0</td>\n",
              "      <td>1</td>\n",
              "      <td>0</td>\n",
              "      <td>0</td>\n",
              "      <td>0</td>\n",
              "      <td>0</td>\n",
              "      <td>0</td>\n",
              "      <td>0</td>\n",
              "      <td>0</td>\n",
              "      <td>1</td>\n",
              "      <td>0</td>\n",
              "      <td>0</td>\n",
              "      <td>0</td>\n",
              "      <td>0</td>\n",
              "      <td>1</td>\n",
              "      <td>0</td>\n",
              "      <td>0</td>\n",
              "      <td>0</td>\n",
              "      <td>0</td>\n",
              "      <td>0</td>\n",
              "      <td>1</td>\n",
              "      <td>0</td>\n",
              "      <td>...</td>\n",
              "      <td>0</td>\n",
              "      <td>0</td>\n",
              "      <td>0</td>\n",
              "      <td>0</td>\n",
              "      <td>0</td>\n",
              "      <td>1</td>\n",
              "      <td>0</td>\n",
              "      <td>0</td>\n",
              "      <td>0</td>\n",
              "      <td>0</td>\n",
              "      <td>0</td>\n",
              "      <td>0</td>\n",
              "      <td>0</td>\n",
              "      <td>0</td>\n",
              "      <td>0</td>\n",
              "      <td>0</td>\n",
              "      <td>0</td>\n",
              "      <td>0</td>\n",
              "      <td>0</td>\n",
              "      <td>0</td>\n",
              "      <td>0</td>\n",
              "      <td>0</td>\n",
              "      <td>0</td>\n",
              "      <td>0</td>\n",
              "      <td>1</td>\n",
              "      <td>0</td>\n",
              "      <td>1</td>\n",
              "      <td>0</td>\n",
              "      <td>0</td>\n",
              "      <td>0</td>\n",
              "    </tr>\n",
              "    <tr>\n",
              "      <th>...</th>\n",
              "      <td>...</td>\n",
              "      <td>...</td>\n",
              "      <td>...</td>\n",
              "      <td>...</td>\n",
              "      <td>...</td>\n",
              "      <td>...</td>\n",
              "      <td>...</td>\n",
              "      <td>...</td>\n",
              "      <td>...</td>\n",
              "      <td>...</td>\n",
              "      <td>...</td>\n",
              "      <td>...</td>\n",
              "      <td>...</td>\n",
              "      <td>...</td>\n",
              "      <td>...</td>\n",
              "      <td>...</td>\n",
              "      <td>...</td>\n",
              "      <td>...</td>\n",
              "      <td>...</td>\n",
              "      <td>...</td>\n",
              "      <td>...</td>\n",
              "      <td>...</td>\n",
              "      <td>...</td>\n",
              "      <td>...</td>\n",
              "      <td>...</td>\n",
              "      <td>...</td>\n",
              "      <td>...</td>\n",
              "      <td>...</td>\n",
              "      <td>...</td>\n",
              "      <td>...</td>\n",
              "      <td>...</td>\n",
              "      <td>...</td>\n",
              "      <td>...</td>\n",
              "      <td>...</td>\n",
              "      <td>...</td>\n",
              "      <td>...</td>\n",
              "      <td>...</td>\n",
              "      <td>...</td>\n",
              "      <td>...</td>\n",
              "      <td>...</td>\n",
              "      <td>...</td>\n",
              "      <td>...</td>\n",
              "      <td>...</td>\n",
              "      <td>...</td>\n",
              "      <td>...</td>\n",
              "      <td>...</td>\n",
              "      <td>...</td>\n",
              "      <td>...</td>\n",
              "      <td>...</td>\n",
              "      <td>...</td>\n",
              "      <td>...</td>\n",
              "      <td>...</td>\n",
              "      <td>...</td>\n",
              "      <td>...</td>\n",
              "      <td>...</td>\n",
              "      <td>...</td>\n",
              "      <td>...</td>\n",
              "      <td>...</td>\n",
              "      <td>...</td>\n",
              "      <td>...</td>\n",
              "      <td>...</td>\n",
              "    </tr>\n",
              "    <tr>\n",
              "      <th>5573</th>\n",
              "      <td>369</td>\n",
              "      <td>0</td>\n",
              "      <td>0</td>\n",
              "      <td>0</td>\n",
              "      <td>0</td>\n",
              "      <td>0</td>\n",
              "      <td>0</td>\n",
              "      <td>0</td>\n",
              "      <td>1</td>\n",
              "      <td>0</td>\n",
              "      <td>0</td>\n",
              "      <td>0</td>\n",
              "      <td>0</td>\n",
              "      <td>0</td>\n",
              "      <td>0</td>\n",
              "      <td>1</td>\n",
              "      <td>0</td>\n",
              "      <td>0</td>\n",
              "      <td>0</td>\n",
              "      <td>0</td>\n",
              "      <td>0</td>\n",
              "      <td>0</td>\n",
              "      <td>0</td>\n",
              "      <td>1</td>\n",
              "      <td>0</td>\n",
              "      <td>0</td>\n",
              "      <td>0</td>\n",
              "      <td>0</td>\n",
              "      <td>1</td>\n",
              "      <td>0</td>\n",
              "      <td>...</td>\n",
              "      <td>0</td>\n",
              "      <td>0</td>\n",
              "      <td>0</td>\n",
              "      <td>0</td>\n",
              "      <td>0</td>\n",
              "      <td>1</td>\n",
              "      <td>0</td>\n",
              "      <td>0</td>\n",
              "      <td>1</td>\n",
              "      <td>0</td>\n",
              "      <td>0</td>\n",
              "      <td>1</td>\n",
              "      <td>0</td>\n",
              "      <td>0</td>\n",
              "      <td>0</td>\n",
              "      <td>0</td>\n",
              "      <td>1</td>\n",
              "      <td>0</td>\n",
              "      <td>0</td>\n",
              "      <td>0</td>\n",
              "      <td>0</td>\n",
              "      <td>0</td>\n",
              "      <td>0</td>\n",
              "      <td>0</td>\n",
              "      <td>1</td>\n",
              "      <td>0</td>\n",
              "      <td>1</td>\n",
              "      <td>0</td>\n",
              "      <td>0</td>\n",
              "      <td>0</td>\n",
              "    </tr>\n",
              "    <tr>\n",
              "      <th>5574</th>\n",
              "      <td>37523</td>\n",
              "      <td>0</td>\n",
              "      <td>0</td>\n",
              "      <td>0</td>\n",
              "      <td>0</td>\n",
              "      <td>1</td>\n",
              "      <td>0</td>\n",
              "      <td>0</td>\n",
              "      <td>0</td>\n",
              "      <td>0</td>\n",
              "      <td>0</td>\n",
              "      <td>0</td>\n",
              "      <td>0</td>\n",
              "      <td>0</td>\n",
              "      <td>0</td>\n",
              "      <td>0</td>\n",
              "      <td>0</td>\n",
              "      <td>0</td>\n",
              "      <td>0</td>\n",
              "      <td>0</td>\n",
              "      <td>1</td>\n",
              "      <td>0</td>\n",
              "      <td>1</td>\n",
              "      <td>0</td>\n",
              "      <td>0</td>\n",
              "      <td>0</td>\n",
              "      <td>0</td>\n",
              "      <td>0</td>\n",
              "      <td>1</td>\n",
              "      <td>0</td>\n",
              "      <td>...</td>\n",
              "      <td>0</td>\n",
              "      <td>0</td>\n",
              "      <td>0</td>\n",
              "      <td>0</td>\n",
              "      <td>0</td>\n",
              "      <td>0</td>\n",
              "      <td>0</td>\n",
              "      <td>0</td>\n",
              "      <td>0</td>\n",
              "      <td>0</td>\n",
              "      <td>0</td>\n",
              "      <td>0</td>\n",
              "      <td>0</td>\n",
              "      <td>0</td>\n",
              "      <td>0</td>\n",
              "      <td>0</td>\n",
              "      <td>1</td>\n",
              "      <td>0</td>\n",
              "      <td>0</td>\n",
              "      <td>0</td>\n",
              "      <td>0</td>\n",
              "      <td>0</td>\n",
              "      <td>0</td>\n",
              "      <td>0</td>\n",
              "      <td>1</td>\n",
              "      <td>0</td>\n",
              "      <td>0</td>\n",
              "      <td>1</td>\n",
              "      <td>0</td>\n",
              "      <td>0</td>\n",
              "    </tr>\n",
              "    <tr>\n",
              "      <th>5575</th>\n",
              "      <td>54430</td>\n",
              "      <td>0</td>\n",
              "      <td>0</td>\n",
              "      <td>0</td>\n",
              "      <td>0</td>\n",
              "      <td>0</td>\n",
              "      <td>0</td>\n",
              "      <td>1</td>\n",
              "      <td>0</td>\n",
              "      <td>0</td>\n",
              "      <td>0</td>\n",
              "      <td>1</td>\n",
              "      <td>0</td>\n",
              "      <td>0</td>\n",
              "      <td>0</td>\n",
              "      <td>0</td>\n",
              "      <td>0</td>\n",
              "      <td>0</td>\n",
              "      <td>0</td>\n",
              "      <td>0</td>\n",
              "      <td>0</td>\n",
              "      <td>0</td>\n",
              "      <td>1</td>\n",
              "      <td>0</td>\n",
              "      <td>0</td>\n",
              "      <td>0</td>\n",
              "      <td>0</td>\n",
              "      <td>0</td>\n",
              "      <td>1</td>\n",
              "      <td>0</td>\n",
              "      <td>...</td>\n",
              "      <td>0</td>\n",
              "      <td>0</td>\n",
              "      <td>0</td>\n",
              "      <td>0</td>\n",
              "      <td>0</td>\n",
              "      <td>0</td>\n",
              "      <td>0</td>\n",
              "      <td>1</td>\n",
              "      <td>0</td>\n",
              "      <td>0</td>\n",
              "      <td>0</td>\n",
              "      <td>0</td>\n",
              "      <td>0</td>\n",
              "      <td>1</td>\n",
              "      <td>0</td>\n",
              "      <td>0</td>\n",
              "      <td>0</td>\n",
              "      <td>0</td>\n",
              "      <td>0</td>\n",
              "      <td>0</td>\n",
              "      <td>0</td>\n",
              "      <td>0</td>\n",
              "      <td>0</td>\n",
              "      <td>0</td>\n",
              "      <td>1</td>\n",
              "      <td>0</td>\n",
              "      <td>0</td>\n",
              "      <td>0</td>\n",
              "      <td>0</td>\n",
              "      <td>1</td>\n",
              "    </tr>\n",
              "    <tr>\n",
              "      <th>5576</th>\n",
              "      <td>10</td>\n",
              "      <td>0</td>\n",
              "      <td>0</td>\n",
              "      <td>0</td>\n",
              "      <td>0</td>\n",
              "      <td>0</td>\n",
              "      <td>0</td>\n",
              "      <td>0</td>\n",
              "      <td>0</td>\n",
              "      <td>1</td>\n",
              "      <td>0</td>\n",
              "      <td>0</td>\n",
              "      <td>0</td>\n",
              "      <td>0</td>\n",
              "      <td>0</td>\n",
              "      <td>0</td>\n",
              "      <td>0</td>\n",
              "      <td>0</td>\n",
              "      <td>0</td>\n",
              "      <td>0</td>\n",
              "      <td>1</td>\n",
              "      <td>0</td>\n",
              "      <td>1</td>\n",
              "      <td>0</td>\n",
              "      <td>0</td>\n",
              "      <td>0</td>\n",
              "      <td>0</td>\n",
              "      <td>0</td>\n",
              "      <td>1</td>\n",
              "      <td>0</td>\n",
              "      <td>...</td>\n",
              "      <td>0</td>\n",
              "      <td>0</td>\n",
              "      <td>0</td>\n",
              "      <td>0</td>\n",
              "      <td>0</td>\n",
              "      <td>0</td>\n",
              "      <td>0</td>\n",
              "      <td>1</td>\n",
              "      <td>0</td>\n",
              "      <td>1</td>\n",
              "      <td>0</td>\n",
              "      <td>0</td>\n",
              "      <td>0</td>\n",
              "      <td>0</td>\n",
              "      <td>0</td>\n",
              "      <td>0</td>\n",
              "      <td>1</td>\n",
              "      <td>0</td>\n",
              "      <td>0</td>\n",
              "      <td>0</td>\n",
              "      <td>0</td>\n",
              "      <td>0</td>\n",
              "      <td>0</td>\n",
              "      <td>1</td>\n",
              "      <td>0</td>\n",
              "      <td>0</td>\n",
              "      <td>0</td>\n",
              "      <td>1</td>\n",
              "      <td>0</td>\n",
              "      <td>0</td>\n",
              "    </tr>\n",
              "    <tr>\n",
              "      <th>5577</th>\n",
              "      <td>88</td>\n",
              "      <td>0</td>\n",
              "      <td>0</td>\n",
              "      <td>0</td>\n",
              "      <td>1</td>\n",
              "      <td>0</td>\n",
              "      <td>0</td>\n",
              "      <td>0</td>\n",
              "      <td>0</td>\n",
              "      <td>0</td>\n",
              "      <td>0</td>\n",
              "      <td>0</td>\n",
              "      <td>0</td>\n",
              "      <td>0</td>\n",
              "      <td>0</td>\n",
              "      <td>0</td>\n",
              "      <td>0</td>\n",
              "      <td>0</td>\n",
              "      <td>0</td>\n",
              "      <td>0</td>\n",
              "      <td>0</td>\n",
              "      <td>1</td>\n",
              "      <td>1</td>\n",
              "      <td>0</td>\n",
              "      <td>0</td>\n",
              "      <td>0</td>\n",
              "      <td>1</td>\n",
              "      <td>0</td>\n",
              "      <td>0</td>\n",
              "      <td>0</td>\n",
              "      <td>...</td>\n",
              "      <td>0</td>\n",
              "      <td>0</td>\n",
              "      <td>0</td>\n",
              "      <td>0</td>\n",
              "      <td>0</td>\n",
              "      <td>0</td>\n",
              "      <td>0</td>\n",
              "      <td>0</td>\n",
              "      <td>0</td>\n",
              "      <td>0</td>\n",
              "      <td>0</td>\n",
              "      <td>0</td>\n",
              "      <td>0</td>\n",
              "      <td>0</td>\n",
              "      <td>0</td>\n",
              "      <td>0</td>\n",
              "      <td>1</td>\n",
              "      <td>0</td>\n",
              "      <td>0</td>\n",
              "      <td>0</td>\n",
              "      <td>0</td>\n",
              "      <td>0</td>\n",
              "      <td>0</td>\n",
              "      <td>0</td>\n",
              "      <td>1</td>\n",
              "      <td>0</td>\n",
              "      <td>0</td>\n",
              "      <td>1</td>\n",
              "      <td>0</td>\n",
              "      <td>0</td>\n",
              "    </tr>\n",
              "  </tbody>\n",
              "</table>\n",
              "<p>5578 rows × 178 columns</p>\n",
              "</div>"
            ],
            "text/plain": [
              "      shelf_amt  <= $44  $44-51  $51-58  $58-69  $69-77  $77-88  $88-101  \\\n",
              "0           278       0       0       0       0       0       0        0   \n",
              "1        328929       0       0       0       0       0       0        0   \n",
              "2         85980       0       0       0       1       0       0        0   \n",
              "3        101023       1       0       0       0       0       0        0   \n",
              "4            14       0       0       0       0       0       0        0   \n",
              "...         ...     ...     ...     ...     ...     ...     ...      ...   \n",
              "5573        369       0       0       0       0       0       0        0   \n",
              "5574      37523       0       0       0       0       1       0        0   \n",
              "5575      54430       0       0       0       0       0       0        1   \n",
              "5576         10       0       0       0       0       0       0        0   \n",
              "5577         88       0       0       0       1       0       0        0   \n",
              "\n",
              "      $101-119  $119-143   >= $143  CANADA  GERMANY  INDIA  ITALY  JAPAN  \\\n",
              "0            0         1         0       0        1      0      0      0   \n",
              "1            0         1         0       0        1      0      0      0   \n",
              "2            0         0         0       0        0      0      0      0   \n",
              "3            0         0         0       0        0      0      0      0   \n",
              "4            0         1         0       0        0      0      0      0   \n",
              "...        ...       ...       ...     ...      ...    ...    ...    ...   \n",
              "5573         1         0         0       0        0      0      0      1   \n",
              "5574         0         0         0       0        0      0      0      0   \n",
              "5575         0         0         0       1        0      0      0      0   \n",
              "5576         0         1         0       0        0      0      0      0   \n",
              "5577         0         0         0       0        0      0      0      0   \n",
              "\n",
              "      KOREA  MEXICO  RUSSIA  SPAIN  UNITED KINGDOM  UNITED STATES  ADULT  \\\n",
              "0         0       0       0      0               0              0      1   \n",
              "1         0       0       0      0               0              0      1   \n",
              "2         0       0       0      0               1              0      0   \n",
              "3         0       0       0      0               1              0      0   \n",
              "4         0       1       0      0               0              0      1   \n",
              "...     ...     ...     ...    ...             ...            ...    ...   \n",
              "5573      0       0       0      0               0              0      0   \n",
              "5574      0       0       0      0               1              0      1   \n",
              "5575      0       0       0      0               0              0      1   \n",
              "5576      0       0       0      0               1              0      1   \n",
              "5577      0       0       0      0               0              1      1   \n",
              "\n",
              "      GRADE SCHOOL  PRE SCHOOL  TODDLER  capsule  liquid  powder  Calcium  \\\n",
              "0                0           0        0        1       0       0        0   \n",
              "1                0           0        0        0       0       1        0   \n",
              "2                1           0        0        1       0       0        0   \n",
              "3                1           0        0        0       1       0        0   \n",
              "4                0           0        0        0       0       1        0   \n",
              "...            ...         ...      ...      ...     ...     ...      ...   \n",
              "5573             1           0        0        0       0       1        0   \n",
              "5574             0           0        0        0       0       1        0   \n",
              "5575             0           0        0        0       0       1        0   \n",
              "5576             0           0        0        0       0       1        0   \n",
              "5577             0           0        0        1       0       0        0   \n",
              "\n",
              "      ...  Z762  Z778  Z966  PATENT 1030  PATENT 2461  PATENT 2876  \\\n",
              "0     ...     0     0     0            0            0            0   \n",
              "1     ...     0     0     0            0            0            0   \n",
              "2     ...     0     0     0            0            0            0   \n",
              "3     ...     0     0     0            0            0            0   \n",
              "4     ...     0     0     0            0            0            1   \n",
              "...   ...   ...   ...   ...          ...          ...          ...   \n",
              "5573  ...     0     0     0            0            0            1   \n",
              "5574  ...     0     0     0            0            0            0   \n",
              "5575  ...     0     0     0            0            0            0   \n",
              "5576  ...     0     0     0            0            0            0   \n",
              "5577  ...     0     0     0            0            0            0   \n",
              "\n",
              "      PATENT 3279  PATENT 4090  PATENT 4533  PATENT 456  PATENT 4566  \\\n",
              "0               0            0            0           0            0   \n",
              "1               0            1            0           0            0   \n",
              "2               0            0            0           1            0   \n",
              "3               0            1            1           0            0   \n",
              "4               0            0            0           0            0   \n",
              "...           ...          ...          ...         ...          ...   \n",
              "5573            0            0            1           0            0   \n",
              "5574            0            0            0           0            0   \n",
              "5575            0            1            0           0            0   \n",
              "5576            0            1            0           1            0   \n",
              "5577            0            0            0           0            0   \n",
              "\n",
              "      PATENT 5281  PATENT 5514  PATENT 5726  PATENT 6776  PATENT 7883  \\\n",
              "0               0            0            0            0            0   \n",
              "1               0            0            0            0            0   \n",
              "2               0            0            0            0            0   \n",
              "3               0            0            1            0            0   \n",
              "4               0            0            0            0            0   \n",
              "...           ...          ...          ...          ...          ...   \n",
              "5573            1            0            0            0            0   \n",
              "5574            0            0            0            0            0   \n",
              "5575            0            0            1            0            0   \n",
              "5576            0            0            0            0            0   \n",
              "5577            0            0            0            0            0   \n",
              "\n",
              "      PATENT 8830  PATENT 8895  PATENT 8924  PATENT 8998  PATENT 9404  \\\n",
              "0               1            0            0            0            0   \n",
              "1               0            0            0            0            0   \n",
              "2               1            0            0            0            0   \n",
              "3               0            0            0            0            0   \n",
              "4               0            0            0            0            0   \n",
              "...           ...          ...          ...          ...          ...   \n",
              "5573            1            0            0            0            0   \n",
              "5574            1            0            0            0            0   \n",
              "5575            0            0            0            0            0   \n",
              "5576            1            0            0            0            0   \n",
              "5577            1            0            0            0            0   \n",
              "\n",
              "      PATENT 9545  PATENT 9568  2014  2015  2016  FA  SP  SU  WI  \n",
              "0               0            0     0     1     0   1   0   0   0  \n",
              "1               0            0     0     1     0   1   0   0   0  \n",
              "2               0            0     0     1     0   1   0   0   0  \n",
              "3               0            0     0     1     0   0   0   0   1  \n",
              "4               0            0     0     1     0   1   0   0   0  \n",
              "...           ...          ...   ...   ...   ...  ..  ..  ..  ..  \n",
              "5573            0            0     0     1     0   1   0   0   0  \n",
              "5574            0            0     0     1     0   0   1   0   0  \n",
              "5575            0            0     0     1     0   0   0   0   1  \n",
              "5576            0            0     1     0     0   0   1   0   0  \n",
              "5577            0            0     0     1     0   0   1   0   0  \n",
              "\n",
              "[5578 rows x 178 columns]"
            ]
          },
          "metadata": {
            "tags": []
          },
          "execution_count": 46
        }
      ]
    },
    {
      "cell_type": "code",
      "metadata": {
        "id": "m7DASm5bHaFQ",
        "colab_type": "code",
        "colab": {}
      },
      "source": [
        "# Robust scaling\n",
        "\n",
        "from sklearn.preprocessing import RobustScaler\n",
        "robust_scaler = RobustScaler()\n",
        "X_train_robust = robust_scaler.fit_transform(X_train)\n",
        "X_test_robust = robust_scaler.transform(X_test)"
      ],
      "execution_count": 0,
      "outputs": []
    },
    {
      "cell_type": "markdown",
      "metadata": {
        "id": "KAk0MxTYG5Uw",
        "colab_type": "text"
      },
      "source": [
        "### Model Training and Evaluation"
      ]
    },
    {
      "cell_type": "markdown",
      "metadata": {
        "id": "buszDbtIKGl3",
        "colab_type": "text"
      },
      "source": [
        "#### Use Lasso Linear Regression for quick baseline"
      ]
    },
    {
      "cell_type": "code",
      "metadata": {
        "id": "90IWSbV-KA-I",
        "colab_type": "code",
        "colab": {
          "base_uri": "https://localhost:8080/",
          "height": 312
        },
        "outputId": "09734306-4a0b-4f10-b7cb-b52b99b0a4fb"
      },
      "source": [
        "# Lasso model\n",
        "from sklearn.linear_model import Lasso\n",
        "\n",
        "alphas = np.logspace (-0.3, 1.7, num=50)\n",
        "scores = np.empty_like(alphas)\n",
        "opt_a = float('-inf')\n",
        "max_score = float('-inf')\n",
        "for i, a in enumerate(alphas):\n",
        "    lasso = Lasso()\n",
        "    lasso.set_params(alpha = a)\n",
        "    lasso.fit(X_train_robust, y_train)\n",
        "    scores[i] = lasso.score(X_test_robust, y_test)\n",
        "    if scores[i] > max_score: # lasso.score is r2 \n",
        "        max_score = scores[i]\n",
        "        opt_a = a\n",
        "        lasso_save = lasso\n",
        "plt.plot(alphas, scores, color = 'b', linestyle = 'dashed', marker = 'o', markerfacecolor = 'blue', markersize = 6)\n",
        "plt.xlabel('alpha')\n",
        "plt.ylabel('score')\n",
        "plt.grid(True)\n",
        "plt.title('score vs. alpha')\n",
        "plt.show()\n",
        "print ('The optimaized alpha and score of Lasso linear is: ', opt_a, max_score)"
      ],
      "execution_count": 48,
      "outputs": [
        {
          "output_type": "display_data",
          "data": {
            "image/png": "[encoded data removed]",
            "text/plain": [
              "<Figure size 432x288 with 1 Axes>"
            ]
          },
          "metadata": {
            "tags": []
          }
        },
        {
          "output_type": "stream",
          "text": [
            "The optimaized alpha and score of Lasso linear is:  0.8808418881415119 0.6559019208850561\n"
          ],
          "name": "stdout"
        }
      ]
    },
    {
      "cell_type": "code",
      "metadata": {
        "id": "sXScYCAsMGvO",
        "colab_type": "code",
        "colab": {}
      },
      "source": [
        "# use optimal alpha to re-train the model\n",
        "lasso_f = Lasso(alpha = opt_a)\n",
        "lasso_f.fit(X_train_robust, y_train)\n",
        "lasso_pred = lasso_f.predict(X_test_robust)"
      ],
      "execution_count": 0,
      "outputs": []
    },
    {
      "cell_type": "markdown",
      "metadata": {
        "id": "TG5jn3Q_PnmB",
        "colab_type": "text"
      },
      "source": [
        "For evaluation, we will add up all actual sales_amt and compare with all predicted_amt"
      ]
    },
    {
      "cell_type": "code",
      "metadata": {
        "id": "rhTJoaXSN6TD",
        "colab_type": "code",
        "colab": {}
      },
      "source": [
        "# compare the prediction with actual sales. test has actual sales_amt.\n",
        "test_compare = test.copy(deep = True)\n",
        "test_compare['pred'] = np.round(lasso_pred) #predict sales_amt should be rounded\n",
        "test_compare['pred'] = test_compare['pred'].clip(lower=0) #clip limits the values within a given range. lower = 0 to limit values to 0 if nagative\n",
        "\n",
        "# aggregate sales, predicted sales by same sku, quarter\n",
        "# note: our previous combined data was aggregate not only by sku, quarter but also by location for training our model\n",
        "# but when we evaluate, we want to have aggrgated sales_amt only by quarter\n",
        "function_2 = {'sales_amt': 'sum', 'pred': 'sum'}\n",
        "test_agg = test_compare.groupby(['sku','quarter'], as_index = False).agg(function_2)"
      ],
      "execution_count": 0,
      "outputs": []
    },
    {
      "cell_type": "markdown",
      "metadata": {
        "id": "3-ODPvhsc87u",
        "colab_type": "text"
      },
      "source": [
        "Because the actual sales_amt has a wide range, we favor MAE, MAPE, MAD ratio over MSE amd RMSE. We will also use R2 score."
      ]
    },
    {
      "cell_type": "code",
      "metadata": {
        "id": "B0MeDVcbUTVY",
        "colab_type": "code",
        "colab": {}
      },
      "source": [
        "# define MAPE and MAD_ratio, and evalution result\n",
        "from sklearn.metrics import mean_absolute_error\n",
        "from sklearn.metrics import mean_squared_error, r2_score\n",
        "from math import sqrt\n",
        "\n",
        "def mean_absolute_percentage_error(y_true, y_pred): \n",
        "    y_true, y_pred = np.array(y_true), np.array(y_pred)\n",
        "    return np.mean(np.abs((y_true - y_pred)/(y_true+1)))*100\n",
        "    # there will be problem if y_true is 0, so we just make it +1 \n",
        "\n",
        "def mean_absolute_deviation_ratio(y_true, y_pred):\n",
        "    return y_pred.mad()/(y_true.mad()+0.1)\n",
        "\n",
        "def evaluate(result_agg):\n",
        "    MAPE = mean_absolute_percentage_error(result_agg['sales_amt'],result_agg['pred'])\n",
        "    print ('MAPE of prediction in SP2016 is {}'.format(MAPE))  #MAPE\n",
        "    MAE = mean_absolute_error(result_agg['sales_amt'], result_agg['pred'])\n",
        "    print ('MAE of prediction in SP2016 is \\t {}'.format(MAE))   # MAE\n",
        "    MAD_ratio = mean_absolute_deviation_ratio(result_agg['sales_amt'],result_agg['pred'])\n",
        "    print ('MAD ratio of prediction in SP2016 is {}'.format(MAD_ratio)) # MAD ratio\n",
        "    R2 = r2_score(result_agg['sales_amt'],result_agg['pred'])\n",
        "    print ('R squared of prediction in SP2016 is {}'.format(R2)) #R2\n",
        "    MSE = mean_squared_error(result_agg['sales_amt'],result_agg['pred'])\n",
        "    print ('MSE of prediction in SP2016 is {}'.format(MSE)) #MSE\n",
        "    RMSE = sqrt(mean_squared_error(result_agg['sales_amt'],result_agg['pred'])) \n",
        "    print ('RMSE of prediction in SP2016 is {}'.format(RMSE))#RMSE\n",
        "\n",
        "    \n",
        "def plot_diff(result_agg, title1, title2):    # plot the pred vs. actual\n",
        "    plt.plot(result_agg['pred'],'o', color='red', alpha=0.3)\n",
        "    plt.plot(result_agg['sales_amt'],'*', color='blue', alpha=0.5)\n",
        "    plt.title(title1)\n",
        "    plt.legend(loc='upper right')\n",
        "    plt.show()\n",
        "\n",
        "    plt.plot((result_agg['pred'] - result_agg['sales_amt'])\n",
        "             ,'v', color='green')\n",
        "    plt.title(title2)\n",
        "    plt.show()"
      ],
      "execution_count": 0,
      "outputs": []
    },
    {
      "cell_type": "code",
      "metadata": {
        "id": "hET3krQbVd0A",
        "colab_type": "code",
        "colab": {
          "base_uri": "https://localhost:8080/",
          "height": 119
        },
        "outputId": "5a48d829-a4f5-45af-d7df-92b550198776"
      },
      "source": [
        "evaluate(test_agg)"
      ],
      "execution_count": 53,
      "outputs": [
        {
          "output_type": "stream",
          "text": [
            "MAPE of prediction in SP2016 is 1188.4732652275613\n",
            "MAE of prediction in SP2016 is \t 9840.169278996866\n",
            "MAD ratio of prediction in SP2016 is 1.017132367390558\n",
            "R squared of prediction in SP2016 is 0.7487123790185883\n",
            "MSE of prediction in SP2016 is 604664238.200627\n",
            "RMSE of prediction in SP2016 is 24589.921476097214\n"
          ],
          "name": "stdout"
        }
      ]
    },
    {
      "cell_type": "code",
      "metadata": {
        "id": "4SDgeZ09WIKf",
        "colab_type": "code",
        "colab": {
          "base_uri": "https://localhost:8080/",
          "height": 562
        },
        "outputId": "5e0c8a99-2166-4443-a5b1-c1db22181862"
      },
      "source": [
        "plot_diff(test_agg, 'Pred vs. Actual in Lasso', 'Difference between pred and acutal')"
      ],
      "execution_count": 54,
      "outputs": [
        {
          "output_type": "stream",
          "text": [
            "No handles with labels found to put in legend.\n"
          ],
          "name": "stderr"
        },
        {
          "output_type": "display_data",
          "data": {
            "image/png": "[encoded data removed]",
            "text/plain": [
              "<Figure size 432x288 with 1 Axes>"
            ]
          },
          "metadata": {
            "tags": []
          }
        },
        {
          "output_type": "display_data",
          "data": {
            "image/png": "[encoded data removed]",
            "text/plain": [
              "<Figure size 432x288 with 1 Axes>"
            ]
          },
          "metadata": {
            "tags": []
          }
        }
      ]
    },
    {
      "cell_type": "markdown",
      "metadata": {
        "id": "THuYdZh0ZNnE",
        "colab_type": "text"
      },
      "source": [
        "#### Non-linear Model - Random Forest"
      ]
    },
    {
      "cell_type": "code",
      "metadata": {
        "id": "yCe-y0YDZQ5r",
        "colab_type": "code",
        "colab": {}
      },
      "source": [
        "from sklearn.ensemble import RandomForestRegressor\n",
        "from sklearn.model_selection import GridSearchCV\n",
        "from sklearn.model_selection import cross_val_score\n",
        "\n",
        "param_grid = {\n",
        "                 'n_estimators': [5,10,15,20,30,40,50],\n",
        "                 'max_depth': [30,40,45,50,55,60,70]\n",
        "             }\n",
        "\n",
        "rf = RandomForestRegressor(random_state = 2019, verbose = 1, n_jobs = 6)\n",
        "grid_rf = GridSearchCV(rf, param_grid, cv = 3)\n",
        "grid_rf.fit(X_train_robust, y_train)"
      ],
      "execution_count": 0,
      "outputs": []
    },
    {
      "cell_type": "code",
      "metadata": {
        "id": "QTY2l-CtaQFf",
        "colab_type": "code",
        "colab": {
          "base_uri": "https://localhost:8080/",
          "height": 279
        },
        "outputId": "0dc2216b-35ab-4995-cb92-f607e761a014"
      },
      "source": [
        "# plot the effect of different number of trees and maximum tree-depth druing cross validation \n",
        "scores = grid_rf.cv_results_['mean_test_score']\n",
        "\n",
        "n_estimators = [5,10,15,20,30,40,50]\n",
        "m_depth = [30,40,45,50,55,60,70]\n",
        "scores = np.array(scores).reshape(len(m_depth), len(n_estimators))\n",
        "fig = plt.figure()\n",
        "ax = plt.subplot(111)\n",
        "for idx, depth in enumerate(m_depth):\n",
        "    plt.plot(n_estimators, scores[idx], '-o', label = 'Max depth' + str(depth))\n",
        "    \n",
        "ax.legend(loc='center left', bbox_to_anchor=(1, 0.5))\n",
        "plt.xlabel('n estimator')\n",
        "plt.ylabel('Mean score')\n",
        "plt.grid(True)\n",
        "plt.show()"
      ],
      "execution_count": 56,
      "outputs": [
        {
          "output_type": "display_data",
          "data": {
            "image/png": "[encoded data removed]",
            "text/plain": [
              "<Figure size 432x288 with 1 Axes>"
            ]
          },
          "metadata": {
            "tags": []
          }
        }
      ]
    },
    {
      "cell_type": "code",
      "metadata": {
        "id": "awN7QnWVeBt3",
        "colab_type": "code",
        "colab": {
          "base_uri": "https://localhost:8080/",
          "height": 51
        },
        "outputId": "654aabdf-e3eb-42ed-9ef3-f7364dfb4c1e"
      },
      "source": [
        "print (grid_rf.best_params_)\n",
        "print (grid_rf.best_score_)"
      ],
      "execution_count": 57,
      "outputs": [
        {
          "output_type": "stream",
          "text": [
            "{'max_depth': 55, 'n_estimators': 50}\n",
            "0.8651492300079401\n"
          ],
          "name": "stdout"
        }
      ]
    },
    {
      "cell_type": "code",
      "metadata": {
        "id": "w0Gx02Qsfz9r",
        "colab_type": "code",
        "colab": {
          "base_uri": "https://localhost:8080/",
          "height": 119
        },
        "outputId": "8b52ced9-204d-4995-f82c-13e3b1d22d6b"
      },
      "source": [
        "# re-train the model with full training set\n",
        "rf_best = grid_rf.best_estimator_\n",
        "rf_best.fit(X_train_robust, y_train)\n",
        "rf_pred = rf_best.predict(X_test_robust)"
      ],
      "execution_count": 58,
      "outputs": [
        {
          "output_type": "stream",
          "text": [
            "[Parallel(n_jobs=6)]: Using backend ThreadingBackend with 6 concurrent workers.\n",
            "[Parallel(n_jobs=6)]: Done  38 tasks      | elapsed:    2.8s\n",
            "[Parallel(n_jobs=6)]: Done  50 out of  50 | elapsed:    3.4s finished\n",
            "[Parallel(n_jobs=6)]: Using backend ThreadingBackend with 6 concurrent workers.\n",
            "[Parallel(n_jobs=6)]: Done  38 tasks      | elapsed:    0.0s\n",
            "[Parallel(n_jobs=6)]: Done  50 out of  50 | elapsed:    0.0s finished\n"
          ],
          "name": "stderr"
        }
      ]
    },
    {
      "cell_type": "code",
      "metadata": {
        "id": "cuLvU9e1gwvL",
        "colab_type": "code",
        "colab": {}
      },
      "source": [
        "# compare the prediction with actual sales. ex_test has actual sales_amt.\n",
        "test_compare2 = test.copy(deep = True)\n",
        "test_compare2['pred'] = np.round(rf_pred) #predict sales_amt should be rounded\n",
        "test_compare2['pred'] = test_compare2['pred'].clip(lower=0) #clip limits the values within a given range. lower = 0 to limit values to 0 if nagative\n",
        "\n",
        "# aggregate sales, predicted sales by same sku, quarter\n",
        "# note: our previous combined data was aggregate not only by sku, quarter but also by location for training our model\n",
        "# but when we evaluate, we want to have aggrgated sales_amt only by quarter\n",
        "function_3 = {'sales_amt': 'sum', 'pred': 'sum'}\n",
        "test_agg2 = test_compare2.groupby(['sku','quarter'], as_index = False).agg(function_3)"
      ],
      "execution_count": 0,
      "outputs": []
    },
    {
      "cell_type": "code",
      "metadata": {
        "id": "bPAIjD1Yg-Se",
        "colab_type": "code",
        "colab": {
          "base_uri": "https://localhost:8080/",
          "height": 119
        },
        "outputId": "cd6febac-0d61-479c-905f-d9a478384895"
      },
      "source": [
        "evaluate(test_agg2)"
      ],
      "execution_count": 60,
      "outputs": [
        {
          "output_type": "stream",
          "text": [
            "MAPE of prediction in SP2016 is 89.66175414661079\n",
            "MAE of prediction in SP2016 is \t 7893.219435736677\n",
            "MAD ratio of prediction in SP2016 is 0.9407823183726394\n",
            "R squared of prediction in SP2016 is 0.7812940220090975\n",
            "MSE of prediction in SP2016 is 526264218.8871473\n",
            "RMSE of prediction in SP2016 is 22940.44940464653\n"
          ],
          "name": "stdout"
        }
      ]
    },
    {
      "cell_type": "code",
      "metadata": {
        "id": "J8V8qQ2YhPY6",
        "colab_type": "code",
        "colab": {
          "base_uri": "https://localhost:8080/",
          "height": 562
        },
        "outputId": "9a8c7d9b-9d76-4a9f-c91f-8f48ce453cba"
      },
      "source": [
        "plot_diff(test_agg2, 'Pred vs. Actual in Random Forest', 'Difference between pred and acutal')"
      ],
      "execution_count": 61,
      "outputs": [
        {
          "output_type": "stream",
          "text": [
            "No handles with labels found to put in legend.\n"
          ],
          "name": "stderr"
        },
        {
          "output_type": "display_data",
          "data": {
            "image/png": "[encoded data removed]",
            "text/plain": [
              "<Figure size 432x288 with 1 Axes>"
            ]
          },
          "metadata": {
            "tags": []
          }
        },
        {
          "output_type": "display_data",
          "data": {
            "image/png": "[encoded data removed]",
            "text/plain": [
              "<Figure size 432x288 with 1 Axes>"
            ]
          },
          "metadata": {
            "tags": []
          }
        }
      ]
    },
    {
      "cell_type": "markdown",
      "metadata": {
        "id": "AcSfPILUhZVU",
        "colab_type": "text"
      },
      "source": [
        "As the Random Forest model has better performance than the Lasso Linear Regression model, we will use the Ramdom Forest as our final forecasting model."
      ]
    },
    {
      "cell_type": "code",
      "metadata": {
        "id": "_CwGBIoVhpUv",
        "colab_type": "code",
        "colab": {
          "base_uri": "https://localhost:8080/",
          "height": 187
        },
        "outputId": "e903887f-cec1-4cbb-990e-e8e306fa80bb"
      },
      "source": [
        "# re-train with training + test data (rf so no scaling needed)\n",
        "new_ex_combine_1 = new_ex_combine.copy(deep = True)\n",
        "new_ex_combine_1 = new_ex_combine_1.sample(frac = 1).reset_index(drop = True)\n",
        "new_ex_combine_1_y = new_ex_combine_1['sales_amt']\n",
        "new_ex_combine_1_X = new_ex_combine_1.drop(['sku', 'quarter', 'sales_amt'], axis = 1)\n",
        "\n",
        "rf_best.fit(new_ex_combine_1_X, new_ex_combine_1_y)\n",
        "\n",
        "# save model\n",
        "# joblib.dump(rf_best, 'rf_best_co.sav', compress=3)"
      ],
      "execution_count": 62,
      "outputs": [
        {
          "output_type": "stream",
          "text": [
            "[Parallel(n_jobs=6)]: Using backend ThreadingBackend with 6 concurrent workers.\n",
            "[Parallel(n_jobs=6)]: Done  38 tasks      | elapsed:    3.8s\n",
            "[Parallel(n_jobs=6)]: Done  50 out of  50 | elapsed:    4.6s finished\n"
          ],
          "name": "stderr"
        },
        {
          "output_type": "execute_result",
          "data": {
            "text/plain": [
              "RandomForestRegressor(bootstrap=True, ccp_alpha=0.0, criterion='mse',\n",
              "                      max_depth=55, max_features='auto', max_leaf_nodes=None,\n",
              "                      max_samples=None, min_impurity_decrease=0.0,\n",
              "                      min_impurity_split=None, min_samples_leaf=1,\n",
              "                      min_samples_split=2, min_weight_fraction_leaf=0.0,\n",
              "                      n_estimators=50, n_jobs=6, oob_score=False,\n",
              "                      random_state=2019, verbose=1, warm_start=False)"
            ]
          },
          "metadata": {
            "tags": []
          },
          "execution_count": 62
        }
      ]
    },
    {
      "cell_type": "markdown",
      "metadata": {
        "id": "9Z3Mbw4NZ1yD",
        "colab_type": "text"
      },
      "source": [
        "## Model for 87 New Products"
      ]
    },
    {
      "cell_type": "markdown",
      "metadata": {
        "id": "GRC7MaM0EfST",
        "colab_type": "text"
      },
      "source": [
        "It is a cold start for the 87 new products because they have no historical sales record. However, we can find existing products with sales data that are similar to the new products. And we can use those exsiting products to build a separate model for predicting the sales_amt of new products. I will use cosine similarity to get the most similar products."
      ]
    },
    {
      "cell_type": "code",
      "metadata": {
        "id": "JmiDZcknK1ao",
        "colab_type": "code",
        "colab": {}
      },
      "source": [
        "# Align existing products' col names and new products' col names.\n",
        "# new_ex_combine is the dataframe of existing products after feature preprocessing. It has sku, qrt, sales_amt, shelf_amt, and all categorical dummies.\n",
        "\n",
        "similarity_prod_dummy = new_ex_combine.copy(deep=True)"
      ],
      "execution_count": 0,
      "outputs": []
    },
    {
      "cell_type": "code",
      "metadata": {
        "id": "8a8i1sFFOWmy",
        "colab_type": "code",
        "colab": {}
      },
      "source": [
        "# new products don't have quarter, season, year, location, shelf_amt and sales_amt, we drop these columns\n",
        "similarity_prod_dummy = similarity_prod_dummy.drop(['quarter', 'sales_amt', 'shelf_amt', 'CANADA', 'GERMANY', 'INDIA', 'ITALY', 'JAPAN', 'KOREA', 'MEXICO',\n",
        "       'RUSSIA', 'SPAIN', 'UNITED KINGDOM', 'UNITED STATES', '2014', '2015', '2016', 'FA', 'SP', 'SU', 'WI'], axis = 1)"
      ],
      "execution_count": 0,
      "outputs": []
    },
    {
      "cell_type": "code",
      "metadata": {
        "id": "P9uhECpYMLCP",
        "colab_type": "code",
        "colab": {}
      },
      "source": [
        "# get unique rows for cosine similarity compare\n",
        "# the original data was by sku, location and quarter but we dropped location and quarter. After deduplication we should have 320 unique existing skus\n",
        "similarity_prod_dummy_dedup = similarity_prod_dummy.drop_duplicates()\n",
        "\n",
        "# for later ID mapping\n",
        "prod_ID = similarity_prod_dummy_dedup['sku']\n",
        "\n",
        "# to operate cosine similarity\n",
        "s_list = similarity_prod_dummy_dedup.drop(['sku'], axis = 1).values.tolist()"
      ],
      "execution_count": 0,
      "outputs": []
    },
    {
      "cell_type": "code",
      "metadata": {
        "id": "uMughIn8QCoM",
        "colab_type": "code",
        "colab": {
          "base_uri": "https://localhost:8080/",
          "height": 68
        },
        "outputId": "3ea975db-76db-4d28-a342-03e31b34258b"
      },
      "source": [
        "print (\"Num of rows before deduplication: \" + str(similarity_prod_dummy.shape[0])) # row count\n",
        "print (\"Num of rows after deduplication: \" + str(similarity_prod_dummy_dedup.shape[0])) # row count\n",
        "print (\"Num of cols after deduplication: \" + str(similarity_prod_dummy_dedup.shape[1]))"
      ],
      "execution_count": 69,
      "outputs": [
        {
          "output_type": "stream",
          "text": [
            "Num of rows before deduplication: 6942\n",
            "Num of rows after deduplication: 320\n",
            "Num of cols after deduplication: 160\n"
          ],
          "name": "stdout"
        }
      ]
    },
    {
      "cell_type": "code",
      "metadata": {
        "id": "gujs3oyude6t",
        "colab_type": "code",
        "colab": {
          "base_uri": "https://localhost:8080/",
          "height": 51
        },
        "outputId": "df5807fc-c719-44bb-a127-f78188923f90"
      },
      "source": [
        "print(similarity_prod_dummy_dedup.shape)\n",
        "print(new_nw.shape)"
      ],
      "execution_count": 70,
      "outputs": [
        {
          "output_type": "stream",
          "text": [
            "(320, 160)\n",
            "(87, 94)\n"
          ],
          "name": "stdout"
        }
      ]
    },
    {
      "cell_type": "markdown",
      "metadata": {
        "id": "f5vkTUDYuXP6",
        "colab_type": "text"
      },
      "source": [
        "The number of columns differ between the product and new data because of the different number of subcategories. We will make the number of columns the same for both data. \n",
        "\n",
        "- For any columns in new data but not in product, we drop those from new data\n",
        "- For any columns in prodict data but not in new, we add columns with 0 values to new data\n",
        "\n",
        "This will generate exact columns needed for the model we built"
      ]
    },
    {
      "cell_type": "code",
      "metadata": {
        "id": "SyfXvbbWtgnO",
        "colab_type": "code",
        "colab": {}
      },
      "source": [
        "diff = list((set(new_nw.columns) - set(similarity_prod_dummy_dedup.columns)))\n",
        "if len(diff)!=0:\n",
        "    new_nw.drop(diff, axis = 1, inplace = True)"
      ],
      "execution_count": 0,
      "outputs": []
    },
    {
      "cell_type": "code",
      "metadata": {
        "id": "NK4eHdBxr4OY",
        "colab_type": "code",
        "colab": {}
      },
      "source": [
        "missing_cols = set(similarity_prod_dummy.columns) - set(new_nw.columns)\n",
        "# For missing cols, add new column in test set with default value equal to 0\n",
        "for m in missing_cols:\n",
        "    new_nw[m] = 0"
      ],
      "execution_count": 0,
      "outputs": []
    },
    {
      "cell_type": "code",
      "metadata": {
        "id": "canLEl0VFB8T",
        "colab_type": "code",
        "colab": {}
      },
      "source": [
        "new_nw = new_nw[similarity_prod_dummy_dedup.columns] #make the order of columns the same"
      ],
      "execution_count": 0,
      "outputs": []
    },
    {
      "cell_type": "code",
      "metadata": {
        "id": "TD3gbQj2tqOI",
        "colab_type": "code",
        "colab": {
          "base_uri": "https://localhost:8080/",
          "height": 51
        },
        "outputId": "34af0e66-d37c-4dea-cb0b-0347125e7f60"
      },
      "source": [
        "print(similarity_prod_dummy_dedup.shape)\n",
        "print(new_nw.shape)"
      ],
      "execution_count": 74,
      "outputs": [
        {
          "output_type": "stream",
          "text": [
            "(320, 160)\n",
            "(87, 160)\n"
          ],
          "name": "stdout"
        }
      ]
    },
    {
      "cell_type": "code",
      "metadata": {
        "id": "NukvO8HhvuW6",
        "colab_type": "code",
        "colab": {}
      },
      "source": [
        "new_prod_ID = new_nw['sku']\n",
        "\n",
        "s_new = new_nw.drop(['sku'], axis=1)\n",
        "s_new_list = s_new.values.tolist()"
      ],
      "execution_count": 0,
      "outputs": []
    },
    {
      "cell_type": "markdown",
      "metadata": {
        "id": "tw9PVXSWh8M2",
        "colab_type": "text"
      },
      "source": [
        "prod_ID: a list of sku ids for existing 320 products\\\n",
        "new_prod_ID: a list of sku ids for new 87 products\n",
        "\n",
        "s_list: a list of existing products data points\\\n",
        "s_new_list: a list of new products data points"
      ]
    },
    {
      "cell_type": "code",
      "metadata": {
        "id": "QET-xL4Yi7iK",
        "colab_type": "code",
        "colab": {}
      },
      "source": [
        "from collections import defaultdict\n",
        "from sklearn.metrics.pairwise import cosine_similarity\n",
        "\n",
        "#total 87 lists in d_sim, each list has 320 cosine values\n",
        "\n",
        "d_sim = defaultdict(list)\n",
        "\n",
        "for i in range(len(new_prod_ID)):\n",
        "    for j in range(len(prod_ID)):\n",
        "        s_new_list[i] = np.array(s_new_list[i]).reshape(1,-1)\n",
        "        s_list[j] = np.array(s_list[j]).reshape(1,-1)\n",
        "        tmp_sim = float(cosine_similarity(s_new_list[i],s_list[j]))\n",
        "        d_sim[i].append(tmp_sim)"
      ],
      "execution_count": 0,
      "outputs": []
    },
    {
      "cell_type": "code",
      "metadata": {
        "id": "hUdeA-MilpK6",
        "colab_type": "code",
        "colab": {
          "base_uri": "https://localhost:8080/",
          "height": 34
        },
        "outputId": "ed7f6521-f313-45e4-e814-aa2dff71f6cf"
      },
      "source": [
        "len(d_sim)"
      ],
      "execution_count": 77,
      "outputs": [
        {
          "output_type": "execute_result",
          "data": {
            "text/plain": [
              "87"
            ]
          },
          "metadata": {
            "tags": []
          },
          "execution_count": 77
        }
      ]
    },
    {
      "cell_type": "code",
      "metadata": {
        "id": "ZdhydkOnrUxu",
        "colab_type": "code",
        "colab": {}
      },
      "source": [
        "d_sim\n",
        "\n",
        "#86: [0.36514837167011077,\n",
        "#              0.50709255283711,\n",
        "#              0.18257418583505539,\n",
        "#              0.18257418583505539,\n",
        "#              0.3162277660168379,\n",
        "#              0.36514837167011077,...]"
      ],
      "execution_count": 0,
      "outputs": []
    },
    {
      "cell_type": "code",
      "metadata": {
        "id": "PHjihBpClrur",
        "colab_type": "code",
        "colab": {}
      },
      "source": [
        "# get the top 3 most similar products list with each new product\n",
        "# because there can be duplications, we save the products into a set.\n",
        "high_sim_prod_index = set()\n",
        "for ID in range(87):\n",
        "    tmp_3 = sorted(range(320), key=lambda i: d_sim[ID][i])[-3:]\n",
        "    for p in tmp_3:\n",
        "        high_sim_prod_index.add(p)\n",
        "        \n",
        "high_sim_prod_ID = prod_ID.iloc[list(high_sim_prod_index)]\n",
        "# high_sim_prod_ID.tolist()"
      ],
      "execution_count": 0,
      "outputs": []
    },
    {
      "cell_type": "code",
      "metadata": {
        "id": "nmzPSdRgqLMi",
        "colab_type": "code",
        "colab": {
          "base_uri": "https://localhost:8080/",
          "height": 221
        },
        "outputId": "1c60914e-b9d8-4751-c484-02ef14cd7e50"
      },
      "source": [
        "#chosen existing product ids\n",
        "high_sim_prod_ID"
      ],
      "execution_count": 79,
      "outputs": [
        {
          "output_type": "execute_result",
          "data": {
            "text/plain": [
              "5         37\n",
              "144      266\n",
              "187      285\n",
              "212      324\n",
              "318      573\n",
              "        ... \n",
              "6789    9826\n",
              "6903    9890\n",
              "6913    9908\n",
              "6919    9929\n",
              "6923    9956\n",
              "Name: sku, Length: 169, dtype: int64"
            ]
          },
          "metadata": {
            "tags": []
          },
          "execution_count": 79
        }
      ]
    },
    {
      "cell_type": "code",
      "metadata": {
        "id": "mr4S0bCqtfco",
        "colab_type": "code",
        "colab": {
          "base_uri": "https://localhost:8080/",
          "height": 34
        },
        "outputId": "58ecb5f1-93d3-45b4-9151-f3c04f621d7a"
      },
      "source": [
        "similar_new_1 = ex_combine_1[ex_combine_1['sku'].isin(high_sim_prod_ID)]\n",
        "print (similar_new_1.shape)"
      ],
      "execution_count": 80,
      "outputs": [
        {
          "output_type": "stream",
          "text": [
            "(3846, 13)\n"
          ],
          "name": "stdout"
        }
      ]
    },
    {
      "cell_type": "markdown",
      "metadata": {
        "id": "hCYqQFQS1xfa",
        "colab_type": "text"
      },
      "source": [
        "Feature Preprocessing"
      ]
    },
    {
      "cell_type": "code",
      "metadata": {
        "id": "x9Vsyd3StyhN",
        "colab_type": "code",
        "colab": {}
      },
      "source": [
        "#sales_price\n",
        "bin_price4 = [13, 44, 51, 58, 69, 77, 88, 101, 119, 143, 306]\n",
        "price_label_name4 = ['<= $44', '$44-51', '$51-58', '$58-69', '$69-77', '$77-88', '$88-101', '$101-119', '$119-143', ' >= $143']\n",
        "bin4 = pd.cut(similar_new_1['sales_price'], bin_price4, labels = price_label_name4) #the value of each row turned from certain price to one of the 10 buckets\n",
        "d_price4 = pd.get_dummies(bin4)\n",
        "\n",
        "# simple categorical features\n",
        "d_location4 = pd.get_dummies(similar_new_1['location'])\n",
        "d_age4 = pd.get_dummies(similar_new_1['age'])\n",
        "d_formation4 = pd.get_dummies(similar_new_1['formation'])\n",
        "d_family4 = pd.get_dummies(similar_new_1['family'])\n",
        "d_brand4 = pd.get_dummies(similar_new_1['brand'])\n",
        "d_year4 = pd.get_dummies(similar_new_1['year'])\n",
        "d_season4 = pd.get_dummies(similar_new_1['season'])\n",
        "\n",
        "#specs\n",
        "d_spec4 = similar_new_1['specs'].str.get_dummies(sep='|')\n",
        "temp4 = similar_new_1.drop(['sales_price', 'location', 'age', 'formation', 'family', 'brand', 'specs', 'season', 'year'], axis =1)\n",
        "similar_new_2 = pd.concat([temp4, d_price4, d_location4, d_age4, d_formation4, d_family4, d_brand4, d_spec4, d_year4, d_season4], axis = 1)"
      ],
      "execution_count": 0,
      "outputs": []
    },
    {
      "cell_type": "markdown",
      "metadata": {
        "id": "_98mxIUw11R9",
        "colab_type": "text"
      },
      "source": [
        "Split Train/Test data"
      ]
    },
    {
      "cell_type": "code",
      "metadata": {
        "id": "TKo0lvf2xpQi",
        "colab_type": "code",
        "colab": {
          "base_uri": "https://localhost:8080/",
          "height": 34
        },
        "outputId": "2211a561-96e5-49d9-970b-13f2d5ebfc74"
      },
      "source": [
        "print ('SP2016 data points consists of', similar_new_2['quarter'][similar_new_2['quarter'] == 'SP2016'].count() / similar_new_2.shape[0] * 100, '% of overall data points')"
      ],
      "execution_count": 82,
      "outputs": [
        {
          "output_type": "stream",
          "text": [
            "SP2016 data points consists of 19.292771710868433 % of overall data points\n"
          ],
          "name": "stdout"
        }
      ]
    },
    {
      "cell_type": "code",
      "metadata": {
        "id": "UGCunSy6xjFR",
        "colab_type": "code",
        "colab": {}
      },
      "source": [
        "# select ~20% latest data for test purpose\n",
        "similar_new_2_test = similar_new_2[similar_new_2['quarter'] =='SP2016']\n",
        "similar_new_2_train = similar_new_2[similar_new_2['quarter'] !='SP2016']\n",
        "\n",
        "# prepare training and test data\n",
        "similar_new_2_train = similar_new_2_train.sample(frac = 1).reset_index(drop = True)\n",
        "similar_new_2_train_X = similar_new_2_train.drop(['sku','quarter','sales_amt'],axis = 1)\n",
        "similar_new_2_train_y = similar_new_2_train['sales_amt'] \n",
        "\n",
        "similar_new_2_test_X = similar_new_2_test.drop(['sku','quarter','sales_amt'],axis = 1)\n",
        "similar_new_2_test_y = similar_new_2_test['sales_amt'] "
      ],
      "execution_count": 0,
      "outputs": []
    },
    {
      "cell_type": "code",
      "metadata": {
        "id": "9cFdgr8kHtQg",
        "colab_type": "code",
        "colab": {
          "base_uri": "https://localhost:8080/",
          "height": 177
        },
        "outputId": "f39b7ab3-9471-426e-a44b-a9df1c4001a2"
      },
      "source": [
        "similar_new_2_test_X.head(2)"
      ],
      "execution_count": 84,
      "outputs": [
        {
          "output_type": "execute_result",
          "data": {
            "text/html": [
              "<div>\n",
              "<style scoped>\n",
              "    .dataframe tbody tr th:only-of-type {\n",
              "        vertical-align: middle;\n",
              "    }\n",
              "\n",
              "    .dataframe tbody tr th {\n",
              "        vertical-align: top;\n",
              "    }\n",
              "\n",
              "    .dataframe thead th {\n",
              "        text-align: right;\n",
              "    }\n",
              "</style>\n",
              "<table border=\"1\" class=\"dataframe\">\n",
              "  <thead>\n",
              "    <tr style=\"text-align: right;\">\n",
              "      <th></th>\n",
              "      <th>shelf_amt</th>\n",
              "      <th>&lt;= $44</th>\n",
              "      <th>$44-51</th>\n",
              "      <th>$51-58</th>\n",
              "      <th>$58-69</th>\n",
              "      <th>$69-77</th>\n",
              "      <th>$77-88</th>\n",
              "      <th>$88-101</th>\n",
              "      <th>$101-119</th>\n",
              "      <th>$119-143</th>\n",
              "      <th>&gt;= $143</th>\n",
              "      <th>CANADA</th>\n",
              "      <th>GERMANY</th>\n",
              "      <th>INDIA</th>\n",
              "      <th>ITALY</th>\n",
              "      <th>JAPAN</th>\n",
              "      <th>KOREA</th>\n",
              "      <th>MEXICO</th>\n",
              "      <th>RUSSIA</th>\n",
              "      <th>SPAIN</th>\n",
              "      <th>UNITED KINGDOM</th>\n",
              "      <th>UNITED STATES</th>\n",
              "      <th>ADULT</th>\n",
              "      <th>GRADE SCHOOL</th>\n",
              "      <th>PRE SCHOOL</th>\n",
              "      <th>TODDLER</th>\n",
              "      <th>capsule</th>\n",
              "      <th>liquid</th>\n",
              "      <th>powder</th>\n",
              "      <th>Calcium</th>\n",
              "      <th>...</th>\n",
              "      <th>Y585</th>\n",
              "      <th>Y83</th>\n",
              "      <th>Z362</th>\n",
              "      <th>Z762</th>\n",
              "      <th>Z778</th>\n",
              "      <th>Z966</th>\n",
              "      <th>PATENT 1030</th>\n",
              "      <th>PATENT 2461</th>\n",
              "      <th>PATENT 2876</th>\n",
              "      <th>PATENT 3279</th>\n",
              "      <th>PATENT 4090</th>\n",
              "      <th>PATENT 4533</th>\n",
              "      <th>PATENT 456</th>\n",
              "      <th>PATENT 4566</th>\n",
              "      <th>PATENT 5281</th>\n",
              "      <th>PATENT 5514</th>\n",
              "      <th>PATENT 5726</th>\n",
              "      <th>PATENT 6776</th>\n",
              "      <th>PATENT 7883</th>\n",
              "      <th>PATENT 8830</th>\n",
              "      <th>PATENT 8895</th>\n",
              "      <th>PATENT 8998</th>\n",
              "      <th>PATENT 9568</th>\n",
              "      <th>2014</th>\n",
              "      <th>2015</th>\n",
              "      <th>2016</th>\n",
              "      <th>FA</th>\n",
              "      <th>SP</th>\n",
              "      <th>SU</th>\n",
              "      <th>WI</th>\n",
              "    </tr>\n",
              "  </thead>\n",
              "  <tbody>\n",
              "    <tr>\n",
              "      <th>6</th>\n",
              "      <td>7673</td>\n",
              "      <td>0</td>\n",
              "      <td>0</td>\n",
              "      <td>0</td>\n",
              "      <td>0</td>\n",
              "      <td>0</td>\n",
              "      <td>0</td>\n",
              "      <td>1</td>\n",
              "      <td>0</td>\n",
              "      <td>0</td>\n",
              "      <td>0</td>\n",
              "      <td>1</td>\n",
              "      <td>0</td>\n",
              "      <td>0</td>\n",
              "      <td>0</td>\n",
              "      <td>0</td>\n",
              "      <td>0</td>\n",
              "      <td>0</td>\n",
              "      <td>0</td>\n",
              "      <td>0</td>\n",
              "      <td>0</td>\n",
              "      <td>0</td>\n",
              "      <td>1</td>\n",
              "      <td>0</td>\n",
              "      <td>0</td>\n",
              "      <td>0</td>\n",
              "      <td>0</td>\n",
              "      <td>0</td>\n",
              "      <td>1</td>\n",
              "      <td>0</td>\n",
              "      <td>...</td>\n",
              "      <td>0</td>\n",
              "      <td>0</td>\n",
              "      <td>0</td>\n",
              "      <td>0</td>\n",
              "      <td>0</td>\n",
              "      <td>0</td>\n",
              "      <td>0</td>\n",
              "      <td>0</td>\n",
              "      <td>0</td>\n",
              "      <td>0</td>\n",
              "      <td>1</td>\n",
              "      <td>0</td>\n",
              "      <td>0</td>\n",
              "      <td>0</td>\n",
              "      <td>0</td>\n",
              "      <td>0</td>\n",
              "      <td>1</td>\n",
              "      <td>0</td>\n",
              "      <td>0</td>\n",
              "      <td>0</td>\n",
              "      <td>0</td>\n",
              "      <td>0</td>\n",
              "      <td>0</td>\n",
              "      <td>0</td>\n",
              "      <td>0</td>\n",
              "      <td>1</td>\n",
              "      <td>0</td>\n",
              "      <td>1</td>\n",
              "      <td>0</td>\n",
              "      <td>0</td>\n",
              "    </tr>\n",
              "    <tr>\n",
              "      <th>11</th>\n",
              "      <td>2728</td>\n",
              "      <td>0</td>\n",
              "      <td>0</td>\n",
              "      <td>0</td>\n",
              "      <td>0</td>\n",
              "      <td>0</td>\n",
              "      <td>0</td>\n",
              "      <td>1</td>\n",
              "      <td>0</td>\n",
              "      <td>0</td>\n",
              "      <td>0</td>\n",
              "      <td>0</td>\n",
              "      <td>1</td>\n",
              "      <td>0</td>\n",
              "      <td>0</td>\n",
              "      <td>0</td>\n",
              "      <td>0</td>\n",
              "      <td>0</td>\n",
              "      <td>0</td>\n",
              "      <td>0</td>\n",
              "      <td>0</td>\n",
              "      <td>0</td>\n",
              "      <td>1</td>\n",
              "      <td>0</td>\n",
              "      <td>0</td>\n",
              "      <td>0</td>\n",
              "      <td>0</td>\n",
              "      <td>0</td>\n",
              "      <td>1</td>\n",
              "      <td>0</td>\n",
              "      <td>...</td>\n",
              "      <td>0</td>\n",
              "      <td>0</td>\n",
              "      <td>0</td>\n",
              "      <td>0</td>\n",
              "      <td>0</td>\n",
              "      <td>0</td>\n",
              "      <td>0</td>\n",
              "      <td>0</td>\n",
              "      <td>0</td>\n",
              "      <td>0</td>\n",
              "      <td>1</td>\n",
              "      <td>0</td>\n",
              "      <td>0</td>\n",
              "      <td>0</td>\n",
              "      <td>0</td>\n",
              "      <td>0</td>\n",
              "      <td>1</td>\n",
              "      <td>0</td>\n",
              "      <td>0</td>\n",
              "      <td>0</td>\n",
              "      <td>0</td>\n",
              "      <td>0</td>\n",
              "      <td>0</td>\n",
              "      <td>0</td>\n",
              "      <td>0</td>\n",
              "      <td>1</td>\n",
              "      <td>0</td>\n",
              "      <td>1</td>\n",
              "      <td>0</td>\n",
              "      <td>0</td>\n",
              "    </tr>\n",
              "  </tbody>\n",
              "</table>\n",
              "<p>2 rows × 133 columns</p>\n",
              "</div>"
            ],
            "text/plain": [
              "    shelf_amt  <= $44  $44-51  $51-58  $58-69  $69-77  $77-88  $88-101  \\\n",
              "6        7673       0       0       0       0       0       0        1   \n",
              "11       2728       0       0       0       0       0       0        1   \n",
              "\n",
              "    $101-119  $119-143   >= $143  CANADA  GERMANY  INDIA  ITALY  JAPAN  KOREA  \\\n",
              "6          0         0         0       1        0      0      0      0      0   \n",
              "11         0         0         0       0        1      0      0      0      0   \n",
              "\n",
              "    MEXICO  RUSSIA  SPAIN  UNITED KINGDOM  UNITED STATES  ADULT  GRADE SCHOOL  \\\n",
              "6        0       0      0               0              0      1             0   \n",
              "11       0       0      0               0              0      1             0   \n",
              "\n",
              "    PRE SCHOOL  TODDLER  capsule  liquid  powder  Calcium  ...  Y585  Y83  \\\n",
              "6            0        0        0       0       1        0  ...     0    0   \n",
              "11           0        0        0       0       1        0  ...     0    0   \n",
              "\n",
              "    Z362  Z762  Z778  Z966  PATENT 1030  PATENT 2461  PATENT 2876  \\\n",
              "6      0     0     0     0            0            0            0   \n",
              "11     0     0     0     0            0            0            0   \n",
              "\n",
              "    PATENT 3279  PATENT 4090  PATENT 4533  PATENT 456  PATENT 4566  \\\n",
              "6             0            1            0           0            0   \n",
              "11            0            1            0           0            0   \n",
              "\n",
              "    PATENT 5281  PATENT 5514  PATENT 5726  PATENT 6776  PATENT 7883  \\\n",
              "6             0            0            1            0            0   \n",
              "11            0            0            1            0            0   \n",
              "\n",
              "    PATENT 8830  PATENT 8895  PATENT 8998  PATENT 9568  2014  2015  2016  FA  \\\n",
              "6             0            0            0            0     0     0     1   0   \n",
              "11            0            0            0            0     0     0     1   0   \n",
              "\n",
              "    SP  SU  WI  \n",
              "6    1   0   0  \n",
              "11   1   0   0  \n",
              "\n",
              "[2 rows x 133 columns]"
            ]
          },
          "metadata": {
            "tags": []
          },
          "execution_count": 84
        }
      ]
    },
    {
      "cell_type": "markdown",
      "metadata": {
        "id": "7qkshOLc13vs",
        "colab_type": "text"
      },
      "source": [
        "Train Random Forest Model"
      ]
    },
    {
      "cell_type": "code",
      "metadata": {
        "id": "T95kNqdvyHaQ",
        "colab_type": "code",
        "colab": {}
      },
      "source": [
        "grid_2 = {'n_estimators': [15,20,30,40,50,60,70,80],\n",
        "          'max_depth': [5,10,20,30,40,50]}\n",
        "\n",
        "rf_2 = RandomForestRegressor(random_state = 2019, verbose = 1, n_jobs = 6)\n",
        "grid_rf_2 = GridSearchCV(rf_2, grid_2, cv = 3)\n",
        "grid_rf_2.fit(similar_new_2_train_X, similar_new_2_train_y)"
      ],
      "execution_count": 0,
      "outputs": []
    },
    {
      "cell_type": "code",
      "metadata": {
        "id": "B-PQEDl-zG5N",
        "colab_type": "code",
        "colab": {
          "base_uri": "https://localhost:8080/",
          "height": 279
        },
        "outputId": "be47bd9e-c0ba-4ce6-b0f9-845810ccb658"
      },
      "source": [
        "scores2 = grid_rf_2.cv_results_['mean_test_score']\n",
        "\n",
        "n_estimators = [15,20,30,40,50,60,70,80]\n",
        "m_depth = [5,10,20,30,40,50]\n",
        "scores2 = np.array(scores2).reshape(len(m_depth), len(n_estimators))\n",
        "\n",
        "fig = plt.figure()\n",
        "ax = plt.subplot(111)\n",
        "for idx, depth in enumerate(m_depth):\n",
        "    plt.plot(n_estimators, scores2[idx], '-o', label = 'Max depth' + str(depth))\n",
        "    \n",
        "ax.legend(loc='center left', bbox_to_anchor=(1, 0.5))\n",
        "plt.xlabel('n estimator')\n",
        "plt.ylabel('Mean score')\n",
        "plt.grid(True)\n",
        "plt.show()"
      ],
      "execution_count": 89,
      "outputs": [
        {
          "output_type": "display_data",
          "data": {
            "image/png": "[encoded data removed]",
            "text/plain": [
              "<Figure size 432x288 with 1 Axes>"
            ]
          },
          "metadata": {
            "tags": []
          }
        }
      ]
    },
    {
      "cell_type": "code",
      "metadata": {
        "id": "LnxqjdAc0YFv",
        "colab_type": "code",
        "colab": {
          "base_uri": "https://localhost:8080/",
          "height": 51
        },
        "outputId": "2f7fe651-6fbb-4063-b570-de45ef082f58"
      },
      "source": [
        "print (grid_rf.best_params_)\n",
        "print (grid_rf.best_score_)"
      ],
      "execution_count": 90,
      "outputs": [
        {
          "output_type": "stream",
          "text": [
            "{'max_depth': 55, 'n_estimators': 50}\n",
            "0.8651492300079401\n"
          ],
          "name": "stdout"
        }
      ]
    },
    {
      "cell_type": "code",
      "metadata": {
        "id": "3ToNeAs90tHg",
        "colab_type": "code",
        "colab": {
          "base_uri": "https://localhost:8080/",
          "height": 85
        },
        "outputId": "4ac933e8-3e30-4504-fa01-3956c85f8c63"
      },
      "source": [
        "# re-train the model with full training set\n",
        "rf_best_new = grid_rf_2.best_estimator_\n",
        "rf_best_new.fit(similar_new_2_train_X, similar_new_2_train_y)\n",
        "rf_best_new_pred = rf_best_new.predict(similar_new_2_test_X)\n",
        "# save model\n",
        "# joblib.dump(rf_best_new, 'rf_best_new.sav', compress=3)"
      ],
      "execution_count": 91,
      "outputs": [
        {
          "output_type": "stream",
          "text": [
            "[Parallel(n_jobs=6)]: Using backend ThreadingBackend with 6 concurrent workers.\n",
            "[Parallel(n_jobs=6)]: Done  20 out of  20 | elapsed:    0.5s finished\n",
            "[Parallel(n_jobs=6)]: Using backend ThreadingBackend with 6 concurrent workers.\n",
            "[Parallel(n_jobs=6)]: Done  20 out of  20 | elapsed:    0.0s finished\n"
          ],
          "name": "stderr"
        }
      ]
    },
    {
      "cell_type": "code",
      "metadata": {
        "id": "ovxj4S4t02VW",
        "colab_type": "code",
        "colab": {}
      },
      "source": [
        "# compare the aggreated prediction with actual sales\n",
        "new_test_rf = similar_new_2_test.copy(deep=True)\n",
        "new_test_rf['pred'] = np.round(rf_best_new_pred)\n",
        "new_test_rf['pred'] = new_test_rf['pred'].clip(lower=0)\n",
        "\n",
        "function_4 = {'sales_amt':'sum', 'pred':'sum'}\n",
        "new_test_rf_agg = new_test_rf.groupby(['sku','quarter'], as_index = False).agg(function_4)"
      ],
      "execution_count": 0,
      "outputs": []
    },
    {
      "cell_type": "code",
      "metadata": {
        "id": "pkMBYbip1fCM",
        "colab_type": "code",
        "colab": {
          "base_uri": "https://localhost:8080/",
          "height": 119
        },
        "outputId": "4fbe1f8a-b9c7-41e8-f14e-a24f09364bd1"
      },
      "source": [
        "evaluate(new_test_rf_agg)"
      ],
      "execution_count": 93,
      "outputs": [
        {
          "output_type": "stream",
          "text": [
            "MAPE of prediction in SP2016 is 86.65345036105504\n",
            "MAE of prediction in SP2016 is \t 10839.035714285714\n",
            "MAD ratio of prediction in SP2016 is 1.0316126881874812\n",
            "R squared of prediction in SP2016 is 0.7305859300728306\n",
            "MSE of prediction in SP2016 is 849822492.8095238\n",
            "RMSE of prediction in SP2016 is 29151.71509207518\n"
          ],
          "name": "stdout"
        }
      ]
    },
    {
      "cell_type": "code",
      "metadata": {
        "id": "KZMUw2681i25",
        "colab_type": "code",
        "colab": {
          "base_uri": "https://localhost:8080/",
          "height": 562
        },
        "outputId": "3cded338-3817-4f0d-b03a-f0b77a1d5d89"
      },
      "source": [
        "plot_diff(new_test_rf_agg, 'Pred vs. Actual in RF_new', 'Difference between pred and acutal')"
      ],
      "execution_count": 94,
      "outputs": [
        {
          "output_type": "stream",
          "text": [
            "No handles with labels found to put in legend.\n"
          ],
          "name": "stderr"
        },
        {
          "output_type": "display_data",
          "data": {
            "image/png": "[encoded data removed]",
            "text/plain": [
              "<Figure size 432x288 with 1 Axes>"
            ]
          },
          "metadata": {
            "tags": []
          }
        },
        {
          "output_type": "display_data",
          "data": {
            "image/png": "[encoded data removed]",
            "text/plain": [
              "<Figure size 432x288 with 1 Axes>"
            ]
          },
          "metadata": {
            "tags": []
          }
        }
      ]
    },
    {
      "cell_type": "markdown",
      "metadata": {
        "id": "rTRV-TH41mKx",
        "colab_type": "text"
      },
      "source": [
        "# Part 4: Prediction"
      ]
    },
    {
      "cell_type": "markdown",
      "metadata": {
        "id": "OrluDnU3ADEj",
        "colab_type": "text"
      },
      "source": [
        "### 320 existing product prediction"
      ]
    },
    {
      "cell_type": "markdown",
      "metadata": {
        "id": "b8-5aRcHf0yT",
        "colab_type": "text"
      },
      "source": [
        "The model for the 320 existing products take in total 178 features, including shelf_amt and the dummies interval of categorical features.\n",
        "\n",
        "However, we lack the shelf_amt and the exact dummies (e.g. locations in which the products will be sold at) for SU2016.\n",
        "\n",
        "Therefore we need to modify the independent variables for SU2016 existing products to align with what the model takes in as parameters before we can use the rf_best model to predict sales_amt."
      ]
    },
    {
      "cell_type": "code",
      "metadata": {
        "id": "kILqPqADC3SE",
        "colab_type": "code",
        "colab": {}
      },
      "source": [
        "predict_X = new_ex_combine.drop(['quarter','sales_amt'], axis=1)"
      ],
      "execution_count": 0,
      "outputs": []
    },
    {
      "cell_type": "code",
      "metadata": {
        "id": "Br5XwO8nDATa",
        "colab_type": "code",
        "colab": {}
      },
      "source": [
        "#for the information the prediction data doesn't have, fill with 0 to keep training and test data (i.e. prediction data) the same shape and columns\n",
        "for i in ['shelf_amt', 'CANADA', 'GERMANY', 'INDIA', 'ITALY', 'JAPAN', 'KOREA', 'MEXICO',\n",
        "       'RUSSIA', 'SPAIN', 'UNITED KINGDOM', 'UNITED STATES', '2014', '2015', '2016', 'FA', 'SP', 'SU', 'WI']:\n",
        "    predict_X[i] = 0\n",
        "\n",
        "#specify that SUMMER 2016 is what we are interested in    \n",
        "predict_X['SU'] = 1\n",
        "predict_X['2016'] = 1"
      ],
      "execution_count": 0,
      "outputs": []
    },
    {
      "cell_type": "code",
      "metadata": {
        "id": "u5j1QAfW5cR6",
        "colab_type": "code",
        "colab": {}
      },
      "source": [
        "# we assume that every sku is sold at all 11 locations\n",
        "appended_data = []\n",
        "for i in ['CANADA', 'GERMANY', 'INDIA', 'ITALY', 'JAPAN', 'KOREA', 'MEXICO', 'RUSSIA', 'SPAIN', 'UNITED KINGDOM', 'UNITED STATES']:\n",
        "          tmp = predict_X.copy(deep = True)\n",
        "          tmp[i] = 1\n",
        "          appended_data.append(tmp)"
      ],
      "execution_count": 0,
      "outputs": []
    },
    {
      "cell_type": "code",
      "metadata": {
        "id": "jTx-qOks-n2T",
        "colab_type": "code",
        "colab": {}
      },
      "source": [
        "appended_data = pd.concat(appended_data)"
      ],
      "execution_count": 0,
      "outputs": []
    },
    {
      "cell_type": "code",
      "metadata": {
        "id": "PUy9N0_o-wOG",
        "colab_type": "code",
        "colab": {
          "base_uri": "https://localhost:8080/",
          "height": 456
        },
        "outputId": "244b3600-980a-4cfe-c813-534fef489f1a"
      },
      "source": [
        "appended_data"
      ],
      "execution_count": 103,
      "outputs": [
        {
          "output_type": "execute_result",
          "data": {
            "text/html": [
              "<div>\n",
              "<style scoped>\n",
              "    .dataframe tbody tr th:only-of-type {\n",
              "        vertical-align: middle;\n",
              "    }\n",
              "\n",
              "    .dataframe tbody tr th {\n",
              "        vertical-align: top;\n",
              "    }\n",
              "\n",
              "    .dataframe thead th {\n",
              "        text-align: right;\n",
              "    }\n",
              "</style>\n",
              "<table border=\"1\" class=\"dataframe\">\n",
              "  <thead>\n",
              "    <tr style=\"text-align: right;\">\n",
              "      <th></th>\n",
              "      <th>sku</th>\n",
              "      <th>shelf_amt</th>\n",
              "      <th>&lt;= $44</th>\n",
              "      <th>$44-51</th>\n",
              "      <th>$51-58</th>\n",
              "      <th>$58-69</th>\n",
              "      <th>$69-77</th>\n",
              "      <th>$77-88</th>\n",
              "      <th>$88-101</th>\n",
              "      <th>$101-119</th>\n",
              "      <th>$119-143</th>\n",
              "      <th>&gt;= $143</th>\n",
              "      <th>CANADA</th>\n",
              "      <th>GERMANY</th>\n",
              "      <th>INDIA</th>\n",
              "      <th>ITALY</th>\n",
              "      <th>JAPAN</th>\n",
              "      <th>KOREA</th>\n",
              "      <th>MEXICO</th>\n",
              "      <th>RUSSIA</th>\n",
              "      <th>SPAIN</th>\n",
              "      <th>UNITED KINGDOM</th>\n",
              "      <th>UNITED STATES</th>\n",
              "      <th>ADULT</th>\n",
              "      <th>GRADE SCHOOL</th>\n",
              "      <th>PRE SCHOOL</th>\n",
              "      <th>TODDLER</th>\n",
              "      <th>capsule</th>\n",
              "      <th>liquid</th>\n",
              "      <th>powder</th>\n",
              "      <th>...</th>\n",
              "      <th>Z762</th>\n",
              "      <th>Z778</th>\n",
              "      <th>Z966</th>\n",
              "      <th>PATENT 1030</th>\n",
              "      <th>PATENT 2461</th>\n",
              "      <th>PATENT 2876</th>\n",
              "      <th>PATENT 3279</th>\n",
              "      <th>PATENT 4090</th>\n",
              "      <th>PATENT 4533</th>\n",
              "      <th>PATENT 456</th>\n",
              "      <th>PATENT 4566</th>\n",
              "      <th>PATENT 5281</th>\n",
              "      <th>PATENT 5514</th>\n",
              "      <th>PATENT 5726</th>\n",
              "      <th>PATENT 6776</th>\n",
              "      <th>PATENT 7883</th>\n",
              "      <th>PATENT 8830</th>\n",
              "      <th>PATENT 8895</th>\n",
              "      <th>PATENT 8924</th>\n",
              "      <th>PATENT 8998</th>\n",
              "      <th>PATENT 9404</th>\n",
              "      <th>PATENT 9545</th>\n",
              "      <th>PATENT 9568</th>\n",
              "      <th>2014</th>\n",
              "      <th>2015</th>\n",
              "      <th>2016</th>\n",
              "      <th>FA</th>\n",
              "      <th>SP</th>\n",
              "      <th>SU</th>\n",
              "      <th>WI</th>\n",
              "    </tr>\n",
              "  </thead>\n",
              "  <tbody>\n",
              "    <tr>\n",
              "      <th>0</th>\n",
              "      <td>12</td>\n",
              "      <td>0</td>\n",
              "      <td>0</td>\n",
              "      <td>0</td>\n",
              "      <td>0</td>\n",
              "      <td>0</td>\n",
              "      <td>0</td>\n",
              "      <td>0</td>\n",
              "      <td>0</td>\n",
              "      <td>0</td>\n",
              "      <td>0</td>\n",
              "      <td>1</td>\n",
              "      <td>1</td>\n",
              "      <td>0</td>\n",
              "      <td>0</td>\n",
              "      <td>0</td>\n",
              "      <td>0</td>\n",
              "      <td>0</td>\n",
              "      <td>0</td>\n",
              "      <td>0</td>\n",
              "      <td>0</td>\n",
              "      <td>0</td>\n",
              "      <td>0</td>\n",
              "      <td>1</td>\n",
              "      <td>0</td>\n",
              "      <td>0</td>\n",
              "      <td>0</td>\n",
              "      <td>0</td>\n",
              "      <td>0</td>\n",
              "      <td>1</td>\n",
              "      <td>...</td>\n",
              "      <td>0</td>\n",
              "      <td>0</td>\n",
              "      <td>0</td>\n",
              "      <td>1</td>\n",
              "      <td>0</td>\n",
              "      <td>0</td>\n",
              "      <td>0</td>\n",
              "      <td>0</td>\n",
              "      <td>0</td>\n",
              "      <td>0</td>\n",
              "      <td>0</td>\n",
              "      <td>0</td>\n",
              "      <td>0</td>\n",
              "      <td>0</td>\n",
              "      <td>0</td>\n",
              "      <td>0</td>\n",
              "      <td>0</td>\n",
              "      <td>0</td>\n",
              "      <td>0</td>\n",
              "      <td>0</td>\n",
              "      <td>0</td>\n",
              "      <td>0</td>\n",
              "      <td>0</td>\n",
              "      <td>0</td>\n",
              "      <td>0</td>\n",
              "      <td>1</td>\n",
              "      <td>0</td>\n",
              "      <td>0</td>\n",
              "      <td>1</td>\n",
              "      <td>0</td>\n",
              "    </tr>\n",
              "    <tr>\n",
              "      <th>1</th>\n",
              "      <td>12</td>\n",
              "      <td>0</td>\n",
              "      <td>0</td>\n",
              "      <td>0</td>\n",
              "      <td>0</td>\n",
              "      <td>0</td>\n",
              "      <td>0</td>\n",
              "      <td>0</td>\n",
              "      <td>0</td>\n",
              "      <td>0</td>\n",
              "      <td>0</td>\n",
              "      <td>1</td>\n",
              "      <td>1</td>\n",
              "      <td>0</td>\n",
              "      <td>0</td>\n",
              "      <td>0</td>\n",
              "      <td>0</td>\n",
              "      <td>0</td>\n",
              "      <td>0</td>\n",
              "      <td>0</td>\n",
              "      <td>0</td>\n",
              "      <td>0</td>\n",
              "      <td>0</td>\n",
              "      <td>1</td>\n",
              "      <td>0</td>\n",
              "      <td>0</td>\n",
              "      <td>0</td>\n",
              "      <td>0</td>\n",
              "      <td>0</td>\n",
              "      <td>1</td>\n",
              "      <td>...</td>\n",
              "      <td>0</td>\n",
              "      <td>0</td>\n",
              "      <td>0</td>\n",
              "      <td>1</td>\n",
              "      <td>0</td>\n",
              "      <td>0</td>\n",
              "      <td>0</td>\n",
              "      <td>0</td>\n",
              "      <td>0</td>\n",
              "      <td>0</td>\n",
              "      <td>0</td>\n",
              "      <td>0</td>\n",
              "      <td>0</td>\n",
              "      <td>0</td>\n",
              "      <td>0</td>\n",
              "      <td>0</td>\n",
              "      <td>0</td>\n",
              "      <td>0</td>\n",
              "      <td>0</td>\n",
              "      <td>0</td>\n",
              "      <td>0</td>\n",
              "      <td>0</td>\n",
              "      <td>0</td>\n",
              "      <td>0</td>\n",
              "      <td>0</td>\n",
              "      <td>1</td>\n",
              "      <td>0</td>\n",
              "      <td>0</td>\n",
              "      <td>1</td>\n",
              "      <td>0</td>\n",
              "    </tr>\n",
              "    <tr>\n",
              "      <th>2</th>\n",
              "      <td>12</td>\n",
              "      <td>0</td>\n",
              "      <td>0</td>\n",
              "      <td>0</td>\n",
              "      <td>0</td>\n",
              "      <td>0</td>\n",
              "      <td>0</td>\n",
              "      <td>0</td>\n",
              "      <td>0</td>\n",
              "      <td>0</td>\n",
              "      <td>0</td>\n",
              "      <td>1</td>\n",
              "      <td>1</td>\n",
              "      <td>0</td>\n",
              "      <td>0</td>\n",
              "      <td>0</td>\n",
              "      <td>0</td>\n",
              "      <td>0</td>\n",
              "      <td>0</td>\n",
              "      <td>0</td>\n",
              "      <td>0</td>\n",
              "      <td>0</td>\n",
              "      <td>0</td>\n",
              "      <td>1</td>\n",
              "      <td>0</td>\n",
              "      <td>0</td>\n",
              "      <td>0</td>\n",
              "      <td>0</td>\n",
              "      <td>0</td>\n",
              "      <td>1</td>\n",
              "      <td>...</td>\n",
              "      <td>0</td>\n",
              "      <td>0</td>\n",
              "      <td>0</td>\n",
              "      <td>1</td>\n",
              "      <td>0</td>\n",
              "      <td>0</td>\n",
              "      <td>0</td>\n",
              "      <td>0</td>\n",
              "      <td>0</td>\n",
              "      <td>0</td>\n",
              "      <td>0</td>\n",
              "      <td>0</td>\n",
              "      <td>0</td>\n",
              "      <td>0</td>\n",
              "      <td>0</td>\n",
              "      <td>0</td>\n",
              "      <td>0</td>\n",
              "      <td>0</td>\n",
              "      <td>0</td>\n",
              "      <td>0</td>\n",
              "      <td>0</td>\n",
              "      <td>0</td>\n",
              "      <td>0</td>\n",
              "      <td>0</td>\n",
              "      <td>0</td>\n",
              "      <td>1</td>\n",
              "      <td>0</td>\n",
              "      <td>0</td>\n",
              "      <td>1</td>\n",
              "      <td>0</td>\n",
              "    </tr>\n",
              "    <tr>\n",
              "      <th>3</th>\n",
              "      <td>12</td>\n",
              "      <td>0</td>\n",
              "      <td>0</td>\n",
              "      <td>0</td>\n",
              "      <td>0</td>\n",
              "      <td>0</td>\n",
              "      <td>0</td>\n",
              "      <td>0</td>\n",
              "      <td>0</td>\n",
              "      <td>0</td>\n",
              "      <td>0</td>\n",
              "      <td>1</td>\n",
              "      <td>1</td>\n",
              "      <td>0</td>\n",
              "      <td>0</td>\n",
              "      <td>0</td>\n",
              "      <td>0</td>\n",
              "      <td>0</td>\n",
              "      <td>0</td>\n",
              "      <td>0</td>\n",
              "      <td>0</td>\n",
              "      <td>0</td>\n",
              "      <td>0</td>\n",
              "      <td>1</td>\n",
              "      <td>0</td>\n",
              "      <td>0</td>\n",
              "      <td>0</td>\n",
              "      <td>0</td>\n",
              "      <td>0</td>\n",
              "      <td>1</td>\n",
              "      <td>...</td>\n",
              "      <td>0</td>\n",
              "      <td>0</td>\n",
              "      <td>0</td>\n",
              "      <td>1</td>\n",
              "      <td>0</td>\n",
              "      <td>0</td>\n",
              "      <td>0</td>\n",
              "      <td>0</td>\n",
              "      <td>0</td>\n",
              "      <td>0</td>\n",
              "      <td>0</td>\n",
              "      <td>0</td>\n",
              "      <td>0</td>\n",
              "      <td>0</td>\n",
              "      <td>0</td>\n",
              "      <td>0</td>\n",
              "      <td>0</td>\n",
              "      <td>0</td>\n",
              "      <td>0</td>\n",
              "      <td>0</td>\n",
              "      <td>0</td>\n",
              "      <td>0</td>\n",
              "      <td>0</td>\n",
              "      <td>0</td>\n",
              "      <td>0</td>\n",
              "      <td>1</td>\n",
              "      <td>0</td>\n",
              "      <td>0</td>\n",
              "      <td>1</td>\n",
              "      <td>0</td>\n",
              "    </tr>\n",
              "    <tr>\n",
              "      <th>4</th>\n",
              "      <td>12</td>\n",
              "      <td>0</td>\n",
              "      <td>0</td>\n",
              "      <td>0</td>\n",
              "      <td>0</td>\n",
              "      <td>0</td>\n",
              "      <td>0</td>\n",
              "      <td>0</td>\n",
              "      <td>0</td>\n",
              "      <td>0</td>\n",
              "      <td>0</td>\n",
              "      <td>1</td>\n",
              "      <td>1</td>\n",
              "      <td>0</td>\n",
              "      <td>0</td>\n",
              "      <td>0</td>\n",
              "      <td>0</td>\n",
              "      <td>0</td>\n",
              "      <td>0</td>\n",
              "      <td>0</td>\n",
              "      <td>0</td>\n",
              "      <td>0</td>\n",
              "      <td>0</td>\n",
              "      <td>1</td>\n",
              "      <td>0</td>\n",
              "      <td>0</td>\n",
              "      <td>0</td>\n",
              "      <td>0</td>\n",
              "      <td>0</td>\n",
              "      <td>1</td>\n",
              "      <td>...</td>\n",
              "      <td>0</td>\n",
              "      <td>0</td>\n",
              "      <td>0</td>\n",
              "      <td>1</td>\n",
              "      <td>0</td>\n",
              "      <td>0</td>\n",
              "      <td>0</td>\n",
              "      <td>0</td>\n",
              "      <td>0</td>\n",
              "      <td>0</td>\n",
              "      <td>0</td>\n",
              "      <td>0</td>\n",
              "      <td>0</td>\n",
              "      <td>0</td>\n",
              "      <td>0</td>\n",
              "      <td>0</td>\n",
              "      <td>0</td>\n",
              "      <td>0</td>\n",
              "      <td>0</td>\n",
              "      <td>0</td>\n",
              "      <td>0</td>\n",
              "      <td>0</td>\n",
              "      <td>0</td>\n",
              "      <td>0</td>\n",
              "      <td>0</td>\n",
              "      <td>1</td>\n",
              "      <td>0</td>\n",
              "      <td>0</td>\n",
              "      <td>1</td>\n",
              "      <td>0</td>\n",
              "    </tr>\n",
              "    <tr>\n",
              "      <th>...</th>\n",
              "      <td>...</td>\n",
              "      <td>...</td>\n",
              "      <td>...</td>\n",
              "      <td>...</td>\n",
              "      <td>...</td>\n",
              "      <td>...</td>\n",
              "      <td>...</td>\n",
              "      <td>...</td>\n",
              "      <td>...</td>\n",
              "      <td>...</td>\n",
              "      <td>...</td>\n",
              "      <td>...</td>\n",
              "      <td>...</td>\n",
              "      <td>...</td>\n",
              "      <td>...</td>\n",
              "      <td>...</td>\n",
              "      <td>...</td>\n",
              "      <td>...</td>\n",
              "      <td>...</td>\n",
              "      <td>...</td>\n",
              "      <td>...</td>\n",
              "      <td>...</td>\n",
              "      <td>...</td>\n",
              "      <td>...</td>\n",
              "      <td>...</td>\n",
              "      <td>...</td>\n",
              "      <td>...</td>\n",
              "      <td>...</td>\n",
              "      <td>...</td>\n",
              "      <td>...</td>\n",
              "      <td>...</td>\n",
              "      <td>...</td>\n",
              "      <td>...</td>\n",
              "      <td>...</td>\n",
              "      <td>...</td>\n",
              "      <td>...</td>\n",
              "      <td>...</td>\n",
              "      <td>...</td>\n",
              "      <td>...</td>\n",
              "      <td>...</td>\n",
              "      <td>...</td>\n",
              "      <td>...</td>\n",
              "      <td>...</td>\n",
              "      <td>...</td>\n",
              "      <td>...</td>\n",
              "      <td>...</td>\n",
              "      <td>...</td>\n",
              "      <td>...</td>\n",
              "      <td>...</td>\n",
              "      <td>...</td>\n",
              "      <td>...</td>\n",
              "      <td>...</td>\n",
              "      <td>...</td>\n",
              "      <td>...</td>\n",
              "      <td>...</td>\n",
              "      <td>...</td>\n",
              "      <td>...</td>\n",
              "      <td>...</td>\n",
              "      <td>...</td>\n",
              "      <td>...</td>\n",
              "      <td>...</td>\n",
              "    </tr>\n",
              "    <tr>\n",
              "      <th>6937</th>\n",
              "      <td>9974</td>\n",
              "      <td>0</td>\n",
              "      <td>0</td>\n",
              "      <td>0</td>\n",
              "      <td>0</td>\n",
              "      <td>0</td>\n",
              "      <td>0</td>\n",
              "      <td>0</td>\n",
              "      <td>0</td>\n",
              "      <td>0</td>\n",
              "      <td>1</td>\n",
              "      <td>0</td>\n",
              "      <td>0</td>\n",
              "      <td>0</td>\n",
              "      <td>0</td>\n",
              "      <td>0</td>\n",
              "      <td>0</td>\n",
              "      <td>0</td>\n",
              "      <td>0</td>\n",
              "      <td>0</td>\n",
              "      <td>0</td>\n",
              "      <td>0</td>\n",
              "      <td>1</td>\n",
              "      <td>1</td>\n",
              "      <td>0</td>\n",
              "      <td>0</td>\n",
              "      <td>0</td>\n",
              "      <td>1</td>\n",
              "      <td>0</td>\n",
              "      <td>0</td>\n",
              "      <td>...</td>\n",
              "      <td>0</td>\n",
              "      <td>0</td>\n",
              "      <td>0</td>\n",
              "      <td>0</td>\n",
              "      <td>0</td>\n",
              "      <td>0</td>\n",
              "      <td>0</td>\n",
              "      <td>0</td>\n",
              "      <td>0</td>\n",
              "      <td>0</td>\n",
              "      <td>0</td>\n",
              "      <td>0</td>\n",
              "      <td>0</td>\n",
              "      <td>0</td>\n",
              "      <td>0</td>\n",
              "      <td>0</td>\n",
              "      <td>1</td>\n",
              "      <td>0</td>\n",
              "      <td>0</td>\n",
              "      <td>0</td>\n",
              "      <td>0</td>\n",
              "      <td>0</td>\n",
              "      <td>0</td>\n",
              "      <td>0</td>\n",
              "      <td>0</td>\n",
              "      <td>1</td>\n",
              "      <td>0</td>\n",
              "      <td>0</td>\n",
              "      <td>1</td>\n",
              "      <td>0</td>\n",
              "    </tr>\n",
              "    <tr>\n",
              "      <th>6938</th>\n",
              "      <td>9974</td>\n",
              "      <td>0</td>\n",
              "      <td>0</td>\n",
              "      <td>0</td>\n",
              "      <td>0</td>\n",
              "      <td>0</td>\n",
              "      <td>0</td>\n",
              "      <td>0</td>\n",
              "      <td>0</td>\n",
              "      <td>0</td>\n",
              "      <td>1</td>\n",
              "      <td>0</td>\n",
              "      <td>0</td>\n",
              "      <td>0</td>\n",
              "      <td>0</td>\n",
              "      <td>0</td>\n",
              "      <td>0</td>\n",
              "      <td>0</td>\n",
              "      <td>0</td>\n",
              "      <td>0</td>\n",
              "      <td>0</td>\n",
              "      <td>0</td>\n",
              "      <td>1</td>\n",
              "      <td>1</td>\n",
              "      <td>0</td>\n",
              "      <td>0</td>\n",
              "      <td>0</td>\n",
              "      <td>1</td>\n",
              "      <td>0</td>\n",
              "      <td>0</td>\n",
              "      <td>...</td>\n",
              "      <td>0</td>\n",
              "      <td>0</td>\n",
              "      <td>0</td>\n",
              "      <td>0</td>\n",
              "      <td>0</td>\n",
              "      <td>0</td>\n",
              "      <td>0</td>\n",
              "      <td>0</td>\n",
              "      <td>0</td>\n",
              "      <td>0</td>\n",
              "      <td>0</td>\n",
              "      <td>0</td>\n",
              "      <td>0</td>\n",
              "      <td>0</td>\n",
              "      <td>0</td>\n",
              "      <td>0</td>\n",
              "      <td>1</td>\n",
              "      <td>0</td>\n",
              "      <td>0</td>\n",
              "      <td>0</td>\n",
              "      <td>0</td>\n",
              "      <td>0</td>\n",
              "      <td>0</td>\n",
              "      <td>0</td>\n",
              "      <td>0</td>\n",
              "      <td>1</td>\n",
              "      <td>0</td>\n",
              "      <td>0</td>\n",
              "      <td>1</td>\n",
              "      <td>0</td>\n",
              "    </tr>\n",
              "    <tr>\n",
              "      <th>6939</th>\n",
              "      <td>9974</td>\n",
              "      <td>0</td>\n",
              "      <td>0</td>\n",
              "      <td>0</td>\n",
              "      <td>0</td>\n",
              "      <td>0</td>\n",
              "      <td>0</td>\n",
              "      <td>0</td>\n",
              "      <td>0</td>\n",
              "      <td>0</td>\n",
              "      <td>1</td>\n",
              "      <td>0</td>\n",
              "      <td>0</td>\n",
              "      <td>0</td>\n",
              "      <td>0</td>\n",
              "      <td>0</td>\n",
              "      <td>0</td>\n",
              "      <td>0</td>\n",
              "      <td>0</td>\n",
              "      <td>0</td>\n",
              "      <td>0</td>\n",
              "      <td>0</td>\n",
              "      <td>1</td>\n",
              "      <td>1</td>\n",
              "      <td>0</td>\n",
              "      <td>0</td>\n",
              "      <td>0</td>\n",
              "      <td>1</td>\n",
              "      <td>0</td>\n",
              "      <td>0</td>\n",
              "      <td>...</td>\n",
              "      <td>0</td>\n",
              "      <td>0</td>\n",
              "      <td>0</td>\n",
              "      <td>0</td>\n",
              "      <td>0</td>\n",
              "      <td>0</td>\n",
              "      <td>0</td>\n",
              "      <td>0</td>\n",
              "      <td>0</td>\n",
              "      <td>0</td>\n",
              "      <td>0</td>\n",
              "      <td>0</td>\n",
              "      <td>0</td>\n",
              "      <td>0</td>\n",
              "      <td>0</td>\n",
              "      <td>0</td>\n",
              "      <td>1</td>\n",
              "      <td>0</td>\n",
              "      <td>0</td>\n",
              "      <td>0</td>\n",
              "      <td>0</td>\n",
              "      <td>0</td>\n",
              "      <td>0</td>\n",
              "      <td>0</td>\n",
              "      <td>0</td>\n",
              "      <td>1</td>\n",
              "      <td>0</td>\n",
              "      <td>0</td>\n",
              "      <td>1</td>\n",
              "      <td>0</td>\n",
              "    </tr>\n",
              "    <tr>\n",
              "      <th>6940</th>\n",
              "      <td>9974</td>\n",
              "      <td>0</td>\n",
              "      <td>0</td>\n",
              "      <td>0</td>\n",
              "      <td>0</td>\n",
              "      <td>0</td>\n",
              "      <td>0</td>\n",
              "      <td>0</td>\n",
              "      <td>0</td>\n",
              "      <td>0</td>\n",
              "      <td>1</td>\n",
              "      <td>0</td>\n",
              "      <td>0</td>\n",
              "      <td>0</td>\n",
              "      <td>0</td>\n",
              "      <td>0</td>\n",
              "      <td>0</td>\n",
              "      <td>0</td>\n",
              "      <td>0</td>\n",
              "      <td>0</td>\n",
              "      <td>0</td>\n",
              "      <td>0</td>\n",
              "      <td>1</td>\n",
              "      <td>1</td>\n",
              "      <td>0</td>\n",
              "      <td>0</td>\n",
              "      <td>0</td>\n",
              "      <td>1</td>\n",
              "      <td>0</td>\n",
              "      <td>0</td>\n",
              "      <td>...</td>\n",
              "      <td>0</td>\n",
              "      <td>0</td>\n",
              "      <td>0</td>\n",
              "      <td>0</td>\n",
              "      <td>0</td>\n",
              "      <td>0</td>\n",
              "      <td>0</td>\n",
              "      <td>0</td>\n",
              "      <td>0</td>\n",
              "      <td>0</td>\n",
              "      <td>0</td>\n",
              "      <td>0</td>\n",
              "      <td>0</td>\n",
              "      <td>0</td>\n",
              "      <td>0</td>\n",
              "      <td>0</td>\n",
              "      <td>1</td>\n",
              "      <td>0</td>\n",
              "      <td>0</td>\n",
              "      <td>0</td>\n",
              "      <td>0</td>\n",
              "      <td>0</td>\n",
              "      <td>0</td>\n",
              "      <td>0</td>\n",
              "      <td>0</td>\n",
              "      <td>1</td>\n",
              "      <td>0</td>\n",
              "      <td>0</td>\n",
              "      <td>1</td>\n",
              "      <td>0</td>\n",
              "    </tr>\n",
              "    <tr>\n",
              "      <th>6941</th>\n",
              "      <td>9974</td>\n",
              "      <td>0</td>\n",
              "      <td>0</td>\n",
              "      <td>0</td>\n",
              "      <td>0</td>\n",
              "      <td>0</td>\n",
              "      <td>0</td>\n",
              "      <td>0</td>\n",
              "      <td>0</td>\n",
              "      <td>0</td>\n",
              "      <td>1</td>\n",
              "      <td>0</td>\n",
              "      <td>0</td>\n",
              "      <td>0</td>\n",
              "      <td>0</td>\n",
              "      <td>0</td>\n",
              "      <td>0</td>\n",
              "      <td>0</td>\n",
              "      <td>0</td>\n",
              "      <td>0</td>\n",
              "      <td>0</td>\n",
              "      <td>0</td>\n",
              "      <td>1</td>\n",
              "      <td>1</td>\n",
              "      <td>0</td>\n",
              "      <td>0</td>\n",
              "      <td>0</td>\n",
              "      <td>1</td>\n",
              "      <td>0</td>\n",
              "      <td>0</td>\n",
              "      <td>...</td>\n",
              "      <td>0</td>\n",
              "      <td>0</td>\n",
              "      <td>0</td>\n",
              "      <td>0</td>\n",
              "      <td>0</td>\n",
              "      <td>0</td>\n",
              "      <td>0</td>\n",
              "      <td>0</td>\n",
              "      <td>0</td>\n",
              "      <td>0</td>\n",
              "      <td>0</td>\n",
              "      <td>0</td>\n",
              "      <td>0</td>\n",
              "      <td>0</td>\n",
              "      <td>0</td>\n",
              "      <td>0</td>\n",
              "      <td>1</td>\n",
              "      <td>0</td>\n",
              "      <td>0</td>\n",
              "      <td>0</td>\n",
              "      <td>0</td>\n",
              "      <td>0</td>\n",
              "      <td>0</td>\n",
              "      <td>0</td>\n",
              "      <td>0</td>\n",
              "      <td>1</td>\n",
              "      <td>0</td>\n",
              "      <td>0</td>\n",
              "      <td>1</td>\n",
              "      <td>0</td>\n",
              "    </tr>\n",
              "  </tbody>\n",
              "</table>\n",
              "<p>76362 rows × 179 columns</p>\n",
              "</div>"
            ],
            "text/plain": [
              "       sku  shelf_amt  <= $44  $44-51  $51-58  $58-69  $69-77  $77-88  \\\n",
              "0       12          0       0       0       0       0       0       0   \n",
              "1       12          0       0       0       0       0       0       0   \n",
              "2       12          0       0       0       0       0       0       0   \n",
              "3       12          0       0       0       0       0       0       0   \n",
              "4       12          0       0       0       0       0       0       0   \n",
              "...    ...        ...     ...     ...     ...     ...     ...     ...   \n",
              "6937  9974          0       0       0       0       0       0       0   \n",
              "6938  9974          0       0       0       0       0       0       0   \n",
              "6939  9974          0       0       0       0       0       0       0   \n",
              "6940  9974          0       0       0       0       0       0       0   \n",
              "6941  9974          0       0       0       0       0       0       0   \n",
              "\n",
              "      $88-101  $101-119  $119-143   >= $143  CANADA  GERMANY  INDIA  ITALY  \\\n",
              "0           0         0         0         1       1        0      0      0   \n",
              "1           0         0         0         1       1        0      0      0   \n",
              "2           0         0         0         1       1        0      0      0   \n",
              "3           0         0         0         1       1        0      0      0   \n",
              "4           0         0         0         1       1        0      0      0   \n",
              "...       ...       ...       ...       ...     ...      ...    ...    ...   \n",
              "6937        0         0         1         0       0        0      0      0   \n",
              "6938        0         0         1         0       0        0      0      0   \n",
              "6939        0         0         1         0       0        0      0      0   \n",
              "6940        0         0         1         0       0        0      0      0   \n",
              "6941        0         0         1         0       0        0      0      0   \n",
              "\n",
              "      JAPAN  KOREA  MEXICO  RUSSIA  SPAIN  UNITED KINGDOM  UNITED STATES  \\\n",
              "0         0      0       0       0      0               0              0   \n",
              "1         0      0       0       0      0               0              0   \n",
              "2         0      0       0       0      0               0              0   \n",
              "3         0      0       0       0      0               0              0   \n",
              "4         0      0       0       0      0               0              0   \n",
              "...     ...    ...     ...     ...    ...             ...            ...   \n",
              "6937      0      0       0       0      0               0              1   \n",
              "6938      0      0       0       0      0               0              1   \n",
              "6939      0      0       0       0      0               0              1   \n",
              "6940      0      0       0       0      0               0              1   \n",
              "6941      0      0       0       0      0               0              1   \n",
              "\n",
              "      ADULT  GRADE SCHOOL  PRE SCHOOL  TODDLER  capsule  liquid  powder  ...  \\\n",
              "0         1             0           0        0        0       0       1  ...   \n",
              "1         1             0           0        0        0       0       1  ...   \n",
              "2         1             0           0        0        0       0       1  ...   \n",
              "3         1             0           0        0        0       0       1  ...   \n",
              "4         1             0           0        0        0       0       1  ...   \n",
              "...     ...           ...         ...      ...      ...     ...     ...  ...   \n",
              "6937      1             0           0        0        1       0       0  ...   \n",
              "6938      1             0           0        0        1       0       0  ...   \n",
              "6939      1             0           0        0        1       0       0  ...   \n",
              "6940      1             0           0        0        1       0       0  ...   \n",
              "6941      1             0           0        0        1       0       0  ...   \n",
              "\n",
              "      Z762  Z778  Z966  PATENT 1030  PATENT 2461  PATENT 2876  PATENT 3279  \\\n",
              "0        0     0     0            1            0            0            0   \n",
              "1        0     0     0            1            0            0            0   \n",
              "2        0     0     0            1            0            0            0   \n",
              "3        0     0     0            1            0            0            0   \n",
              "4        0     0     0            1            0            0            0   \n",
              "...    ...   ...   ...          ...          ...          ...          ...   \n",
              "6937     0     0     0            0            0            0            0   \n",
              "6938     0     0     0            0            0            0            0   \n",
              "6939     0     0     0            0            0            0            0   \n",
              "6940     0     0     0            0            0            0            0   \n",
              "6941     0     0     0            0            0            0            0   \n",
              "\n",
              "      PATENT 4090  PATENT 4533  PATENT 456  PATENT 4566  PATENT 5281  \\\n",
              "0               0            0           0            0            0   \n",
              "1               0            0           0            0            0   \n",
              "2               0            0           0            0            0   \n",
              "3               0            0           0            0            0   \n",
              "4               0            0           0            0            0   \n",
              "...           ...          ...         ...          ...          ...   \n",
              "6937            0            0           0            0            0   \n",
              "6938            0            0           0            0            0   \n",
              "6939            0            0           0            0            0   \n",
              "6940            0            0           0            0            0   \n",
              "6941            0            0           0            0            0   \n",
              "\n",
              "      PATENT 5514  PATENT 5726  PATENT 6776  PATENT 7883  PATENT 8830  \\\n",
              "0               0            0            0            0            0   \n",
              "1               0            0            0            0            0   \n",
              "2               0            0            0            0            0   \n",
              "3               0            0            0            0            0   \n",
              "4               0            0            0            0            0   \n",
              "...           ...          ...          ...          ...          ...   \n",
              "6937            0            0            0            0            1   \n",
              "6938            0            0            0            0            1   \n",
              "6939            0            0            0            0            1   \n",
              "6940            0            0            0            0            1   \n",
              "6941            0            0            0            0            1   \n",
              "\n",
              "      PATENT 8895  PATENT 8924  PATENT 8998  PATENT 9404  PATENT 9545  \\\n",
              "0               0            0            0            0            0   \n",
              "1               0            0            0            0            0   \n",
              "2               0            0            0            0            0   \n",
              "3               0            0            0            0            0   \n",
              "4               0            0            0            0            0   \n",
              "...           ...          ...          ...          ...          ...   \n",
              "6937            0            0            0            0            0   \n",
              "6938            0            0            0            0            0   \n",
              "6939            0            0            0            0            0   \n",
              "6940            0            0            0            0            0   \n",
              "6941            0            0            0            0            0   \n",
              "\n",
              "      PATENT 9568  2014  2015  2016  FA  SP  SU  WI  \n",
              "0               0     0     0     1   0   0   1   0  \n",
              "1               0     0     0     1   0   0   1   0  \n",
              "2               0     0     0     1   0   0   1   0  \n",
              "3               0     0     0     1   0   0   1   0  \n",
              "4               0     0     0     1   0   0   1   0  \n",
              "...           ...   ...   ...   ...  ..  ..  ..  ..  \n",
              "6937            0     0     0     1   0   0   1   0  \n",
              "6938            0     0     0     1   0   0   1   0  \n",
              "6939            0     0     0     1   0   0   1   0  \n",
              "6940            0     0     0     1   0   0   1   0  \n",
              "6941            0     0     0     1   0   0   1   0  \n",
              "\n",
              "[76362 rows x 179 columns]"
            ]
          },
          "metadata": {
            "tags": []
          },
          "execution_count": 103
        }
      ]
    },
    {
      "cell_type": "code",
      "metadata": {
        "id": "-6_OLKNp5dOS",
        "colab_type": "code",
        "colab": {}
      },
      "source": [
        "predict_X2 = appended_data.drop_duplicates()"
      ],
      "execution_count": 0,
      "outputs": []
    },
    {
      "cell_type": "code",
      "metadata": {
        "id": "sz0AZARy-z4E",
        "colab_type": "code",
        "colab": {
          "base_uri": "https://localhost:8080/",
          "height": 456
        },
        "outputId": "5e27e491-1fdd-4e1b-ce5a-43f8ed654326"
      },
      "source": [
        "predict_X2"
      ],
      "execution_count": 105,
      "outputs": [
        {
          "output_type": "execute_result",
          "data": {
            "text/html": [
              "<div>\n",
              "<style scoped>\n",
              "    .dataframe tbody tr th:only-of-type {\n",
              "        vertical-align: middle;\n",
              "    }\n",
              "\n",
              "    .dataframe tbody tr th {\n",
              "        vertical-align: top;\n",
              "    }\n",
              "\n",
              "    .dataframe thead th {\n",
              "        text-align: right;\n",
              "    }\n",
              "</style>\n",
              "<table border=\"1\" class=\"dataframe\">\n",
              "  <thead>\n",
              "    <tr style=\"text-align: right;\">\n",
              "      <th></th>\n",
              "      <th>sku</th>\n",
              "      <th>shelf_amt</th>\n",
              "      <th>&lt;= $44</th>\n",
              "      <th>$44-51</th>\n",
              "      <th>$51-58</th>\n",
              "      <th>$58-69</th>\n",
              "      <th>$69-77</th>\n",
              "      <th>$77-88</th>\n",
              "      <th>$88-101</th>\n",
              "      <th>$101-119</th>\n",
              "      <th>$119-143</th>\n",
              "      <th>&gt;= $143</th>\n",
              "      <th>CANADA</th>\n",
              "      <th>GERMANY</th>\n",
              "      <th>INDIA</th>\n",
              "      <th>ITALY</th>\n",
              "      <th>JAPAN</th>\n",
              "      <th>KOREA</th>\n",
              "      <th>MEXICO</th>\n",
              "      <th>RUSSIA</th>\n",
              "      <th>SPAIN</th>\n",
              "      <th>UNITED KINGDOM</th>\n",
              "      <th>UNITED STATES</th>\n",
              "      <th>ADULT</th>\n",
              "      <th>GRADE SCHOOL</th>\n",
              "      <th>PRE SCHOOL</th>\n",
              "      <th>TODDLER</th>\n",
              "      <th>capsule</th>\n",
              "      <th>liquid</th>\n",
              "      <th>powder</th>\n",
              "      <th>...</th>\n",
              "      <th>Z762</th>\n",
              "      <th>Z778</th>\n",
              "      <th>Z966</th>\n",
              "      <th>PATENT 1030</th>\n",
              "      <th>PATENT 2461</th>\n",
              "      <th>PATENT 2876</th>\n",
              "      <th>PATENT 3279</th>\n",
              "      <th>PATENT 4090</th>\n",
              "      <th>PATENT 4533</th>\n",
              "      <th>PATENT 456</th>\n",
              "      <th>PATENT 4566</th>\n",
              "      <th>PATENT 5281</th>\n",
              "      <th>PATENT 5514</th>\n",
              "      <th>PATENT 5726</th>\n",
              "      <th>PATENT 6776</th>\n",
              "      <th>PATENT 7883</th>\n",
              "      <th>PATENT 8830</th>\n",
              "      <th>PATENT 8895</th>\n",
              "      <th>PATENT 8924</th>\n",
              "      <th>PATENT 8998</th>\n",
              "      <th>PATENT 9404</th>\n",
              "      <th>PATENT 9545</th>\n",
              "      <th>PATENT 9568</th>\n",
              "      <th>2014</th>\n",
              "      <th>2015</th>\n",
              "      <th>2016</th>\n",
              "      <th>FA</th>\n",
              "      <th>SP</th>\n",
              "      <th>SU</th>\n",
              "      <th>WI</th>\n",
              "    </tr>\n",
              "  </thead>\n",
              "  <tbody>\n",
              "    <tr>\n",
              "      <th>0</th>\n",
              "      <td>12</td>\n",
              "      <td>0</td>\n",
              "      <td>0</td>\n",
              "      <td>0</td>\n",
              "      <td>0</td>\n",
              "      <td>0</td>\n",
              "      <td>0</td>\n",
              "      <td>0</td>\n",
              "      <td>0</td>\n",
              "      <td>0</td>\n",
              "      <td>0</td>\n",
              "      <td>1</td>\n",
              "      <td>1</td>\n",
              "      <td>0</td>\n",
              "      <td>0</td>\n",
              "      <td>0</td>\n",
              "      <td>0</td>\n",
              "      <td>0</td>\n",
              "      <td>0</td>\n",
              "      <td>0</td>\n",
              "      <td>0</td>\n",
              "      <td>0</td>\n",
              "      <td>0</td>\n",
              "      <td>1</td>\n",
              "      <td>0</td>\n",
              "      <td>0</td>\n",
              "      <td>0</td>\n",
              "      <td>0</td>\n",
              "      <td>0</td>\n",
              "      <td>1</td>\n",
              "      <td>...</td>\n",
              "      <td>0</td>\n",
              "      <td>0</td>\n",
              "      <td>0</td>\n",
              "      <td>1</td>\n",
              "      <td>0</td>\n",
              "      <td>0</td>\n",
              "      <td>0</td>\n",
              "      <td>0</td>\n",
              "      <td>0</td>\n",
              "      <td>0</td>\n",
              "      <td>0</td>\n",
              "      <td>0</td>\n",
              "      <td>0</td>\n",
              "      <td>0</td>\n",
              "      <td>0</td>\n",
              "      <td>0</td>\n",
              "      <td>0</td>\n",
              "      <td>0</td>\n",
              "      <td>0</td>\n",
              "      <td>0</td>\n",
              "      <td>0</td>\n",
              "      <td>0</td>\n",
              "      <td>0</td>\n",
              "      <td>0</td>\n",
              "      <td>0</td>\n",
              "      <td>1</td>\n",
              "      <td>0</td>\n",
              "      <td>0</td>\n",
              "      <td>1</td>\n",
              "      <td>0</td>\n",
              "    </tr>\n",
              "    <tr>\n",
              "      <th>5</th>\n",
              "      <td>37</td>\n",
              "      <td>0</td>\n",
              "      <td>0</td>\n",
              "      <td>0</td>\n",
              "      <td>0</td>\n",
              "      <td>0</td>\n",
              "      <td>0</td>\n",
              "      <td>0</td>\n",
              "      <td>1</td>\n",
              "      <td>0</td>\n",
              "      <td>0</td>\n",
              "      <td>0</td>\n",
              "      <td>1</td>\n",
              "      <td>0</td>\n",
              "      <td>0</td>\n",
              "      <td>0</td>\n",
              "      <td>0</td>\n",
              "      <td>0</td>\n",
              "      <td>0</td>\n",
              "      <td>0</td>\n",
              "      <td>0</td>\n",
              "      <td>0</td>\n",
              "      <td>0</td>\n",
              "      <td>1</td>\n",
              "      <td>0</td>\n",
              "      <td>0</td>\n",
              "      <td>0</td>\n",
              "      <td>0</td>\n",
              "      <td>0</td>\n",
              "      <td>1</td>\n",
              "      <td>...</td>\n",
              "      <td>0</td>\n",
              "      <td>0</td>\n",
              "      <td>0</td>\n",
              "      <td>0</td>\n",
              "      <td>0</td>\n",
              "      <td>0</td>\n",
              "      <td>0</td>\n",
              "      <td>1</td>\n",
              "      <td>0</td>\n",
              "      <td>0</td>\n",
              "      <td>0</td>\n",
              "      <td>0</td>\n",
              "      <td>0</td>\n",
              "      <td>1</td>\n",
              "      <td>0</td>\n",
              "      <td>0</td>\n",
              "      <td>0</td>\n",
              "      <td>0</td>\n",
              "      <td>0</td>\n",
              "      <td>0</td>\n",
              "      <td>0</td>\n",
              "      <td>0</td>\n",
              "      <td>0</td>\n",
              "      <td>0</td>\n",
              "      <td>0</td>\n",
              "      <td>1</td>\n",
              "      <td>0</td>\n",
              "      <td>0</td>\n",
              "      <td>1</td>\n",
              "      <td>0</td>\n",
              "    </tr>\n",
              "    <tr>\n",
              "      <th>55</th>\n",
              "      <td>81</td>\n",
              "      <td>0</td>\n",
              "      <td>0</td>\n",
              "      <td>0</td>\n",
              "      <td>0</td>\n",
              "      <td>0</td>\n",
              "      <td>0</td>\n",
              "      <td>0</td>\n",
              "      <td>0</td>\n",
              "      <td>0</td>\n",
              "      <td>1</td>\n",
              "      <td>0</td>\n",
              "      <td>1</td>\n",
              "      <td>0</td>\n",
              "      <td>0</td>\n",
              "      <td>0</td>\n",
              "      <td>0</td>\n",
              "      <td>0</td>\n",
              "      <td>0</td>\n",
              "      <td>0</td>\n",
              "      <td>0</td>\n",
              "      <td>0</td>\n",
              "      <td>0</td>\n",
              "      <td>1</td>\n",
              "      <td>0</td>\n",
              "      <td>0</td>\n",
              "      <td>0</td>\n",
              "      <td>1</td>\n",
              "      <td>0</td>\n",
              "      <td>0</td>\n",
              "      <td>...</td>\n",
              "      <td>0</td>\n",
              "      <td>0</td>\n",
              "      <td>0</td>\n",
              "      <td>1</td>\n",
              "      <td>0</td>\n",
              "      <td>0</td>\n",
              "      <td>0</td>\n",
              "      <td>0</td>\n",
              "      <td>0</td>\n",
              "      <td>0</td>\n",
              "      <td>0</td>\n",
              "      <td>0</td>\n",
              "      <td>0</td>\n",
              "      <td>0</td>\n",
              "      <td>0</td>\n",
              "      <td>0</td>\n",
              "      <td>0</td>\n",
              "      <td>0</td>\n",
              "      <td>0</td>\n",
              "      <td>0</td>\n",
              "      <td>0</td>\n",
              "      <td>0</td>\n",
              "      <td>0</td>\n",
              "      <td>0</td>\n",
              "      <td>0</td>\n",
              "      <td>1</td>\n",
              "      <td>0</td>\n",
              "      <td>0</td>\n",
              "      <td>1</td>\n",
              "      <td>0</td>\n",
              "    </tr>\n",
              "    <tr>\n",
              "      <th>69</th>\n",
              "      <td>147</td>\n",
              "      <td>0</td>\n",
              "      <td>0</td>\n",
              "      <td>0</td>\n",
              "      <td>0</td>\n",
              "      <td>0</td>\n",
              "      <td>0</td>\n",
              "      <td>0</td>\n",
              "      <td>0</td>\n",
              "      <td>0</td>\n",
              "      <td>0</td>\n",
              "      <td>1</td>\n",
              "      <td>1</td>\n",
              "      <td>0</td>\n",
              "      <td>0</td>\n",
              "      <td>0</td>\n",
              "      <td>0</td>\n",
              "      <td>0</td>\n",
              "      <td>0</td>\n",
              "      <td>0</td>\n",
              "      <td>0</td>\n",
              "      <td>0</td>\n",
              "      <td>0</td>\n",
              "      <td>1</td>\n",
              "      <td>0</td>\n",
              "      <td>0</td>\n",
              "      <td>0</td>\n",
              "      <td>1</td>\n",
              "      <td>0</td>\n",
              "      <td>0</td>\n",
              "      <td>...</td>\n",
              "      <td>0</td>\n",
              "      <td>0</td>\n",
              "      <td>0</td>\n",
              "      <td>0</td>\n",
              "      <td>0</td>\n",
              "      <td>0</td>\n",
              "      <td>0</td>\n",
              "      <td>0</td>\n",
              "      <td>1</td>\n",
              "      <td>0</td>\n",
              "      <td>0</td>\n",
              "      <td>0</td>\n",
              "      <td>0</td>\n",
              "      <td>0</td>\n",
              "      <td>0</td>\n",
              "      <td>0</td>\n",
              "      <td>0</td>\n",
              "      <td>0</td>\n",
              "      <td>0</td>\n",
              "      <td>0</td>\n",
              "      <td>0</td>\n",
              "      <td>0</td>\n",
              "      <td>0</td>\n",
              "      <td>0</td>\n",
              "      <td>0</td>\n",
              "      <td>1</td>\n",
              "      <td>0</td>\n",
              "      <td>0</td>\n",
              "      <td>1</td>\n",
              "      <td>0</td>\n",
              "    </tr>\n",
              "    <tr>\n",
              "      <th>79</th>\n",
              "      <td>206</td>\n",
              "      <td>0</td>\n",
              "      <td>0</td>\n",
              "      <td>0</td>\n",
              "      <td>0</td>\n",
              "      <td>0</td>\n",
              "      <td>0</td>\n",
              "      <td>1</td>\n",
              "      <td>0</td>\n",
              "      <td>0</td>\n",
              "      <td>0</td>\n",
              "      <td>0</td>\n",
              "      <td>1</td>\n",
              "      <td>0</td>\n",
              "      <td>0</td>\n",
              "      <td>0</td>\n",
              "      <td>0</td>\n",
              "      <td>0</td>\n",
              "      <td>0</td>\n",
              "      <td>0</td>\n",
              "      <td>0</td>\n",
              "      <td>0</td>\n",
              "      <td>0</td>\n",
              "      <td>1</td>\n",
              "      <td>0</td>\n",
              "      <td>0</td>\n",
              "      <td>0</td>\n",
              "      <td>0</td>\n",
              "      <td>0</td>\n",
              "      <td>1</td>\n",
              "      <td>...</td>\n",
              "      <td>0</td>\n",
              "      <td>0</td>\n",
              "      <td>0</td>\n",
              "      <td>0</td>\n",
              "      <td>0</td>\n",
              "      <td>0</td>\n",
              "      <td>0</td>\n",
              "      <td>0</td>\n",
              "      <td>0</td>\n",
              "      <td>0</td>\n",
              "      <td>1</td>\n",
              "      <td>0</td>\n",
              "      <td>1</td>\n",
              "      <td>0</td>\n",
              "      <td>0</td>\n",
              "      <td>0</td>\n",
              "      <td>1</td>\n",
              "      <td>0</td>\n",
              "      <td>0</td>\n",
              "      <td>0</td>\n",
              "      <td>0</td>\n",
              "      <td>0</td>\n",
              "      <td>0</td>\n",
              "      <td>0</td>\n",
              "      <td>0</td>\n",
              "      <td>1</td>\n",
              "      <td>0</td>\n",
              "      <td>0</td>\n",
              "      <td>1</td>\n",
              "      <td>0</td>\n",
              "    </tr>\n",
              "    <tr>\n",
              "      <th>...</th>\n",
              "      <td>...</td>\n",
              "      <td>...</td>\n",
              "      <td>...</td>\n",
              "      <td>...</td>\n",
              "      <td>...</td>\n",
              "      <td>...</td>\n",
              "      <td>...</td>\n",
              "      <td>...</td>\n",
              "      <td>...</td>\n",
              "      <td>...</td>\n",
              "      <td>...</td>\n",
              "      <td>...</td>\n",
              "      <td>...</td>\n",
              "      <td>...</td>\n",
              "      <td>...</td>\n",
              "      <td>...</td>\n",
              "      <td>...</td>\n",
              "      <td>...</td>\n",
              "      <td>...</td>\n",
              "      <td>...</td>\n",
              "      <td>...</td>\n",
              "      <td>...</td>\n",
              "      <td>...</td>\n",
              "      <td>...</td>\n",
              "      <td>...</td>\n",
              "      <td>...</td>\n",
              "      <td>...</td>\n",
              "      <td>...</td>\n",
              "      <td>...</td>\n",
              "      <td>...</td>\n",
              "      <td>...</td>\n",
              "      <td>...</td>\n",
              "      <td>...</td>\n",
              "      <td>...</td>\n",
              "      <td>...</td>\n",
              "      <td>...</td>\n",
              "      <td>...</td>\n",
              "      <td>...</td>\n",
              "      <td>...</td>\n",
              "      <td>...</td>\n",
              "      <td>...</td>\n",
              "      <td>...</td>\n",
              "      <td>...</td>\n",
              "      <td>...</td>\n",
              "      <td>...</td>\n",
              "      <td>...</td>\n",
              "      <td>...</td>\n",
              "      <td>...</td>\n",
              "      <td>...</td>\n",
              "      <td>...</td>\n",
              "      <td>...</td>\n",
              "      <td>...</td>\n",
              "      <td>...</td>\n",
              "      <td>...</td>\n",
              "      <td>...</td>\n",
              "      <td>...</td>\n",
              "      <td>...</td>\n",
              "      <td>...</td>\n",
              "      <td>...</td>\n",
              "      <td>...</td>\n",
              "      <td>...</td>\n",
              "    </tr>\n",
              "    <tr>\n",
              "      <th>6903</th>\n",
              "      <td>9890</td>\n",
              "      <td>0</td>\n",
              "      <td>1</td>\n",
              "      <td>0</td>\n",
              "      <td>0</td>\n",
              "      <td>0</td>\n",
              "      <td>0</td>\n",
              "      <td>0</td>\n",
              "      <td>0</td>\n",
              "      <td>0</td>\n",
              "      <td>0</td>\n",
              "      <td>0</td>\n",
              "      <td>0</td>\n",
              "      <td>0</td>\n",
              "      <td>0</td>\n",
              "      <td>0</td>\n",
              "      <td>0</td>\n",
              "      <td>0</td>\n",
              "      <td>0</td>\n",
              "      <td>0</td>\n",
              "      <td>0</td>\n",
              "      <td>0</td>\n",
              "      <td>1</td>\n",
              "      <td>0</td>\n",
              "      <td>1</td>\n",
              "      <td>0</td>\n",
              "      <td>0</td>\n",
              "      <td>0</td>\n",
              "      <td>1</td>\n",
              "      <td>0</td>\n",
              "      <td>...</td>\n",
              "      <td>0</td>\n",
              "      <td>0</td>\n",
              "      <td>0</td>\n",
              "      <td>0</td>\n",
              "      <td>0</td>\n",
              "      <td>0</td>\n",
              "      <td>0</td>\n",
              "      <td>1</td>\n",
              "      <td>1</td>\n",
              "      <td>0</td>\n",
              "      <td>0</td>\n",
              "      <td>0</td>\n",
              "      <td>0</td>\n",
              "      <td>0</td>\n",
              "      <td>1</td>\n",
              "      <td>0</td>\n",
              "      <td>0</td>\n",
              "      <td>0</td>\n",
              "      <td>0</td>\n",
              "      <td>0</td>\n",
              "      <td>0</td>\n",
              "      <td>0</td>\n",
              "      <td>0</td>\n",
              "      <td>0</td>\n",
              "      <td>0</td>\n",
              "      <td>1</td>\n",
              "      <td>0</td>\n",
              "      <td>0</td>\n",
              "      <td>1</td>\n",
              "      <td>0</td>\n",
              "    </tr>\n",
              "    <tr>\n",
              "      <th>6913</th>\n",
              "      <td>9908</td>\n",
              "      <td>0</td>\n",
              "      <td>0</td>\n",
              "      <td>0</td>\n",
              "      <td>0</td>\n",
              "      <td>0</td>\n",
              "      <td>0</td>\n",
              "      <td>1</td>\n",
              "      <td>0</td>\n",
              "      <td>0</td>\n",
              "      <td>0</td>\n",
              "      <td>0</td>\n",
              "      <td>0</td>\n",
              "      <td>0</td>\n",
              "      <td>0</td>\n",
              "      <td>0</td>\n",
              "      <td>0</td>\n",
              "      <td>0</td>\n",
              "      <td>0</td>\n",
              "      <td>0</td>\n",
              "      <td>0</td>\n",
              "      <td>0</td>\n",
              "      <td>1</td>\n",
              "      <td>1</td>\n",
              "      <td>0</td>\n",
              "      <td>0</td>\n",
              "      <td>0</td>\n",
              "      <td>0</td>\n",
              "      <td>0</td>\n",
              "      <td>1</td>\n",
              "      <td>...</td>\n",
              "      <td>0</td>\n",
              "      <td>0</td>\n",
              "      <td>0</td>\n",
              "      <td>0</td>\n",
              "      <td>0</td>\n",
              "      <td>0</td>\n",
              "      <td>0</td>\n",
              "      <td>0</td>\n",
              "      <td>0</td>\n",
              "      <td>0</td>\n",
              "      <td>0</td>\n",
              "      <td>0</td>\n",
              "      <td>0</td>\n",
              "      <td>0</td>\n",
              "      <td>0</td>\n",
              "      <td>0</td>\n",
              "      <td>1</td>\n",
              "      <td>0</td>\n",
              "      <td>0</td>\n",
              "      <td>0</td>\n",
              "      <td>0</td>\n",
              "      <td>0</td>\n",
              "      <td>0</td>\n",
              "      <td>0</td>\n",
              "      <td>0</td>\n",
              "      <td>1</td>\n",
              "      <td>0</td>\n",
              "      <td>0</td>\n",
              "      <td>1</td>\n",
              "      <td>0</td>\n",
              "    </tr>\n",
              "    <tr>\n",
              "      <th>6919</th>\n",
              "      <td>9929</td>\n",
              "      <td>0</td>\n",
              "      <td>0</td>\n",
              "      <td>0</td>\n",
              "      <td>0</td>\n",
              "      <td>1</td>\n",
              "      <td>0</td>\n",
              "      <td>0</td>\n",
              "      <td>0</td>\n",
              "      <td>0</td>\n",
              "      <td>0</td>\n",
              "      <td>0</td>\n",
              "      <td>0</td>\n",
              "      <td>0</td>\n",
              "      <td>0</td>\n",
              "      <td>0</td>\n",
              "      <td>0</td>\n",
              "      <td>0</td>\n",
              "      <td>0</td>\n",
              "      <td>0</td>\n",
              "      <td>0</td>\n",
              "      <td>0</td>\n",
              "      <td>1</td>\n",
              "      <td>1</td>\n",
              "      <td>0</td>\n",
              "      <td>0</td>\n",
              "      <td>0</td>\n",
              "      <td>0</td>\n",
              "      <td>0</td>\n",
              "      <td>1</td>\n",
              "      <td>...</td>\n",
              "      <td>0</td>\n",
              "      <td>0</td>\n",
              "      <td>0</td>\n",
              "      <td>0</td>\n",
              "      <td>0</td>\n",
              "      <td>0</td>\n",
              "      <td>0</td>\n",
              "      <td>0</td>\n",
              "      <td>0</td>\n",
              "      <td>0</td>\n",
              "      <td>0</td>\n",
              "      <td>0</td>\n",
              "      <td>0</td>\n",
              "      <td>0</td>\n",
              "      <td>0</td>\n",
              "      <td>0</td>\n",
              "      <td>1</td>\n",
              "      <td>0</td>\n",
              "      <td>0</td>\n",
              "      <td>0</td>\n",
              "      <td>0</td>\n",
              "      <td>0</td>\n",
              "      <td>0</td>\n",
              "      <td>0</td>\n",
              "      <td>0</td>\n",
              "      <td>1</td>\n",
              "      <td>0</td>\n",
              "      <td>0</td>\n",
              "      <td>1</td>\n",
              "      <td>0</td>\n",
              "    </tr>\n",
              "    <tr>\n",
              "      <th>6923</th>\n",
              "      <td>9956</td>\n",
              "      <td>0</td>\n",
              "      <td>1</td>\n",
              "      <td>0</td>\n",
              "      <td>0</td>\n",
              "      <td>0</td>\n",
              "      <td>0</td>\n",
              "      <td>0</td>\n",
              "      <td>0</td>\n",
              "      <td>0</td>\n",
              "      <td>0</td>\n",
              "      <td>0</td>\n",
              "      <td>0</td>\n",
              "      <td>0</td>\n",
              "      <td>0</td>\n",
              "      <td>0</td>\n",
              "      <td>0</td>\n",
              "      <td>0</td>\n",
              "      <td>0</td>\n",
              "      <td>0</td>\n",
              "      <td>0</td>\n",
              "      <td>0</td>\n",
              "      <td>1</td>\n",
              "      <td>0</td>\n",
              "      <td>1</td>\n",
              "      <td>0</td>\n",
              "      <td>0</td>\n",
              "      <td>0</td>\n",
              "      <td>0</td>\n",
              "      <td>1</td>\n",
              "      <td>...</td>\n",
              "      <td>0</td>\n",
              "      <td>0</td>\n",
              "      <td>0</td>\n",
              "      <td>0</td>\n",
              "      <td>0</td>\n",
              "      <td>0</td>\n",
              "      <td>0</td>\n",
              "      <td>1</td>\n",
              "      <td>0</td>\n",
              "      <td>0</td>\n",
              "      <td>0</td>\n",
              "      <td>0</td>\n",
              "      <td>0</td>\n",
              "      <td>0</td>\n",
              "      <td>0</td>\n",
              "      <td>0</td>\n",
              "      <td>0</td>\n",
              "      <td>0</td>\n",
              "      <td>0</td>\n",
              "      <td>0</td>\n",
              "      <td>0</td>\n",
              "      <td>0</td>\n",
              "      <td>0</td>\n",
              "      <td>0</td>\n",
              "      <td>0</td>\n",
              "      <td>1</td>\n",
              "      <td>0</td>\n",
              "      <td>0</td>\n",
              "      <td>1</td>\n",
              "      <td>0</td>\n",
              "    </tr>\n",
              "    <tr>\n",
              "      <th>6930</th>\n",
              "      <td>9974</td>\n",
              "      <td>0</td>\n",
              "      <td>0</td>\n",
              "      <td>0</td>\n",
              "      <td>0</td>\n",
              "      <td>0</td>\n",
              "      <td>0</td>\n",
              "      <td>0</td>\n",
              "      <td>0</td>\n",
              "      <td>0</td>\n",
              "      <td>1</td>\n",
              "      <td>0</td>\n",
              "      <td>0</td>\n",
              "      <td>0</td>\n",
              "      <td>0</td>\n",
              "      <td>0</td>\n",
              "      <td>0</td>\n",
              "      <td>0</td>\n",
              "      <td>0</td>\n",
              "      <td>0</td>\n",
              "      <td>0</td>\n",
              "      <td>0</td>\n",
              "      <td>1</td>\n",
              "      <td>1</td>\n",
              "      <td>0</td>\n",
              "      <td>0</td>\n",
              "      <td>0</td>\n",
              "      <td>1</td>\n",
              "      <td>0</td>\n",
              "      <td>0</td>\n",
              "      <td>...</td>\n",
              "      <td>0</td>\n",
              "      <td>0</td>\n",
              "      <td>0</td>\n",
              "      <td>0</td>\n",
              "      <td>0</td>\n",
              "      <td>0</td>\n",
              "      <td>0</td>\n",
              "      <td>0</td>\n",
              "      <td>0</td>\n",
              "      <td>0</td>\n",
              "      <td>0</td>\n",
              "      <td>0</td>\n",
              "      <td>0</td>\n",
              "      <td>0</td>\n",
              "      <td>0</td>\n",
              "      <td>0</td>\n",
              "      <td>1</td>\n",
              "      <td>0</td>\n",
              "      <td>0</td>\n",
              "      <td>0</td>\n",
              "      <td>0</td>\n",
              "      <td>0</td>\n",
              "      <td>0</td>\n",
              "      <td>0</td>\n",
              "      <td>0</td>\n",
              "      <td>1</td>\n",
              "      <td>0</td>\n",
              "      <td>0</td>\n",
              "      <td>1</td>\n",
              "      <td>0</td>\n",
              "    </tr>\n",
              "  </tbody>\n",
              "</table>\n",
              "<p>3520 rows × 179 columns</p>\n",
              "</div>"
            ],
            "text/plain": [
              "       sku  shelf_amt  <= $44  $44-51  $51-58  $58-69  $69-77  $77-88  \\\n",
              "0       12          0       0       0       0       0       0       0   \n",
              "5       37          0       0       0       0       0       0       0   \n",
              "55      81          0       0       0       0       0       0       0   \n",
              "69     147          0       0       0       0       0       0       0   \n",
              "79     206          0       0       0       0       0       0       1   \n",
              "...    ...        ...     ...     ...     ...     ...     ...     ...   \n",
              "6903  9890          0       1       0       0       0       0       0   \n",
              "6913  9908          0       0       0       0       0       0       1   \n",
              "6919  9929          0       0       0       0       1       0       0   \n",
              "6923  9956          0       1       0       0       0       0       0   \n",
              "6930  9974          0       0       0       0       0       0       0   \n",
              "\n",
              "      $88-101  $101-119  $119-143   >= $143  CANADA  GERMANY  INDIA  ITALY  \\\n",
              "0           0         0         0         1       1        0      0      0   \n",
              "5           1         0         0         0       1        0      0      0   \n",
              "55          0         0         1         0       1        0      0      0   \n",
              "69          0         0         0         1       1        0      0      0   \n",
              "79          0         0         0         0       1        0      0      0   \n",
              "...       ...       ...       ...       ...     ...      ...    ...    ...   \n",
              "6903        0         0         0         0       0        0      0      0   \n",
              "6913        0         0         0         0       0        0      0      0   \n",
              "6919        0         0         0         0       0        0      0      0   \n",
              "6923        0         0         0         0       0        0      0      0   \n",
              "6930        0         0         1         0       0        0      0      0   \n",
              "\n",
              "      JAPAN  KOREA  MEXICO  RUSSIA  SPAIN  UNITED KINGDOM  UNITED STATES  \\\n",
              "0         0      0       0       0      0               0              0   \n",
              "5         0      0       0       0      0               0              0   \n",
              "55        0      0       0       0      0               0              0   \n",
              "69        0      0       0       0      0               0              0   \n",
              "79        0      0       0       0      0               0              0   \n",
              "...     ...    ...     ...     ...    ...             ...            ...   \n",
              "6903      0      0       0       0      0               0              1   \n",
              "6913      0      0       0       0      0               0              1   \n",
              "6919      0      0       0       0      0               0              1   \n",
              "6923      0      0       0       0      0               0              1   \n",
              "6930      0      0       0       0      0               0              1   \n",
              "\n",
              "      ADULT  GRADE SCHOOL  PRE SCHOOL  TODDLER  capsule  liquid  powder  ...  \\\n",
              "0         1             0           0        0        0       0       1  ...   \n",
              "5         1             0           0        0        0       0       1  ...   \n",
              "55        1             0           0        0        1       0       0  ...   \n",
              "69        1             0           0        0        1       0       0  ...   \n",
              "79        1             0           0        0        0       0       1  ...   \n",
              "...     ...           ...         ...      ...      ...     ...     ...  ...   \n",
              "6903      0             1           0        0        0       1       0  ...   \n",
              "6913      1             0           0        0        0       0       1  ...   \n",
              "6919      1             0           0        0        0       0       1  ...   \n",
              "6923      0             1           0        0        0       0       1  ...   \n",
              "6930      1             0           0        0        1       0       0  ...   \n",
              "\n",
              "      Z762  Z778  Z966  PATENT 1030  PATENT 2461  PATENT 2876  PATENT 3279  \\\n",
              "0        0     0     0            1            0            0            0   \n",
              "5        0     0     0            0            0            0            0   \n",
              "55       0     0     0            1            0            0            0   \n",
              "69       0     0     0            0            0            0            0   \n",
              "79       0     0     0            0            0            0            0   \n",
              "...    ...   ...   ...          ...          ...          ...          ...   \n",
              "6903     0     0     0            0            0            0            0   \n",
              "6913     0     0     0            0            0            0            0   \n",
              "6919     0     0     0            0            0            0            0   \n",
              "6923     0     0     0            0            0            0            0   \n",
              "6930     0     0     0            0            0            0            0   \n",
              "\n",
              "      PATENT 4090  PATENT 4533  PATENT 456  PATENT 4566  PATENT 5281  \\\n",
              "0               0            0           0            0            0   \n",
              "5               1            0           0            0            0   \n",
              "55              0            0           0            0            0   \n",
              "69              0            1           0            0            0   \n",
              "79              0            0           0            1            0   \n",
              "...           ...          ...         ...          ...          ...   \n",
              "6903            1            1           0            0            0   \n",
              "6913            0            0           0            0            0   \n",
              "6919            0            0           0            0            0   \n",
              "6923            1            0           0            0            0   \n",
              "6930            0            0           0            0            0   \n",
              "\n",
              "      PATENT 5514  PATENT 5726  PATENT 6776  PATENT 7883  PATENT 8830  \\\n",
              "0               0            0            0            0            0   \n",
              "5               0            1            0            0            0   \n",
              "55              0            0            0            0            0   \n",
              "69              0            0            0            0            0   \n",
              "79              1            0            0            0            1   \n",
              "...           ...          ...          ...          ...          ...   \n",
              "6903            0            0            1            0            0   \n",
              "6913            0            0            0            0            1   \n",
              "6919            0            0            0            0            1   \n",
              "6923            0            0            0            0            0   \n",
              "6930            0            0            0            0            1   \n",
              "\n",
              "      PATENT 8895  PATENT 8924  PATENT 8998  PATENT 9404  PATENT 9545  \\\n",
              "0               0            0            0            0            0   \n",
              "5               0            0            0            0            0   \n",
              "55              0            0            0            0            0   \n",
              "69              0            0            0            0            0   \n",
              "79              0            0            0            0            0   \n",
              "...           ...          ...          ...          ...          ...   \n",
              "6903            0            0            0            0            0   \n",
              "6913            0            0            0            0            0   \n",
              "6919            0            0            0            0            0   \n",
              "6923            0            0            0            0            0   \n",
              "6930            0            0            0            0            0   \n",
              "\n",
              "      PATENT 9568  2014  2015  2016  FA  SP  SU  WI  \n",
              "0               0     0     0     1   0   0   1   0  \n",
              "5               0     0     0     1   0   0   1   0  \n",
              "55              0     0     0     1   0   0   1   0  \n",
              "69              0     0     0     1   0   0   1   0  \n",
              "79              0     0     0     1   0   0   1   0  \n",
              "...           ...   ...   ...   ...  ..  ..  ..  ..  \n",
              "6903            0     0     0     1   0   0   1   0  \n",
              "6913            0     0     0     1   0   0   1   0  \n",
              "6919            0     0     0     1   0   0   1   0  \n",
              "6923            0     0     0     1   0   0   1   0  \n",
              "6930            0     0     0     1   0   0   1   0  \n",
              "\n",
              "[3520 rows x 179 columns]"
            ]
          },
          "metadata": {
            "tags": []
          },
          "execution_count": 105
        }
      ]
    },
    {
      "cell_type": "code",
      "metadata": {
        "id": "MbdfgXyF5iEP",
        "colab_type": "code",
        "colab": {
          "base_uri": "https://localhost:8080/",
          "height": 68
        },
        "outputId": "1e4bec50-b85a-4b4a-fabd-49cb09b971bf"
      },
      "source": [
        "# make prediction at sku/location level\n",
        "predict_y = rf_best.predict(predict_X2.drop(['sku'], axis=1))"
      ],
      "execution_count": 106,
      "outputs": [
        {
          "output_type": "stream",
          "text": [
            "[Parallel(n_jobs=6)]: Using backend ThreadingBackend with 6 concurrent workers.\n",
            "[Parallel(n_jobs=6)]: Done  38 tasks      | elapsed:    0.0s\n",
            "[Parallel(n_jobs=6)]: Done  50 out of  50 | elapsed:    0.0s finished\n"
          ],
          "name": "stderr"
        }
      ]
    },
    {
      "cell_type": "code",
      "metadata": {
        "id": "4f3xMCFM5jvC",
        "colab_type": "code",
        "colab": {}
      },
      "source": [
        "# format the final output for existing product\n",
        "pred_output = pd.DataFrame()\n",
        "pred_output['sku'] = predict_X2['sku']\n",
        "pred_output['quarter'] = 'SU2016'\n",
        "pred_output['pred_sales'] = np.around(predict_y, decimals = 0) # round to 0 decimal"
      ],
      "execution_count": 0,
      "outputs": []
    },
    {
      "cell_type": "code",
      "metadata": {
        "id": "6lP4vQhK_poU",
        "colab_type": "code",
        "colab": {
          "base_uri": "https://localhost:8080/",
          "height": 419
        },
        "outputId": "eac14223-2d2d-4861-e9b6-a9ce7e437030"
      },
      "source": [
        "pred_output"
      ],
      "execution_count": 109,
      "outputs": [
        {
          "output_type": "execute_result",
          "data": {
            "text/html": [
              "<div>\n",
              "<style scoped>\n",
              "    .dataframe tbody tr th:only-of-type {\n",
              "        vertical-align: middle;\n",
              "    }\n",
              "\n",
              "    .dataframe tbody tr th {\n",
              "        vertical-align: top;\n",
              "    }\n",
              "\n",
              "    .dataframe thead th {\n",
              "        text-align: right;\n",
              "    }\n",
              "</style>\n",
              "<table border=\"1\" class=\"dataframe\">\n",
              "  <thead>\n",
              "    <tr style=\"text-align: right;\">\n",
              "      <th></th>\n",
              "      <th>sku</th>\n",
              "      <th>quarter</th>\n",
              "      <th>pred_sales</th>\n",
              "    </tr>\n",
              "  </thead>\n",
              "  <tbody>\n",
              "    <tr>\n",
              "      <th>0</th>\n",
              "      <td>12</td>\n",
              "      <td>SU2016</td>\n",
              "      <td>16.000</td>\n",
              "    </tr>\n",
              "    <tr>\n",
              "      <th>5</th>\n",
              "      <td>37</td>\n",
              "      <td>SU2016</td>\n",
              "      <td>92.000</td>\n",
              "    </tr>\n",
              "    <tr>\n",
              "      <th>55</th>\n",
              "      <td>81</td>\n",
              "      <td>SU2016</td>\n",
              "      <td>95.000</td>\n",
              "    </tr>\n",
              "    <tr>\n",
              "      <th>69</th>\n",
              "      <td>147</td>\n",
              "      <td>SU2016</td>\n",
              "      <td>7.000</td>\n",
              "    </tr>\n",
              "    <tr>\n",
              "      <th>79</th>\n",
              "      <td>206</td>\n",
              "      <td>SU2016</td>\n",
              "      <td>8.000</td>\n",
              "    </tr>\n",
              "    <tr>\n",
              "      <th>...</th>\n",
              "      <td>...</td>\n",
              "      <td>...</td>\n",
              "      <td>...</td>\n",
              "    </tr>\n",
              "    <tr>\n",
              "      <th>6903</th>\n",
              "      <td>9890</td>\n",
              "      <td>SU2016</td>\n",
              "      <td>44.000</td>\n",
              "    </tr>\n",
              "    <tr>\n",
              "      <th>6913</th>\n",
              "      <td>9908</td>\n",
              "      <td>SU2016</td>\n",
              "      <td>13.000</td>\n",
              "    </tr>\n",
              "    <tr>\n",
              "      <th>6919</th>\n",
              "      <td>9929</td>\n",
              "      <td>SU2016</td>\n",
              "      <td>11.000</td>\n",
              "    </tr>\n",
              "    <tr>\n",
              "      <th>6923</th>\n",
              "      <td>9956</td>\n",
              "      <td>SU2016</td>\n",
              "      <td>44.000</td>\n",
              "    </tr>\n",
              "    <tr>\n",
              "      <th>6930</th>\n",
              "      <td>9974</td>\n",
              "      <td>SU2016</td>\n",
              "      <td>12.000</td>\n",
              "    </tr>\n",
              "  </tbody>\n",
              "</table>\n",
              "<p>3520 rows × 3 columns</p>\n",
              "</div>"
            ],
            "text/plain": [
              "       sku quarter  pred_sales\n",
              "0       12  SU2016      16.000\n",
              "5       37  SU2016      92.000\n",
              "55      81  SU2016      95.000\n",
              "69     147  SU2016       7.000\n",
              "79     206  SU2016       8.000\n",
              "...    ...     ...         ...\n",
              "6903  9890  SU2016      44.000\n",
              "6913  9908  SU2016      13.000\n",
              "6919  9929  SU2016      11.000\n",
              "6923  9956  SU2016      44.000\n",
              "6930  9974  SU2016      12.000\n",
              "\n",
              "[3520 rows x 3 columns]"
            ]
          },
          "metadata": {
            "tags": []
          },
          "execution_count": 109
        }
      ]
    },
    {
      "cell_type": "code",
      "metadata": {
        "id": "kBQplvbk5m5r",
        "colab_type": "code",
        "colab": {}
      },
      "source": [
        "# aggregate at sku level only, i.e. sum all locations per sku\n",
        "function_5 = {'pred_sales' : 'sum'}\n",
        "pred_output= pred_output.groupby(['sku','quarter'], as_index = False).agg(function_5)"
      ],
      "execution_count": 0,
      "outputs": []
    },
    {
      "cell_type": "code",
      "metadata": {
        "id": "KOvcD4Dx_8fE",
        "colab_type": "code",
        "colab": {
          "base_uri": "https://localhost:8080/",
          "height": 419
        },
        "outputId": "d072824b-c207-40bf-ec96-aa76a28d2d01"
      },
      "source": [
        "pred_output"
      ],
      "execution_count": 111,
      "outputs": [
        {
          "output_type": "execute_result",
          "data": {
            "text/html": [
              "<div>\n",
              "<style scoped>\n",
              "    .dataframe tbody tr th:only-of-type {\n",
              "        vertical-align: middle;\n",
              "    }\n",
              "\n",
              "    .dataframe tbody tr th {\n",
              "        vertical-align: top;\n",
              "    }\n",
              "\n",
              "    .dataframe thead th {\n",
              "        text-align: right;\n",
              "    }\n",
              "</style>\n",
              "<table border=\"1\" class=\"dataframe\">\n",
              "  <thead>\n",
              "    <tr style=\"text-align: right;\">\n",
              "      <th></th>\n",
              "      <th>sku</th>\n",
              "      <th>quarter</th>\n",
              "      <th>pred_sales</th>\n",
              "    </tr>\n",
              "  </thead>\n",
              "  <tbody>\n",
              "    <tr>\n",
              "      <th>0</th>\n",
              "      <td>12</td>\n",
              "      <td>SU2016</td>\n",
              "      <td>184.000</td>\n",
              "    </tr>\n",
              "    <tr>\n",
              "      <th>1</th>\n",
              "      <td>37</td>\n",
              "      <td>SU2016</td>\n",
              "      <td>1022.000</td>\n",
              "    </tr>\n",
              "    <tr>\n",
              "      <th>2</th>\n",
              "      <td>81</td>\n",
              "      <td>SU2016</td>\n",
              "      <td>975.000</td>\n",
              "    </tr>\n",
              "    <tr>\n",
              "      <th>3</th>\n",
              "      <td>147</td>\n",
              "      <td>SU2016</td>\n",
              "      <td>95.000</td>\n",
              "    </tr>\n",
              "    <tr>\n",
              "      <th>4</th>\n",
              "      <td>206</td>\n",
              "      <td>SU2016</td>\n",
              "      <td>1612.000</td>\n",
              "    </tr>\n",
              "    <tr>\n",
              "      <th>...</th>\n",
              "      <td>...</td>\n",
              "      <td>...</td>\n",
              "      <td>...</td>\n",
              "    </tr>\n",
              "    <tr>\n",
              "      <th>315</th>\n",
              "      <td>9890</td>\n",
              "      <td>SU2016</td>\n",
              "      <td>322.000</td>\n",
              "    </tr>\n",
              "    <tr>\n",
              "      <th>316</th>\n",
              "      <td>9908</td>\n",
              "      <td>SU2016</td>\n",
              "      <td>1550.000</td>\n",
              "    </tr>\n",
              "    <tr>\n",
              "      <th>317</th>\n",
              "      <td>9929</td>\n",
              "      <td>SU2016</td>\n",
              "      <td>143.000</td>\n",
              "    </tr>\n",
              "    <tr>\n",
              "      <th>318</th>\n",
              "      <td>9956</td>\n",
              "      <td>SU2016</td>\n",
              "      <td>214.000</td>\n",
              "    </tr>\n",
              "    <tr>\n",
              "      <th>319</th>\n",
              "      <td>9974</td>\n",
              "      <td>SU2016</td>\n",
              "      <td>272.000</td>\n",
              "    </tr>\n",
              "  </tbody>\n",
              "</table>\n",
              "<p>320 rows × 3 columns</p>\n",
              "</div>"
            ],
            "text/plain": [
              "      sku quarter  pred_sales\n",
              "0      12  SU2016     184.000\n",
              "1      37  SU2016    1022.000\n",
              "2      81  SU2016     975.000\n",
              "3     147  SU2016      95.000\n",
              "4     206  SU2016    1612.000\n",
              "..    ...     ...         ...\n",
              "315  9890  SU2016     322.000\n",
              "316  9908  SU2016    1550.000\n",
              "317  9929  SU2016     143.000\n",
              "318  9956  SU2016     214.000\n",
              "319  9974  SU2016     272.000\n",
              "\n",
              "[320 rows x 3 columns]"
            ]
          },
          "metadata": {
            "tags": []
          },
          "execution_count": 111
        }
      ]
    },
    {
      "cell_type": "markdown",
      "metadata": {
        "id": "MHCqv2n0AGmM",
        "colab_type": "text"
      },
      "source": [
        "### 87 new product prediction"
      ]
    },
    {
      "cell_type": "markdown",
      "metadata": {
        "id": "fIpO2OAv6t0p",
        "colab_type": "text"
      },
      "source": [
        "The model for the 87 new products was trained using existing products' features. We need to modify the new_nw dataframe to match the columns in the training dataset (similar_new_2)"
      ]
    },
    {
      "cell_type": "code",
      "metadata": {
        "id": "hffcCU2kCxJD",
        "colab_type": "code",
        "colab": {}
      },
      "source": [
        "#new_nw is the dataset after feature preprocessing\n",
        "new_predict_X = new_nw.copy(deep = True)"
      ],
      "execution_count": 0,
      "outputs": []
    },
    {
      "cell_type": "code",
      "metadata": {
        "id": "DiNlvBMYMuMU",
        "colab_type": "code",
        "colab": {}
      },
      "source": [
        "#for whatever col new_predict_X doesn't have, we will add on with value 0\n",
        "#but we need to care take of locations separately because we want the products to be sold at each of the 11 locations, thus values need to be 1\n",
        "for i in ['CANADA', 'GERMANY', 'INDIA', 'ITALY', 'JAPAN', 'KOREA', 'MEXICO', 'RUSSIA', 'SPAIN', 'UNITED KINGDOM', 'UNITED STATES']:\n",
        "          new_predict_X[i] = 0\n",
        "\n",
        "appended_data2 = []\n",
        "\n",
        "for i in ['CANADA', 'GERMANY', 'INDIA', 'ITALY', 'JAPAN', 'KOREA', 'MEXICO', 'RUSSIA', 'SPAIN', 'UNITED KINGDOM', 'UNITED STATES']:\n",
        "          tmp = new_predict_X.copy(deep = True)\n",
        "          tmp[i] = 1\n",
        "          appended_data2.append(tmp)"
      ],
      "execution_count": 0,
      "outputs": []
    },
    {
      "cell_type": "code",
      "metadata": {
        "id": "2FLVaN2INShe",
        "colab_type": "code",
        "colab": {}
      },
      "source": [
        "appended_data2 = pd.concat(appended_data2)\n",
        "new_predict_X2 = appended_data2.drop_duplicates()"
      ],
      "execution_count": 0,
      "outputs": []
    },
    {
      "cell_type": "code",
      "metadata": {
        "id": "1G5BIpHYNc1h",
        "colab_type": "code",
        "colab": {}
      },
      "source": [
        "new_predict_X2_sku = new_predict_X2['sku']"
      ],
      "execution_count": 0,
      "outputs": []
    },
    {
      "cell_type": "code",
      "metadata": {
        "id": "jOH2ljFfNfrI",
        "colab_type": "code",
        "colab": {}
      },
      "source": [
        "# find if any new dummy columns show up, if yes, delete them, since they do not exist in training data\n",
        "diff_new = list((set(new_predict_X2.columns) - set(similar_new_2_train_X.columns)))\n",
        "if len(diff_new) != 0:\n",
        "    new_predict_X2.drop(diff_new, axis = 1, inplace =True)"
      ],
      "execution_count": 0,
      "outputs": []
    },
    {
      "cell_type": "code",
      "metadata": {
        "id": "GfrwcPLANl5V",
        "colab_type": "code",
        "colab": {}
      },
      "source": [
        "# Get missing columns in the training data 'similar_new_2_train_X', including shelf_amt, 2014, 2015, 2016 and season names\n",
        "missing_cols_new = set(similar_new_2_train_X.columns) - set(new_predict_X2.columns)\n",
        "# Add a missing column in test set with default value equal to 0\n",
        "for s in missing_cols_new:\n",
        "    new_predict_X2[s] = 0"
      ],
      "execution_count": 0,
      "outputs": []
    },
    {
      "cell_type": "code",
      "metadata": {
        "id": "Bbkjv2VMNqpE",
        "colab_type": "code",
        "colab": {
          "base_uri": "https://localhost:8080/",
          "height": 51
        },
        "outputId": "b036179a-ffc9-448c-e681-cf977ad904c3"
      },
      "source": [
        "print(similar_new_2_train_X.shape)\n",
        "print(new_predict_X2.shape) #more than 87 because we have added multiple locations"
      ],
      "execution_count": 118,
      "outputs": [
        {
          "output_type": "stream",
          "text": [
            "(3104, 133)\n",
            "(957, 133)\n"
          ],
          "name": "stdout"
        }
      ]
    },
    {
      "cell_type": "code",
      "metadata": {
        "id": "YPxyNTApN53w",
        "colab_type": "code",
        "colab": {
          "base_uri": "https://localhost:8080/",
          "height": 456
        },
        "outputId": "51fe08b2-5105-4939-adbb-9dd51ef1edd7"
      },
      "source": [
        "new_predict_X2"
      ],
      "execution_count": 119,
      "outputs": [
        {
          "output_type": "execute_result",
          "data": {
            "text/html": [
              "<div>\n",
              "<style scoped>\n",
              "    .dataframe tbody tr th:only-of-type {\n",
              "        vertical-align: middle;\n",
              "    }\n",
              "\n",
              "    .dataframe tbody tr th {\n",
              "        vertical-align: top;\n",
              "    }\n",
              "\n",
              "    .dataframe thead th {\n",
              "        text-align: right;\n",
              "    }\n",
              "</style>\n",
              "<table border=\"1\" class=\"dataframe\">\n",
              "  <thead>\n",
              "    <tr style=\"text-align: right;\">\n",
              "      <th></th>\n",
              "      <th>&lt;= $44</th>\n",
              "      <th>$44-51</th>\n",
              "      <th>$51-58</th>\n",
              "      <th>$58-69</th>\n",
              "      <th>$69-77</th>\n",
              "      <th>$77-88</th>\n",
              "      <th>$88-101</th>\n",
              "      <th>$101-119</th>\n",
              "      <th>$119-143</th>\n",
              "      <th>&gt;= $143</th>\n",
              "      <th>ADULT</th>\n",
              "      <th>GRADE SCHOOL</th>\n",
              "      <th>PRE SCHOOL</th>\n",
              "      <th>TODDLER</th>\n",
              "      <th>capsule</th>\n",
              "      <th>liquid</th>\n",
              "      <th>powder</th>\n",
              "      <th>Calcium</th>\n",
              "      <th>Cranberry</th>\n",
              "      <th>Echinacea</th>\n",
              "      <th>FishOil</th>\n",
              "      <th>Ginger</th>\n",
              "      <th>Ginseng</th>\n",
              "      <th>GreenTea</th>\n",
              "      <th>Magnesium</th>\n",
              "      <th>Melatonin</th>\n",
              "      <th>MilkThistle</th>\n",
              "      <th>Omega3FattyAcid</th>\n",
              "      <th>Valerian</th>\n",
              "      <th>VitaminC</th>\n",
              "      <th>...</th>\n",
              "      <th>PATENT 456</th>\n",
              "      <th>PATENT 4566</th>\n",
              "      <th>PATENT 5281</th>\n",
              "      <th>PATENT 5514</th>\n",
              "      <th>PATENT 5726</th>\n",
              "      <th>PATENT 6776</th>\n",
              "      <th>PATENT 7883</th>\n",
              "      <th>PATENT 8830</th>\n",
              "      <th>PATENT 8895</th>\n",
              "      <th>PATENT 8998</th>\n",
              "      <th>PATENT 9568</th>\n",
              "      <th>CANADA</th>\n",
              "      <th>GERMANY</th>\n",
              "      <th>INDIA</th>\n",
              "      <th>ITALY</th>\n",
              "      <th>JAPAN</th>\n",
              "      <th>KOREA</th>\n",
              "      <th>MEXICO</th>\n",
              "      <th>RUSSIA</th>\n",
              "      <th>SPAIN</th>\n",
              "      <th>UNITED KINGDOM</th>\n",
              "      <th>UNITED STATES</th>\n",
              "      <th>SU</th>\n",
              "      <th>2016</th>\n",
              "      <th>2014</th>\n",
              "      <th>WI</th>\n",
              "      <th>2015</th>\n",
              "      <th>shelf_amt</th>\n",
              "      <th>FA</th>\n",
              "      <th>SP</th>\n",
              "    </tr>\n",
              "  </thead>\n",
              "  <tbody>\n",
              "    <tr>\n",
              "      <th>5</th>\n",
              "      <td>0</td>\n",
              "      <td>0</td>\n",
              "      <td>0</td>\n",
              "      <td>0</td>\n",
              "      <td>1</td>\n",
              "      <td>0</td>\n",
              "      <td>0</td>\n",
              "      <td>0</td>\n",
              "      <td>0</td>\n",
              "      <td>0</td>\n",
              "      <td>0</td>\n",
              "      <td>1</td>\n",
              "      <td>0</td>\n",
              "      <td>0</td>\n",
              "      <td>0</td>\n",
              "      <td>0</td>\n",
              "      <td>1</td>\n",
              "      <td>0</td>\n",
              "      <td>0</td>\n",
              "      <td>0</td>\n",
              "      <td>1</td>\n",
              "      <td>0</td>\n",
              "      <td>0</td>\n",
              "      <td>0</td>\n",
              "      <td>0</td>\n",
              "      <td>0</td>\n",
              "      <td>0</td>\n",
              "      <td>0</td>\n",
              "      <td>0</td>\n",
              "      <td>0</td>\n",
              "      <td>...</td>\n",
              "      <td>1</td>\n",
              "      <td>0</td>\n",
              "      <td>0</td>\n",
              "      <td>0</td>\n",
              "      <td>1</td>\n",
              "      <td>0</td>\n",
              "      <td>0</td>\n",
              "      <td>0</td>\n",
              "      <td>0</td>\n",
              "      <td>0</td>\n",
              "      <td>0</td>\n",
              "      <td>1</td>\n",
              "      <td>0</td>\n",
              "      <td>0</td>\n",
              "      <td>0</td>\n",
              "      <td>0</td>\n",
              "      <td>0</td>\n",
              "      <td>0</td>\n",
              "      <td>0</td>\n",
              "      <td>0</td>\n",
              "      <td>0</td>\n",
              "      <td>0</td>\n",
              "      <td>0</td>\n",
              "      <td>0</td>\n",
              "      <td>0</td>\n",
              "      <td>0</td>\n",
              "      <td>0</td>\n",
              "      <td>0</td>\n",
              "      <td>0</td>\n",
              "      <td>0</td>\n",
              "    </tr>\n",
              "    <tr>\n",
              "      <th>8</th>\n",
              "      <td>0</td>\n",
              "      <td>0</td>\n",
              "      <td>0</td>\n",
              "      <td>0</td>\n",
              "      <td>0</td>\n",
              "      <td>0</td>\n",
              "      <td>0</td>\n",
              "      <td>0</td>\n",
              "      <td>0</td>\n",
              "      <td>1</td>\n",
              "      <td>1</td>\n",
              "      <td>0</td>\n",
              "      <td>0</td>\n",
              "      <td>0</td>\n",
              "      <td>0</td>\n",
              "      <td>0</td>\n",
              "      <td>1</td>\n",
              "      <td>0</td>\n",
              "      <td>0</td>\n",
              "      <td>0</td>\n",
              "      <td>0</td>\n",
              "      <td>0</td>\n",
              "      <td>0</td>\n",
              "      <td>0</td>\n",
              "      <td>0</td>\n",
              "      <td>0</td>\n",
              "      <td>0</td>\n",
              "      <td>0</td>\n",
              "      <td>0</td>\n",
              "      <td>0</td>\n",
              "      <td>...</td>\n",
              "      <td>0</td>\n",
              "      <td>0</td>\n",
              "      <td>0</td>\n",
              "      <td>0</td>\n",
              "      <td>0</td>\n",
              "      <td>0</td>\n",
              "      <td>0</td>\n",
              "      <td>0</td>\n",
              "      <td>0</td>\n",
              "      <td>0</td>\n",
              "      <td>0</td>\n",
              "      <td>1</td>\n",
              "      <td>0</td>\n",
              "      <td>0</td>\n",
              "      <td>0</td>\n",
              "      <td>0</td>\n",
              "      <td>0</td>\n",
              "      <td>0</td>\n",
              "      <td>0</td>\n",
              "      <td>0</td>\n",
              "      <td>0</td>\n",
              "      <td>0</td>\n",
              "      <td>0</td>\n",
              "      <td>0</td>\n",
              "      <td>0</td>\n",
              "      <td>0</td>\n",
              "      <td>0</td>\n",
              "      <td>0</td>\n",
              "      <td>0</td>\n",
              "      <td>0</td>\n",
              "    </tr>\n",
              "    <tr>\n",
              "      <th>11</th>\n",
              "      <td>0</td>\n",
              "      <td>0</td>\n",
              "      <td>0</td>\n",
              "      <td>0</td>\n",
              "      <td>0</td>\n",
              "      <td>1</td>\n",
              "      <td>0</td>\n",
              "      <td>0</td>\n",
              "      <td>0</td>\n",
              "      <td>0</td>\n",
              "      <td>0</td>\n",
              "      <td>1</td>\n",
              "      <td>0</td>\n",
              "      <td>0</td>\n",
              "      <td>0</td>\n",
              "      <td>0</td>\n",
              "      <td>1</td>\n",
              "      <td>0</td>\n",
              "      <td>0</td>\n",
              "      <td>0</td>\n",
              "      <td>1</td>\n",
              "      <td>0</td>\n",
              "      <td>0</td>\n",
              "      <td>0</td>\n",
              "      <td>0</td>\n",
              "      <td>0</td>\n",
              "      <td>0</td>\n",
              "      <td>0</td>\n",
              "      <td>0</td>\n",
              "      <td>0</td>\n",
              "      <td>...</td>\n",
              "      <td>0</td>\n",
              "      <td>0</td>\n",
              "      <td>0</td>\n",
              "      <td>0</td>\n",
              "      <td>0</td>\n",
              "      <td>0</td>\n",
              "      <td>0</td>\n",
              "      <td>1</td>\n",
              "      <td>0</td>\n",
              "      <td>0</td>\n",
              "      <td>0</td>\n",
              "      <td>1</td>\n",
              "      <td>0</td>\n",
              "      <td>0</td>\n",
              "      <td>0</td>\n",
              "      <td>0</td>\n",
              "      <td>0</td>\n",
              "      <td>0</td>\n",
              "      <td>0</td>\n",
              "      <td>0</td>\n",
              "      <td>0</td>\n",
              "      <td>0</td>\n",
              "      <td>0</td>\n",
              "      <td>0</td>\n",
              "      <td>0</td>\n",
              "      <td>0</td>\n",
              "      <td>0</td>\n",
              "      <td>0</td>\n",
              "      <td>0</td>\n",
              "      <td>0</td>\n",
              "    </tr>\n",
              "    <tr>\n",
              "      <th>23</th>\n",
              "      <td>0</td>\n",
              "      <td>0</td>\n",
              "      <td>0</td>\n",
              "      <td>1</td>\n",
              "      <td>0</td>\n",
              "      <td>0</td>\n",
              "      <td>0</td>\n",
              "      <td>0</td>\n",
              "      <td>0</td>\n",
              "      <td>0</td>\n",
              "      <td>1</td>\n",
              "      <td>0</td>\n",
              "      <td>0</td>\n",
              "      <td>0</td>\n",
              "      <td>0</td>\n",
              "      <td>0</td>\n",
              "      <td>1</td>\n",
              "      <td>0</td>\n",
              "      <td>0</td>\n",
              "      <td>0</td>\n",
              "      <td>0</td>\n",
              "      <td>0</td>\n",
              "      <td>0</td>\n",
              "      <td>0</td>\n",
              "      <td>0</td>\n",
              "      <td>0</td>\n",
              "      <td>0</td>\n",
              "      <td>1</td>\n",
              "      <td>0</td>\n",
              "      <td>0</td>\n",
              "      <td>...</td>\n",
              "      <td>1</td>\n",
              "      <td>0</td>\n",
              "      <td>0</td>\n",
              "      <td>0</td>\n",
              "      <td>0</td>\n",
              "      <td>0</td>\n",
              "      <td>0</td>\n",
              "      <td>0</td>\n",
              "      <td>0</td>\n",
              "      <td>0</td>\n",
              "      <td>0</td>\n",
              "      <td>1</td>\n",
              "      <td>0</td>\n",
              "      <td>0</td>\n",
              "      <td>0</td>\n",
              "      <td>0</td>\n",
              "      <td>0</td>\n",
              "      <td>0</td>\n",
              "      <td>0</td>\n",
              "      <td>0</td>\n",
              "      <td>0</td>\n",
              "      <td>0</td>\n",
              "      <td>0</td>\n",
              "      <td>0</td>\n",
              "      <td>0</td>\n",
              "      <td>0</td>\n",
              "      <td>0</td>\n",
              "      <td>0</td>\n",
              "      <td>0</td>\n",
              "      <td>0</td>\n",
              "    </tr>\n",
              "    <tr>\n",
              "      <th>30</th>\n",
              "      <td>0</td>\n",
              "      <td>0</td>\n",
              "      <td>0</td>\n",
              "      <td>0</td>\n",
              "      <td>0</td>\n",
              "      <td>0</td>\n",
              "      <td>1</td>\n",
              "      <td>0</td>\n",
              "      <td>0</td>\n",
              "      <td>0</td>\n",
              "      <td>0</td>\n",
              "      <td>1</td>\n",
              "      <td>0</td>\n",
              "      <td>0</td>\n",
              "      <td>1</td>\n",
              "      <td>0</td>\n",
              "      <td>0</td>\n",
              "      <td>0</td>\n",
              "      <td>0</td>\n",
              "      <td>0</td>\n",
              "      <td>1</td>\n",
              "      <td>0</td>\n",
              "      <td>0</td>\n",
              "      <td>0</td>\n",
              "      <td>0</td>\n",
              "      <td>0</td>\n",
              "      <td>0</td>\n",
              "      <td>0</td>\n",
              "      <td>0</td>\n",
              "      <td>0</td>\n",
              "      <td>...</td>\n",
              "      <td>0</td>\n",
              "      <td>0</td>\n",
              "      <td>0</td>\n",
              "      <td>0</td>\n",
              "      <td>0</td>\n",
              "      <td>0</td>\n",
              "      <td>0</td>\n",
              "      <td>1</td>\n",
              "      <td>0</td>\n",
              "      <td>0</td>\n",
              "      <td>0</td>\n",
              "      <td>1</td>\n",
              "      <td>0</td>\n",
              "      <td>0</td>\n",
              "      <td>0</td>\n",
              "      <td>0</td>\n",
              "      <td>0</td>\n",
              "      <td>0</td>\n",
              "      <td>0</td>\n",
              "      <td>0</td>\n",
              "      <td>0</td>\n",
              "      <td>0</td>\n",
              "      <td>0</td>\n",
              "      <td>0</td>\n",
              "      <td>0</td>\n",
              "      <td>0</td>\n",
              "      <td>0</td>\n",
              "      <td>0</td>\n",
              "      <td>0</td>\n",
              "      <td>0</td>\n",
              "    </tr>\n",
              "    <tr>\n",
              "      <th>...</th>\n",
              "      <td>...</td>\n",
              "      <td>...</td>\n",
              "      <td>...</td>\n",
              "      <td>...</td>\n",
              "      <td>...</td>\n",
              "      <td>...</td>\n",
              "      <td>...</td>\n",
              "      <td>...</td>\n",
              "      <td>...</td>\n",
              "      <td>...</td>\n",
              "      <td>...</td>\n",
              "      <td>...</td>\n",
              "      <td>...</td>\n",
              "      <td>...</td>\n",
              "      <td>...</td>\n",
              "      <td>...</td>\n",
              "      <td>...</td>\n",
              "      <td>...</td>\n",
              "      <td>...</td>\n",
              "      <td>...</td>\n",
              "      <td>...</td>\n",
              "      <td>...</td>\n",
              "      <td>...</td>\n",
              "      <td>...</td>\n",
              "      <td>...</td>\n",
              "      <td>...</td>\n",
              "      <td>...</td>\n",
              "      <td>...</td>\n",
              "      <td>...</td>\n",
              "      <td>...</td>\n",
              "      <td>...</td>\n",
              "      <td>...</td>\n",
              "      <td>...</td>\n",
              "      <td>...</td>\n",
              "      <td>...</td>\n",
              "      <td>...</td>\n",
              "      <td>...</td>\n",
              "      <td>...</td>\n",
              "      <td>...</td>\n",
              "      <td>...</td>\n",
              "      <td>...</td>\n",
              "      <td>...</td>\n",
              "      <td>...</td>\n",
              "      <td>...</td>\n",
              "      <td>...</td>\n",
              "      <td>...</td>\n",
              "      <td>...</td>\n",
              "      <td>...</td>\n",
              "      <td>...</td>\n",
              "      <td>...</td>\n",
              "      <td>...</td>\n",
              "      <td>...</td>\n",
              "      <td>...</td>\n",
              "      <td>...</td>\n",
              "      <td>...</td>\n",
              "      <td>...</td>\n",
              "      <td>...</td>\n",
              "      <td>...</td>\n",
              "      <td>...</td>\n",
              "      <td>...</td>\n",
              "      <td>...</td>\n",
              "    </tr>\n",
              "    <tr>\n",
              "      <th>360</th>\n",
              "      <td>0</td>\n",
              "      <td>0</td>\n",
              "      <td>0</td>\n",
              "      <td>0</td>\n",
              "      <td>1</td>\n",
              "      <td>0</td>\n",
              "      <td>0</td>\n",
              "      <td>0</td>\n",
              "      <td>0</td>\n",
              "      <td>0</td>\n",
              "      <td>1</td>\n",
              "      <td>0</td>\n",
              "      <td>0</td>\n",
              "      <td>0</td>\n",
              "      <td>1</td>\n",
              "      <td>0</td>\n",
              "      <td>0</td>\n",
              "      <td>0</td>\n",
              "      <td>0</td>\n",
              "      <td>0</td>\n",
              "      <td>0</td>\n",
              "      <td>0</td>\n",
              "      <td>0</td>\n",
              "      <td>0</td>\n",
              "      <td>1</td>\n",
              "      <td>0</td>\n",
              "      <td>0</td>\n",
              "      <td>0</td>\n",
              "      <td>0</td>\n",
              "      <td>0</td>\n",
              "      <td>...</td>\n",
              "      <td>0</td>\n",
              "      <td>0</td>\n",
              "      <td>0</td>\n",
              "      <td>0</td>\n",
              "      <td>0</td>\n",
              "      <td>0</td>\n",
              "      <td>0</td>\n",
              "      <td>0</td>\n",
              "      <td>0</td>\n",
              "      <td>0</td>\n",
              "      <td>0</td>\n",
              "      <td>0</td>\n",
              "      <td>0</td>\n",
              "      <td>0</td>\n",
              "      <td>0</td>\n",
              "      <td>0</td>\n",
              "      <td>0</td>\n",
              "      <td>0</td>\n",
              "      <td>0</td>\n",
              "      <td>0</td>\n",
              "      <td>0</td>\n",
              "      <td>1</td>\n",
              "      <td>0</td>\n",
              "      <td>0</td>\n",
              "      <td>0</td>\n",
              "      <td>0</td>\n",
              "      <td>0</td>\n",
              "      <td>0</td>\n",
              "      <td>0</td>\n",
              "      <td>0</td>\n",
              "    </tr>\n",
              "    <tr>\n",
              "      <th>370</th>\n",
              "      <td>0</td>\n",
              "      <td>0</td>\n",
              "      <td>1</td>\n",
              "      <td>0</td>\n",
              "      <td>0</td>\n",
              "      <td>0</td>\n",
              "      <td>0</td>\n",
              "      <td>0</td>\n",
              "      <td>0</td>\n",
              "      <td>0</td>\n",
              "      <td>0</td>\n",
              "      <td>0</td>\n",
              "      <td>0</td>\n",
              "      <td>1</td>\n",
              "      <td>0</td>\n",
              "      <td>0</td>\n",
              "      <td>1</td>\n",
              "      <td>1</td>\n",
              "      <td>0</td>\n",
              "      <td>0</td>\n",
              "      <td>0</td>\n",
              "      <td>0</td>\n",
              "      <td>0</td>\n",
              "      <td>0</td>\n",
              "      <td>0</td>\n",
              "      <td>0</td>\n",
              "      <td>0</td>\n",
              "      <td>0</td>\n",
              "      <td>0</td>\n",
              "      <td>0</td>\n",
              "      <td>...</td>\n",
              "      <td>0</td>\n",
              "      <td>0</td>\n",
              "      <td>0</td>\n",
              "      <td>0</td>\n",
              "      <td>0</td>\n",
              "      <td>0</td>\n",
              "      <td>0</td>\n",
              "      <td>0</td>\n",
              "      <td>0</td>\n",
              "      <td>0</td>\n",
              "      <td>0</td>\n",
              "      <td>0</td>\n",
              "      <td>0</td>\n",
              "      <td>0</td>\n",
              "      <td>0</td>\n",
              "      <td>0</td>\n",
              "      <td>0</td>\n",
              "      <td>0</td>\n",
              "      <td>0</td>\n",
              "      <td>0</td>\n",
              "      <td>0</td>\n",
              "      <td>1</td>\n",
              "      <td>0</td>\n",
              "      <td>0</td>\n",
              "      <td>0</td>\n",
              "      <td>0</td>\n",
              "      <td>0</td>\n",
              "      <td>0</td>\n",
              "      <td>0</td>\n",
              "      <td>0</td>\n",
              "    </tr>\n",
              "    <tr>\n",
              "      <th>374</th>\n",
              "      <td>0</td>\n",
              "      <td>0</td>\n",
              "      <td>0</td>\n",
              "      <td>0</td>\n",
              "      <td>0</td>\n",
              "      <td>0</td>\n",
              "      <td>0</td>\n",
              "      <td>1</td>\n",
              "      <td>0</td>\n",
              "      <td>0</td>\n",
              "      <td>1</td>\n",
              "      <td>0</td>\n",
              "      <td>0</td>\n",
              "      <td>0</td>\n",
              "      <td>0</td>\n",
              "      <td>0</td>\n",
              "      <td>1</td>\n",
              "      <td>0</td>\n",
              "      <td>0</td>\n",
              "      <td>0</td>\n",
              "      <td>0</td>\n",
              "      <td>0</td>\n",
              "      <td>0</td>\n",
              "      <td>0</td>\n",
              "      <td>1</td>\n",
              "      <td>0</td>\n",
              "      <td>0</td>\n",
              "      <td>0</td>\n",
              "      <td>0</td>\n",
              "      <td>0</td>\n",
              "      <td>...</td>\n",
              "      <td>0</td>\n",
              "      <td>0</td>\n",
              "      <td>0</td>\n",
              "      <td>0</td>\n",
              "      <td>0</td>\n",
              "      <td>0</td>\n",
              "      <td>0</td>\n",
              "      <td>1</td>\n",
              "      <td>0</td>\n",
              "      <td>0</td>\n",
              "      <td>0</td>\n",
              "      <td>0</td>\n",
              "      <td>0</td>\n",
              "      <td>0</td>\n",
              "      <td>0</td>\n",
              "      <td>0</td>\n",
              "      <td>0</td>\n",
              "      <td>0</td>\n",
              "      <td>0</td>\n",
              "      <td>0</td>\n",
              "      <td>0</td>\n",
              "      <td>1</td>\n",
              "      <td>0</td>\n",
              "      <td>0</td>\n",
              "      <td>0</td>\n",
              "      <td>0</td>\n",
              "      <td>0</td>\n",
              "      <td>0</td>\n",
              "      <td>0</td>\n",
              "      <td>0</td>\n",
              "    </tr>\n",
              "    <tr>\n",
              "      <th>385</th>\n",
              "      <td>0</td>\n",
              "      <td>1</td>\n",
              "      <td>0</td>\n",
              "      <td>0</td>\n",
              "      <td>0</td>\n",
              "      <td>0</td>\n",
              "      <td>0</td>\n",
              "      <td>0</td>\n",
              "      <td>0</td>\n",
              "      <td>0</td>\n",
              "      <td>0</td>\n",
              "      <td>1</td>\n",
              "      <td>0</td>\n",
              "      <td>0</td>\n",
              "      <td>0</td>\n",
              "      <td>0</td>\n",
              "      <td>1</td>\n",
              "      <td>0</td>\n",
              "      <td>0</td>\n",
              "      <td>0</td>\n",
              "      <td>1</td>\n",
              "      <td>0</td>\n",
              "      <td>0</td>\n",
              "      <td>0</td>\n",
              "      <td>0</td>\n",
              "      <td>0</td>\n",
              "      <td>0</td>\n",
              "      <td>0</td>\n",
              "      <td>0</td>\n",
              "      <td>0</td>\n",
              "      <td>...</td>\n",
              "      <td>0</td>\n",
              "      <td>0</td>\n",
              "      <td>1</td>\n",
              "      <td>0</td>\n",
              "      <td>0</td>\n",
              "      <td>0</td>\n",
              "      <td>0</td>\n",
              "      <td>0</td>\n",
              "      <td>0</td>\n",
              "      <td>0</td>\n",
              "      <td>0</td>\n",
              "      <td>0</td>\n",
              "      <td>0</td>\n",
              "      <td>0</td>\n",
              "      <td>0</td>\n",
              "      <td>0</td>\n",
              "      <td>0</td>\n",
              "      <td>0</td>\n",
              "      <td>0</td>\n",
              "      <td>0</td>\n",
              "      <td>0</td>\n",
              "      <td>1</td>\n",
              "      <td>0</td>\n",
              "      <td>0</td>\n",
              "      <td>0</td>\n",
              "      <td>0</td>\n",
              "      <td>0</td>\n",
              "      <td>0</td>\n",
              "      <td>0</td>\n",
              "      <td>0</td>\n",
              "    </tr>\n",
              "    <tr>\n",
              "      <th>396</th>\n",
              "      <td>0</td>\n",
              "      <td>0</td>\n",
              "      <td>0</td>\n",
              "      <td>1</td>\n",
              "      <td>0</td>\n",
              "      <td>0</td>\n",
              "      <td>0</td>\n",
              "      <td>0</td>\n",
              "      <td>0</td>\n",
              "      <td>0</td>\n",
              "      <td>1</td>\n",
              "      <td>0</td>\n",
              "      <td>0</td>\n",
              "      <td>0</td>\n",
              "      <td>0</td>\n",
              "      <td>0</td>\n",
              "      <td>1</td>\n",
              "      <td>0</td>\n",
              "      <td>0</td>\n",
              "      <td>0</td>\n",
              "      <td>0</td>\n",
              "      <td>0</td>\n",
              "      <td>0</td>\n",
              "      <td>0</td>\n",
              "      <td>0</td>\n",
              "      <td>0</td>\n",
              "      <td>0</td>\n",
              "      <td>0</td>\n",
              "      <td>0</td>\n",
              "      <td>0</td>\n",
              "      <td>...</td>\n",
              "      <td>0</td>\n",
              "      <td>0</td>\n",
              "      <td>0</td>\n",
              "      <td>0</td>\n",
              "      <td>0</td>\n",
              "      <td>0</td>\n",
              "      <td>0</td>\n",
              "      <td>1</td>\n",
              "      <td>0</td>\n",
              "      <td>0</td>\n",
              "      <td>0</td>\n",
              "      <td>0</td>\n",
              "      <td>0</td>\n",
              "      <td>0</td>\n",
              "      <td>0</td>\n",
              "      <td>0</td>\n",
              "      <td>0</td>\n",
              "      <td>0</td>\n",
              "      <td>0</td>\n",
              "      <td>0</td>\n",
              "      <td>0</td>\n",
              "      <td>1</td>\n",
              "      <td>0</td>\n",
              "      <td>0</td>\n",
              "      <td>0</td>\n",
              "      <td>0</td>\n",
              "      <td>0</td>\n",
              "      <td>0</td>\n",
              "      <td>0</td>\n",
              "      <td>0</td>\n",
              "    </tr>\n",
              "  </tbody>\n",
              "</table>\n",
              "<p>957 rows × 133 columns</p>\n",
              "</div>"
            ],
            "text/plain": [
              "     <= $44  $44-51  $51-58  $58-69  $69-77  $77-88  $88-101  $101-119  \\\n",
              "5         0       0       0       0       1       0        0         0   \n",
              "8         0       0       0       0       0       0        0         0   \n",
              "11        0       0       0       0       0       1        0         0   \n",
              "23        0       0       0       1       0       0        0         0   \n",
              "30        0       0       0       0       0       0        1         0   \n",
              "..      ...     ...     ...     ...     ...     ...      ...       ...   \n",
              "360       0       0       0       0       1       0        0         0   \n",
              "370       0       0       1       0       0       0        0         0   \n",
              "374       0       0       0       0       0       0        0         1   \n",
              "385       0       1       0       0       0       0        0         0   \n",
              "396       0       0       0       1       0       0        0         0   \n",
              "\n",
              "     $119-143   >= $143  ADULT  GRADE SCHOOL  PRE SCHOOL  TODDLER  capsule  \\\n",
              "5           0         0      0             1           0        0        0   \n",
              "8           0         1      1             0           0        0        0   \n",
              "11          0         0      0             1           0        0        0   \n",
              "23          0         0      1             0           0        0        0   \n",
              "30          0         0      0             1           0        0        1   \n",
              "..        ...       ...    ...           ...         ...      ...      ...   \n",
              "360         0         0      1             0           0        0        1   \n",
              "370         0         0      0             0           0        1        0   \n",
              "374         0         0      1             0           0        0        0   \n",
              "385         0         0      0             1           0        0        0   \n",
              "396         0         0      1             0           0        0        0   \n",
              "\n",
              "     liquid  powder  Calcium  Cranberry  Echinacea  FishOil  Ginger  Ginseng  \\\n",
              "5         0       1        0          0          0        1       0        0   \n",
              "8         0       1        0          0          0        0       0        0   \n",
              "11        0       1        0          0          0        1       0        0   \n",
              "23        0       1        0          0          0        0       0        0   \n",
              "30        0       0        0          0          0        1       0        0   \n",
              "..      ...     ...      ...        ...        ...      ...     ...      ...   \n",
              "360       0       0        0          0          0        0       0        0   \n",
              "370       0       1        1          0          0        0       0        0   \n",
              "374       0       1        0          0          0        0       0        0   \n",
              "385       0       1        0          0          0        1       0        0   \n",
              "396       0       1        0          0          0        0       0        0   \n",
              "\n",
              "     GreenTea  Magnesium  Melatonin  MilkThistle  Omega3FattyAcid  Valerian  \\\n",
              "5           0          0          0            0                0         0   \n",
              "8           0          0          0            0                0         0   \n",
              "11          0          0          0            0                0         0   \n",
              "23          0          0          0            0                1         0   \n",
              "30          0          0          0            0                0         0   \n",
              "..        ...        ...        ...          ...              ...       ...   \n",
              "360         0          1          0            0                0         0   \n",
              "370         0          0          0            0                0         0   \n",
              "374         0          1          0            0                0         0   \n",
              "385         0          0          0            0                0         0   \n",
              "396         0          0          0            0                0         0   \n",
              "\n",
              "     VitaminC  ...  PATENT 456  PATENT 4566  PATENT 5281  PATENT 5514  \\\n",
              "5           0  ...           1            0            0            0   \n",
              "8           0  ...           0            0            0            0   \n",
              "11          0  ...           0            0            0            0   \n",
              "23          0  ...           1            0            0            0   \n",
              "30          0  ...           0            0            0            0   \n",
              "..        ...  ...         ...          ...          ...          ...   \n",
              "360         0  ...           0            0            0            0   \n",
              "370         0  ...           0            0            0            0   \n",
              "374         0  ...           0            0            0            0   \n",
              "385         0  ...           0            0            1            0   \n",
              "396         0  ...           0            0            0            0   \n",
              "\n",
              "     PATENT 5726  PATENT 6776  PATENT 7883  PATENT 8830  PATENT 8895  \\\n",
              "5              1            0            0            0            0   \n",
              "8              0            0            0            0            0   \n",
              "11             0            0            0            1            0   \n",
              "23             0            0            0            0            0   \n",
              "30             0            0            0            1            0   \n",
              "..           ...          ...          ...          ...          ...   \n",
              "360            0            0            0            0            0   \n",
              "370            0            0            0            0            0   \n",
              "374            0            0            0            1            0   \n",
              "385            0            0            0            0            0   \n",
              "396            0            0            0            1            0   \n",
              "\n",
              "     PATENT 8998  PATENT 9568  CANADA  GERMANY  INDIA  ITALY  JAPAN  KOREA  \\\n",
              "5              0            0       1        0      0      0      0      0   \n",
              "8              0            0       1        0      0      0      0      0   \n",
              "11             0            0       1        0      0      0      0      0   \n",
              "23             0            0       1        0      0      0      0      0   \n",
              "30             0            0       1        0      0      0      0      0   \n",
              "..           ...          ...     ...      ...    ...    ...    ...    ...   \n",
              "360            0            0       0        0      0      0      0      0   \n",
              "370            0            0       0        0      0      0      0      0   \n",
              "374            0            0       0        0      0      0      0      0   \n",
              "385            0            0       0        0      0      0      0      0   \n",
              "396            0            0       0        0      0      0      0      0   \n",
              "\n",
              "     MEXICO  RUSSIA  SPAIN  UNITED KINGDOM  UNITED STATES  SU  2016  2014  WI  \\\n",
              "5         0       0      0               0              0   0     0     0   0   \n",
              "8         0       0      0               0              0   0     0     0   0   \n",
              "11        0       0      0               0              0   0     0     0   0   \n",
              "23        0       0      0               0              0   0     0     0   0   \n",
              "30        0       0      0               0              0   0     0     0   0   \n",
              "..      ...     ...    ...             ...            ...  ..   ...   ...  ..   \n",
              "360       0       0      0               0              1   0     0     0   0   \n",
              "370       0       0      0               0              1   0     0     0   0   \n",
              "374       0       0      0               0              1   0     0     0   0   \n",
              "385       0       0      0               0              1   0     0     0   0   \n",
              "396       0       0      0               0              1   0     0     0   0   \n",
              "\n",
              "     2015  shelf_amt  FA  SP  \n",
              "5       0          0   0   0  \n",
              "8       0          0   0   0  \n",
              "11      0          0   0   0  \n",
              "23      0          0   0   0  \n",
              "30      0          0   0   0  \n",
              "..    ...        ...  ..  ..  \n",
              "360     0          0   0   0  \n",
              "370     0          0   0   0  \n",
              "374     0          0   0   0  \n",
              "385     0          0   0   0  \n",
              "396     0          0   0   0  \n",
              "\n",
              "[957 rows x 133 columns]"
            ]
          },
          "metadata": {
            "tags": []
          },
          "execution_count": 119
        }
      ]
    },
    {
      "cell_type": "code",
      "metadata": {
        "id": "xxWw07qyNp9o",
        "colab_type": "code",
        "colab": {}
      },
      "source": [
        "# above is just to get the cols aligned\n",
        "# now since we know the year is 2016, and season is SU, we need to re-value them    \n",
        "new_predict_X2['shelf_amt'] = 0    #already 0 actually\n",
        "new_predict_X2['2016'] = 1\n",
        "new_predict_X2['SU'] = 1\n",
        "new_predict_X2 = new_predict_X2[similar_new_2_train_X.columns.tolist()] # make sure the column order is same"
      ],
      "execution_count": 0,
      "outputs": []
    },
    {
      "cell_type": "code",
      "metadata": {
        "id": "n9-IFH7yOKe6",
        "colab_type": "code",
        "colab": {
          "base_uri": "https://localhost:8080/",
          "height": 51
        },
        "outputId": "7f1134bb-126b-492c-8b92-ec55ebec0810"
      },
      "source": [
        "new_predict_y = rf_best_new.predict(new_predict_X2)"
      ],
      "execution_count": 121,
      "outputs": [
        {
          "output_type": "stream",
          "text": [
            "[Parallel(n_jobs=6)]: Using backend ThreadingBackend with 6 concurrent workers.\n",
            "[Parallel(n_jobs=6)]: Done  20 out of  20 | elapsed:    0.0s finished\n"
          ],
          "name": "stderr"
        }
      ]
    },
    {
      "cell_type": "code",
      "metadata": {
        "id": "1ae9w9G3ONXz",
        "colab_type": "code",
        "colab": {}
      },
      "source": [
        "# format the final output for new product\n",
        "new_pred_output = pd.DataFrame()\n",
        "new_pred_output['sku'] = new_predict_X2_sku\n",
        "new_pred_output['quarter'] = 'SU2016'\n",
        "new_pred_output['pred_sales'] = np.around(new_predict_y, decimals = 0) # round to 0 decimal"
      ],
      "execution_count": 0,
      "outputs": []
    },
    {
      "cell_type": "code",
      "metadata": {
        "id": "kXQjI8lNOSeG",
        "colab_type": "code",
        "colab": {}
      },
      "source": [
        "# aggregate at sku level only, i.e. sum all locations per sku\n",
        "function_6 = {'pred_sales' : 'sum'}\n",
        "new_pred_output= new_pred_output.groupby(['sku', 'quarter'], as_index = False).agg(function_6) "
      ],
      "execution_count": 0,
      "outputs": []
    },
    {
      "cell_type": "code",
      "metadata": {
        "id": "RKSuNKcpOgrd",
        "colab_type": "code",
        "colab": {
          "base_uri": "https://localhost:8080/",
          "height": 419
        },
        "outputId": "ef3cf114-6e18-4acb-b85f-abe51280a6bf"
      },
      "source": [
        "new_pred_output"
      ],
      "execution_count": 125,
      "outputs": [
        {
          "output_type": "execute_result",
          "data": {
            "text/html": [
              "<div>\n",
              "<style scoped>\n",
              "    .dataframe tbody tr th:only-of-type {\n",
              "        vertical-align: middle;\n",
              "    }\n",
              "\n",
              "    .dataframe tbody tr th {\n",
              "        vertical-align: top;\n",
              "    }\n",
              "\n",
              "    .dataframe thead th {\n",
              "        text-align: right;\n",
              "    }\n",
              "</style>\n",
              "<table border=\"1\" class=\"dataframe\">\n",
              "  <thead>\n",
              "    <tr style=\"text-align: right;\">\n",
              "      <th></th>\n",
              "      <th>sku</th>\n",
              "      <th>quarter</th>\n",
              "      <th>pred_sales</th>\n",
              "    </tr>\n",
              "  </thead>\n",
              "  <tbody>\n",
              "    <tr>\n",
              "      <th>0</th>\n",
              "      <td>13</td>\n",
              "      <td>SU2016</td>\n",
              "      <td>3145.000</td>\n",
              "    </tr>\n",
              "    <tr>\n",
              "      <th>1</th>\n",
              "      <td>37</td>\n",
              "      <td>SU2016</td>\n",
              "      <td>2613.000</td>\n",
              "    </tr>\n",
              "    <tr>\n",
              "      <th>2</th>\n",
              "      <td>285</td>\n",
              "      <td>SU2016</td>\n",
              "      <td>3388.000</td>\n",
              "    </tr>\n",
              "    <tr>\n",
              "      <th>3</th>\n",
              "      <td>323</td>\n",
              "      <td>SU2016</td>\n",
              "      <td>220.000</td>\n",
              "    </tr>\n",
              "    <tr>\n",
              "      <th>4</th>\n",
              "      <td>525</td>\n",
              "      <td>SU2016</td>\n",
              "      <td>194.000</td>\n",
              "    </tr>\n",
              "    <tr>\n",
              "      <th>...</th>\n",
              "      <td>...</td>\n",
              "      <td>...</td>\n",
              "      <td>...</td>\n",
              "    </tr>\n",
              "    <tr>\n",
              "      <th>82</th>\n",
              "      <td>9581</td>\n",
              "      <td>SU2016</td>\n",
              "      <td>6000.000</td>\n",
              "    </tr>\n",
              "    <tr>\n",
              "      <th>83</th>\n",
              "      <td>9615</td>\n",
              "      <td>SU2016</td>\n",
              "      <td>430.000</td>\n",
              "    </tr>\n",
              "    <tr>\n",
              "      <th>84</th>\n",
              "      <td>9685</td>\n",
              "      <td>SU2016</td>\n",
              "      <td>1150.000</td>\n",
              "    </tr>\n",
              "    <tr>\n",
              "      <th>85</th>\n",
              "      <td>9693</td>\n",
              "      <td>SU2016</td>\n",
              "      <td>589.000</td>\n",
              "    </tr>\n",
              "    <tr>\n",
              "      <th>86</th>\n",
              "      <td>9712</td>\n",
              "      <td>SU2016</td>\n",
              "      <td>88.000</td>\n",
              "    </tr>\n",
              "  </tbody>\n",
              "</table>\n",
              "<p>87 rows × 3 columns</p>\n",
              "</div>"
            ],
            "text/plain": [
              "     sku quarter  pred_sales\n",
              "0     13  SU2016    3145.000\n",
              "1     37  SU2016    2613.000\n",
              "2    285  SU2016    3388.000\n",
              "3    323  SU2016     220.000\n",
              "4    525  SU2016     194.000\n",
              "..   ...     ...         ...\n",
              "82  9581  SU2016    6000.000\n",
              "83  9615  SU2016     430.000\n",
              "84  9685  SU2016    1150.000\n",
              "85  9693  SU2016     589.000\n",
              "86  9712  SU2016      88.000\n",
              "\n",
              "[87 rows x 3 columns]"
            ]
          },
          "metadata": {
            "tags": []
          },
          "execution_count": 125
        }
      ]
    },
    {
      "cell_type": "markdown",
      "metadata": {
        "id": "SnW-Uv31CQQD",
        "colab_type": "text"
      },
      "source": [
        "Combine the predicted SU2016 sales_amt of both existing and new products into one file"
      ]
    },
    {
      "cell_type": "code",
      "metadata": {
        "id": "Hxth9KU6Gzh3",
        "colab_type": "code",
        "colab": {}
      },
      "source": [
        "df_predict1 = df_predict.copy(deep = True)"
      ],
      "execution_count": 0,
      "outputs": []
    },
    {
      "cell_type": "code",
      "metadata": {
        "id": "lerdXs-GCf0q",
        "colab_type": "code",
        "colab": {}
      },
      "source": [
        "#[existing] left join df_predict1 with pred_output, remove na and clean columns\n",
        "df_predict_ex = df_predict1.merge(pred_output, on = ['sku'], how = 'left')\n",
        "df_predict_ex_removena = df_predict_ex.dropna()\n",
        "df_predict_ex_removena = df_predict_ex_removena.drop(['quarter_x'], axis = 1)\n",
        "df_predict_ex_removena = df_predict_ex_removena.rename(columns={'quarter_y': 'quarter'})"
      ],
      "execution_count": 0,
      "outputs": []
    },
    {
      "cell_type": "code",
      "metadata": {
        "id": "jDHobUsqGS39",
        "colab_type": "code",
        "colab": {}
      },
      "source": [
        "#[new] left join df_predict1 with new_pred_output, remove na and clean columns\n",
        "df_predict_new = df_predict1.merge(new_pred_output, on = ['sku'], how = 'left')\n",
        "df_predict_new_removena = df_predict_new.dropna()\n",
        "df_predict_new_removena = df_predict_new_removena.drop(['quarter_x'], axis = 1)\n",
        "df_predict_new_removena = df_predict_new_removena.rename(columns={'quarter_y': 'quarter'})"
      ],
      "execution_count": 0,
      "outputs": []
    },
    {
      "cell_type": "code",
      "metadata": {
        "id": "2CYjudCpHCjB",
        "colab_type": "code",
        "colab": {}
      },
      "source": [
        "#concat existing and new\n",
        "df_predict_final = pd.concat([df_predict_ex_removena, df_predict_new_removena])"
      ],
      "execution_count": 0,
      "outputs": []
    },
    {
      "cell_type": "code",
      "metadata": {
        "id": "UrMGAeWbK3RY",
        "colab_type": "code",
        "colab": {
          "base_uri": "https://localhost:8080/",
          "height": 419
        },
        "outputId": "da4a6208-f058-4462-aff7-1d16d8653267"
      },
      "source": [
        "df_predict_final"
      ],
      "execution_count": 137,
      "outputs": [
        {
          "output_type": "execute_result",
          "data": {
            "text/html": [
              "<div>\n",
              "<style scoped>\n",
              "    .dataframe tbody tr th:only-of-type {\n",
              "        vertical-align: middle;\n",
              "    }\n",
              "\n",
              "    .dataframe tbody tr th {\n",
              "        vertical-align: top;\n",
              "    }\n",
              "\n",
              "    .dataframe thead th {\n",
              "        text-align: right;\n",
              "    }\n",
              "</style>\n",
              "<table border=\"1\" class=\"dataframe\">\n",
              "  <thead>\n",
              "    <tr style=\"text-align: right;\">\n",
              "      <th></th>\n",
              "      <th>sku</th>\n",
              "      <th>quarter</th>\n",
              "      <th>pred_sales</th>\n",
              "    </tr>\n",
              "  </thead>\n",
              "  <tbody>\n",
              "    <tr>\n",
              "      <th>0</th>\n",
              "      <td>8852</td>\n",
              "      <td>SU2016</td>\n",
              "      <td>864.000</td>\n",
              "    </tr>\n",
              "    <tr>\n",
              "      <th>1</th>\n",
              "      <td>3403</td>\n",
              "      <td>SU2016</td>\n",
              "      <td>182.000</td>\n",
              "    </tr>\n",
              "    <tr>\n",
              "      <th>2</th>\n",
              "      <td>7584</td>\n",
              "      <td>SU2016</td>\n",
              "      <td>293.000</td>\n",
              "    </tr>\n",
              "    <tr>\n",
              "      <th>3</th>\n",
              "      <td>2057</td>\n",
              "      <td>SU2016</td>\n",
              "      <td>900.000</td>\n",
              "    </tr>\n",
              "    <tr>\n",
              "      <th>4</th>\n",
              "      <td>3686</td>\n",
              "      <td>SU2016</td>\n",
              "      <td>89.000</td>\n",
              "    </tr>\n",
              "    <tr>\n",
              "      <th>...</th>\n",
              "      <td>...</td>\n",
              "      <td>...</td>\n",
              "      <td>...</td>\n",
              "    </tr>\n",
              "    <tr>\n",
              "      <th>385</th>\n",
              "      <td>7158</td>\n",
              "      <td>SU2016</td>\n",
              "      <td>140.000</td>\n",
              "    </tr>\n",
              "    <tr>\n",
              "      <th>388</th>\n",
              "      <td>4294</td>\n",
              "      <td>SU2016</td>\n",
              "      <td>220.000</td>\n",
              "    </tr>\n",
              "    <tr>\n",
              "      <th>391</th>\n",
              "      <td>5642</td>\n",
              "      <td>SU2016</td>\n",
              "      <td>500.000</td>\n",
              "    </tr>\n",
              "    <tr>\n",
              "      <th>398</th>\n",
              "      <td>7980</td>\n",
              "      <td>SU2016</td>\n",
              "      <td>3275.000</td>\n",
              "    </tr>\n",
              "    <tr>\n",
              "      <th>406</th>\n",
              "      <td>4828</td>\n",
              "      <td>SU2016</td>\n",
              "      <td>722.000</td>\n",
              "    </tr>\n",
              "  </tbody>\n",
              "</table>\n",
              "<p>407 rows × 3 columns</p>\n",
              "</div>"
            ],
            "text/plain": [
              "      sku quarter  pred_sales\n",
              "0    8852  SU2016     864.000\n",
              "1    3403  SU2016     182.000\n",
              "2    7584  SU2016     293.000\n",
              "3    2057  SU2016     900.000\n",
              "4    3686  SU2016      89.000\n",
              "..    ...     ...         ...\n",
              "385  7158  SU2016     140.000\n",
              "388  4294  SU2016     220.000\n",
              "391  5642  SU2016     500.000\n",
              "398  7980  SU2016    3275.000\n",
              "406  4828  SU2016     722.000\n",
              "\n",
              "[407 rows x 3 columns]"
            ]
          },
          "metadata": {
            "tags": []
          },
          "execution_count": 137
        }
      ]
    },
    {
      "cell_type": "code",
      "metadata": {
        "id": "xrjtXmtrLY9L",
        "colab_type": "code",
        "colab": {}
      },
      "source": [
        "# Write dataframe into csv file\n",
        "\n",
        "df_predict_final.to_csv('prediction_SU2016')"
      ],
      "execution_count": 0,
      "outputs": []
    },
    {
      "cell_type": "markdown",
      "metadata": {
        "id": "H9w_qmqWhBc1",
        "colab_type": "text"
      },
      "source": [
        "# Part 5: Feature Selection"
      ]
    },
    {
      "cell_type": "markdown",
      "metadata": {
        "id": "3PegkHBUhIEl",
        "colab_type": "text"
      },
      "source": [
        "What are the most important features that attribute to sales_amt? The Random Forest model shows the best prediction accuracy. Therefore, the feature importance will be extracted from the RF model."
      ]
    },
    {
      "cell_type": "code",
      "metadata": {
        "id": "Ovl4lIy3FWsc",
        "colab_type": "code",
        "colab": {}
      },
      "source": [
        "importances = rf_best.feature_importances_\n",
        "std = np.std([tree.feature_importances_ for tree in rf_best.estimators_], axis=0)\n",
        "indices = np.argsort(importances)[::-1]\n",
        "feature_name = X_test.columns"
      ],
      "execution_count": 0,
      "outputs": []
    },
    {
      "cell_type": "code",
      "metadata": {
        "id": "bO7hKM8bhYRa",
        "colab_type": "code",
        "colab": {
          "base_uri": "https://localhost:8080/",
          "height": 1000
        },
        "outputId": "fb71637f-4e16-4359-89f3-0b880fc1d9f8"
      },
      "source": [
        "print(\"Feature importance ranking:\")\n",
        "\n",
        "for f in range(X_test.shape[1]):\n",
        "    print(\"%d. feature %d %s (%f)\" % (f + 1, indices[f],  feature_name[f], importances[indices[f]]))"
      ],
      "execution_count": 96,
      "outputs": [
        {
          "output_type": "stream",
          "text": [
            "Feature importance ranking:\n",
            "1. feature 0 shelf_amt (0.835132)\n",
            "2. feature 6 <= $44 (0.032790)\n",
            "3. feature 152 $44-51 (0.013169)\n",
            "4. feature 146 $51-58 (0.012183)\n",
            "5. feature 39 $58-69 (0.007968)\n",
            "6. feature 56 $69-77 (0.007206)\n",
            "7. feature 155 $77-88 (0.007187)\n",
            "8. feature 10 $88-101 (0.006964)\n",
            "9. feature 7 $101-119 (0.006384)\n",
            "10. feature 156 $119-143 (0.004696)\n",
            "11. feature 174  >= $143 (0.004135)\n",
            "12. feature 175 CANADA (0.003755)\n",
            "13. feature 171 GERMANY (0.002774)\n",
            "14. feature 173 INDIA (0.002706)\n",
            "15. feature 22 ITALY (0.002582)\n",
            "16. feature 177 JAPAN (0.002556)\n",
            "17. feature 29 KOREA (0.002501)\n",
            "18. feature 176 MEXICO (0.002469)\n",
            "19. feature 8 RUSSIA (0.002210)\n",
            "20. feature 20 SPAIN (0.001985)\n",
            "21. feature 164 UNITED KINGDOM (0.001811)\n",
            "22. feature 23 UNITED STATES (0.001566)\n",
            "23. feature 172 ADULT (0.001491)\n",
            "24. feature 25 GRADE SCHOOL (0.001335)\n",
            "25. feature 1 PRE SCHOOL (0.001299)\n",
            "26. feature 65 TODDLER (0.001237)\n",
            "27. feature 134 capsule (0.001231)\n",
            "28. feature 46 liquid (0.001223)\n",
            "29. feature 17 powder (0.001175)\n",
            "30. feature 47 Calcium (0.001149)\n",
            "31. feature 12 Cranberry (0.001114)\n",
            "32. feature 19 Echinacea (0.001059)\n",
            "33. feature 162 FishOil (0.000982)\n",
            "34. feature 32 Ginger (0.000944)\n",
            "35. feature 83 Ginseng (0.000878)\n",
            "36. feature 89 Glucosamine (0.000839)\n",
            "37. feature 147 GreenTea (0.000834)\n",
            "38. feature 42 Hoodia (0.000795)\n",
            "39. feature 24 Magnesium (0.000754)\n",
            "40. feature 4 Melatonin (0.000752)\n",
            "41. feature 157 MilkThistle (0.000689)\n",
            "42. feature 68 Omega3FattyAcid (0.000688)\n",
            "43. feature 16 SawPalmetto (0.000661)\n",
            "44. feature 5 Valerian (0.000650)\n",
            "45. feature 114 VitaminC (0.000620)\n",
            "46. feature 144 Zinc (0.000614)\n",
            "47. feature 151 B338 (0.000575)\n",
            "48. feature 120 B538 (0.000556)\n",
            "49. feature 34 B800 (0.000531)\n",
            "50. feature 2 C284 (0.000528)\n",
            "51. feature 30 C317 (0.000522)\n",
            "52. feature 41 C319 (0.000494)\n",
            "53. feature 122 C332 (0.000467)\n",
            "54. feature 28 C549 (0.000460)\n",
            "55. feature 103 C594 (0.000441)\n",
            "56. feature 38 C621 (0.000428)\n",
            "57. feature 9 D118 (0.000427)\n",
            "58. feature 3 D320 (0.000383)\n",
            "59. feature 60 E298 (0.000347)\n",
            "60. feature 57 E77 (0.000345)\n",
            "61. feature 153 E934 (0.000335)\n",
            "62. feature 170 F147 (0.000328)\n",
            "63. feature 111 F29 (0.000313)\n",
            "64. feature 118 F792 (0.000302)\n",
            "65. feature 33 F858 (0.000268)\n",
            "66. feature 58 G28 (0.000263)\n",
            "67. feature 26 G333 (0.000257)\n",
            "68. feature 161 G488 (0.000232)\n",
            "69. feature 55 G633 (0.000225)\n",
            "70. feature 115 G835 (0.000214)\n",
            "71. feature 124 G906 (0.000173)\n",
            "72. feature 160 H100 (0.000173)\n",
            "73. feature 71 H216 (0.000157)\n",
            "74. feature 105 H654 (0.000150)\n",
            "75. feature 45 I152 (0.000129)\n",
            "76. feature 158 I562 (0.000125)\n",
            "77. feature 44 I632 (0.000119)\n",
            "78. feature 91 I901 (0.000119)\n",
            "79. feature 135 I93 (0.000106)\n",
            "80. feature 96 J254 (0.000106)\n",
            "81. feature 76 J297 (0.000080)\n",
            "82. feature 123 J437 (0.000077)\n",
            "83. feature 90 J455 (0.000075)\n",
            "84. feature 150 J727 (0.000074)\n",
            "85. feature 61 J957 (0.000068)\n",
            "86. feature 11 K107 (0.000067)\n",
            "87. feature 51 K503 (0.000065)\n",
            "88. feature 117 K753 (0.000064)\n",
            "89. feature 78 K831 (0.000058)\n",
            "90. feature 94 L214 (0.000058)\n",
            "91. feature 81 L265 (0.000058)\n",
            "92. feature 50 L273 (0.000055)\n",
            "93. feature 132 L393 (0.000050)\n",
            "94. feature 98 M452 (0.000049)\n",
            "95. feature 37 M499 (0.000045)\n",
            "96. feature 168 M598 (0.000043)\n",
            "97. feature 104 M96 (0.000041)\n",
            "98. feature 43 N347 (0.000040)\n",
            "99. feature 99 N677 (0.000039)\n",
            "100. feature 27 N718 (0.000037)\n",
            "101. feature 35 O707 (0.000035)\n",
            "102. feature 31 O825 (0.000029)\n",
            "103. feature 36 O840 (0.000026)\n",
            "104. feature 92 O938 (0.000026)\n",
            "105. feature 142 P199 (0.000026)\n",
            "106. feature 159 P415 (0.000025)\n",
            "107. feature 112 P544 (0.000024)\n",
            "108. feature 40 Q104 (0.000021)\n",
            "109. feature 77 Q657 (0.000018)\n",
            "110. feature 129 Q846 (0.000018)\n",
            "111. feature 88 Q889 (0.000017)\n",
            "112. feature 97 R16 (0.000017)\n",
            "113. feature 128 R190 (0.000015)\n",
            "114. feature 86 R702 (0.000015)\n",
            "115. feature 139 R857 (0.000013)\n",
            "116. feature 72 R963 (0.000013)\n",
            "117. feature 166 S157 (0.000012)\n",
            "118. feature 54 S413 (0.000012)\n",
            "119. feature 74 S682 (0.000012)\n",
            "120. feature 116 S872 (0.000011)\n",
            "121. feature 102 T484 (0.000010)\n",
            "122. feature 73 T954 (0.000010)\n",
            "123. feature 85 U105 (0.000009)\n",
            "124. feature 100 U117 (0.000008)\n",
            "125. feature 113 U441 (0.000008)\n",
            "126. feature 148 U691 (0.000007)\n",
            "127. feature 93 U730 (0.000006)\n",
            "128. feature 101 U781 (0.000006)\n",
            "129. feature 167 V237 (0.000006)\n",
            "130. feature 165 V891 (0.000005)\n",
            "131. feature 143 V978 (0.000005)\n",
            "132. feature 66 W754 (0.000005)\n",
            "133. feature 80 X228 (0.000005)\n",
            "134. feature 125 X305 (0.000005)\n",
            "135. feature 137 X315 (0.000005)\n",
            "136. feature 141 X316 (0.000005)\n",
            "137. feature 18 X411 (0.000003)\n",
            "138. feature 106 X471 (0.000003)\n",
            "139. feature 108 X845 (0.000002)\n",
            "140. feature 75 X886 (0.000002)\n",
            "141. feature 82 Y266 (0.000002)\n",
            "142. feature 79 Y352 (0.000002)\n",
            "143. feature 21 Y403 (0.000002)\n",
            "144. feature 48 Y481 (0.000002)\n",
            "145. feature 64 Y493 (0.000002)\n",
            "146. feature 145 Y585 (0.000001)\n",
            "147. feature 59 Y83 (0.000001)\n",
            "148. feature 110 Z362 (0.000001)\n",
            "149. feature 133 Z762 (0.000001)\n",
            "150. feature 140 Z778 (0.000001)\n",
            "151. feature 119 Z966 (0.000001)\n",
            "152. feature 69 PATENT 1030 (0.000001)\n",
            "153. feature 67 PATENT 2461 (0.000001)\n",
            "154. feature 62 PATENT 2876 (0.000001)\n",
            "155. feature 107 PATENT 3279 (0.000000)\n",
            "156. feature 130 PATENT 4090 (0.000000)\n",
            "157. feature 138 PATENT 4533 (0.000000)\n",
            "158. feature 127 PATENT 456 (0.000000)\n",
            "159. feature 136 PATENT 4566 (0.000000)\n",
            "160. feature 15 PATENT 5281 (0.000000)\n",
            "161. feature 52 PATENT 5514 (0.000000)\n",
            "162. feature 63 PATENT 5726 (0.000000)\n",
            "163. feature 126 PATENT 6776 (0.000000)\n",
            "164. feature 14 PATENT 7883 (0.000000)\n",
            "165. feature 49 PATENT 8830 (0.000000)\n",
            "166. feature 131 PATENT 8895 (0.000000)\n",
            "167. feature 95 PATENT 8924 (0.000000)\n",
            "168. feature 163 PATENT 8998 (0.000000)\n",
            "169. feature 87 PATENT 9404 (0.000000)\n",
            "170. feature 53 PATENT 9545 (0.000000)\n",
            "171. feature 154 PATENT 9568 (0.000000)\n",
            "172. feature 169 2014 (0.000000)\n",
            "173. feature 121 2015 (0.000000)\n",
            "174. feature 13 2016 (0.000000)\n",
            "175. feature 109 FA (0.000000)\n",
            "176. feature 149 SP (0.000000)\n",
            "177. feature 84 SU (0.000000)\n",
            "178. feature 70 WI (0.000000)\n"
          ],
          "name": "stdout"
        }
      ]
    },
    {
      "cell_type": "code",
      "metadata": {
        "id": "cZD4jiB3hagC",
        "colab_type": "code",
        "colab": {
          "base_uri": "https://localhost:8080/",
          "height": 304
        },
        "outputId": "9f7751f1-241c-4a8e-f6dd-80afdd7495a0"
      },
      "source": [
        "# Print the feature ranking\n",
        "plt.bar(feature_name[:11], importances[indices[:11]])\n",
        "plt.xticks(rotation=90)\n",
        "plt.show()"
      ],
      "execution_count": 97,
      "outputs": [
        {
          "output_type": "display_data",
          "data": {
            "image/png": "[encoded data removed]",
            "text/plain": [
              "<Figure size 432x288 with 1 Axes>"
            ]
          },
          "metadata": {
            "tags": []
          }
        }
      ]
    },
    {
      "cell_type": "markdown",
      "metadata": {
        "id": "e7daTbovhhpa",
        "colab_type": "text"
      },
      "source": [
        "Lasso feature selection with coefficient"
      ]
    },
    {
      "cell_type": "code",
      "metadata": {
        "id": "eZUVDsYlhl-p",
        "colab_type": "code",
        "colab": {
          "base_uri": "https://localhost:8080/",
          "height": 1000
        },
        "outputId": "bf923a26-5f70-4b90-e394-62d0d482da5c"
      },
      "source": [
        "#lasso_f.coef_\n",
        "\n",
        "print (\"Lasso Coefficients\")\n",
        "for coef, col_name in sorted(zip(map(lambda x: round(x, 4), lasso_f.coef_), X_test.columns), key = lambda pair:(abs(pair[0])), reverse = True):\n",
        "  print (col_name, \": \\t\", str(coef))"
      ],
      "execution_count": 98,
      "outputs": [
        {
          "output_type": "stream",
          "text": [
            "Lasso Coefficients\n",
            "PATENT 2461 : \t 15711.1082\n",
            "PATENT 8895 : \t -14871.5002\n",
            "H100 : \t -8796.7534\n",
            "V891 : \t -8662.3529\n",
            "C317 : \t -7486.5134\n",
            "G28 : \t -7145.9594\n",
            "H654 : \t 6911.6891\n",
            "P544 : \t -5756.2679\n",
            "E934 : \t -5668.5046\n",
            "K107 : \t -5658.1545\n",
            "SawPalmetto : \t 5656.6409\n",
            "$77-88 : \t 5524.1525\n",
            "PATENT 5281 : \t 5453.7502\n",
            "Q889 : \t 5243.8815\n",
            "C332 : \t -5182.0265\n",
            "MilkThistle : \t 4699.0851\n",
            "K831 : \t -4576.9197\n",
            "Y266 : \t -4542.1822\n",
            "E298 : \t 4289.3536\n",
            "C319 : \t -4081.4633\n",
            "Y352 : \t -3773.9228\n",
            "R16 : \t 3618.4274\n",
            "V237 : \t 3355.2476\n",
            "I562 : \t -3319.254\n",
            "X471 : \t 3304.7926\n",
            "U117 : \t -3171.3377\n",
            "G633 : \t -3162.6224\n",
            "Omega3FattyAcid : \t -3103.8835\n",
            "F792 : \t 2993.0613\n",
            "H216 : \t -2982.8325\n",
            "Y585 : \t -2915.499\n",
            "PATENT 9404 : \t -2882.9532\n",
            "M598 : \t 2859.6188\n",
            "Cranberry : \t -2791.4092\n",
            "X886 : \t 2771.1947\n",
            "W754 : \t -2692.0745\n",
            "shelf_amt : \t 2678.327\n",
            "Y493 : \t -2622.2414\n",
            "Y481 : \t 2608.7435\n",
            "ITALY : \t -2556.4904\n",
            "Calcium : \t -2508.3159\n",
            "S872 : \t -2338.0421\n",
            "J957 : \t 2327.6184\n",
            "Y83 : \t 2233.2928\n",
            "I152 : \t 2201.79\n",
            "FishOil : \t -2181.0497\n",
            "TODDLER : \t 2178.1453\n",
            "I901 : \t -2148.9743\n",
            "O938 : \t 2127.6631\n",
            "R857 : \t -2089.8233\n",
            "F858 : \t 2083.7906\n",
            "J254 : \t -2069.4149\n",
            "X305 : \t -2043.5841\n",
            "T484 : \t 2028.1283\n",
            "VitaminC : \t 1989.7856\n",
            "PATENT 7883 : \t -1948.0908\n",
            "O707 : \t 1911.1039\n",
            "Melatonin : \t 1856.5849\n",
            "X411 : \t -1851.0661\n",
            "N347 : \t -1838.8164\n",
            "O825 : \t 1830.171\n",
            "R190 : \t 1817.6708\n",
            "M499 : \t -1725.904\n",
            "S157 : \t 1662.2827\n",
            "N677 : \t 1582.2727\n",
            "L393 : \t -1549.7685\n",
            "GERMANY : \t -1539.3671\n",
            "PATENT 4090 : \t -1524.5074\n",
            "U441 : \t 1456.9809\n",
            "$58-69 : \t 1451.4983\n",
            "I632 : \t -1427.1615\n",
            "PATENT 9545 : \t 1411.9555\n",
            "L265 : \t -1387.0504\n",
            "L214 : \t -1325.739\n",
            "UNITED KINGDOM : \t 1309.3538\n",
            "PATENT 456 : \t -1295.172\n",
            "U105 : \t 1286.0551\n",
            "J727 : \t 1263.45\n",
            "K503 : \t -1240.5343\n",
            "F147 : \t -1236.0584\n",
            "Z762 : \t -1197.1627\n",
            "Z362 : \t -1189.7093\n",
            "X228 : \t 1178.8436\n",
            "$44-51 : \t -1158.562\n",
            "S413 : \t -1144.4112\n",
            "R702 : \t -1133.3589\n",
            "C621 : \t -1129.5066\n",
            "Zinc : \t 1102.8492\n",
            "C284 : \t 1099.7629\n",
            "capsule : \t -1099.7064\n",
            "P415 : \t 1076.6521\n",
            "PATENT 5726 : \t 1063.1843\n",
            "PATENT 8830 : \t -1029.5743\n",
            "$101-119 : \t -973.1337\n",
            "PATENT 5514 : \t -955.7059\n",
            "GRADE SCHOOL : \t -937.2995\n",
            "G488 : \t 921.5535\n",
            "D320 : \t 917.6589\n",
            "Z778 : \t 907.1956\n",
            "G835 : \t 900.2556\n",
            "B538 : \t -892.203\n",
            "FA : \t 891.8393\n",
            "U691 : \t 853.6296\n",
            "$119-143 : \t 841.8522\n",
            "JAPAN : \t -832.4263\n",
            "Ginger : \t 819.605\n",
            "CANADA : \t 808.8978\n",
            "K753 : \t 778.1144\n",
            "D118 : \t 769.8903\n",
            "X845 : \t 740.7359\n",
            "PATENT 4566 : \t -731.1911\n",
            "X315 : \t 684.6831\n",
            "ADULT : \t -673.2332\n",
            "O840 : \t -652.5823\n",
            "PATENT 6776 : \t 650.4773\n",
            "RUSSIA : \t -642.8443\n",
            "$69-77 : \t 576.2618\n",
            "liquid : \t 546.6143\n",
            "UNITED STATES : \t -519.1773\n",
            "Q104 : \t -499.1666\n",
            "L273 : \t -474.6888\n",
            "<= $44 : \t 465.9357\n",
            "E77 : \t 443.206\n",
            "2014 : \t 425.1313\n",
            "WI : \t -419.1751\n",
            " >= $143 : \t 403.5716\n",
            "P199 : \t 384.0366\n",
            "B338 : \t -384.0293\n",
            "Echinacea : \t 367.4139\n",
            "M452 : \t 361.6263\n",
            "PATENT 4533 : \t 342.9959\n",
            "Y403 : \t -298.4952\n",
            "PATENT 9568 : \t -294.4121\n",
            "U781 : \t 292.873\n",
            "T954 : \t 277.4552\n",
            "C594 : \t -265.36\n",
            "N718 : \t 237.5983\n",
            "MEXICO : \t 230.2435\n",
            "PATENT 1030 : \t 224.0835\n",
            "SPAIN : \t 213.0067\n",
            "PATENT 2876 : \t -136.7368\n",
            "PATENT 3279 : \t 116.5771\n",
            "SP : \t 109.8599\n",
            "$51-58 : \t 107.4255\n",
            "S682 : \t 47.8298\n",
            "PATENT 8998 : \t -6.2911\n",
            "PRE SCHOOL : \t 1.9523\n",
            "$88-101 : \t 0.0\n",
            "INDIA : \t 0.0\n",
            "KOREA : \t 0.0\n",
            "powder : \t -0.0\n",
            "Ginseng : \t -0.0\n",
            "Glucosamine : \t -0.0\n",
            "GreenTea : \t -0.0\n",
            "Hoodia : \t -0.0\n",
            "Magnesium : \t -0.0\n",
            "Valerian : \t 0.0\n",
            "B800 : \t -0.0\n",
            "C549 : \t 0.0\n",
            "F29 : \t -0.0\n",
            "G333 : \t 0.0\n",
            "G906 : \t -0.0\n",
            "I93 : \t -0.0\n",
            "J297 : \t 0.0\n",
            "J437 : \t -0.0\n",
            "J455 : \t 0.0\n",
            "M96 : \t 0.0\n",
            "Q657 : \t 0.0\n",
            "Q846 : \t -0.0\n",
            "R963 : \t 0.0\n",
            "U730 : \t 0.0\n",
            "V978 : \t -0.0\n",
            "X316 : \t -0.0\n",
            "Z966 : \t 0.0\n",
            "PATENT 8924 : \t -0.0\n",
            "2015 : \t -0.0\n",
            "2016 : \t 0.0\n",
            "SU : \t -0.0\n"
          ],
          "name": "stdout"
        }
      ]
    },
    {
      "cell_type": "markdown",
      "metadata": {
        "id": "WnfM3v2ehVcG",
        "colab_type": "text"
      },
      "source": [
        "Shelf_amt, sales_price, and location are among the top features according to feature importance."
      ]
    }
  ]
}